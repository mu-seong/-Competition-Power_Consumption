{
 "cells": [
  {
   "cell_type": "code",
   "execution_count": 1,
   "metadata": {},
   "outputs": [
    {
     "name": "stdout",
     "output_type": "stream",
     "text": [
      "Checking whether there is an H2O instance running at http://localhost:54321 ..... not found.\n",
      "Attempting to start a local H2O server...\n",
      "; Java HotSpot(TM) 64-Bit Server VM (build 25.281-b09, mixed mode)\n",
      "  Starting server from D:\\Anaconda3\\envs\\electric\\lib\\site-packages\\h2o\\backend\\bin\\h2o.jar\n",
      "  Ice root: C:\\Users\\delab_2\\AppData\\Local\\Temp\\tmpovglh9o_\n",
      "  JVM stdout: C:\\Users\\delab_2\\AppData\\Local\\Temp\\tmpovglh9o_\\h2o_delab_2_started_from_python.out\n",
      "  JVM stderr: C:\\Users\\delab_2\\AppData\\Local\\Temp\\tmpovglh9o_\\h2o_delab_2_started_from_python.err\n",
      "  Server is running at http://127.0.0.1:54321\n",
      "Connecting to H2O server at http://127.0.0.1:54321 ... successful.\n"
     ]
    },
    {
     "data": {
      "text/html": [
       "<div style=\"overflow:auto\"><table style=\"width:50%\"><tr><td>H2O_cluster_uptime:</td>\n",
       "<td>01 secs</td></tr>\n",
       "<tr><td>H2O_cluster_timezone:</td>\n",
       "<td>Asia/Seoul</td></tr>\n",
       "<tr><td>H2O_data_parsing_timezone:</td>\n",
       "<td>UTC</td></tr>\n",
       "<tr><td>H2O_cluster_version:</td>\n",
       "<td>3.32.1.3</td></tr>\n",
       "<tr><td>H2O_cluster_version_age:</td>\n",
       "<td>11 days </td></tr>\n",
       "<tr><td>H2O_cluster_name:</td>\n",
       "<td>H2O_from_python_delab_2_88klhr</td></tr>\n",
       "<tr><td>H2O_cluster_total_nodes:</td>\n",
       "<td>1</td></tr>\n",
       "<tr><td>H2O_cluster_free_memory:</td>\n",
       "<td>26.67 Gb</td></tr>\n",
       "<tr><td>H2O_cluster_total_cores:</td>\n",
       "<td>16</td></tr>\n",
       "<tr><td>H2O_cluster_allowed_cores:</td>\n",
       "<td>8</td></tr>\n",
       "<tr><td>H2O_cluster_status:</td>\n",
       "<td>accepting new members, healthy</td></tr>\n",
       "<tr><td>H2O_connection_url:</td>\n",
       "<td>http://127.0.0.1:54321</td></tr>\n",
       "<tr><td>H2O_connection_proxy:</td>\n",
       "<td>{\"http\": null, \"https\": null}</td></tr>\n",
       "<tr><td>H2O_internal_security:</td>\n",
       "<td>False</td></tr>\n",
       "<tr><td>H2O_API_Extensions:</td>\n",
       "<td>Amazon S3, Algos, AutoML, Core V3, TargetEncoder, Core V4</td></tr>\n",
       "<tr><td>Python_version:</td>\n",
       "<td>3.6.10 final</td></tr></table></div>"
      ],
      "text/plain": [
       "--------------------------  ---------------------------------------------------------\n",
       "H2O_cluster_uptime:         01 secs\n",
       "H2O_cluster_timezone:       Asia/Seoul\n",
       "H2O_data_parsing_timezone:  UTC\n",
       "H2O_cluster_version:        3.32.1.3\n",
       "H2O_cluster_version_age:    11 days\n",
       "H2O_cluster_name:           H2O_from_python_delab_2_88klhr\n",
       "H2O_cluster_total_nodes:    1\n",
       "H2O_cluster_free_memory:    26.67 Gb\n",
       "H2O_cluster_total_cores:    16\n",
       "H2O_cluster_allowed_cores:  8\n",
       "H2O_cluster_status:         accepting new members, healthy\n",
       "H2O_connection_url:         http://127.0.0.1:54321\n",
       "H2O_connection_proxy:       {\"http\": null, \"https\": null}\n",
       "H2O_internal_security:      False\n",
       "H2O_API_Extensions:         Amazon S3, Algos, AutoML, Core V3, TargetEncoder, Core V4\n",
       "Python_version:             3.6.10 final\n",
       "--------------------------  ---------------------------------------------------------"
      ]
     },
     "metadata": {},
     "output_type": "display_data"
    }
   ],
   "source": [
    "import numpy as np\n",
    "import pandas as pd\n",
    "from sklearn.model_selection import train_test_split\n",
    "import time\n",
    "from tqdm import tqdm\n",
    "import h2o\n",
    "from h2o.automl import H2OAutoML\n",
    "\n",
    "%matplotlib inline\n",
    "h2o.init(nthreads=8)\n",
    "h2o.no_progress()\n",
    "\n",
    "np.random.seed(42)"
   ]
  },
  {
   "cell_type": "code",
   "execution_count": 2,
   "metadata": {},
   "outputs": [],
   "source": [
    "version='v2'"
   ]
  },
  {
   "cell_type": "markdown",
   "metadata": {},
   "source": [
    "# Data Load"
   ]
  },
  {
   "cell_type": "code",
   "execution_count": 3,
   "metadata": {},
   "outputs": [],
   "source": [
    "train = pd.read_csv(\"./data/train.csv\", encoding='cp949')"
   ]
  },
  {
   "cell_type": "code",
   "execution_count": 4,
   "metadata": {},
   "outputs": [
    {
     "data": {
      "text/html": [
       "<div>\n",
       "<style scoped>\n",
       "    .dataframe tbody tr th:only-of-type {\n",
       "        vertical-align: middle;\n",
       "    }\n",
       "\n",
       "    .dataframe tbody tr th {\n",
       "        vertical-align: top;\n",
       "    }\n",
       "\n",
       "    .dataframe thead th {\n",
       "        text-align: right;\n",
       "    }\n",
       "</style>\n",
       "<table border=\"1\" class=\"dataframe\">\n",
       "  <thead>\n",
       "    <tr style=\"text-align: right;\">\n",
       "      <th></th>\n",
       "      <th>num</th>\n",
       "      <th>전력사용량(kWh)</th>\n",
       "      <th>기온(°C)</th>\n",
       "      <th>풍속(m/s)</th>\n",
       "      <th>습도(%)</th>\n",
       "      <th>강수량(mm)</th>\n",
       "      <th>일조(hr)</th>\n",
       "      <th>비전기냉방설비운영</th>\n",
       "      <th>태양광보유</th>\n",
       "    </tr>\n",
       "  </thead>\n",
       "  <tbody>\n",
       "    <tr>\n",
       "      <th>count</th>\n",
       "      <td>122400.000000</td>\n",
       "      <td>122400.000000</td>\n",
       "      <td>122400.000000</td>\n",
       "      <td>122400.000000</td>\n",
       "      <td>122400.000000</td>\n",
       "      <td>122400.000000</td>\n",
       "      <td>122400.000000</td>\n",
       "      <td>122400.000000</td>\n",
       "      <td>122400.000000</td>\n",
       "    </tr>\n",
       "    <tr>\n",
       "      <th>mean</th>\n",
       "      <td>30.500000</td>\n",
       "      <td>2324.830866</td>\n",
       "      <td>24.251713</td>\n",
       "      <td>2.151641</td>\n",
       "      <td>80.169848</td>\n",
       "      <td>0.514989</td>\n",
       "      <td>0.213533</td>\n",
       "      <td>0.683333</td>\n",
       "      <td>0.483333</td>\n",
       "    </tr>\n",
       "    <tr>\n",
       "      <th>std</th>\n",
       "      <td>17.318173</td>\n",
       "      <td>2058.999326</td>\n",
       "      <td>3.407902</td>\n",
       "      <td>1.514475</td>\n",
       "      <td>15.525862</td>\n",
       "      <td>2.624505</td>\n",
       "      <td>0.370517</td>\n",
       "      <td>0.465178</td>\n",
       "      <td>0.499724</td>\n",
       "    </tr>\n",
       "    <tr>\n",
       "      <th>min</th>\n",
       "      <td>1.000000</td>\n",
       "      <td>0.000000</td>\n",
       "      <td>11.100000</td>\n",
       "      <td>0.000000</td>\n",
       "      <td>19.000000</td>\n",
       "      <td>0.000000</td>\n",
       "      <td>0.000000</td>\n",
       "      <td>0.000000</td>\n",
       "      <td>0.000000</td>\n",
       "    </tr>\n",
       "    <tr>\n",
       "      <th>25%</th>\n",
       "      <td>15.750000</td>\n",
       "      <td>1055.268000</td>\n",
       "      <td>21.800000</td>\n",
       "      <td>1.100000</td>\n",
       "      <td>70.000000</td>\n",
       "      <td>0.000000</td>\n",
       "      <td>0.000000</td>\n",
       "      <td>0.000000</td>\n",
       "      <td>0.000000</td>\n",
       "    </tr>\n",
       "    <tr>\n",
       "      <th>50%</th>\n",
       "      <td>30.500000</td>\n",
       "      <td>1700.352000</td>\n",
       "      <td>24.200000</td>\n",
       "      <td>1.900000</td>\n",
       "      <td>84.000000</td>\n",
       "      <td>0.000000</td>\n",
       "      <td>0.000000</td>\n",
       "      <td>1.000000</td>\n",
       "      <td>0.000000</td>\n",
       "    </tr>\n",
       "    <tr>\n",
       "      <th>75%</th>\n",
       "      <td>45.250000</td>\n",
       "      <td>2780.487000</td>\n",
       "      <td>26.500000</td>\n",
       "      <td>2.900000</td>\n",
       "      <td>93.000000</td>\n",
       "      <td>0.000000</td>\n",
       "      <td>0.300000</td>\n",
       "      <td>1.000000</td>\n",
       "      <td>1.000000</td>\n",
       "    </tr>\n",
       "    <tr>\n",
       "      <th>max</th>\n",
       "      <td>60.000000</td>\n",
       "      <td>17739.225000</td>\n",
       "      <td>36.300000</td>\n",
       "      <td>20.100000</td>\n",
       "      <td>100.000000</td>\n",
       "      <td>81.500000</td>\n",
       "      <td>1.000000</td>\n",
       "      <td>1.000000</td>\n",
       "      <td>1.000000</td>\n",
       "    </tr>\n",
       "  </tbody>\n",
       "</table>\n",
       "</div>"
      ],
      "text/plain": [
       "                 num     전력사용량(kWh)         기온(°C)        풍속(m/s)  \\\n",
       "count  122400.000000  122400.000000  122400.000000  122400.000000   \n",
       "mean       30.500000    2324.830866      24.251713       2.151641   \n",
       "std        17.318173    2058.999326       3.407902       1.514475   \n",
       "min         1.000000       0.000000      11.100000       0.000000   \n",
       "25%        15.750000    1055.268000      21.800000       1.100000   \n",
       "50%        30.500000    1700.352000      24.200000       1.900000   \n",
       "75%        45.250000    2780.487000      26.500000       2.900000   \n",
       "max        60.000000   17739.225000      36.300000      20.100000   \n",
       "\n",
       "               습도(%)        강수량(mm)         일조(hr)      비전기냉방설비운영  \\\n",
       "count  122400.000000  122400.000000  122400.000000  122400.000000   \n",
       "mean       80.169848       0.514989       0.213533       0.683333   \n",
       "std        15.525862       2.624505       0.370517       0.465178   \n",
       "min        19.000000       0.000000       0.000000       0.000000   \n",
       "25%        70.000000       0.000000       0.000000       0.000000   \n",
       "50%        84.000000       0.000000       0.000000       1.000000   \n",
       "75%        93.000000       0.000000       0.300000       1.000000   \n",
       "max       100.000000      81.500000       1.000000       1.000000   \n",
       "\n",
       "               태양광보유  \n",
       "count  122400.000000  \n",
       "mean        0.483333  \n",
       "std         0.499724  \n",
       "min         0.000000  \n",
       "25%         0.000000  \n",
       "50%         0.000000  \n",
       "75%         1.000000  \n",
       "max         1.000000  "
      ]
     },
     "execution_count": 4,
     "metadata": {},
     "output_type": "execute_result"
    }
   ],
   "source": [
    "train.describe()"
   ]
  },
  {
   "cell_type": "code",
   "execution_count": 5,
   "metadata": {},
   "outputs": [
    {
     "name": "stdout",
     "output_type": "stream",
     "text": [
      "<class 'pandas.core.frame.DataFrame'>\n",
      "RangeIndex: 122400 entries, 0 to 122399\n",
      "Data columns (total 10 columns):\n",
      " #   Column      Non-Null Count   Dtype  \n",
      "---  ------      --------------   -----  \n",
      " 0   num         122400 non-null  int64  \n",
      " 1   date_time   122400 non-null  object \n",
      " 2   전력사용량(kWh)  122400 non-null  float64\n",
      " 3   기온(°C)      122400 non-null  float64\n",
      " 4   풍속(m/s)     122400 non-null  float64\n",
      " 5   습도(%)       122400 non-null  float64\n",
      " 6   강수량(mm)     122400 non-null  float64\n",
      " 7   일조(hr)      122400 non-null  float64\n",
      " 8   비전기냉방설비운영   122400 non-null  float64\n",
      " 9   태양광보유       122400 non-null  float64\n",
      "dtypes: float64(8), int64(1), object(1)\n",
      "memory usage: 9.3+ MB\n"
     ]
    }
   ],
   "source": [
    "train.info()"
   ]
  },
  {
   "cell_type": "code",
   "execution_count": 6,
   "metadata": {},
   "outputs": [],
   "source": [
    "test = pd.read_csv(\"./data/test.csv\", encoding='cp949')"
   ]
  },
  {
   "cell_type": "code",
   "execution_count": 7,
   "metadata": {},
   "outputs": [
    {
     "data": {
      "text/html": [
       "<div>\n",
       "<style scoped>\n",
       "    .dataframe tbody tr th:only-of-type {\n",
       "        vertical-align: middle;\n",
       "    }\n",
       "\n",
       "    .dataframe tbody tr th {\n",
       "        vertical-align: top;\n",
       "    }\n",
       "\n",
       "    .dataframe thead th {\n",
       "        text-align: right;\n",
       "    }\n",
       "</style>\n",
       "<table border=\"1\" class=\"dataframe\">\n",
       "  <thead>\n",
       "    <tr style=\"text-align: right;\">\n",
       "      <th></th>\n",
       "      <th>num</th>\n",
       "      <th>기온(°C)</th>\n",
       "      <th>풍속(m/s)</th>\n",
       "      <th>습도(%)</th>\n",
       "      <th>강수량(mm, 6시간)</th>\n",
       "      <th>일조(hr, 3시간)</th>\n",
       "      <th>비전기냉방설비운영</th>\n",
       "      <th>태양광보유</th>\n",
       "    </tr>\n",
       "  </thead>\n",
       "  <tbody>\n",
       "    <tr>\n",
       "      <th>count</th>\n",
       "      <td>10080.000000</td>\n",
       "      <td>3360.000000</td>\n",
       "      <td>3360.000000</td>\n",
       "      <td>3360.000000</td>\n",
       "      <td>1680.000000</td>\n",
       "      <td>3360.000000</td>\n",
       "      <td>2296.0</td>\n",
       "      <td>1624.0</td>\n",
       "    </tr>\n",
       "    <tr>\n",
       "      <th>mean</th>\n",
       "      <td>30.500000</td>\n",
       "      <td>27.805804</td>\n",
       "      <td>2.440327</td>\n",
       "      <td>81.963095</td>\n",
       "      <td>2.191845</td>\n",
       "      <td>0.612917</td>\n",
       "      <td>1.0</td>\n",
       "      <td>1.0</td>\n",
       "    </tr>\n",
       "    <tr>\n",
       "      <th>std</th>\n",
       "      <td>17.318961</td>\n",
       "      <td>2.378122</td>\n",
       "      <td>1.835905</td>\n",
       "      <td>11.900843</td>\n",
       "      <td>6.786772</td>\n",
       "      <td>0.929587</td>\n",
       "      <td>0.0</td>\n",
       "      <td>0.0</td>\n",
       "    </tr>\n",
       "    <tr>\n",
       "      <th>min</th>\n",
       "      <td>1.000000</td>\n",
       "      <td>22.100000</td>\n",
       "      <td>0.000000</td>\n",
       "      <td>44.000000</td>\n",
       "      <td>0.000000</td>\n",
       "      <td>0.000000</td>\n",
       "      <td>1.0</td>\n",
       "      <td>1.0</td>\n",
       "    </tr>\n",
       "    <tr>\n",
       "      <th>25%</th>\n",
       "      <td>15.750000</td>\n",
       "      <td>26.000000</td>\n",
       "      <td>1.100000</td>\n",
       "      <td>74.000000</td>\n",
       "      <td>0.000000</td>\n",
       "      <td>0.000000</td>\n",
       "      <td>1.0</td>\n",
       "      <td>1.0</td>\n",
       "    </tr>\n",
       "    <tr>\n",
       "      <th>50%</th>\n",
       "      <td>30.500000</td>\n",
       "      <td>27.500000</td>\n",
       "      <td>2.100000</td>\n",
       "      <td>83.000000</td>\n",
       "      <td>0.000000</td>\n",
       "      <td>0.000000</td>\n",
       "      <td>1.0</td>\n",
       "      <td>1.0</td>\n",
       "    </tr>\n",
       "    <tr>\n",
       "      <th>75%</th>\n",
       "      <td>45.250000</td>\n",
       "      <td>29.200000</td>\n",
       "      <td>3.200000</td>\n",
       "      <td>92.000000</td>\n",
       "      <td>0.900000</td>\n",
       "      <td>1.000000</td>\n",
       "      <td>1.0</td>\n",
       "      <td>1.0</td>\n",
       "    </tr>\n",
       "    <tr>\n",
       "      <th>max</th>\n",
       "      <td>60.000000</td>\n",
       "      <td>35.400000</td>\n",
       "      <td>22.500000</td>\n",
       "      <td>100.000000</td>\n",
       "      <td>83.500000</td>\n",
       "      <td>3.000000</td>\n",
       "      <td>1.0</td>\n",
       "      <td>1.0</td>\n",
       "    </tr>\n",
       "  </tbody>\n",
       "</table>\n",
       "</div>"
      ],
      "text/plain": [
       "                num       기온(°C)      풍속(m/s)        습도(%)  강수량(mm, 6시간)  \\\n",
       "count  10080.000000  3360.000000  3360.000000  3360.000000   1680.000000   \n",
       "mean      30.500000    27.805804     2.440327    81.963095      2.191845   \n",
       "std       17.318961     2.378122     1.835905    11.900843      6.786772   \n",
       "min        1.000000    22.100000     0.000000    44.000000      0.000000   \n",
       "25%       15.750000    26.000000     1.100000    74.000000      0.000000   \n",
       "50%       30.500000    27.500000     2.100000    83.000000      0.000000   \n",
       "75%       45.250000    29.200000     3.200000    92.000000      0.900000   \n",
       "max       60.000000    35.400000    22.500000   100.000000     83.500000   \n",
       "\n",
       "       일조(hr, 3시간)  비전기냉방설비운영   태양광보유  \n",
       "count  3360.000000     2296.0  1624.0  \n",
       "mean      0.612917        1.0     1.0  \n",
       "std       0.929587        0.0     0.0  \n",
       "min       0.000000        1.0     1.0  \n",
       "25%       0.000000        1.0     1.0  \n",
       "50%       0.000000        1.0     1.0  \n",
       "75%       1.000000        1.0     1.0  \n",
       "max       3.000000        1.0     1.0  "
      ]
     },
     "execution_count": 7,
     "metadata": {},
     "output_type": "execute_result"
    }
   ],
   "source": [
    "test.describe()"
   ]
  },
  {
   "cell_type": "code",
   "execution_count": 8,
   "metadata": {},
   "outputs": [
    {
     "name": "stdout",
     "output_type": "stream",
     "text": [
      "<class 'pandas.core.frame.DataFrame'>\n",
      "RangeIndex: 10080 entries, 0 to 10079\n",
      "Data columns (total 9 columns):\n",
      " #   Column        Non-Null Count  Dtype  \n",
      "---  ------        --------------  -----  \n",
      " 0   num           10080 non-null  int64  \n",
      " 1   date_time     10080 non-null  object \n",
      " 2   기온(°C)        3360 non-null   float64\n",
      " 3   풍속(m/s)       3360 non-null   float64\n",
      " 4   습도(%)         3360 non-null   float64\n",
      " 5   강수량(mm, 6시간)  1680 non-null   float64\n",
      " 6   일조(hr, 3시간)   3360 non-null   float64\n",
      " 7   비전기냉방설비운영     2296 non-null   float64\n",
      " 8   태양광보유         1624 non-null   float64\n",
      "dtypes: float64(7), int64(1), object(1)\n",
      "memory usage: 708.9+ KB\n"
     ]
    }
   ],
   "source": [
    "test.info()"
   ]
  },
  {
   "cell_type": "markdown",
   "metadata": {},
   "source": [
    "# Feature Engineering"
   ]
  },
  {
   "cell_type": "code",
   "execution_count": 9,
   "metadata": {},
   "outputs": [],
   "source": [
    "#시간 변수와 요일 변수를 추가해봅니다.\n",
    "def time(x):\n",
    "    return int(x[-2:])\n",
    "train['time'] = train['date_time'].apply(lambda x: time(x))\n",
    "test['time'] = test['date_time'].apply(lambda x: time(x))\n",
    "\n",
    "def weekday(x):\n",
    "    return pd.to_datetime(x[:10]).weekday()\n",
    "train['weekday'] = train['date_time'].apply(lambda x :weekday(x))\n",
    "test['weekday'] = test['date_time'].apply(lambda x :weekday(x))\n",
    "\n",
    "def month(x):\n",
    "    return int(x[5:7])\n",
    "train['month'] = train['date_time'].apply(lambda x :month(x))\n",
    "test['month'] = test['date_time'].apply(lambda x :month(x))"
   ]
  },
  {
   "cell_type": "code",
   "execution_count": 10,
   "metadata": {},
   "outputs": [
    {
     "name": "stderr",
     "output_type": "stream",
     "text": [
      "100%|████████████████████████████████████████████████████████████████████████████████| 60/60 [00:00<00:00, 7491.17it/s]\n"
     ]
    }
   ],
   "source": [
    "#건물별로 '비전기냉방설비운영'과 '태양광보유'를 판단해 test set의 결측치를 보간해줍니다\n",
    "train[['num', '비전기냉방설비운영','태양광보유']]\n",
    "ice = {}\n",
    "hot = {}\n",
    "count = 0\n",
    "for i in tqdm(range(0, len(train), len(train)//60)):\n",
    "    count += 1\n",
    "    ice[count] = train.loc[i,'비전기냉방설비운영']\n",
    "    hot[count] = train.loc[i,'태양광보유']"
   ]
  },
  {
   "cell_type": "code",
   "execution_count": 11,
   "metadata": {},
   "outputs": [
    {
     "name": "stderr",
     "output_type": "stream",
     "text": [
      "100%|███████████████████████████████████████████████████████████████████████████| 10080/10080 [00:16<00:00, 605.78it/s]\n"
     ]
    }
   ],
   "source": [
    "for i in tqdm(range(len(test))):\n",
    "    test.loc[i, '비전기냉방설비운영'] = ice[test['num'][i]]\n",
    "    test.loc[i, '태양광보유'] = hot[test['num'][i]]"
   ]
  },
  {
   "cell_type": "code",
   "execution_count": 18,
   "metadata": {},
   "outputs": [],
   "source": [
    "test = test.interpolate(method='values')"
   ]
  },
  {
   "cell_type": "code",
   "execution_count": null,
   "metadata": {},
   "outputs": [],
   "source": [
    "test"
   ]
  },
  {
   "cell_type": "code",
   "execution_count": 12,
   "metadata": {},
   "outputs": [],
   "source": [
    "def DI(temp, humid):\n",
    "    '''\n",
    "    disscomfort index : 불쾌지수\n",
    "    '''\n",
    "    return 0.81 * temp +0.01 * humid * (0.99*temp - 14.3)+ 46.3"
   ]
  },
  {
   "cell_type": "code",
   "execution_count": 13,
   "metadata": {},
   "outputs": [],
   "source": [
    "# DI 80 이상이면 50% 정도 불쾌감을 느낌\n",
    "train['DI'] = DI(train['기온(°C)'], train['습도(%)'])\n",
    "train['feel_DI'] = train['DI'].map(lambda x : 1 if x > 80 else 0)\n",
    "\n",
    "test['DI'] = DI(test['기온(°C)'], train['습도(%)'])\n",
    "test['feel_DI'] = test['DI'].map(lambda x : 1 if x > 80 else 0)"
   ]
  },
  {
   "cell_type": "code",
   "execution_count": 14,
   "metadata": {},
   "outputs": [],
   "source": [
    "train['태양광'] =  train['일조(hr)'] * train['태양광보유'] * train['강수량(mm)'].map(lambda x : np.exp(-x)) * train['풍속(m/s)'] / train['습도(%)'] * 100\n",
    "test['태양광'] =  test['일조(hr, 3시간)'] * test['태양광보유'] * test['강수량(mm, 6시간)'].map(lambda x : np.exp(-x)) * test['풍속(m/s)'] / test['습도(%)'] * 100"
   ]
  },
  {
   "cell_type": "code",
   "execution_count": 15,
   "metadata": {},
   "outputs": [
    {
     "data": {
      "text/html": [
       "<div>\n",
       "<style scoped>\n",
       "    .dataframe tbody tr th:only-of-type {\n",
       "        vertical-align: middle;\n",
       "    }\n",
       "\n",
       "    .dataframe tbody tr th {\n",
       "        vertical-align: top;\n",
       "    }\n",
       "\n",
       "    .dataframe thead th {\n",
       "        text-align: right;\n",
       "    }\n",
       "</style>\n",
       "<table border=\"1\" class=\"dataframe\">\n",
       "  <thead>\n",
       "    <tr style=\"text-align: right;\">\n",
       "      <th></th>\n",
       "      <th>num</th>\n",
       "      <th>date_time</th>\n",
       "      <th>전력사용량(kWh)</th>\n",
       "      <th>기온(°C)</th>\n",
       "      <th>풍속(m/s)</th>\n",
       "      <th>습도(%)</th>\n",
       "      <th>강수량(mm)</th>\n",
       "      <th>일조(hr)</th>\n",
       "      <th>비전기냉방설비운영</th>\n",
       "      <th>태양광보유</th>\n",
       "      <th>time</th>\n",
       "      <th>weekday</th>\n",
       "      <th>month</th>\n",
       "      <th>DI</th>\n",
       "      <th>feel_DI</th>\n",
       "      <th>태양광</th>\n",
       "    </tr>\n",
       "  </thead>\n",
       "  <tbody>\n",
       "    <tr>\n",
       "      <th>0</th>\n",
       "      <td>1</td>\n",
       "      <td>2020-06-01 00</td>\n",
       "      <td>8179.056</td>\n",
       "      <td>17.6</td>\n",
       "      <td>2.5</td>\n",
       "      <td>92.0</td>\n",
       "      <td>0.8</td>\n",
       "      <td>0.0</td>\n",
       "      <td>0.0</td>\n",
       "      <td>0.0</td>\n",
       "      <td>0</td>\n",
       "      <td>0</td>\n",
       "      <td>6</td>\n",
       "      <td>63.43008</td>\n",
       "      <td>0</td>\n",
       "      <td>0.000000</td>\n",
       "    </tr>\n",
       "    <tr>\n",
       "      <th>1</th>\n",
       "      <td>1</td>\n",
       "      <td>2020-06-01 01</td>\n",
       "      <td>8135.640</td>\n",
       "      <td>17.7</td>\n",
       "      <td>2.9</td>\n",
       "      <td>91.0</td>\n",
       "      <td>0.3</td>\n",
       "      <td>0.0</td>\n",
       "      <td>0.0</td>\n",
       "      <td>0.0</td>\n",
       "      <td>1</td>\n",
       "      <td>0</td>\n",
       "      <td>6</td>\n",
       "      <td>63.56993</td>\n",
       "      <td>0</td>\n",
       "      <td>0.000000</td>\n",
       "    </tr>\n",
       "    <tr>\n",
       "      <th>2</th>\n",
       "      <td>1</td>\n",
       "      <td>2020-06-01 02</td>\n",
       "      <td>8107.128</td>\n",
       "      <td>17.5</td>\n",
       "      <td>3.2</td>\n",
       "      <td>91.0</td>\n",
       "      <td>0.0</td>\n",
       "      <td>0.0</td>\n",
       "      <td>0.0</td>\n",
       "      <td>0.0</td>\n",
       "      <td>2</td>\n",
       "      <td>0</td>\n",
       "      <td>6</td>\n",
       "      <td>63.22775</td>\n",
       "      <td>0</td>\n",
       "      <td>0.000000</td>\n",
       "    </tr>\n",
       "    <tr>\n",
       "      <th>3</th>\n",
       "      <td>1</td>\n",
       "      <td>2020-06-01 03</td>\n",
       "      <td>8048.808</td>\n",
       "      <td>17.1</td>\n",
       "      <td>3.2</td>\n",
       "      <td>91.0</td>\n",
       "      <td>0.0</td>\n",
       "      <td>0.0</td>\n",
       "      <td>0.0</td>\n",
       "      <td>0.0</td>\n",
       "      <td>3</td>\n",
       "      <td>0</td>\n",
       "      <td>6</td>\n",
       "      <td>62.54339</td>\n",
       "      <td>0</td>\n",
       "      <td>0.000000</td>\n",
       "    </tr>\n",
       "    <tr>\n",
       "      <th>4</th>\n",
       "      <td>1</td>\n",
       "      <td>2020-06-01 04</td>\n",
       "      <td>8043.624</td>\n",
       "      <td>17.0</td>\n",
       "      <td>3.3</td>\n",
       "      <td>92.0</td>\n",
       "      <td>0.0</td>\n",
       "      <td>0.0</td>\n",
       "      <td>0.0</td>\n",
       "      <td>0.0</td>\n",
       "      <td>4</td>\n",
       "      <td>0</td>\n",
       "      <td>6</td>\n",
       "      <td>62.39760</td>\n",
       "      <td>0</td>\n",
       "      <td>0.000000</td>\n",
       "    </tr>\n",
       "    <tr>\n",
       "      <th>...</th>\n",
       "      <td>...</td>\n",
       "      <td>...</td>\n",
       "      <td>...</td>\n",
       "      <td>...</td>\n",
       "      <td>...</td>\n",
       "      <td>...</td>\n",
       "      <td>...</td>\n",
       "      <td>...</td>\n",
       "      <td>...</td>\n",
       "      <td>...</td>\n",
       "      <td>...</td>\n",
       "      <td>...</td>\n",
       "      <td>...</td>\n",
       "      <td>...</td>\n",
       "      <td>...</td>\n",
       "      <td>...</td>\n",
       "    </tr>\n",
       "    <tr>\n",
       "      <th>122395</th>\n",
       "      <td>60</td>\n",
       "      <td>2020-08-24 19</td>\n",
       "      <td>4114.368</td>\n",
       "      <td>27.8</td>\n",
       "      <td>2.3</td>\n",
       "      <td>68.0</td>\n",
       "      <td>0.0</td>\n",
       "      <td>0.7</td>\n",
       "      <td>1.0</td>\n",
       "      <td>1.0</td>\n",
       "      <td>19</td>\n",
       "      <td>0</td>\n",
       "      <td>8</td>\n",
       "      <td>77.80896</td>\n",
       "      <td>0</td>\n",
       "      <td>2.367647</td>\n",
       "    </tr>\n",
       "    <tr>\n",
       "      <th>122396</th>\n",
       "      <td>60</td>\n",
       "      <td>2020-08-24 20</td>\n",
       "      <td>3975.696</td>\n",
       "      <td>27.3</td>\n",
       "      <td>1.2</td>\n",
       "      <td>71.0</td>\n",
       "      <td>0.0</td>\n",
       "      <td>0.0</td>\n",
       "      <td>1.0</td>\n",
       "      <td>1.0</td>\n",
       "      <td>20</td>\n",
       "      <td>0</td>\n",
       "      <td>8</td>\n",
       "      <td>77.44917</td>\n",
       "      <td>0</td>\n",
       "      <td>0.000000</td>\n",
       "    </tr>\n",
       "    <tr>\n",
       "      <th>122397</th>\n",
       "      <td>60</td>\n",
       "      <td>2020-08-24 21</td>\n",
       "      <td>3572.208</td>\n",
       "      <td>27.3</td>\n",
       "      <td>1.8</td>\n",
       "      <td>71.0</td>\n",
       "      <td>0.0</td>\n",
       "      <td>0.0</td>\n",
       "      <td>1.0</td>\n",
       "      <td>1.0</td>\n",
       "      <td>21</td>\n",
       "      <td>0</td>\n",
       "      <td>8</td>\n",
       "      <td>77.44917</td>\n",
       "      <td>0</td>\n",
       "      <td>0.000000</td>\n",
       "    </tr>\n",
       "    <tr>\n",
       "      <th>122398</th>\n",
       "      <td>60</td>\n",
       "      <td>2020-08-24 22</td>\n",
       "      <td>3299.184</td>\n",
       "      <td>27.1</td>\n",
       "      <td>1.8</td>\n",
       "      <td>74.0</td>\n",
       "      <td>0.0</td>\n",
       "      <td>0.0</td>\n",
       "      <td>1.0</td>\n",
       "      <td>1.0</td>\n",
       "      <td>22</td>\n",
       "      <td>0</td>\n",
       "      <td>8</td>\n",
       "      <td>77.52246</td>\n",
       "      <td>0</td>\n",
       "      <td>0.000000</td>\n",
       "    </tr>\n",
       "    <tr>\n",
       "      <th>122399</th>\n",
       "      <td>60</td>\n",
       "      <td>2020-08-24 23</td>\n",
       "      <td>3204.576</td>\n",
       "      <td>27.1</td>\n",
       "      <td>2.6</td>\n",
       "      <td>75.0</td>\n",
       "      <td>0.0</td>\n",
       "      <td>0.0</td>\n",
       "      <td>1.0</td>\n",
       "      <td>1.0</td>\n",
       "      <td>23</td>\n",
       "      <td>0</td>\n",
       "      <td>8</td>\n",
       "      <td>77.64775</td>\n",
       "      <td>0</td>\n",
       "      <td>0.000000</td>\n",
       "    </tr>\n",
       "  </tbody>\n",
       "</table>\n",
       "<p>122400 rows × 16 columns</p>\n",
       "</div>"
      ],
      "text/plain": [
       "        num      date_time  전력사용량(kWh)  기온(°C)  풍속(m/s)  습도(%)  강수량(mm)  \\\n",
       "0         1  2020-06-01 00    8179.056    17.6      2.5   92.0      0.8   \n",
       "1         1  2020-06-01 01    8135.640    17.7      2.9   91.0      0.3   \n",
       "2         1  2020-06-01 02    8107.128    17.5      3.2   91.0      0.0   \n",
       "3         1  2020-06-01 03    8048.808    17.1      3.2   91.0      0.0   \n",
       "4         1  2020-06-01 04    8043.624    17.0      3.3   92.0      0.0   \n",
       "...     ...            ...         ...     ...      ...    ...      ...   \n",
       "122395   60  2020-08-24 19    4114.368    27.8      2.3   68.0      0.0   \n",
       "122396   60  2020-08-24 20    3975.696    27.3      1.2   71.0      0.0   \n",
       "122397   60  2020-08-24 21    3572.208    27.3      1.8   71.0      0.0   \n",
       "122398   60  2020-08-24 22    3299.184    27.1      1.8   74.0      0.0   \n",
       "122399   60  2020-08-24 23    3204.576    27.1      2.6   75.0      0.0   \n",
       "\n",
       "        일조(hr)  비전기냉방설비운영  태양광보유  time  weekday  month        DI  feel_DI  \\\n",
       "0          0.0        0.0    0.0     0        0      6  63.43008        0   \n",
       "1          0.0        0.0    0.0     1        0      6  63.56993        0   \n",
       "2          0.0        0.0    0.0     2        0      6  63.22775        0   \n",
       "3          0.0        0.0    0.0     3        0      6  62.54339        0   \n",
       "4          0.0        0.0    0.0     4        0      6  62.39760        0   \n",
       "...        ...        ...    ...   ...      ...    ...       ...      ...   \n",
       "122395     0.7        1.0    1.0    19        0      8  77.80896        0   \n",
       "122396     0.0        1.0    1.0    20        0      8  77.44917        0   \n",
       "122397     0.0        1.0    1.0    21        0      8  77.44917        0   \n",
       "122398     0.0        1.0    1.0    22        0      8  77.52246        0   \n",
       "122399     0.0        1.0    1.0    23        0      8  77.64775        0   \n",
       "\n",
       "             태양광  \n",
       "0       0.000000  \n",
       "1       0.000000  \n",
       "2       0.000000  \n",
       "3       0.000000  \n",
       "4       0.000000  \n",
       "...          ...  \n",
       "122395  2.367647  \n",
       "122396  0.000000  \n",
       "122397  0.000000  \n",
       "122398  0.000000  \n",
       "122399  0.000000  \n",
       "\n",
       "[122400 rows x 16 columns]"
      ]
     },
     "execution_count": 15,
     "metadata": {},
     "output_type": "execute_result"
    }
   ],
   "source": [
    "train"
   ]
  },
  {
   "cell_type": "code",
   "execution_count": 16,
   "metadata": {},
   "outputs": [
    {
     "data": {
      "text/html": [
       "<div>\n",
       "<style scoped>\n",
       "    .dataframe tbody tr th:only-of-type {\n",
       "        vertical-align: middle;\n",
       "    }\n",
       "\n",
       "    .dataframe tbody tr th {\n",
       "        vertical-align: top;\n",
       "    }\n",
       "\n",
       "    .dataframe thead th {\n",
       "        text-align: right;\n",
       "    }\n",
       "</style>\n",
       "<table border=\"1\" class=\"dataframe\">\n",
       "  <thead>\n",
       "    <tr style=\"text-align: right;\">\n",
       "      <th></th>\n",
       "      <th>num</th>\n",
       "      <th>전력사용량(kWh)</th>\n",
       "      <th>기온(°C)</th>\n",
       "      <th>풍속(m/s)</th>\n",
       "      <th>습도(%)</th>\n",
       "      <th>강수량(mm)</th>\n",
       "      <th>일조(hr)</th>\n",
       "      <th>비전기냉방설비운영</th>\n",
       "      <th>태양광보유</th>\n",
       "      <th>time</th>\n",
       "      <th>weekday</th>\n",
       "      <th>month</th>\n",
       "      <th>DI</th>\n",
       "      <th>feel_DI</th>\n",
       "      <th>태양광</th>\n",
       "    </tr>\n",
       "  </thead>\n",
       "  <tbody>\n",
       "    <tr>\n",
       "      <th>count</th>\n",
       "      <td>122400.000000</td>\n",
       "      <td>122400.000000</td>\n",
       "      <td>122400.000000</td>\n",
       "      <td>122400.000000</td>\n",
       "      <td>122400.000000</td>\n",
       "      <td>122400.000000</td>\n",
       "      <td>122400.000000</td>\n",
       "      <td>122400.000000</td>\n",
       "      <td>122400.000000</td>\n",
       "      <td>122400.000000</td>\n",
       "      <td>122400.000000</td>\n",
       "      <td>122400.000000</td>\n",
       "      <td>122400.000000</td>\n",
       "      <td>122400.000000</td>\n",
       "      <td>122400.000000</td>\n",
       "    </tr>\n",
       "    <tr>\n",
       "      <th>mean</th>\n",
       "      <td>30.500000</td>\n",
       "      <td>2324.830866</td>\n",
       "      <td>24.251713</td>\n",
       "      <td>2.151641</td>\n",
       "      <td>80.169848</td>\n",
       "      <td>0.514989</td>\n",
       "      <td>0.213533</td>\n",
       "      <td>0.683333</td>\n",
       "      <td>0.483333</td>\n",
       "      <td>11.500000</td>\n",
       "      <td>2.964706</td>\n",
       "      <td>6.929412</td>\n",
       "      <td>73.461061</td>\n",
       "      <td>0.079779</td>\n",
       "      <td>0.418172</td>\n",
       "    </tr>\n",
       "    <tr>\n",
       "      <th>std</th>\n",
       "      <td>17.318173</td>\n",
       "      <td>2058.999326</td>\n",
       "      <td>3.407902</td>\n",
       "      <td>1.514475</td>\n",
       "      <td>15.525862</td>\n",
       "      <td>2.624505</td>\n",
       "      <td>0.370517</td>\n",
       "      <td>0.465178</td>\n",
       "      <td>0.499724</td>\n",
       "      <td>6.922215</td>\n",
       "      <td>2.014351</td>\n",
       "      <td>0.793925</td>\n",
       "      <td>4.778330</td>\n",
       "      <td>0.270952</td>\n",
       "      <td>1.377256</td>\n",
       "    </tr>\n",
       "    <tr>\n",
       "      <th>min</th>\n",
       "      <td>1.000000</td>\n",
       "      <td>0.000000</td>\n",
       "      <td>11.100000</td>\n",
       "      <td>0.000000</td>\n",
       "      <td>19.000000</td>\n",
       "      <td>0.000000</td>\n",
       "      <td>0.000000</td>\n",
       "      <td>0.000000</td>\n",
       "      <td>0.000000</td>\n",
       "      <td>0.000000</td>\n",
       "      <td>0.000000</td>\n",
       "      <td>6.000000</td>\n",
       "      <td>52.344210</td>\n",
       "      <td>0.000000</td>\n",
       "      <td>0.000000</td>\n",
       "    </tr>\n",
       "    <tr>\n",
       "      <th>25%</th>\n",
       "      <td>15.750000</td>\n",
       "      <td>1055.268000</td>\n",
       "      <td>21.800000</td>\n",
       "      <td>1.100000</td>\n",
       "      <td>70.000000</td>\n",
       "      <td>0.000000</td>\n",
       "      <td>0.000000</td>\n",
       "      <td>0.000000</td>\n",
       "      <td>0.000000</td>\n",
       "      <td>5.750000</td>\n",
       "      <td>1.000000</td>\n",
       "      <td>6.000000</td>\n",
       "      <td>70.035960</td>\n",
       "      <td>0.000000</td>\n",
       "      <td>0.000000</td>\n",
       "    </tr>\n",
       "    <tr>\n",
       "      <th>50%</th>\n",
       "      <td>30.500000</td>\n",
       "      <td>1700.352000</td>\n",
       "      <td>24.200000</td>\n",
       "      <td>1.900000</td>\n",
       "      <td>84.000000</td>\n",
       "      <td>0.000000</td>\n",
       "      <td>0.000000</td>\n",
       "      <td>1.000000</td>\n",
       "      <td>0.000000</td>\n",
       "      <td>11.500000</td>\n",
       "      <td>3.000000</td>\n",
       "      <td>7.000000</td>\n",
       "      <td>73.615850</td>\n",
       "      <td>0.000000</td>\n",
       "      <td>0.000000</td>\n",
       "    </tr>\n",
       "    <tr>\n",
       "      <th>75%</th>\n",
       "      <td>45.250000</td>\n",
       "      <td>2780.487000</td>\n",
       "      <td>26.500000</td>\n",
       "      <td>2.900000</td>\n",
       "      <td>93.000000</td>\n",
       "      <td>0.000000</td>\n",
       "      <td>0.300000</td>\n",
       "      <td>1.000000</td>\n",
       "      <td>1.000000</td>\n",
       "      <td>17.250000</td>\n",
       "      <td>5.000000</td>\n",
       "      <td>8.000000</td>\n",
       "      <td>77.074510</td>\n",
       "      <td>0.000000</td>\n",
       "      <td>0.000000</td>\n",
       "    </tr>\n",
       "    <tr>\n",
       "      <th>max</th>\n",
       "      <td>60.000000</td>\n",
       "      <td>17739.225000</td>\n",
       "      <td>36.300000</td>\n",
       "      <td>20.100000</td>\n",
       "      <td>100.000000</td>\n",
       "      <td>81.500000</td>\n",
       "      <td>1.000000</td>\n",
       "      <td>1.000000</td>\n",
       "      <td>1.000000</td>\n",
       "      <td>23.000000</td>\n",
       "      <td>6.000000</td>\n",
       "      <td>8.000000</td>\n",
       "      <td>86.661790</td>\n",
       "      <td>1.000000</td>\n",
       "      <td>20.000000</td>\n",
       "    </tr>\n",
       "  </tbody>\n",
       "</table>\n",
       "</div>"
      ],
      "text/plain": [
       "                 num     전력사용량(kWh)         기온(°C)        풍속(m/s)  \\\n",
       "count  122400.000000  122400.000000  122400.000000  122400.000000   \n",
       "mean       30.500000    2324.830866      24.251713       2.151641   \n",
       "std        17.318173    2058.999326       3.407902       1.514475   \n",
       "min         1.000000       0.000000      11.100000       0.000000   \n",
       "25%        15.750000    1055.268000      21.800000       1.100000   \n",
       "50%        30.500000    1700.352000      24.200000       1.900000   \n",
       "75%        45.250000    2780.487000      26.500000       2.900000   \n",
       "max        60.000000   17739.225000      36.300000      20.100000   \n",
       "\n",
       "               습도(%)        강수량(mm)         일조(hr)      비전기냉방설비운영  \\\n",
       "count  122400.000000  122400.000000  122400.000000  122400.000000   \n",
       "mean       80.169848       0.514989       0.213533       0.683333   \n",
       "std        15.525862       2.624505       0.370517       0.465178   \n",
       "min        19.000000       0.000000       0.000000       0.000000   \n",
       "25%        70.000000       0.000000       0.000000       0.000000   \n",
       "50%        84.000000       0.000000       0.000000       1.000000   \n",
       "75%        93.000000       0.000000       0.300000       1.000000   \n",
       "max       100.000000      81.500000       1.000000       1.000000   \n",
       "\n",
       "               태양광보유           time        weekday          month  \\\n",
       "count  122400.000000  122400.000000  122400.000000  122400.000000   \n",
       "mean        0.483333      11.500000       2.964706       6.929412   \n",
       "std         0.499724       6.922215       2.014351       0.793925   \n",
       "min         0.000000       0.000000       0.000000       6.000000   \n",
       "25%         0.000000       5.750000       1.000000       6.000000   \n",
       "50%         0.000000      11.500000       3.000000       7.000000   \n",
       "75%         1.000000      17.250000       5.000000       8.000000   \n",
       "max         1.000000      23.000000       6.000000       8.000000   \n",
       "\n",
       "                  DI        feel_DI            태양광  \n",
       "count  122400.000000  122400.000000  122400.000000  \n",
       "mean       73.461061       0.079779       0.418172  \n",
       "std         4.778330       0.270952       1.377256  \n",
       "min        52.344210       0.000000       0.000000  \n",
       "25%        70.035960       0.000000       0.000000  \n",
       "50%        73.615850       0.000000       0.000000  \n",
       "75%        77.074510       0.000000       0.000000  \n",
       "max        86.661790       1.000000      20.000000  "
      ]
     },
     "execution_count": 16,
     "metadata": {},
     "output_type": "execute_result"
    }
   ],
   "source": [
    "train.describe()"
   ]
  },
  {
   "cell_type": "code",
   "execution_count": 17,
   "metadata": {},
   "outputs": [
    {
     "data": {
      "text/html": [
       "<div>\n",
       "<style scoped>\n",
       "    .dataframe tbody tr th:only-of-type {\n",
       "        vertical-align: middle;\n",
       "    }\n",
       "\n",
       "    .dataframe tbody tr th {\n",
       "        vertical-align: top;\n",
       "    }\n",
       "\n",
       "    .dataframe thead th {\n",
       "        text-align: right;\n",
       "    }\n",
       "</style>\n",
       "<table border=\"1\" class=\"dataframe\">\n",
       "  <thead>\n",
       "    <tr style=\"text-align: right;\">\n",
       "      <th></th>\n",
       "      <th>num</th>\n",
       "      <th>date_time</th>\n",
       "      <th>기온(°C)</th>\n",
       "      <th>풍속(m/s)</th>\n",
       "      <th>습도(%)</th>\n",
       "      <th>강수량(mm, 6시간)</th>\n",
       "      <th>일조(hr, 3시간)</th>\n",
       "      <th>비전기냉방설비운영</th>\n",
       "      <th>태양광보유</th>\n",
       "      <th>time</th>\n",
       "      <th>weekday</th>\n",
       "      <th>month</th>\n",
       "      <th>DI</th>\n",
       "      <th>feel_DI</th>\n",
       "      <th>태양광</th>\n",
       "    </tr>\n",
       "  </thead>\n",
       "  <tbody>\n",
       "    <tr>\n",
       "      <th>0</th>\n",
       "      <td>1</td>\n",
       "      <td>2020-08-25 00</td>\n",
       "      <td>27.8</td>\n",
       "      <td>1.5</td>\n",
       "      <td>74.0</td>\n",
       "      <td>0.0</td>\n",
       "      <td>0.0</td>\n",
       "      <td>0.0</td>\n",
       "      <td>0.0</td>\n",
       "      <td>0</td>\n",
       "      <td>1</td>\n",
       "      <td>8</td>\n",
       "      <td>80.98224</td>\n",
       "      <td>1</td>\n",
       "      <td>0.0</td>\n",
       "    </tr>\n",
       "    <tr>\n",
       "      <th>1</th>\n",
       "      <td>1</td>\n",
       "      <td>2020-08-25 01</td>\n",
       "      <td>NaN</td>\n",
       "      <td>NaN</td>\n",
       "      <td>NaN</td>\n",
       "      <td>NaN</td>\n",
       "      <td>NaN</td>\n",
       "      <td>0.0</td>\n",
       "      <td>0.0</td>\n",
       "      <td>1</td>\n",
       "      <td>1</td>\n",
       "      <td>8</td>\n",
       "      <td>NaN</td>\n",
       "      <td>0</td>\n",
       "      <td>NaN</td>\n",
       "    </tr>\n",
       "    <tr>\n",
       "      <th>2</th>\n",
       "      <td>1</td>\n",
       "      <td>2020-08-25 02</td>\n",
       "      <td>NaN</td>\n",
       "      <td>NaN</td>\n",
       "      <td>NaN</td>\n",
       "      <td>NaN</td>\n",
       "      <td>NaN</td>\n",
       "      <td>0.0</td>\n",
       "      <td>0.0</td>\n",
       "      <td>2</td>\n",
       "      <td>1</td>\n",
       "      <td>8</td>\n",
       "      <td>NaN</td>\n",
       "      <td>0</td>\n",
       "      <td>NaN</td>\n",
       "    </tr>\n",
       "    <tr>\n",
       "      <th>3</th>\n",
       "      <td>1</td>\n",
       "      <td>2020-08-25 03</td>\n",
       "      <td>27.3</td>\n",
       "      <td>1.1</td>\n",
       "      <td>78.0</td>\n",
       "      <td>NaN</td>\n",
       "      <td>0.0</td>\n",
       "      <td>0.0</td>\n",
       "      <td>0.0</td>\n",
       "      <td>3</td>\n",
       "      <td>1</td>\n",
       "      <td>8</td>\n",
       "      <td>79.99457</td>\n",
       "      <td>0</td>\n",
       "      <td>NaN</td>\n",
       "    </tr>\n",
       "    <tr>\n",
       "      <th>4</th>\n",
       "      <td>1</td>\n",
       "      <td>2020-08-25 04</td>\n",
       "      <td>NaN</td>\n",
       "      <td>NaN</td>\n",
       "      <td>NaN</td>\n",
       "      <td>NaN</td>\n",
       "      <td>NaN</td>\n",
       "      <td>0.0</td>\n",
       "      <td>0.0</td>\n",
       "      <td>4</td>\n",
       "      <td>1</td>\n",
       "      <td>8</td>\n",
       "      <td>NaN</td>\n",
       "      <td>0</td>\n",
       "      <td>NaN</td>\n",
       "    </tr>\n",
       "    <tr>\n",
       "      <th>...</th>\n",
       "      <td>...</td>\n",
       "      <td>...</td>\n",
       "      <td>...</td>\n",
       "      <td>...</td>\n",
       "      <td>...</td>\n",
       "      <td>...</td>\n",
       "      <td>...</td>\n",
       "      <td>...</td>\n",
       "      <td>...</td>\n",
       "      <td>...</td>\n",
       "      <td>...</td>\n",
       "      <td>...</td>\n",
       "      <td>...</td>\n",
       "      <td>...</td>\n",
       "      <td>...</td>\n",
       "    </tr>\n",
       "    <tr>\n",
       "      <th>10075</th>\n",
       "      <td>60</td>\n",
       "      <td>2020-08-31 19</td>\n",
       "      <td>NaN</td>\n",
       "      <td>NaN</td>\n",
       "      <td>NaN</td>\n",
       "      <td>NaN</td>\n",
       "      <td>NaN</td>\n",
       "      <td>1.0</td>\n",
       "      <td>1.0</td>\n",
       "      <td>19</td>\n",
       "      <td>0</td>\n",
       "      <td>8</td>\n",
       "      <td>NaN</td>\n",
       "      <td>0</td>\n",
       "      <td>NaN</td>\n",
       "    </tr>\n",
       "    <tr>\n",
       "      <th>10076</th>\n",
       "      <td>60</td>\n",
       "      <td>2020-08-31 20</td>\n",
       "      <td>NaN</td>\n",
       "      <td>NaN</td>\n",
       "      <td>NaN</td>\n",
       "      <td>NaN</td>\n",
       "      <td>NaN</td>\n",
       "      <td>1.0</td>\n",
       "      <td>1.0</td>\n",
       "      <td>20</td>\n",
       "      <td>0</td>\n",
       "      <td>8</td>\n",
       "      <td>NaN</td>\n",
       "      <td>0</td>\n",
       "      <td>NaN</td>\n",
       "    </tr>\n",
       "    <tr>\n",
       "      <th>10077</th>\n",
       "      <td>60</td>\n",
       "      <td>2020-08-31 21</td>\n",
       "      <td>27.9</td>\n",
       "      <td>4.1</td>\n",
       "      <td>68.0</td>\n",
       "      <td>NaN</td>\n",
       "      <td>0.0</td>\n",
       "      <td>1.0</td>\n",
       "      <td>1.0</td>\n",
       "      <td>21</td>\n",
       "      <td>0</td>\n",
       "      <td>8</td>\n",
       "      <td>80.22185</td>\n",
       "      <td>1</td>\n",
       "      <td>NaN</td>\n",
       "    </tr>\n",
       "    <tr>\n",
       "      <th>10078</th>\n",
       "      <td>60</td>\n",
       "      <td>2020-08-31 22</td>\n",
       "      <td>NaN</td>\n",
       "      <td>NaN</td>\n",
       "      <td>NaN</td>\n",
       "      <td>NaN</td>\n",
       "      <td>NaN</td>\n",
       "      <td>1.0</td>\n",
       "      <td>1.0</td>\n",
       "      <td>22</td>\n",
       "      <td>0</td>\n",
       "      <td>8</td>\n",
       "      <td>NaN</td>\n",
       "      <td>0</td>\n",
       "      <td>NaN</td>\n",
       "    </tr>\n",
       "    <tr>\n",
       "      <th>10079</th>\n",
       "      <td>60</td>\n",
       "      <td>2020-08-31 23</td>\n",
       "      <td>NaN</td>\n",
       "      <td>NaN</td>\n",
       "      <td>NaN</td>\n",
       "      <td>NaN</td>\n",
       "      <td>NaN</td>\n",
       "      <td>1.0</td>\n",
       "      <td>1.0</td>\n",
       "      <td>23</td>\n",
       "      <td>0</td>\n",
       "      <td>8</td>\n",
       "      <td>NaN</td>\n",
       "      <td>0</td>\n",
       "      <td>NaN</td>\n",
       "    </tr>\n",
       "  </tbody>\n",
       "</table>\n",
       "<p>10080 rows × 15 columns</p>\n",
       "</div>"
      ],
      "text/plain": [
       "       num      date_time  기온(°C)  풍속(m/s)  습도(%)  강수량(mm, 6시간)  일조(hr, 3시간)  \\\n",
       "0        1  2020-08-25 00    27.8      1.5   74.0           0.0          0.0   \n",
       "1        1  2020-08-25 01     NaN      NaN    NaN           NaN          NaN   \n",
       "2        1  2020-08-25 02     NaN      NaN    NaN           NaN          NaN   \n",
       "3        1  2020-08-25 03    27.3      1.1   78.0           NaN          0.0   \n",
       "4        1  2020-08-25 04     NaN      NaN    NaN           NaN          NaN   \n",
       "...    ...            ...     ...      ...    ...           ...          ...   \n",
       "10075   60  2020-08-31 19     NaN      NaN    NaN           NaN          NaN   \n",
       "10076   60  2020-08-31 20     NaN      NaN    NaN           NaN          NaN   \n",
       "10077   60  2020-08-31 21    27.9      4.1   68.0           NaN          0.0   \n",
       "10078   60  2020-08-31 22     NaN      NaN    NaN           NaN          NaN   \n",
       "10079   60  2020-08-31 23     NaN      NaN    NaN           NaN          NaN   \n",
       "\n",
       "       비전기냉방설비운영  태양광보유  time  weekday  month        DI  feel_DI  태양광  \n",
       "0            0.0    0.0     0        1      8  80.98224        1  0.0  \n",
       "1            0.0    0.0     1        1      8       NaN        0  NaN  \n",
       "2            0.0    0.0     2        1      8       NaN        0  NaN  \n",
       "3            0.0    0.0     3        1      8  79.99457        0  NaN  \n",
       "4            0.0    0.0     4        1      8       NaN        0  NaN  \n",
       "...          ...    ...   ...      ...    ...       ...      ...  ...  \n",
       "10075        1.0    1.0    19        0      8       NaN        0  NaN  \n",
       "10076        1.0    1.0    20        0      8       NaN        0  NaN  \n",
       "10077        1.0    1.0    21        0      8  80.22185        1  NaN  \n",
       "10078        1.0    1.0    22        0      8       NaN        0  NaN  \n",
       "10079        1.0    1.0    23        0      8       NaN        0  NaN  \n",
       "\n",
       "[10080 rows x 15 columns]"
      ]
     },
     "execution_count": 17,
     "metadata": {},
     "output_type": "execute_result"
    }
   ],
   "source": [
    "test"
   ]
  },
  {
   "cell_type": "code",
   "execution_count": 19,
   "metadata": {},
   "outputs": [
    {
     "data": {
      "text/html": [
       "<div>\n",
       "<style scoped>\n",
       "    .dataframe tbody tr th:only-of-type {\n",
       "        vertical-align: middle;\n",
       "    }\n",
       "\n",
       "    .dataframe tbody tr th {\n",
       "        vertical-align: top;\n",
       "    }\n",
       "\n",
       "    .dataframe thead th {\n",
       "        text-align: right;\n",
       "    }\n",
       "</style>\n",
       "<table border=\"1\" class=\"dataframe\">\n",
       "  <thead>\n",
       "    <tr style=\"text-align: right;\">\n",
       "      <th></th>\n",
       "      <th>num</th>\n",
       "      <th>기온(°C)</th>\n",
       "      <th>풍속(m/s)</th>\n",
       "      <th>습도(%)</th>\n",
       "      <th>강수량(mm, 6시간)</th>\n",
       "      <th>일조(hr, 3시간)</th>\n",
       "      <th>비전기냉방설비운영</th>\n",
       "      <th>태양광보유</th>\n",
       "      <th>time</th>\n",
       "      <th>weekday</th>\n",
       "      <th>month</th>\n",
       "      <th>DI</th>\n",
       "      <th>feel_DI</th>\n",
       "      <th>태양광</th>\n",
       "    </tr>\n",
       "  </thead>\n",
       "  <tbody>\n",
       "    <tr>\n",
       "      <th>count</th>\n",
       "      <td>10080.000000</td>\n",
       "      <td>10080.000000</td>\n",
       "      <td>10080.000000</td>\n",
       "      <td>10080.000000</td>\n",
       "      <td>10080.000000</td>\n",
       "      <td>10080.000000</td>\n",
       "      <td>10080.000000</td>\n",
       "      <td>10080.000000</td>\n",
       "      <td>10080.00000</td>\n",
       "      <td>10080.000000</td>\n",
       "      <td>10080.0</td>\n",
       "      <td>10080.000000</td>\n",
       "      <td>10080.000000</td>\n",
       "      <td>10080.000000</td>\n",
       "    </tr>\n",
       "    <tr>\n",
       "      <th>mean</th>\n",
       "      <td>30.500000</td>\n",
       "      <td>27.805813</td>\n",
       "      <td>2.440585</td>\n",
       "      <td>81.962500</td>\n",
       "      <td>2.191845</td>\n",
       "      <td>0.612917</td>\n",
       "      <td>0.683333</td>\n",
       "      <td>0.483333</td>\n",
       "      <td>11.50000</td>\n",
       "      <td>3.000000</td>\n",
       "      <td>8.0</td>\n",
       "      <td>79.101515</td>\n",
       "      <td>0.118452</td>\n",
       "      <td>1.153618</td>\n",
       "    </tr>\n",
       "    <tr>\n",
       "      <th>std</th>\n",
       "      <td>17.318961</td>\n",
       "      <td>2.275416</td>\n",
       "      <td>1.785098</td>\n",
       "      <td>11.467641</td>\n",
       "      <td>5.704649</td>\n",
       "      <td>0.867991</td>\n",
       "      <td>0.465199</td>\n",
       "      <td>0.499747</td>\n",
       "      <td>6.92253</td>\n",
       "      <td>2.000099</td>\n",
       "      <td>0.0</td>\n",
       "      <td>3.705743</td>\n",
       "      <td>0.323159</td>\n",
       "      <td>3.084974</td>\n",
       "    </tr>\n",
       "    <tr>\n",
       "      <th>min</th>\n",
       "      <td>1.000000</td>\n",
       "      <td>22.100000</td>\n",
       "      <td>0.000000</td>\n",
       "      <td>44.000000</td>\n",
       "      <td>0.000000</td>\n",
       "      <td>0.000000</td>\n",
       "      <td>0.000000</td>\n",
       "      <td>0.000000</td>\n",
       "      <td>0.00000</td>\n",
       "      <td>0.000000</td>\n",
       "      <td>8.0</td>\n",
       "      <td>69.795700</td>\n",
       "      <td>0.000000</td>\n",
       "      <td>0.000000</td>\n",
       "    </tr>\n",
       "    <tr>\n",
       "      <th>25%</th>\n",
       "      <td>15.750000</td>\n",
       "      <td>26.133333</td>\n",
       "      <td>1.200000</td>\n",
       "      <td>74.666667</td>\n",
       "      <td>0.000000</td>\n",
       "      <td>0.000000</td>\n",
       "      <td>0.000000</td>\n",
       "      <td>0.000000</td>\n",
       "      <td>5.75000</td>\n",
       "      <td>1.000000</td>\n",
       "      <td>8.0</td>\n",
       "      <td>76.558027</td>\n",
       "      <td>0.000000</td>\n",
       "      <td>0.000000</td>\n",
       "    </tr>\n",
       "    <tr>\n",
       "      <th>50%</th>\n",
       "      <td>30.500000</td>\n",
       "      <td>27.466667</td>\n",
       "      <td>2.100000</td>\n",
       "      <td>83.000000</td>\n",
       "      <td>0.000000</td>\n",
       "      <td>0.100000</td>\n",
       "      <td>1.000000</td>\n",
       "      <td>0.000000</td>\n",
       "      <td>11.50000</td>\n",
       "      <td>3.000000</td>\n",
       "      <td>8.0</td>\n",
       "      <td>78.620090</td>\n",
       "      <td>0.000000</td>\n",
       "      <td>0.000000</td>\n",
       "    </tr>\n",
       "    <tr>\n",
       "      <th>75%</th>\n",
       "      <td>45.250000</td>\n",
       "      <td>29.100000</td>\n",
       "      <td>3.175000</td>\n",
       "      <td>91.000000</td>\n",
       "      <td>1.500000</td>\n",
       "      <td>1.033333</td>\n",
       "      <td>1.000000</td>\n",
       "      <td>1.000000</td>\n",
       "      <td>17.25000</td>\n",
       "      <td>5.000000</td>\n",
       "      <td>8.0</td>\n",
       "      <td>81.195246</td>\n",
       "      <td>0.000000</td>\n",
       "      <td>0.213211</td>\n",
       "    </tr>\n",
       "    <tr>\n",
       "      <th>max</th>\n",
       "      <td>60.000000</td>\n",
       "      <td>35.400000</td>\n",
       "      <td>22.500000</td>\n",
       "      <td>100.000000</td>\n",
       "      <td>83.500000</td>\n",
       "      <td>3.000000</td>\n",
       "      <td>1.000000</td>\n",
       "      <td>1.000000</td>\n",
       "      <td>23.00000</td>\n",
       "      <td>6.000000</td>\n",
       "      <td>8.0</td>\n",
       "      <td>93.681380</td>\n",
       "      <td>1.000000</td>\n",
       "      <td>30.196078</td>\n",
       "    </tr>\n",
       "  </tbody>\n",
       "</table>\n",
       "</div>"
      ],
      "text/plain": [
       "                num        기온(°C)       풍속(m/s)         습도(%)  강수량(mm, 6시간)  \\\n",
       "count  10080.000000  10080.000000  10080.000000  10080.000000  10080.000000   \n",
       "mean      30.500000     27.805813      2.440585     81.962500      2.191845   \n",
       "std       17.318961      2.275416      1.785098     11.467641      5.704649   \n",
       "min        1.000000     22.100000      0.000000     44.000000      0.000000   \n",
       "25%       15.750000     26.133333      1.200000     74.666667      0.000000   \n",
       "50%       30.500000     27.466667      2.100000     83.000000      0.000000   \n",
       "75%       45.250000     29.100000      3.175000     91.000000      1.500000   \n",
       "max       60.000000     35.400000     22.500000    100.000000     83.500000   \n",
       "\n",
       "        일조(hr, 3시간)     비전기냉방설비운영         태양광보유         time       weekday  \\\n",
       "count  10080.000000  10080.000000  10080.000000  10080.00000  10080.000000   \n",
       "mean       0.612917      0.683333      0.483333     11.50000      3.000000   \n",
       "std        0.867991      0.465199      0.499747      6.92253      2.000099   \n",
       "min        0.000000      0.000000      0.000000      0.00000      0.000000   \n",
       "25%        0.000000      0.000000      0.000000      5.75000      1.000000   \n",
       "50%        0.100000      1.000000      0.000000     11.50000      3.000000   \n",
       "75%        1.033333      1.000000      1.000000     17.25000      5.000000   \n",
       "max        3.000000      1.000000      1.000000     23.00000      6.000000   \n",
       "\n",
       "         month            DI       feel_DI           태양광  \n",
       "count  10080.0  10080.000000  10080.000000  10080.000000  \n",
       "mean       8.0     79.101515      0.118452      1.153618  \n",
       "std        0.0      3.705743      0.323159      3.084974  \n",
       "min        8.0     69.795700      0.000000      0.000000  \n",
       "25%        8.0     76.558027      0.000000      0.000000  \n",
       "50%        8.0     78.620090      0.000000      0.000000  \n",
       "75%        8.0     81.195246      0.000000      0.213211  \n",
       "max        8.0     93.681380      1.000000     30.196078  "
      ]
     },
     "execution_count": 19,
     "metadata": {},
     "output_type": "execute_result"
    }
   ],
   "source": [
    "test.describe()"
   ]
  },
  {
   "cell_type": "markdown",
   "metadata": {},
   "source": [
    "mini_target = train.loc[:,['전력사용량(kWh)']].min()\n",
    "size_target = train.loc[:,['전력사용량(kWh)']].max()-train.loc[:,['전력사용량(kWh)']].min()\n",
    "train.loc[:,['전력사용량(kWh)']] = (train.loc[:,['전력사용량(kWh)']]-mini_target)/size_target"
   ]
  },
  {
   "cell_type": "markdown",
   "metadata": {},
   "source": [
    "mini_input1 = train.loc[:,['기온(°C)']].min()\n",
    "size_input1 = train.loc[:,['기온(°C)']].max()-train.loc[:,['기온(°C)']].min()\n",
    "train.loc[:,['기온(°C)']] = (train.loc[:,['기온(°C)']]-mini_input1)/size_input1"
   ]
  },
  {
   "cell_type": "markdown",
   "metadata": {},
   "source": [
    "mini_input2 = train.loc[:,['풍속(m/s)']].min()\n",
    "size_input2 = train.loc[:,['풍속(m/s)']].max()-train.loc[:,['풍속(m/s)']].min()\n",
    "train.loc[:,['풍속(m/s)']] = (train.loc[:,['풍속(m/s)']]-mini_input2)/size_input2"
   ]
  },
  {
   "cell_type": "markdown",
   "metadata": {},
   "source": [
    "mini_input3 = train.loc[:,['습도(%)']].min()\n",
    "size_input3 = train.loc[:,['습도(%)']].max()-train.loc[:,['습도(%)']].min()\n",
    "train.loc[:,['습도(%)']] = (train.loc[:,['습도(%)']]-mini_input3)/size_input3"
   ]
  },
  {
   "cell_type": "markdown",
   "metadata": {},
   "source": [
    "mini_input4 = train.loc[:,['강수량(mm)']].min()\n",
    "size_input4 = train.loc[:,['강수량(mm)']].max()-train.loc[:,['강수량(mm)']].min()\n",
    "train.loc[:,['강수량(mm)']] = (train.loc[:,['강수량(mm)']]-mini_input4)/size_input4"
   ]
  },
  {
   "cell_type": "markdown",
   "metadata": {},
   "source": [
    "mini_input5 = train.loc[:,['강수량(mm)']].min()\n",
    "size_input5 = train.loc[:,['강수량(mm)']].max()-train.loc[:,['강수량(mm)']].min()\n",
    "train.loc[:,['강수량(mm)']] = (train.loc[:,['강수량(mm)']]-mini_input5)/size_input5"
   ]
  },
  {
   "cell_type": "markdown",
   "metadata": {},
   "source": [
    "mini_input6 = train.loc[:,['time']].min()\n",
    "size_input6 = train.loc[:,['time']].max()-train.loc[:,['time']].min()\n",
    "train.loc[:,['time']] = (train.loc[:,['time']]-mini_input6)/size_input6"
   ]
  },
  {
   "cell_type": "markdown",
   "metadata": {},
   "source": [
    "mini_input7 = train.loc[:,['weekday']].min()\n",
    "size_input7 = train.loc[:,['weekday']].max()-train.loc[:,['weekday']].min()\n",
    "train.loc[:,['weekday']] = (train.loc[:,['weekday']]-mini_input7)/size_input7"
   ]
  },
  {
   "cell_type": "markdown",
   "metadata": {},
   "source": [
    "# Feature Selection"
   ]
  },
  {
   "cell_type": "code",
   "execution_count": 20,
   "metadata": {},
   "outputs": [],
   "source": [
    "train_x = train.drop(['date_time'], axis=1)"
   ]
  },
  {
   "cell_type": "code",
   "execution_count": 21,
   "metadata": {},
   "outputs": [],
   "source": [
    "train_x = train_x.rename({'전력사용량(kWh)':'feature_1', '기온(°C)': 'feature_2', '풍속(m/s)':'feature_3', '습도(%)':'feature_4', '강수량(mm)':'feature_5', '일조(hr)':'feature_6', '비전기냉방설비운영':'feature_7', '태양광보유':'feature_8', 'time':'feature_9', 'weekday':'feature_10', 'month':'feature_11', 'DI':'feature_12', 'feel_DI':'feature_13', '태양광':'feature_14'}, axis='columns')"
   ]
  },
  {
   "cell_type": "code",
   "execution_count": 22,
   "metadata": {
    "scrolled": false
   },
   "outputs": [
    {
     "data": {
      "text/html": [
       "<div>\n",
       "<style scoped>\n",
       "    .dataframe tbody tr th:only-of-type {\n",
       "        vertical-align: middle;\n",
       "    }\n",
       "\n",
       "    .dataframe tbody tr th {\n",
       "        vertical-align: top;\n",
       "    }\n",
       "\n",
       "    .dataframe thead th {\n",
       "        text-align: right;\n",
       "    }\n",
       "</style>\n",
       "<table border=\"1\" class=\"dataframe\">\n",
       "  <thead>\n",
       "    <tr style=\"text-align: right;\">\n",
       "      <th></th>\n",
       "      <th>num</th>\n",
       "      <th>feature_1</th>\n",
       "      <th>feature_2</th>\n",
       "      <th>feature_3</th>\n",
       "      <th>feature_4</th>\n",
       "      <th>feature_5</th>\n",
       "      <th>feature_6</th>\n",
       "      <th>feature_7</th>\n",
       "      <th>feature_8</th>\n",
       "      <th>feature_9</th>\n",
       "      <th>feature_10</th>\n",
       "      <th>feature_11</th>\n",
       "      <th>feature_12</th>\n",
       "      <th>feature_13</th>\n",
       "      <th>feature_14</th>\n",
       "    </tr>\n",
       "  </thead>\n",
       "  <tbody>\n",
       "    <tr>\n",
       "      <th>0</th>\n",
       "      <td>1</td>\n",
       "      <td>8179.056</td>\n",
       "      <td>17.6</td>\n",
       "      <td>2.5</td>\n",
       "      <td>92.0</td>\n",
       "      <td>0.8</td>\n",
       "      <td>0.0</td>\n",
       "      <td>0.0</td>\n",
       "      <td>0.0</td>\n",
       "      <td>0</td>\n",
       "      <td>0</td>\n",
       "      <td>6</td>\n",
       "      <td>63.43008</td>\n",
       "      <td>0</td>\n",
       "      <td>0.000000</td>\n",
       "    </tr>\n",
       "    <tr>\n",
       "      <th>1</th>\n",
       "      <td>1</td>\n",
       "      <td>8135.640</td>\n",
       "      <td>17.7</td>\n",
       "      <td>2.9</td>\n",
       "      <td>91.0</td>\n",
       "      <td>0.3</td>\n",
       "      <td>0.0</td>\n",
       "      <td>0.0</td>\n",
       "      <td>0.0</td>\n",
       "      <td>1</td>\n",
       "      <td>0</td>\n",
       "      <td>6</td>\n",
       "      <td>63.56993</td>\n",
       "      <td>0</td>\n",
       "      <td>0.000000</td>\n",
       "    </tr>\n",
       "    <tr>\n",
       "      <th>2</th>\n",
       "      <td>1</td>\n",
       "      <td>8107.128</td>\n",
       "      <td>17.5</td>\n",
       "      <td>3.2</td>\n",
       "      <td>91.0</td>\n",
       "      <td>0.0</td>\n",
       "      <td>0.0</td>\n",
       "      <td>0.0</td>\n",
       "      <td>0.0</td>\n",
       "      <td>2</td>\n",
       "      <td>0</td>\n",
       "      <td>6</td>\n",
       "      <td>63.22775</td>\n",
       "      <td>0</td>\n",
       "      <td>0.000000</td>\n",
       "    </tr>\n",
       "    <tr>\n",
       "      <th>3</th>\n",
       "      <td>1</td>\n",
       "      <td>8048.808</td>\n",
       "      <td>17.1</td>\n",
       "      <td>3.2</td>\n",
       "      <td>91.0</td>\n",
       "      <td>0.0</td>\n",
       "      <td>0.0</td>\n",
       "      <td>0.0</td>\n",
       "      <td>0.0</td>\n",
       "      <td>3</td>\n",
       "      <td>0</td>\n",
       "      <td>6</td>\n",
       "      <td>62.54339</td>\n",
       "      <td>0</td>\n",
       "      <td>0.000000</td>\n",
       "    </tr>\n",
       "    <tr>\n",
       "      <th>4</th>\n",
       "      <td>1</td>\n",
       "      <td>8043.624</td>\n",
       "      <td>17.0</td>\n",
       "      <td>3.3</td>\n",
       "      <td>92.0</td>\n",
       "      <td>0.0</td>\n",
       "      <td>0.0</td>\n",
       "      <td>0.0</td>\n",
       "      <td>0.0</td>\n",
       "      <td>4</td>\n",
       "      <td>0</td>\n",
       "      <td>6</td>\n",
       "      <td>62.39760</td>\n",
       "      <td>0</td>\n",
       "      <td>0.000000</td>\n",
       "    </tr>\n",
       "    <tr>\n",
       "      <th>...</th>\n",
       "      <td>...</td>\n",
       "      <td>...</td>\n",
       "      <td>...</td>\n",
       "      <td>...</td>\n",
       "      <td>...</td>\n",
       "      <td>...</td>\n",
       "      <td>...</td>\n",
       "      <td>...</td>\n",
       "      <td>...</td>\n",
       "      <td>...</td>\n",
       "      <td>...</td>\n",
       "      <td>...</td>\n",
       "      <td>...</td>\n",
       "      <td>...</td>\n",
       "      <td>...</td>\n",
       "    </tr>\n",
       "    <tr>\n",
       "      <th>122395</th>\n",
       "      <td>60</td>\n",
       "      <td>4114.368</td>\n",
       "      <td>27.8</td>\n",
       "      <td>2.3</td>\n",
       "      <td>68.0</td>\n",
       "      <td>0.0</td>\n",
       "      <td>0.7</td>\n",
       "      <td>1.0</td>\n",
       "      <td>1.0</td>\n",
       "      <td>19</td>\n",
       "      <td>0</td>\n",
       "      <td>8</td>\n",
       "      <td>77.80896</td>\n",
       "      <td>0</td>\n",
       "      <td>2.367647</td>\n",
       "    </tr>\n",
       "    <tr>\n",
       "      <th>122396</th>\n",
       "      <td>60</td>\n",
       "      <td>3975.696</td>\n",
       "      <td>27.3</td>\n",
       "      <td>1.2</td>\n",
       "      <td>71.0</td>\n",
       "      <td>0.0</td>\n",
       "      <td>0.0</td>\n",
       "      <td>1.0</td>\n",
       "      <td>1.0</td>\n",
       "      <td>20</td>\n",
       "      <td>0</td>\n",
       "      <td>8</td>\n",
       "      <td>77.44917</td>\n",
       "      <td>0</td>\n",
       "      <td>0.000000</td>\n",
       "    </tr>\n",
       "    <tr>\n",
       "      <th>122397</th>\n",
       "      <td>60</td>\n",
       "      <td>3572.208</td>\n",
       "      <td>27.3</td>\n",
       "      <td>1.8</td>\n",
       "      <td>71.0</td>\n",
       "      <td>0.0</td>\n",
       "      <td>0.0</td>\n",
       "      <td>1.0</td>\n",
       "      <td>1.0</td>\n",
       "      <td>21</td>\n",
       "      <td>0</td>\n",
       "      <td>8</td>\n",
       "      <td>77.44917</td>\n",
       "      <td>0</td>\n",
       "      <td>0.000000</td>\n",
       "    </tr>\n",
       "    <tr>\n",
       "      <th>122398</th>\n",
       "      <td>60</td>\n",
       "      <td>3299.184</td>\n",
       "      <td>27.1</td>\n",
       "      <td>1.8</td>\n",
       "      <td>74.0</td>\n",
       "      <td>0.0</td>\n",
       "      <td>0.0</td>\n",
       "      <td>1.0</td>\n",
       "      <td>1.0</td>\n",
       "      <td>22</td>\n",
       "      <td>0</td>\n",
       "      <td>8</td>\n",
       "      <td>77.52246</td>\n",
       "      <td>0</td>\n",
       "      <td>0.000000</td>\n",
       "    </tr>\n",
       "    <tr>\n",
       "      <th>122399</th>\n",
       "      <td>60</td>\n",
       "      <td>3204.576</td>\n",
       "      <td>27.1</td>\n",
       "      <td>2.6</td>\n",
       "      <td>75.0</td>\n",
       "      <td>0.0</td>\n",
       "      <td>0.0</td>\n",
       "      <td>1.0</td>\n",
       "      <td>1.0</td>\n",
       "      <td>23</td>\n",
       "      <td>0</td>\n",
       "      <td>8</td>\n",
       "      <td>77.64775</td>\n",
       "      <td>0</td>\n",
       "      <td>0.000000</td>\n",
       "    </tr>\n",
       "  </tbody>\n",
       "</table>\n",
       "<p>122400 rows × 15 columns</p>\n",
       "</div>"
      ],
      "text/plain": [
       "        num  feature_1  feature_2  feature_3  feature_4  feature_5  feature_6  \\\n",
       "0         1   8179.056       17.6        2.5       92.0        0.8        0.0   \n",
       "1         1   8135.640       17.7        2.9       91.0        0.3        0.0   \n",
       "2         1   8107.128       17.5        3.2       91.0        0.0        0.0   \n",
       "3         1   8048.808       17.1        3.2       91.0        0.0        0.0   \n",
       "4         1   8043.624       17.0        3.3       92.0        0.0        0.0   \n",
       "...     ...        ...        ...        ...        ...        ...        ...   \n",
       "122395   60   4114.368       27.8        2.3       68.0        0.0        0.7   \n",
       "122396   60   3975.696       27.3        1.2       71.0        0.0        0.0   \n",
       "122397   60   3572.208       27.3        1.8       71.0        0.0        0.0   \n",
       "122398   60   3299.184       27.1        1.8       74.0        0.0        0.0   \n",
       "122399   60   3204.576       27.1        2.6       75.0        0.0        0.0   \n",
       "\n",
       "        feature_7  feature_8  feature_9  feature_10  feature_11  feature_12  \\\n",
       "0             0.0        0.0          0           0           6    63.43008   \n",
       "1             0.0        0.0          1           0           6    63.56993   \n",
       "2             0.0        0.0          2           0           6    63.22775   \n",
       "3             0.0        0.0          3           0           6    62.54339   \n",
       "4             0.0        0.0          4           0           6    62.39760   \n",
       "...           ...        ...        ...         ...         ...         ...   \n",
       "122395        1.0        1.0         19           0           8    77.80896   \n",
       "122396        1.0        1.0         20           0           8    77.44917   \n",
       "122397        1.0        1.0         21           0           8    77.44917   \n",
       "122398        1.0        1.0         22           0           8    77.52246   \n",
       "122399        1.0        1.0         23           0           8    77.64775   \n",
       "\n",
       "        feature_13  feature_14  \n",
       "0                0    0.000000  \n",
       "1                0    0.000000  \n",
       "2                0    0.000000  \n",
       "3                0    0.000000  \n",
       "4                0    0.000000  \n",
       "...            ...         ...  \n",
       "122395           0    2.367647  \n",
       "122396           0    0.000000  \n",
       "122397           0    0.000000  \n",
       "122398           0    0.000000  \n",
       "122399           0    0.000000  \n",
       "\n",
       "[122400 rows x 15 columns]"
      ]
     },
     "execution_count": 22,
     "metadata": {},
     "output_type": "execute_result"
    }
   ],
   "source": [
    "train_x"
   ]
  },
  {
   "cell_type": "code",
   "execution_count": 23,
   "metadata": {},
   "outputs": [],
   "source": [
    "test_x = test.drop(['date_time'], axis=1)"
   ]
  },
  {
   "cell_type": "code",
   "execution_count": 24,
   "metadata": {},
   "outputs": [],
   "source": [
    "test_x = test_x.rename({'기온(°C)': 'feature_2', '풍속(m/s)':'feature_3', '습도(%)':'feature_4', '강수량(mm, 6시간)':'feature_5', '일조(hr, 3시간)':'feature_6', '비전기냉방설비운영':'feature_7', '태양광보유':'feature_8', 'time':'feature_9', 'weekday':'feature_10', 'month':'feature_11', 'DI':'feature_12', 'feel_DI':'feature_13', '태양광':'feature_14'}, axis='columns')"
   ]
  },
  {
   "cell_type": "code",
   "execution_count": 25,
   "metadata": {},
   "outputs": [
    {
     "data": {
      "text/html": [
       "<div>\n",
       "<style scoped>\n",
       "    .dataframe tbody tr th:only-of-type {\n",
       "        vertical-align: middle;\n",
       "    }\n",
       "\n",
       "    .dataframe tbody tr th {\n",
       "        vertical-align: top;\n",
       "    }\n",
       "\n",
       "    .dataframe thead th {\n",
       "        text-align: right;\n",
       "    }\n",
       "</style>\n",
       "<table border=\"1\" class=\"dataframe\">\n",
       "  <thead>\n",
       "    <tr style=\"text-align: right;\">\n",
       "      <th></th>\n",
       "      <th>num</th>\n",
       "      <th>feature_2</th>\n",
       "      <th>feature_3</th>\n",
       "      <th>feature_4</th>\n",
       "      <th>feature_5</th>\n",
       "      <th>feature_6</th>\n",
       "      <th>feature_7</th>\n",
       "      <th>feature_8</th>\n",
       "      <th>feature_9</th>\n",
       "      <th>feature_10</th>\n",
       "      <th>feature_11</th>\n",
       "      <th>feature_12</th>\n",
       "      <th>feature_13</th>\n",
       "      <th>feature_14</th>\n",
       "    </tr>\n",
       "  </thead>\n",
       "  <tbody>\n",
       "    <tr>\n",
       "      <th>0</th>\n",
       "      <td>1</td>\n",
       "      <td>27.800000</td>\n",
       "      <td>1.500000</td>\n",
       "      <td>74.000000</td>\n",
       "      <td>0.0</td>\n",
       "      <td>0.000000</td>\n",
       "      <td>0.0</td>\n",
       "      <td>0.0</td>\n",
       "      <td>0</td>\n",
       "      <td>1</td>\n",
       "      <td>8</td>\n",
       "      <td>80.982240</td>\n",
       "      <td>1</td>\n",
       "      <td>0.000000</td>\n",
       "    </tr>\n",
       "    <tr>\n",
       "      <th>1</th>\n",
       "      <td>1</td>\n",
       "      <td>27.633333</td>\n",
       "      <td>1.366667</td>\n",
       "      <td>75.333333</td>\n",
       "      <td>0.0</td>\n",
       "      <td>0.000000</td>\n",
       "      <td>0.0</td>\n",
       "      <td>0.0</td>\n",
       "      <td>1</td>\n",
       "      <td>1</td>\n",
       "      <td>8</td>\n",
       "      <td>80.653017</td>\n",
       "      <td>0</td>\n",
       "      <td>0.000000</td>\n",
       "    </tr>\n",
       "    <tr>\n",
       "      <th>2</th>\n",
       "      <td>1</td>\n",
       "      <td>27.466667</td>\n",
       "      <td>1.233333</td>\n",
       "      <td>76.666667</td>\n",
       "      <td>0.0</td>\n",
       "      <td>0.000000</td>\n",
       "      <td>0.0</td>\n",
       "      <td>0.0</td>\n",
       "      <td>2</td>\n",
       "      <td>1</td>\n",
       "      <td>8</td>\n",
       "      <td>80.323793</td>\n",
       "      <td>0</td>\n",
       "      <td>0.000000</td>\n",
       "    </tr>\n",
       "    <tr>\n",
       "      <th>3</th>\n",
       "      <td>1</td>\n",
       "      <td>27.300000</td>\n",
       "      <td>1.100000</td>\n",
       "      <td>78.000000</td>\n",
       "      <td>0.0</td>\n",
       "      <td>0.000000</td>\n",
       "      <td>0.0</td>\n",
       "      <td>0.0</td>\n",
       "      <td>3</td>\n",
       "      <td>1</td>\n",
       "      <td>8</td>\n",
       "      <td>79.994570</td>\n",
       "      <td>0</td>\n",
       "      <td>0.000000</td>\n",
       "    </tr>\n",
       "    <tr>\n",
       "      <th>4</th>\n",
       "      <td>1</td>\n",
       "      <td>26.900000</td>\n",
       "      <td>1.166667</td>\n",
       "      <td>79.666667</td>\n",
       "      <td>0.0</td>\n",
       "      <td>0.000000</td>\n",
       "      <td>0.0</td>\n",
       "      <td>0.0</td>\n",
       "      <td>4</td>\n",
       "      <td>1</td>\n",
       "      <td>8</td>\n",
       "      <td>79.271747</td>\n",
       "      <td>0</td>\n",
       "      <td>0.000000</td>\n",
       "    </tr>\n",
       "    <tr>\n",
       "      <th>...</th>\n",
       "      <td>...</td>\n",
       "      <td>...</td>\n",
       "      <td>...</td>\n",
       "      <td>...</td>\n",
       "      <td>...</td>\n",
       "      <td>...</td>\n",
       "      <td>...</td>\n",
       "      <td>...</td>\n",
       "      <td>...</td>\n",
       "      <td>...</td>\n",
       "      <td>...</td>\n",
       "      <td>...</td>\n",
       "      <td>...</td>\n",
       "      <td>...</td>\n",
       "    </tr>\n",
       "    <tr>\n",
       "      <th>10075</th>\n",
       "      <td>60</td>\n",
       "      <td>28.633333</td>\n",
       "      <td>3.566667</td>\n",
       "      <td>66.000000</td>\n",
       "      <td>0.0</td>\n",
       "      <td>0.533333</td>\n",
       "      <td>1.0</td>\n",
       "      <td>1.0</td>\n",
       "      <td>19</td>\n",
       "      <td>0</td>\n",
       "      <td>8</td>\n",
       "      <td>80.088017</td>\n",
       "      <td>0</td>\n",
       "      <td>4.061538</td>\n",
       "    </tr>\n",
       "    <tr>\n",
       "      <th>10076</th>\n",
       "      <td>60</td>\n",
       "      <td>28.266667</td>\n",
       "      <td>3.833333</td>\n",
       "      <td>67.000000</td>\n",
       "      <td>0.0</td>\n",
       "      <td>0.266667</td>\n",
       "      <td>1.0</td>\n",
       "      <td>1.0</td>\n",
       "      <td>20</td>\n",
       "      <td>0</td>\n",
       "      <td>8</td>\n",
       "      <td>80.154933</td>\n",
       "      <td>0</td>\n",
       "      <td>4.061538</td>\n",
       "    </tr>\n",
       "    <tr>\n",
       "      <th>10077</th>\n",
       "      <td>60</td>\n",
       "      <td>27.900000</td>\n",
       "      <td>4.100000</td>\n",
       "      <td>68.000000</td>\n",
       "      <td>0.0</td>\n",
       "      <td>0.000000</td>\n",
       "      <td>1.0</td>\n",
       "      <td>1.0</td>\n",
       "      <td>21</td>\n",
       "      <td>0</td>\n",
       "      <td>8</td>\n",
       "      <td>80.221850</td>\n",
       "      <td>1</td>\n",
       "      <td>4.061538</td>\n",
       "    </tr>\n",
       "    <tr>\n",
       "      <th>10078</th>\n",
       "      <td>60</td>\n",
       "      <td>27.900000</td>\n",
       "      <td>4.100000</td>\n",
       "      <td>68.000000</td>\n",
       "      <td>0.0</td>\n",
       "      <td>0.000000</td>\n",
       "      <td>1.0</td>\n",
       "      <td>1.0</td>\n",
       "      <td>22</td>\n",
       "      <td>0</td>\n",
       "      <td>8</td>\n",
       "      <td>80.221850</td>\n",
       "      <td>0</td>\n",
       "      <td>4.061538</td>\n",
       "    </tr>\n",
       "    <tr>\n",
       "      <th>10079</th>\n",
       "      <td>60</td>\n",
       "      <td>27.900000</td>\n",
       "      <td>4.100000</td>\n",
       "      <td>68.000000</td>\n",
       "      <td>0.0</td>\n",
       "      <td>0.000000</td>\n",
       "      <td>1.0</td>\n",
       "      <td>1.0</td>\n",
       "      <td>23</td>\n",
       "      <td>0</td>\n",
       "      <td>8</td>\n",
       "      <td>80.221850</td>\n",
       "      <td>0</td>\n",
       "      <td>4.061538</td>\n",
       "    </tr>\n",
       "  </tbody>\n",
       "</table>\n",
       "<p>10080 rows × 14 columns</p>\n",
       "</div>"
      ],
      "text/plain": [
       "       num  feature_2  feature_3  feature_4  feature_5  feature_6  feature_7  \\\n",
       "0        1  27.800000   1.500000  74.000000        0.0   0.000000        0.0   \n",
       "1        1  27.633333   1.366667  75.333333        0.0   0.000000        0.0   \n",
       "2        1  27.466667   1.233333  76.666667        0.0   0.000000        0.0   \n",
       "3        1  27.300000   1.100000  78.000000        0.0   0.000000        0.0   \n",
       "4        1  26.900000   1.166667  79.666667        0.0   0.000000        0.0   \n",
       "...    ...        ...        ...        ...        ...        ...        ...   \n",
       "10075   60  28.633333   3.566667  66.000000        0.0   0.533333        1.0   \n",
       "10076   60  28.266667   3.833333  67.000000        0.0   0.266667        1.0   \n",
       "10077   60  27.900000   4.100000  68.000000        0.0   0.000000        1.0   \n",
       "10078   60  27.900000   4.100000  68.000000        0.0   0.000000        1.0   \n",
       "10079   60  27.900000   4.100000  68.000000        0.0   0.000000        1.0   \n",
       "\n",
       "       feature_8  feature_9  feature_10  feature_11  feature_12  feature_13  \\\n",
       "0            0.0          0           1           8   80.982240           1   \n",
       "1            0.0          1           1           8   80.653017           0   \n",
       "2            0.0          2           1           8   80.323793           0   \n",
       "3            0.0          3           1           8   79.994570           0   \n",
       "4            0.0          4           1           8   79.271747           0   \n",
       "...          ...        ...         ...         ...         ...         ...   \n",
       "10075        1.0         19           0           8   80.088017           0   \n",
       "10076        1.0         20           0           8   80.154933           0   \n",
       "10077        1.0         21           0           8   80.221850           1   \n",
       "10078        1.0         22           0           8   80.221850           0   \n",
       "10079        1.0         23           0           8   80.221850           0   \n",
       "\n",
       "       feature_14  \n",
       "0        0.000000  \n",
       "1        0.000000  \n",
       "2        0.000000  \n",
       "3        0.000000  \n",
       "4        0.000000  \n",
       "...           ...  \n",
       "10075    4.061538  \n",
       "10076    4.061538  \n",
       "10077    4.061538  \n",
       "10078    4.061538  \n",
       "10079    4.061538  \n",
       "\n",
       "[10080 rows x 14 columns]"
      ]
     },
     "execution_count": 25,
     "metadata": {},
     "output_type": "execute_result"
    }
   ],
   "source": [
    "test_x"
   ]
  },
  {
   "cell_type": "markdown",
   "metadata": {},
   "source": [
    "# Training"
   ]
  },
  {
   "cell_type": "code",
   "execution_count": 26,
   "metadata": {
    "scrolled": true
   },
   "outputs": [
    {
     "name": "stderr",
     "output_type": "stream",
     "text": [
      "\r",
      "  0%|                                                                                           | 0/60 [00:00<?, ?it/s]"
     ]
    },
    {
     "name": "stdout",
     "output_type": "stream",
     "text": [
      "\n",
      "22:37:16.678: AutoML: XGBoost is not available; skipping it.\n",
      "\n"
     ]
    },
    {
     "data": {
      "text/html": [
       "<table>\n",
       "<thead>\n",
       "<tr><th>model_id                                           </th><th style=\"text-align: right;\">  mean_residual_deviance</th><th style=\"text-align: right;\">    rmse</th><th style=\"text-align: right;\">     mse</th><th style=\"text-align: right;\">    mae</th><th style=\"text-align: right;\">     rmsle</th></tr>\n",
       "</thead>\n",
       "<tbody>\n",
       "<tr><td>GBM_4_AutoML_20210530_223716                       </td><td style=\"text-align: right;\">                 1951.55</td><td style=\"text-align: right;\"> 44.1764</td><td style=\"text-align: right;\"> 1951.55</td><td style=\"text-align: right;\">28.2218</td><td style=\"text-align: right;\">0.00524345</td></tr>\n",
       "<tr><td>GBM_grid__1_AutoML_20210530_223716_model_3         </td><td style=\"text-align: right;\">                 2040.08</td><td style=\"text-align: right;\"> 45.1673</td><td style=\"text-align: right;\"> 2040.08</td><td style=\"text-align: right;\">28.9922</td><td style=\"text-align: right;\">0.00536155</td></tr>\n",
       "<tr><td>DRF_1_AutoML_20210530_223716                       </td><td style=\"text-align: right;\">                 2068.84</td><td style=\"text-align: right;\"> 45.4846</td><td style=\"text-align: right;\"> 2068.84</td><td style=\"text-align: right;\">28.8168</td><td style=\"text-align: right;\">0.00540163</td></tr>\n",
       "<tr><td>GBM_3_AutoML_20210530_223716                       </td><td style=\"text-align: right;\">                 2072.88</td><td style=\"text-align: right;\"> 45.5289</td><td style=\"text-align: right;\"> 2072.88</td><td style=\"text-align: right;\">29.1328</td><td style=\"text-align: right;\">0.00540531</td></tr>\n",
       "<tr><td>GBM_1_AutoML_20210530_223716                       </td><td style=\"text-align: right;\">                 2076.78</td><td style=\"text-align: right;\"> 45.5717</td><td style=\"text-align: right;\"> 2076.78</td><td style=\"text-align: right;\">28.9259</td><td style=\"text-align: right;\">0.00540621</td></tr>\n",
       "<tr><td>GBM_2_AutoML_20210530_223716                       </td><td style=\"text-align: right;\">                 2109.94</td><td style=\"text-align: right;\"> 45.9341</td><td style=\"text-align: right;\"> 2109.94</td><td style=\"text-align: right;\">29.4859</td><td style=\"text-align: right;\">0.0054509 </td></tr>\n",
       "<tr><td>GBM_grid__1_AutoML_20210530_223716_model_1         </td><td style=\"text-align: right;\">                 2135.86</td><td style=\"text-align: right;\"> 46.2154</td><td style=\"text-align: right;\"> 2135.86</td><td style=\"text-align: right;\">29.3913</td><td style=\"text-align: right;\">0.00549115</td></tr>\n",
       "<tr><td>GBM_grid__1_AutoML_20210530_223716_model_5         </td><td style=\"text-align: right;\">                 2179.72</td><td style=\"text-align: right;\"> 46.6875</td><td style=\"text-align: right;\"> 2179.72</td><td style=\"text-align: right;\">30.2528</td><td style=\"text-align: right;\">0.00554373</td></tr>\n",
       "<tr><td>GBM_grid__1_AutoML_20210530_223716_model_2         </td><td style=\"text-align: right;\">                 2187.9 </td><td style=\"text-align: right;\"> 46.7749</td><td style=\"text-align: right;\"> 2187.9 </td><td style=\"text-align: right;\">29.8413</td><td style=\"text-align: right;\">0.00556076</td></tr>\n",
       "<tr><td>XRT_1_AutoML_20210530_223716                       </td><td style=\"text-align: right;\">                 2222.31</td><td style=\"text-align: right;\"> 47.1414</td><td style=\"text-align: right;\"> 2222.31</td><td style=\"text-align: right;\">30.9017</td><td style=\"text-align: right;\">0.00559919</td></tr>\n",
       "<tr><td>GBM_grid__1_AutoML_20210530_223716_model_7         </td><td style=\"text-align: right;\">                 2237.39</td><td style=\"text-align: right;\"> 47.3011</td><td style=\"text-align: right;\"> 2237.39</td><td style=\"text-align: right;\">30.6022</td><td style=\"text-align: right;\">0.00561612</td></tr>\n",
       "<tr><td>GBM_grid__1_AutoML_20210530_223716_model_4         </td><td style=\"text-align: right;\">                 2400.57</td><td style=\"text-align: right;\"> 48.9956</td><td style=\"text-align: right;\"> 2400.57</td><td style=\"text-align: right;\">31.8675</td><td style=\"text-align: right;\">0.00582664</td></tr>\n",
       "<tr><td>GBM_5_AutoML_20210530_223716                       </td><td style=\"text-align: right;\">                 4025.87</td><td style=\"text-align: right;\"> 63.4497</td><td style=\"text-align: right;\"> 4025.87</td><td style=\"text-align: right;\">40.1788</td><td style=\"text-align: right;\">0.00761442</td></tr>\n",
       "<tr><td>DeepLearning_grid__2_AutoML_20210530_223716_model_1</td><td style=\"text-align: right;\">                 4214.4 </td><td style=\"text-align: right;\"> 64.9184</td><td style=\"text-align: right;\"> 4214.4 </td><td style=\"text-align: right;\">44.1491</td><td style=\"text-align: right;\">0.0077208 </td></tr>\n",
       "<tr><td>GBM_grid__1_AutoML_20210530_223716_model_6         </td><td style=\"text-align: right;\">                 4807.6 </td><td style=\"text-align: right;\"> 69.3368</td><td style=\"text-align: right;\"> 4807.6 </td><td style=\"text-align: right;\">43.4641</td><td style=\"text-align: right;\">0.00832895</td></tr>\n",
       "<tr><td>DeepLearning_grid__3_AutoML_20210530_223716_model_2</td><td style=\"text-align: right;\">                 4827.21</td><td style=\"text-align: right;\"> 69.4782</td><td style=\"text-align: right;\"> 4827.21</td><td style=\"text-align: right;\">45.5092</td><td style=\"text-align: right;\">0.00830088</td></tr>\n",
       "<tr><td>GBM_grid__1_AutoML_20210530_223716_model_8         </td><td style=\"text-align: right;\">                 5733.08</td><td style=\"text-align: right;\"> 75.7171</td><td style=\"text-align: right;\"> 5733.08</td><td style=\"text-align: right;\">46.8276</td><td style=\"text-align: right;\">0.00909879</td></tr>\n",
       "<tr><td>DeepLearning_grid__2_AutoML_20210530_223716_model_2</td><td style=\"text-align: right;\">                 5797.82</td><td style=\"text-align: right;\"> 76.1434</td><td style=\"text-align: right;\"> 5797.82</td><td style=\"text-align: right;\">51.7217</td><td style=\"text-align: right;\">0.0091018 </td></tr>\n",
       "<tr><td>DeepLearning_grid__1_AutoML_20210530_223716_model_1</td><td style=\"text-align: right;\">                 6114.23</td><td style=\"text-align: right;\"> 78.1935</td><td style=\"text-align: right;\"> 6114.23</td><td style=\"text-align: right;\">58.4563</td><td style=\"text-align: right;\">0.00927012</td></tr>\n",
       "<tr><td>GLM_1_AutoML_20210530_223716                       </td><td style=\"text-align: right;\">                 6757.23</td><td style=\"text-align: right;\"> 82.2024</td><td style=\"text-align: right;\"> 6757.23</td><td style=\"text-align: right;\">57.3946</td><td style=\"text-align: right;\">0.00982894</td></tr>\n",
       "<tr><td>DeepLearning_grid__1_AutoML_20210530_223716_model_2</td><td style=\"text-align: right;\">                 7514.14</td><td style=\"text-align: right;\"> 86.6841</td><td style=\"text-align: right;\"> 7514.14</td><td style=\"text-align: right;\">56.7685</td><td style=\"text-align: right;\">0.0103771 </td></tr>\n",
       "<tr><td>DeepLearning_grid__2_AutoML_20210530_223716_model_3</td><td style=\"text-align: right;\">                 7589.05</td><td style=\"text-align: right;\"> 87.1152</td><td style=\"text-align: right;\"> 7589.05</td><td style=\"text-align: right;\">64.4491</td><td style=\"text-align: right;\">0.0103707 </td></tr>\n",
       "<tr><td>DeepLearning_grid__1_AutoML_20210530_223716_model_3</td><td style=\"text-align: right;\">                 8036.94</td><td style=\"text-align: right;\"> 89.649 </td><td style=\"text-align: right;\"> 8036.94</td><td style=\"text-align: right;\">59.2528</td><td style=\"text-align: right;\">0.0107256 </td></tr>\n",
       "<tr><td>DeepLearning_1_AutoML_20210530_223716              </td><td style=\"text-align: right;\">                 8797.2 </td><td style=\"text-align: right;\"> 93.7934</td><td style=\"text-align: right;\"> 8797.2 </td><td style=\"text-align: right;\">67.1639</td><td style=\"text-align: right;\">0.0111693 </td></tr>\n",
       "<tr><td>DeepLearning_grid__3_AutoML_20210530_223716_model_1</td><td style=\"text-align: right;\">                10024.1 </td><td style=\"text-align: right;\">100.12  </td><td style=\"text-align: right;\">10024.1 </td><td style=\"text-align: right;\">61.6786</td><td style=\"text-align: right;\">0.0119669 </td></tr>\n",
       "<tr><td>StackedEnsemble_BestOfFamily_AutoML_20210530_223716</td><td style=\"text-align: right;\">                14313.9 </td><td style=\"text-align: right;\">119.641 </td><td style=\"text-align: right;\">14313.9 </td><td style=\"text-align: right;\">80.3346</td><td style=\"text-align: right;\">0.0142371 </td></tr>\n",
       "<tr><td>StackedEnsemble_AllModels_AutoML_20210530_223716   </td><td style=\"text-align: right;\">                14315.3 </td><td style=\"text-align: right;\">119.647 </td><td style=\"text-align: right;\">14315.3 </td><td style=\"text-align: right;\">80.3136</td><td style=\"text-align: right;\">0.0142378 </td></tr>\n",
       "</tbody>\n",
       "</table>"
      ]
     },
     "metadata": {},
     "output_type": "display_data"
    },
    {
     "name": "stdout",
     "output_type": "stream",
     "text": [
      "\n",
      "num :  1\n",
      "pred :  168\n"
     ]
    },
    {
     "name": "stderr",
     "output_type": "stream",
     "text": [
      "\r",
      "  2%|█▎                                                                            | 1/60 [16:51<16:35:00, 1011.87s/it]"
     ]
    },
    {
     "name": "stdout",
     "output_type": "stream",
     "text": [
      "\n",
      "22:54:07.949: AutoML: XGBoost is not available; skipping it.\n",
      "\n"
     ]
    },
    {
     "data": {
      "text/html": [
       "<table>\n",
       "<thead>\n",
       "<tr><th>model_id                                           </th><th style=\"text-align: right;\">  mean_residual_deviance</th><th style=\"text-align: right;\">    rmse</th><th style=\"text-align: right;\">     mse</th><th style=\"text-align: right;\">     mae</th><th style=\"text-align: right;\">      rmsle</th></tr>\n",
       "</thead>\n",
       "<tbody>\n",
       "<tr><td>StackedEnsemble_AllModels_AutoML_20210530_225407   </td><td style=\"text-align: right;\">                 2878.43</td><td style=\"text-align: right;\"> 53.651 </td><td style=\"text-align: right;\"> 2878.43</td><td style=\"text-align: right;\"> 31.9009</td><td style=\"text-align: right;\">  0.0360714</td></tr>\n",
       "<tr><td>StackedEnsemble_BestOfFamily_AutoML_20210530_225407</td><td style=\"text-align: right;\">                 2889.19</td><td style=\"text-align: right;\"> 53.7512</td><td style=\"text-align: right;\"> 2889.19</td><td style=\"text-align: right;\"> 31.9453</td><td style=\"text-align: right;\">  0.0361725</td></tr>\n",
       "<tr><td>GBM_grid__1_AutoML_20210530_225407_model_4         </td><td style=\"text-align: right;\">                 2896.28</td><td style=\"text-align: right;\"> 53.8171</td><td style=\"text-align: right;\"> 2896.28</td><td style=\"text-align: right;\"> 32.2456</td><td style=\"text-align: right;\">  0.0362718</td></tr>\n",
       "<tr><td>GBM_3_AutoML_20210530_225407                       </td><td style=\"text-align: right;\">                 3026.78</td><td style=\"text-align: right;\"> 55.0162</td><td style=\"text-align: right;\"> 3026.78</td><td style=\"text-align: right;\"> 32.8597</td><td style=\"text-align: right;\">  0.0368757</td></tr>\n",
       "<tr><td>GBM_grid__1_AutoML_20210530_225407_model_2         </td><td style=\"text-align: right;\">                 3237.95</td><td style=\"text-align: right;\"> 56.903 </td><td style=\"text-align: right;\"> 3237.95</td><td style=\"text-align: right;\"> 34.3619</td><td style=\"text-align: right;\">  0.0383963</td></tr>\n",
       "<tr><td>GBM_4_AutoML_20210530_225407                       </td><td style=\"text-align: right;\">                 3289.46</td><td style=\"text-align: right;\"> 57.3538</td><td style=\"text-align: right;\"> 3289.46</td><td style=\"text-align: right;\"> 35.0557</td><td style=\"text-align: right;\">  0.038844 </td></tr>\n",
       "<tr><td>GBM_1_AutoML_20210530_225407                       </td><td style=\"text-align: right;\">                 3475.9 </td><td style=\"text-align: right;\"> 58.9568</td><td style=\"text-align: right;\"> 3475.9 </td><td style=\"text-align: right;\"> 33.184 </td><td style=\"text-align: right;\">  0.0388548</td></tr>\n",
       "<tr><td>GBM_grid__1_AutoML_20210530_225407_model_7         </td><td style=\"text-align: right;\">                 3491   </td><td style=\"text-align: right;\"> 59.0847</td><td style=\"text-align: right;\"> 3491   </td><td style=\"text-align: right;\"> 36.0026</td><td style=\"text-align: right;\">  0.0396137</td></tr>\n",
       "<tr><td>GBM_5_AutoML_20210530_225407                       </td><td style=\"text-align: right;\">                 3625.47</td><td style=\"text-align: right;\"> 60.2119</td><td style=\"text-align: right;\"> 3625.47</td><td style=\"text-align: right;\"> 39.1627</td><td style=\"text-align: right;\">  0.0416978</td></tr>\n",
       "<tr><td>GBM_2_AutoML_20210530_225407                       </td><td style=\"text-align: right;\">                 3697.15</td><td style=\"text-align: right;\"> 60.8042</td><td style=\"text-align: right;\"> 3697.15</td><td style=\"text-align: right;\"> 37.9321</td><td style=\"text-align: right;\">  0.0412521</td></tr>\n",
       "<tr><td>GBM_grid__1_AutoML_20210530_225407_model_5         </td><td style=\"text-align: right;\">                 3715.31</td><td style=\"text-align: right;\"> 60.9533</td><td style=\"text-align: right;\"> 3715.31</td><td style=\"text-align: right;\"> 38.6672</td><td style=\"text-align: right;\">  0.041518 </td></tr>\n",
       "<tr><td>GBM_grid__1_AutoML_20210530_225407_model_3         </td><td style=\"text-align: right;\">                 3743.3 </td><td style=\"text-align: right;\"> 61.1825</td><td style=\"text-align: right;\"> 3743.3 </td><td style=\"text-align: right;\"> 38.918 </td><td style=\"text-align: right;\">  0.0415111</td></tr>\n",
       "<tr><td>GBM_grid__1_AutoML_20210530_225407_model_1         </td><td style=\"text-align: right;\">                 3771.53</td><td style=\"text-align: right;\"> 61.4128</td><td style=\"text-align: right;\"> 3771.53</td><td style=\"text-align: right;\"> 39.3125</td><td style=\"text-align: right;\">  0.0421674</td></tr>\n",
       "<tr><td>GBM_grid__1_AutoML_20210530_225407_model_6         </td><td style=\"text-align: right;\">                 3827.89</td><td style=\"text-align: right;\"> 61.87  </td><td style=\"text-align: right;\"> 3827.89</td><td style=\"text-align: right;\"> 40.1077</td><td style=\"text-align: right;\">  0.0425357</td></tr>\n",
       "<tr><td>DRF_1_AutoML_20210530_225407                       </td><td style=\"text-align: right;\">                 4067.7 </td><td style=\"text-align: right;\"> 63.7785</td><td style=\"text-align: right;\"> 4067.7 </td><td style=\"text-align: right;\"> 38.706 </td><td style=\"text-align: right;\">  0.0428803</td></tr>\n",
       "<tr><td>XRT_1_AutoML_20210530_225407                       </td><td style=\"text-align: right;\">                 6076.46</td><td style=\"text-align: right;\"> 77.9516</td><td style=\"text-align: right;\"> 6076.46</td><td style=\"text-align: right;\"> 51.2139</td><td style=\"text-align: right;\">  0.0533214</td></tr>\n",
       "<tr><td>DeepLearning_grid__3_AutoML_20210530_225407_model_2</td><td style=\"text-align: right;\">                 7697.19</td><td style=\"text-align: right;\"> 87.7336</td><td style=\"text-align: right;\"> 7697.19</td><td style=\"text-align: right;\"> 57.6574</td><td style=\"text-align: right;\">  0.0600949</td></tr>\n",
       "<tr><td>GBM_grid__1_AutoML_20210530_225407_model_8         </td><td style=\"text-align: right;\">                 9086.44</td><td style=\"text-align: right;\"> 95.3228</td><td style=\"text-align: right;\"> 9086.44</td><td style=\"text-align: right;\"> 71.4471</td><td style=\"text-align: right;\">  0.0708517</td></tr>\n",
       "<tr><td>DeepLearning_grid__2_AutoML_20210530_225407_model_2</td><td style=\"text-align: right;\">                 9626.85</td><td style=\"text-align: right;\"> 98.1165</td><td style=\"text-align: right;\"> 9626.85</td><td style=\"text-align: right;\"> 66.7461</td><td style=\"text-align: right;\">  0.0669672</td></tr>\n",
       "<tr><td>DeepLearning_grid__2_AutoML_20210530_225407_model_1</td><td style=\"text-align: right;\">                12309.8 </td><td style=\"text-align: right;\">110.95  </td><td style=\"text-align: right;\">12309.8 </td><td style=\"text-align: right;\"> 80.3146</td><td style=\"text-align: right;\">  0.0794981</td></tr>\n",
       "<tr><td>DeepLearning_grid__3_AutoML_20210530_225407_model_1</td><td style=\"text-align: right;\">                14739.5 </td><td style=\"text-align: right;\">121.406 </td><td style=\"text-align: right;\">14739.5 </td><td style=\"text-align: right;\"> 86.6716</td><td style=\"text-align: right;\">  0.0846951</td></tr>\n",
       "<tr><td>DeepLearning_grid__1_AutoML_20210530_225407_model_1</td><td style=\"text-align: right;\">                16295.7 </td><td style=\"text-align: right;\">127.654 </td><td style=\"text-align: right;\">16295.7 </td><td style=\"text-align: right;\"> 93.2853</td><td style=\"text-align: right;\">  0.0956065</td></tr>\n",
       "<tr><td>DeepLearning_1_AutoML_20210530_225407              </td><td style=\"text-align: right;\">                20498.4 </td><td style=\"text-align: right;\">143.172 </td><td style=\"text-align: right;\">20498.4 </td><td style=\"text-align: right;\">109.339 </td><td style=\"text-align: right;\">  0.106891 </td></tr>\n",
       "<tr><td>DeepLearning_grid__1_AutoML_20210530_225407_model_2</td><td style=\"text-align: right;\">                26539.2 </td><td style=\"text-align: right;\">162.909 </td><td style=\"text-align: right;\">26539.2 </td><td style=\"text-align: right;\">117.8   </td><td style=\"text-align: right;\">nan        </td></tr>\n",
       "<tr><td>DeepLearning_grid__2_AutoML_20210530_225407_model_3</td><td style=\"text-align: right;\">                26570.8 </td><td style=\"text-align: right;\">163.006 </td><td style=\"text-align: right;\">26570.8 </td><td style=\"text-align: right;\">115.939 </td><td style=\"text-align: right;\">  0.107151 </td></tr>\n",
       "<tr><td>DeepLearning_grid__1_AutoML_20210530_225407_model_3</td><td style=\"text-align: right;\">                32520.3 </td><td style=\"text-align: right;\">180.334 </td><td style=\"text-align: right;\">32520.3 </td><td style=\"text-align: right;\">144.097 </td><td style=\"text-align: right;\">  0.1287   </td></tr>\n",
       "<tr><td>GLM_1_AutoML_20210530_225407                       </td><td style=\"text-align: right;\">                66211.3 </td><td style=\"text-align: right;\">257.316 </td><td style=\"text-align: right;\">66211.3 </td><td style=\"text-align: right;\">208.252 </td><td style=\"text-align: right;\">  0.18662  </td></tr>\n",
       "</tbody>\n",
       "</table>"
      ]
     },
     "metadata": {},
     "output_type": "display_data"
    },
    {
     "name": "stdout",
     "output_type": "stream",
     "text": [
      "\n",
      "num :  2\n",
      "pred :  336\n"
     ]
    },
    {
     "name": "stderr",
     "output_type": "stream",
     "text": [
      "\r",
      "  3%|██▌                                                                           | 2/60 [34:59<16:40:04, 1034.55s/it]"
     ]
    },
    {
     "name": "stdout",
     "output_type": "stream",
     "text": [
      "\n",
      "23:12:15.640: AutoML: XGBoost is not available; skipping it.\n",
      "\n"
     ]
    },
    {
     "data": {
      "text/html": [
       "<table>\n",
       "<thead>\n",
       "<tr><th>model_id                                           </th><th style=\"text-align: right;\">  mean_residual_deviance</th><th style=\"text-align: right;\">    rmse</th><th style=\"text-align: right;\">     mse</th><th style=\"text-align: right;\">     mae</th><th style=\"text-align: right;\">    rmsle</th></tr>\n",
       "</thead>\n",
       "<tbody>\n",
       "<tr><td>GBM_3_AutoML_20210530_231215                       </td><td style=\"text-align: right;\">                 9987.14</td><td style=\"text-align: right;\"> 99.9357</td><td style=\"text-align: right;\"> 9987.14</td><td style=\"text-align: right;\"> 62.5981</td><td style=\"text-align: right;\">0.0295817</td></tr>\n",
       "<tr><td>GBM_2_AutoML_20210530_231215                       </td><td style=\"text-align: right;\">                10070.7 </td><td style=\"text-align: right;\">100.353 </td><td style=\"text-align: right;\">10070.7 </td><td style=\"text-align: right;\"> 63.6243</td><td style=\"text-align: right;\">0.0297219</td></tr>\n",
       "<tr><td>GBM_4_AutoML_20210530_231215                       </td><td style=\"text-align: right;\">                10215.7 </td><td style=\"text-align: right;\">101.073 </td><td style=\"text-align: right;\">10215.7 </td><td style=\"text-align: right;\"> 62.3512</td><td style=\"text-align: right;\">0.0298674</td></tr>\n",
       "<tr><td>GBM_grid__1_AutoML_20210530_231215_model_3         </td><td style=\"text-align: right;\">                10350.6 </td><td style=\"text-align: right;\">101.738 </td><td style=\"text-align: right;\">10350.6 </td><td style=\"text-align: right;\"> 63.7333</td><td style=\"text-align: right;\">0.0300989</td></tr>\n",
       "<tr><td>DRF_1_AutoML_20210530_231215                       </td><td style=\"text-align: right;\">                10631.9 </td><td style=\"text-align: right;\">103.111 </td><td style=\"text-align: right;\">10631.9 </td><td style=\"text-align: right;\"> 60.8628</td><td style=\"text-align: right;\">0.0307483</td></tr>\n",
       "<tr><td>GBM_1_AutoML_20210530_231215                       </td><td style=\"text-align: right;\">                10682.4 </td><td style=\"text-align: right;\">103.356 </td><td style=\"text-align: right;\">10682.4 </td><td style=\"text-align: right;\"> 64.389 </td><td style=\"text-align: right;\">0.0305946</td></tr>\n",
       "<tr><td>GBM_grid__1_AutoML_20210530_231215_model_1         </td><td style=\"text-align: right;\">                10899.2 </td><td style=\"text-align: right;\">104.399 </td><td style=\"text-align: right;\">10899.2 </td><td style=\"text-align: right;\"> 67.2464</td><td style=\"text-align: right;\">0.0308698</td></tr>\n",
       "<tr><td>GBM_grid__1_AutoML_20210530_231215_model_7         </td><td style=\"text-align: right;\">                11000.1 </td><td style=\"text-align: right;\">104.881 </td><td style=\"text-align: right;\">11000.1 </td><td style=\"text-align: right;\"> 67.4472</td><td style=\"text-align: right;\">0.0310725</td></tr>\n",
       "<tr><td>GBM_grid__1_AutoML_20210530_231215_model_5         </td><td style=\"text-align: right;\">                11155.1 </td><td style=\"text-align: right;\">105.618 </td><td style=\"text-align: right;\">11155.1 </td><td style=\"text-align: right;\"> 67.9078</td><td style=\"text-align: right;\">0.0312072</td></tr>\n",
       "<tr><td>GBM_grid__1_AutoML_20210530_231215_model_2         </td><td style=\"text-align: right;\">                11277.8 </td><td style=\"text-align: right;\">106.197 </td><td style=\"text-align: right;\">11277.8 </td><td style=\"text-align: right;\"> 67.9678</td><td style=\"text-align: right;\">0.0314532</td></tr>\n",
       "<tr><td>GBM_grid__1_AutoML_20210530_231215_model_4         </td><td style=\"text-align: right;\">                11371   </td><td style=\"text-align: right;\">106.635 </td><td style=\"text-align: right;\">11371   </td><td style=\"text-align: right;\"> 68.1877</td><td style=\"text-align: right;\">0.031565 </td></tr>\n",
       "<tr><td>XRT_1_AutoML_20210530_231215                       </td><td style=\"text-align: right;\">                12537.4 </td><td style=\"text-align: right;\">111.97  </td><td style=\"text-align: right;\">12537.4 </td><td style=\"text-align: right;\"> 69.8231</td><td style=\"text-align: right;\">0.033222 </td></tr>\n",
       "<tr><td>StackedEnsemble_AllModels_AutoML_20210530_231215   </td><td style=\"text-align: right;\">                14046.6 </td><td style=\"text-align: right;\">118.518 </td><td style=\"text-align: right;\">14046.6 </td><td style=\"text-align: right;\"> 81.0568</td><td style=\"text-align: right;\">0.0349394</td></tr>\n",
       "<tr><td>StackedEnsemble_BestOfFamily_AutoML_20210530_231215</td><td style=\"text-align: right;\">                14126.9 </td><td style=\"text-align: right;\">118.857 </td><td style=\"text-align: right;\">14126.9 </td><td style=\"text-align: right;\"> 81.3734</td><td style=\"text-align: right;\">0.0350381</td></tr>\n",
       "<tr><td>GBM_5_AutoML_20210530_231215                       </td><td style=\"text-align: right;\">                15560.6 </td><td style=\"text-align: right;\">124.742 </td><td style=\"text-align: right;\">15560.6 </td><td style=\"text-align: right;\"> 82.9227</td><td style=\"text-align: right;\">0.036867 </td></tr>\n",
       "<tr><td>GBM_grid__1_AutoML_20210530_231215_model_6         </td><td style=\"text-align: right;\">                17340.5 </td><td style=\"text-align: right;\">131.683 </td><td style=\"text-align: right;\">17340.5 </td><td style=\"text-align: right;\"> 87.9319</td><td style=\"text-align: right;\">0.0389143</td></tr>\n",
       "<tr><td>DeepLearning_grid__2_AutoML_20210530_231215_model_2</td><td style=\"text-align: right;\">                17717.7 </td><td style=\"text-align: right;\">133.108 </td><td style=\"text-align: right;\">17717.7 </td><td style=\"text-align: right;\"> 80.8023</td><td style=\"text-align: right;\">0.0393221</td></tr>\n",
       "<tr><td>DeepLearning_grid__2_AutoML_20210530_231215_model_3</td><td style=\"text-align: right;\">                18041.6 </td><td style=\"text-align: right;\">134.319 </td><td style=\"text-align: right;\">18041.6 </td><td style=\"text-align: right;\"> 88.5468</td><td style=\"text-align: right;\">0.0398447</td></tr>\n",
       "<tr><td>DeepLearning_grid__3_AutoML_20210530_231215_model_2</td><td style=\"text-align: right;\">                18282.8 </td><td style=\"text-align: right;\">135.214 </td><td style=\"text-align: right;\">18282.8 </td><td style=\"text-align: right;\"> 86.0284</td><td style=\"text-align: right;\">0.0395365</td></tr>\n",
       "<tr><td>GBM_grid__1_AutoML_20210530_231215_model_8         </td><td style=\"text-align: right;\">                18968.7 </td><td style=\"text-align: right;\">137.727 </td><td style=\"text-align: right;\">18968.7 </td><td style=\"text-align: right;\"> 92.3449</td><td style=\"text-align: right;\">0.0406829</td></tr>\n",
       "<tr><td>DeepLearning_grid__1_AutoML_20210530_231215_model_1</td><td style=\"text-align: right;\">                19190.4 </td><td style=\"text-align: right;\">138.529 </td><td style=\"text-align: right;\">19190.4 </td><td style=\"text-align: right;\"> 95.6549</td><td style=\"text-align: right;\">0.040605 </td></tr>\n",
       "<tr><td>DeepLearning_grid__2_AutoML_20210530_231215_model_1</td><td style=\"text-align: right;\">                19354   </td><td style=\"text-align: right;\">139.119 </td><td style=\"text-align: right;\">19354   </td><td style=\"text-align: right;\"> 95.0766</td><td style=\"text-align: right;\">0.0408152</td></tr>\n",
       "<tr><td>DeepLearning_grid__3_AutoML_20210530_231215_model_1</td><td style=\"text-align: right;\">                20248.5 </td><td style=\"text-align: right;\">142.297 </td><td style=\"text-align: right;\">20248.5 </td><td style=\"text-align: right;\"> 96.6843</td><td style=\"text-align: right;\">0.0418605</td></tr>\n",
       "<tr><td>DeepLearning_grid__1_AutoML_20210530_231215_model_2</td><td style=\"text-align: right;\">                20926.9 </td><td style=\"text-align: right;\">144.661 </td><td style=\"text-align: right;\">20926.9 </td><td style=\"text-align: right;\"> 92.7743</td><td style=\"text-align: right;\">0.0426893</td></tr>\n",
       "<tr><td>DeepLearning_grid__1_AutoML_20210530_231215_model_3</td><td style=\"text-align: right;\">                21503   </td><td style=\"text-align: right;\">146.639 </td><td style=\"text-align: right;\">21503   </td><td style=\"text-align: right;\"> 91.2768</td><td style=\"text-align: right;\">0.0431   </td></tr>\n",
       "<tr><td>DeepLearning_1_AutoML_20210530_231215              </td><td style=\"text-align: right;\">                22424.7 </td><td style=\"text-align: right;\">149.749 </td><td style=\"text-align: right;\">22424.7 </td><td style=\"text-align: right;\"> 98.9887</td><td style=\"text-align: right;\">0.0441011</td></tr>\n",
       "<tr><td>GLM_1_AutoML_20210530_231215                       </td><td style=\"text-align: right;\">                23375   </td><td style=\"text-align: right;\">152.889 </td><td style=\"text-align: right;\">23375   </td><td style=\"text-align: right;\">100.986 </td><td style=\"text-align: right;\">0.0451177</td></tr>\n",
       "</tbody>\n",
       "</table>"
      ]
     },
     "metadata": {},
     "output_type": "display_data"
    },
    {
     "name": "stdout",
     "output_type": "stream",
     "text": [
      "\n",
      "num :  3\n",
      "pred :  504\n"
     ]
    },
    {
     "name": "stderr",
     "output_type": "stream",
     "text": [
      "\r",
      "  5%|███▉                                                                          | 3/60 [55:22<17:16:30, 1091.06s/it]"
     ]
    },
    {
     "name": "stdout",
     "output_type": "stream",
     "text": [
      "\n",
      "23:32:38.350: AutoML: XGBoost is not available; skipping it.\n",
      "\n"
     ]
    },
    {
     "data": {
      "text/html": [
       "<table>\n",
       "<thead>\n",
       "<tr><th>model_id                                           </th><th style=\"text-align: right;\">  mean_residual_deviance</th><th style=\"text-align: right;\">   rmse</th><th style=\"text-align: right;\">     mse</th><th style=\"text-align: right;\">    mae</th><th style=\"text-align: right;\">     rmsle</th></tr>\n",
       "</thead>\n",
       "<tbody>\n",
       "<tr><td>StackedEnsemble_AllModels_AutoML_20210530_233238   </td><td style=\"text-align: right;\">                 36374.9</td><td style=\"text-align: right;\">190.722</td><td style=\"text-align: right;\"> 36374.9</td><td style=\"text-align: right;\">121.619</td><td style=\"text-align: right;\">  0.213693</td></tr>\n",
       "<tr><td>StackedEnsemble_BestOfFamily_AutoML_20210530_233238</td><td style=\"text-align: right;\">                 36516.4</td><td style=\"text-align: right;\">191.093</td><td style=\"text-align: right;\"> 36516.4</td><td style=\"text-align: right;\">121.666</td><td style=\"text-align: right;\">  0.21294 </td></tr>\n",
       "<tr><td>GBM_4_AutoML_20210530_233238                       </td><td style=\"text-align: right;\">                 37359.9</td><td style=\"text-align: right;\">193.287</td><td style=\"text-align: right;\"> 37359.9</td><td style=\"text-align: right;\">122.575</td><td style=\"text-align: right;\">  0.215182</td></tr>\n",
       "<tr><td>GBM_3_AutoML_20210530_233238                       </td><td style=\"text-align: right;\">                 38214.5</td><td style=\"text-align: right;\">195.485</td><td style=\"text-align: right;\"> 38214.5</td><td style=\"text-align: right;\">125.822</td><td style=\"text-align: right;\">  0.220827</td></tr>\n",
       "<tr><td>GBM_grid__1_AutoML_20210530_233238_model_2         </td><td style=\"text-align: right;\">                 38933  </td><td style=\"text-align: right;\">197.315</td><td style=\"text-align: right;\"> 38933  </td><td style=\"text-align: right;\">127.415</td><td style=\"text-align: right;\">  0.222938</td></tr>\n",
       "<tr><td>GBM_2_AutoML_20210530_233238                       </td><td style=\"text-align: right;\">                 38942  </td><td style=\"text-align: right;\">197.337</td><td style=\"text-align: right;\"> 38942  </td><td style=\"text-align: right;\">126.731</td><td style=\"text-align: right;\">  0.220948</td></tr>\n",
       "<tr><td>GBM_grid__1_AutoML_20210530_233238_model_3         </td><td style=\"text-align: right;\">                 39165.9</td><td style=\"text-align: right;\">197.904</td><td style=\"text-align: right;\"> 39165.9</td><td style=\"text-align: right;\">129.412</td><td style=\"text-align: right;\">  0.23355 </td></tr>\n",
       "<tr><td>GBM_grid__1_AutoML_20210530_233238_model_4         </td><td style=\"text-align: right;\">                 40693.9</td><td style=\"text-align: right;\">201.727</td><td style=\"text-align: right;\"> 40693.9</td><td style=\"text-align: right;\">128.989</td><td style=\"text-align: right;\">  0.220346</td></tr>\n",
       "<tr><td>GBM_1_AutoML_20210530_233238                       </td><td style=\"text-align: right;\">                 40881  </td><td style=\"text-align: right;\">202.19 </td><td style=\"text-align: right;\"> 40881  </td><td style=\"text-align: right;\">129.189</td><td style=\"text-align: right;\">  0.224659</td></tr>\n",
       "<tr><td>GBM_grid__1_AutoML_20210530_233238_model_1         </td><td style=\"text-align: right;\">                 41004.2</td><td style=\"text-align: right;\">202.495</td><td style=\"text-align: right;\"> 41004.2</td><td style=\"text-align: right;\">130.456</td><td style=\"text-align: right;\">  0.231662</td></tr>\n",
       "<tr><td>GBM_grid__1_AutoML_20210530_233238_model_7         </td><td style=\"text-align: right;\">                 42412.9</td><td style=\"text-align: right;\">205.944</td><td style=\"text-align: right;\"> 42412.9</td><td style=\"text-align: right;\">132.816</td><td style=\"text-align: right;\">  0.229124</td></tr>\n",
       "<tr><td>DRF_1_AutoML_20210530_233238                       </td><td style=\"text-align: right;\">                 42441.8</td><td style=\"text-align: right;\">206.014</td><td style=\"text-align: right;\"> 42441.8</td><td style=\"text-align: right;\">132.225</td><td style=\"text-align: right;\">  0.228196</td></tr>\n",
       "<tr><td>GBM_grid__1_AutoML_20210530_233238_model_5         </td><td style=\"text-align: right;\">                 44111.7</td><td style=\"text-align: right;\">210.028</td><td style=\"text-align: right;\"> 44111.7</td><td style=\"text-align: right;\">139.002</td><td style=\"text-align: right;\">  0.246249</td></tr>\n",
       "<tr><td>XRT_1_AutoML_20210530_233238                       </td><td style=\"text-align: right;\">                 46065.7</td><td style=\"text-align: right;\">214.629</td><td style=\"text-align: right;\"> 46065.7</td><td style=\"text-align: right;\">138.07 </td><td style=\"text-align: right;\">  0.239975</td></tr>\n",
       "<tr><td>GBM_5_AutoML_20210530_233238                       </td><td style=\"text-align: right;\">                 49755.4</td><td style=\"text-align: right;\">223.059</td><td style=\"text-align: right;\"> 49755.4</td><td style=\"text-align: right;\">147.196</td><td style=\"text-align: right;\">  0.243893</td></tr>\n",
       "<tr><td>GBM_grid__1_AutoML_20210530_233238_model_6         </td><td style=\"text-align: right;\">                 53646  </td><td style=\"text-align: right;\">231.616</td><td style=\"text-align: right;\"> 53646  </td><td style=\"text-align: right;\">151.741</td><td style=\"text-align: right;\">  0.246523</td></tr>\n",
       "<tr><td>GBM_grid__1_AutoML_20210530_233238_model_8         </td><td style=\"text-align: right;\">                 61776.1</td><td style=\"text-align: right;\">248.548</td><td style=\"text-align: right;\"> 61776.1</td><td style=\"text-align: right;\">171.889</td><td style=\"text-align: right;\">  0.289067</td></tr>\n",
       "<tr><td>DeepLearning_grid__2_AutoML_20210530_233238_model_1</td><td style=\"text-align: right;\">                 69061.8</td><td style=\"text-align: right;\">262.796</td><td style=\"text-align: right;\"> 69061.8</td><td style=\"text-align: right;\">177.787</td><td style=\"text-align: right;\">nan       </td></tr>\n",
       "<tr><td>DeepLearning_grid__3_AutoML_20210530_233238_model_2</td><td style=\"text-align: right;\">                 70209.4</td><td style=\"text-align: right;\">264.971</td><td style=\"text-align: right;\"> 70209.4</td><td style=\"text-align: right;\">171.912</td><td style=\"text-align: right;\">nan       </td></tr>\n",
       "<tr><td>DeepLearning_grid__2_AutoML_20210530_233238_model_2</td><td style=\"text-align: right;\">                 84610.3</td><td style=\"text-align: right;\">290.879</td><td style=\"text-align: right;\"> 84610.3</td><td style=\"text-align: right;\">211.129</td><td style=\"text-align: right;\">  0.361578</td></tr>\n",
       "<tr><td>DeepLearning_grid__3_AutoML_20210530_233238_model_1</td><td style=\"text-align: right;\">                 89545  </td><td style=\"text-align: right;\">299.241</td><td style=\"text-align: right;\"> 89545  </td><td style=\"text-align: right;\">202.006</td><td style=\"text-align: right;\">nan       </td></tr>\n",
       "<tr><td>DeepLearning_grid__2_AutoML_20210530_233238_model_3</td><td style=\"text-align: right;\">                 92416.5</td><td style=\"text-align: right;\">304.001</td><td style=\"text-align: right;\"> 92416.5</td><td style=\"text-align: right;\">226.239</td><td style=\"text-align: right;\">  0.39924 </td></tr>\n",
       "<tr><td>DeepLearning_grid__1_AutoML_20210530_233238_model_2</td><td style=\"text-align: right;\">                 99918.1</td><td style=\"text-align: right;\">316.098</td><td style=\"text-align: right;\"> 99918.1</td><td style=\"text-align: right;\">220.222</td><td style=\"text-align: right;\">nan       </td></tr>\n",
       "<tr><td>DeepLearning_grid__1_AutoML_20210530_233238_model_1</td><td style=\"text-align: right;\">                100060  </td><td style=\"text-align: right;\">316.323</td><td style=\"text-align: right;\">100060  </td><td style=\"text-align: right;\">221.305</td><td style=\"text-align: right;\">nan       </td></tr>\n",
       "<tr><td>DeepLearning_grid__1_AutoML_20210530_233238_model_3</td><td style=\"text-align: right;\">                104472  </td><td style=\"text-align: right;\">323.222</td><td style=\"text-align: right;\">104472  </td><td style=\"text-align: right;\">248.479</td><td style=\"text-align: right;\">  0.43321 </td></tr>\n",
       "<tr><td>DeepLearning_1_AutoML_20210530_233238              </td><td style=\"text-align: right;\">                114476  </td><td style=\"text-align: right;\">338.343</td><td style=\"text-align: right;\">114476  </td><td style=\"text-align: right;\">258.329</td><td style=\"text-align: right;\">  0.48896 </td></tr>\n",
       "<tr><td>GLM_1_AutoML_20210530_233238                       </td><td style=\"text-align: right;\">                165573  </td><td style=\"text-align: right;\">406.906</td><td style=\"text-align: right;\">165573  </td><td style=\"text-align: right;\">306.052</td><td style=\"text-align: right;\">  0.502614</td></tr>\n",
       "</tbody>\n",
       "</table>"
      ]
     },
     "metadata": {},
     "output_type": "display_data"
    },
    {
     "name": "stdout",
     "output_type": "stream",
     "text": [
      "\n",
      "num :  4\n",
      "pred :  672\n"
     ]
    },
    {
     "name": "stderr",
     "output_type": "stream",
     "text": [
      "\r",
      "  7%|█████                                                                       | 4/60 [1:12:27<16:39:55, 1071.35s/it]"
     ]
    },
    {
     "name": "stdout",
     "output_type": "stream",
     "text": [
      "\n",
      "23:49:43.887: AutoML: XGBoost is not available; skipping it.\n",
      "\n"
     ]
    },
    {
     "data": {
      "text/html": [
       "<table>\n",
       "<thead>\n",
       "<tr><th>model_id                                           </th><th style=\"text-align: right;\">  mean_residual_deviance</th><th style=\"text-align: right;\">   rmse</th><th style=\"text-align: right;\">     mse</th><th style=\"text-align: right;\">    mae</th><th style=\"text-align: right;\">    rmsle</th></tr>\n",
       "</thead>\n",
       "<tbody>\n",
       "<tr><td>StackedEnsemble_AllModels_AutoML_20210530_234943   </td><td style=\"text-align: right;\">                 28507.5</td><td style=\"text-align: right;\">168.842</td><td style=\"text-align: right;\"> 28507.5</td><td style=\"text-align: right;\">128.556</td><td style=\"text-align: right;\">0.0648799</td></tr>\n",
       "<tr><td>StackedEnsemble_BestOfFamily_AutoML_20210530_234943</td><td style=\"text-align: right;\">                 28991.2</td><td style=\"text-align: right;\">170.268</td><td style=\"text-align: right;\"> 28991.2</td><td style=\"text-align: right;\">129.728</td><td style=\"text-align: right;\">0.0654555</td></tr>\n",
       "<tr><td>GBM_4_AutoML_20210530_234943                       </td><td style=\"text-align: right;\">                 29835.3</td><td style=\"text-align: right;\">172.729</td><td style=\"text-align: right;\"> 29835.3</td><td style=\"text-align: right;\">132.396</td><td style=\"text-align: right;\">0.0666164</td></tr>\n",
       "<tr><td>GBM_grid__1_AutoML_20210530_234943_model_3         </td><td style=\"text-align: right;\">                 30435.6</td><td style=\"text-align: right;\">174.458</td><td style=\"text-align: right;\"> 30435.6</td><td style=\"text-align: right;\">134.863</td><td style=\"text-align: right;\">0.0674041</td></tr>\n",
       "<tr><td>GBM_grid__1_AutoML_20210530_234943_model_2         </td><td style=\"text-align: right;\">                 30546.8</td><td style=\"text-align: right;\">174.777</td><td style=\"text-align: right;\"> 30546.8</td><td style=\"text-align: right;\">135.038</td><td style=\"text-align: right;\">0.0671841</td></tr>\n",
       "<tr><td>GBM_grid__1_AutoML_20210530_234943_model_1         </td><td style=\"text-align: right;\">                 30851.1</td><td style=\"text-align: right;\">175.645</td><td style=\"text-align: right;\"> 30851.1</td><td style=\"text-align: right;\">135.707</td><td style=\"text-align: right;\">0.0678299</td></tr>\n",
       "<tr><td>GBM_3_AutoML_20210530_234943                       </td><td style=\"text-align: right;\">                 31713.6</td><td style=\"text-align: right;\">178.083</td><td style=\"text-align: right;\"> 31713.6</td><td style=\"text-align: right;\">136.555</td><td style=\"text-align: right;\">0.0687107</td></tr>\n",
       "<tr><td>GBM_2_AutoML_20210530_234943                       </td><td style=\"text-align: right;\">                 32639.3</td><td style=\"text-align: right;\">180.664</td><td style=\"text-align: right;\"> 32639.3</td><td style=\"text-align: right;\">139.748</td><td style=\"text-align: right;\">0.07011  </td></tr>\n",
       "<tr><td>GBM_1_AutoML_20210530_234943                       </td><td style=\"text-align: right;\">                 33506.5</td><td style=\"text-align: right;\">183.048</td><td style=\"text-align: right;\"> 33506.5</td><td style=\"text-align: right;\">141.185</td><td style=\"text-align: right;\">0.0709669</td></tr>\n",
       "<tr><td>GBM_grid__1_AutoML_20210530_234943_model_4         </td><td style=\"text-align: right;\">                 34076.7</td><td style=\"text-align: right;\">184.599</td><td style=\"text-align: right;\"> 34076.7</td><td style=\"text-align: right;\">145.016</td><td style=\"text-align: right;\">0.0712608</td></tr>\n",
       "<tr><td>GBM_grid__1_AutoML_20210530_234943_model_7         </td><td style=\"text-align: right;\">                 34163.8</td><td style=\"text-align: right;\">184.834</td><td style=\"text-align: right;\"> 34163.8</td><td style=\"text-align: right;\">145.279</td><td style=\"text-align: right;\">0.0714746</td></tr>\n",
       "<tr><td>GBM_grid__1_AutoML_20210530_234943_model_5         </td><td style=\"text-align: right;\">                 34455.8</td><td style=\"text-align: right;\">185.623</td><td style=\"text-align: right;\"> 34455.8</td><td style=\"text-align: right;\">144.938</td><td style=\"text-align: right;\">0.0716758</td></tr>\n",
       "<tr><td>DRF_1_AutoML_20210530_234943                       </td><td style=\"text-align: right;\">                 39023.8</td><td style=\"text-align: right;\">197.544</td><td style=\"text-align: right;\"> 39023.8</td><td style=\"text-align: right;\">152.094</td><td style=\"text-align: right;\">0.0761229</td></tr>\n",
       "<tr><td>GBM_5_AutoML_20210530_234943                       </td><td style=\"text-align: right;\">                 45055.4</td><td style=\"text-align: right;\">212.263</td><td style=\"text-align: right;\"> 45055.4</td><td style=\"text-align: right;\">169.006</td><td style=\"text-align: right;\">0.0817706</td></tr>\n",
       "<tr><td>XRT_1_AutoML_20210530_234943                       </td><td style=\"text-align: right;\">                 45094.3</td><td style=\"text-align: right;\">212.354</td><td style=\"text-align: right;\"> 45094.3</td><td style=\"text-align: right;\">164.952</td><td style=\"text-align: right;\">0.0822434</td></tr>\n",
       "<tr><td>DeepLearning_grid__3_AutoML_20210530_234943_model_2</td><td style=\"text-align: right;\">                 51632  </td><td style=\"text-align: right;\">227.227</td><td style=\"text-align: right;\"> 51632  </td><td style=\"text-align: right;\">174.649</td><td style=\"text-align: right;\">0.0865798</td></tr>\n",
       "<tr><td>GBM_grid__1_AutoML_20210530_234943_model_6         </td><td style=\"text-align: right;\">                 52153.5</td><td style=\"text-align: right;\">228.371</td><td style=\"text-align: right;\"> 52153.5</td><td style=\"text-align: right;\">180.476</td><td style=\"text-align: right;\">0.0879991</td></tr>\n",
       "<tr><td>DeepLearning_grid__2_AutoML_20210530_234943_model_1</td><td style=\"text-align: right;\">                 53588.7</td><td style=\"text-align: right;\">231.492</td><td style=\"text-align: right;\"> 53588.7</td><td style=\"text-align: right;\">181.759</td><td style=\"text-align: right;\">0.0881829</td></tr>\n",
       "<tr><td>GBM_grid__1_AutoML_20210530_234943_model_8         </td><td style=\"text-align: right;\">                 65768.6</td><td style=\"text-align: right;\">256.454</td><td style=\"text-align: right;\"> 65768.6</td><td style=\"text-align: right;\">204.788</td><td style=\"text-align: right;\">0.0990299</td></tr>\n",
       "<tr><td>DeepLearning_grid__1_AutoML_20210530_234943_model_1</td><td style=\"text-align: right;\">                 68685.4</td><td style=\"text-align: right;\">262.079</td><td style=\"text-align: right;\"> 68685.4</td><td style=\"text-align: right;\">206.014</td><td style=\"text-align: right;\">0.0993317</td></tr>\n",
       "<tr><td>DeepLearning_grid__2_AutoML_20210530_234943_model_2</td><td style=\"text-align: right;\">                 73748  </td><td style=\"text-align: right;\">271.566</td><td style=\"text-align: right;\"> 73748  </td><td style=\"text-align: right;\">214.055</td><td style=\"text-align: right;\">0.104682 </td></tr>\n",
       "<tr><td>DeepLearning_grid__3_AutoML_20210530_234943_model_1</td><td style=\"text-align: right;\">                 89219.3</td><td style=\"text-align: right;\">298.696</td><td style=\"text-align: right;\"> 89219.3</td><td style=\"text-align: right;\">234.58 </td><td style=\"text-align: right;\">0.113428 </td></tr>\n",
       "<tr><td>DeepLearning_grid__2_AutoML_20210530_234943_model_3</td><td style=\"text-align: right;\">                 95601  </td><td style=\"text-align: right;\">309.194</td><td style=\"text-align: right;\"> 95601  </td><td style=\"text-align: right;\">246.007</td><td style=\"text-align: right;\">0.117073 </td></tr>\n",
       "<tr><td>DeepLearning_grid__1_AutoML_20210530_234943_model_3</td><td style=\"text-align: right;\">                 98871.8</td><td style=\"text-align: right;\">314.439</td><td style=\"text-align: right;\"> 98871.8</td><td style=\"text-align: right;\">249.773</td><td style=\"text-align: right;\">0.121318 </td></tr>\n",
       "<tr><td>DeepLearning_grid__1_AutoML_20210530_234943_model_2</td><td style=\"text-align: right;\">                100433  </td><td style=\"text-align: right;\">316.912</td><td style=\"text-align: right;\">100433  </td><td style=\"text-align: right;\">253.189</td><td style=\"text-align: right;\">0.122164 </td></tr>\n",
       "<tr><td>DeepLearning_1_AutoML_20210530_234943              </td><td style=\"text-align: right;\">                127255  </td><td style=\"text-align: right;\">356.728</td><td style=\"text-align: right;\">127255  </td><td style=\"text-align: right;\">280.772</td><td style=\"text-align: right;\">0.138663 </td></tr>\n",
       "<tr><td>GLM_1_AutoML_20210530_234943                       </td><td style=\"text-align: right;\">                165200  </td><td style=\"text-align: right;\">406.448</td><td style=\"text-align: right;\">165200  </td><td style=\"text-align: right;\">333.426</td><td style=\"text-align: right;\">0.155193 </td></tr>\n",
       "</tbody>\n",
       "</table>"
      ]
     },
     "metadata": {},
     "output_type": "display_data"
    },
    {
     "name": "stdout",
     "output_type": "stream",
     "text": [
      "\n",
      "num :  5\n",
      "pred :  840\n"
     ]
    },
    {
     "name": "stderr",
     "output_type": "stream",
     "text": [
      "\r",
      "  8%|██████▎                                                                     | 5/60 [1:29:22<16:06:37, 1054.50s/it]"
     ]
    },
    {
     "name": "stdout",
     "output_type": "stream",
     "text": [
      "\n",
      "00:06:38.897: AutoML: XGBoost is not available; skipping it.\n",
      "\n"
     ]
    },
    {
     "data": {
      "text/html": [
       "<table>\n",
       "<thead>\n",
       "<tr><th>model_id                                           </th><th style=\"text-align: right;\">  mean_residual_deviance</th><th style=\"text-align: right;\">   rmse</th><th style=\"text-align: right;\">     mse</th><th style=\"text-align: right;\">     mae</th><th style=\"text-align: right;\">      rmsle</th></tr>\n",
       "</thead>\n",
       "<tbody>\n",
       "<tr><td>StackedEnsemble_AllModels_AutoML_20210531_000638   </td><td style=\"text-align: right;\">                 10927.1</td><td style=\"text-align: right;\">104.533</td><td style=\"text-align: right;\"> 10927.1</td><td style=\"text-align: right;\"> 51.9223</td><td style=\"text-align: right;\">  0.0667598</td></tr>\n",
       "<tr><td>StackedEnsemble_BestOfFamily_AutoML_20210531_000638</td><td style=\"text-align: right;\">                 11395.4</td><td style=\"text-align: right;\">106.749</td><td style=\"text-align: right;\"> 11395.4</td><td style=\"text-align: right;\"> 55.5688</td><td style=\"text-align: right;\">  0.0703523</td></tr>\n",
       "<tr><td>GBM_3_AutoML_20210531_000638                       </td><td style=\"text-align: right;\">                 11536.4</td><td style=\"text-align: right;\">107.408</td><td style=\"text-align: right;\"> 11536.4</td><td style=\"text-align: right;\"> 55.9132</td><td style=\"text-align: right;\">  0.0703177</td></tr>\n",
       "<tr><td>GBM_grid__1_AutoML_20210531_000638_model_4         </td><td style=\"text-align: right;\">                 11778  </td><td style=\"text-align: right;\">108.526</td><td style=\"text-align: right;\"> 11778  </td><td style=\"text-align: right;\"> 53.6733</td><td style=\"text-align: right;\">  0.0677294</td></tr>\n",
       "<tr><td>GBM_4_AutoML_20210531_000638                       </td><td style=\"text-align: right;\">                 12073.2</td><td style=\"text-align: right;\">109.878</td><td style=\"text-align: right;\"> 12073.2</td><td style=\"text-align: right;\"> 60.3882</td><td style=\"text-align: right;\">  0.0748147</td></tr>\n",
       "<tr><td>GBM_1_AutoML_20210531_000638                       </td><td style=\"text-align: right;\">                 12135.2</td><td style=\"text-align: right;\">110.16 </td><td style=\"text-align: right;\"> 12135.2</td><td style=\"text-align: right;\"> 52.8608</td><td style=\"text-align: right;\">  0.0691867</td></tr>\n",
       "<tr><td>GBM_grid__1_AutoML_20210531_000638_model_7         </td><td style=\"text-align: right;\">                 12566.6</td><td style=\"text-align: right;\">112.101</td><td style=\"text-align: right;\"> 12566.6</td><td style=\"text-align: right;\"> 60.8822</td><td style=\"text-align: right;\">  0.076548 </td></tr>\n",
       "<tr><td>GBM_grid__1_AutoML_20210531_000638_model_2         </td><td style=\"text-align: right;\">                 13314.5</td><td style=\"text-align: right;\">115.388</td><td style=\"text-align: right;\"> 13314.5</td><td style=\"text-align: right;\"> 60.9516</td><td style=\"text-align: right;\">  0.0771507</td></tr>\n",
       "<tr><td>GBM_2_AutoML_20210531_000638                       </td><td style=\"text-align: right;\">                 13762.2</td><td style=\"text-align: right;\">117.313</td><td style=\"text-align: right;\"> 13762.2</td><td style=\"text-align: right;\"> 68.1093</td><td style=\"text-align: right;\">  0.0824085</td></tr>\n",
       "<tr><td>GBM_grid__1_AutoML_20210531_000638_model_1         </td><td style=\"text-align: right;\">                 14555.8</td><td style=\"text-align: right;\">120.647</td><td style=\"text-align: right;\"> 14555.8</td><td style=\"text-align: right;\"> 71.9008</td><td style=\"text-align: right;\">  0.0871989</td></tr>\n",
       "<tr><td>GBM_grid__1_AutoML_20210531_000638_model_3         </td><td style=\"text-align: right;\">                 14665  </td><td style=\"text-align: right;\">121.099</td><td style=\"text-align: right;\"> 14665  </td><td style=\"text-align: right;\"> 71.9505</td><td style=\"text-align: right;\">  0.087269 </td></tr>\n",
       "<tr><td>GBM_grid__1_AutoML_20210531_000638_model_5         </td><td style=\"text-align: right;\">                 15543.4</td><td style=\"text-align: right;\">124.673</td><td style=\"text-align: right;\"> 15543.4</td><td style=\"text-align: right;\"> 72.3029</td><td style=\"text-align: right;\">  0.0899334</td></tr>\n",
       "<tr><td>GBM_5_AutoML_20210531_000638                       </td><td style=\"text-align: right;\">                 15786.1</td><td style=\"text-align: right;\">125.643</td><td style=\"text-align: right;\"> 15786.1</td><td style=\"text-align: right;\"> 70.5278</td><td style=\"text-align: right;\">  0.0881249</td></tr>\n",
       "<tr><td>GBM_grid__1_AutoML_20210531_000638_model_6         </td><td style=\"text-align: right;\">                 17949.2</td><td style=\"text-align: right;\">133.975</td><td style=\"text-align: right;\"> 17949.2</td><td style=\"text-align: right;\"> 75.7071</td><td style=\"text-align: right;\">  0.0905859</td></tr>\n",
       "<tr><td>DRF_1_AutoML_20210531_000638                       </td><td style=\"text-align: right;\">                 18133.4</td><td style=\"text-align: right;\">134.66 </td><td style=\"text-align: right;\"> 18133.4</td><td style=\"text-align: right;\"> 77.2799</td><td style=\"text-align: right;\">  0.0921235</td></tr>\n",
       "<tr><td>XRT_1_AutoML_20210531_000638                       </td><td style=\"text-align: right;\">                 27203.7</td><td style=\"text-align: right;\">164.935</td><td style=\"text-align: right;\"> 27203.7</td><td style=\"text-align: right;\">104.751 </td><td style=\"text-align: right;\">  0.120847 </td></tr>\n",
       "<tr><td>DeepLearning_grid__3_AutoML_20210531_000638_model_2</td><td style=\"text-align: right;\">                 29259.8</td><td style=\"text-align: right;\">171.055</td><td style=\"text-align: right;\"> 29259.8</td><td style=\"text-align: right;\">101.661 </td><td style=\"text-align: right;\">  0.127997 </td></tr>\n",
       "<tr><td>DeepLearning_grid__2_AutoML_20210531_000638_model_1</td><td style=\"text-align: right;\">                 37816.2</td><td style=\"text-align: right;\">194.464</td><td style=\"text-align: right;\"> 37816.2</td><td style=\"text-align: right;\">128.114 </td><td style=\"text-align: right;\">  0.181879 </td></tr>\n",
       "<tr><td>GBM_grid__1_AutoML_20210531_000638_model_8         </td><td style=\"text-align: right;\">                 45487.2</td><td style=\"text-align: right;\">213.277</td><td style=\"text-align: right;\"> 45487.2</td><td style=\"text-align: right;\">155.127 </td><td style=\"text-align: right;\">  0.207463 </td></tr>\n",
       "<tr><td>DeepLearning_grid__2_AutoML_20210531_000638_model_2</td><td style=\"text-align: right;\">                 53542.5</td><td style=\"text-align: right;\">231.393</td><td style=\"text-align: right;\"> 53542.5</td><td style=\"text-align: right;\">154.61  </td><td style=\"text-align: right;\">  0.183487 </td></tr>\n",
       "<tr><td>DeepLearning_grid__3_AutoML_20210531_000638_model_1</td><td style=\"text-align: right;\">                 55307.4</td><td style=\"text-align: right;\">235.175</td><td style=\"text-align: right;\"> 55307.4</td><td style=\"text-align: right;\">159.541 </td><td style=\"text-align: right;\">  0.234798 </td></tr>\n",
       "<tr><td>DeepLearning_grid__1_AutoML_20210531_000638_model_1</td><td style=\"text-align: right;\">                 59929  </td><td style=\"text-align: right;\">244.804</td><td style=\"text-align: right;\"> 59929  </td><td style=\"text-align: right;\">174.809 </td><td style=\"text-align: right;\">  0.22699  </td></tr>\n",
       "<tr><td>DeepLearning_grid__2_AutoML_20210531_000638_model_3</td><td style=\"text-align: right;\">                 90521  </td><td style=\"text-align: right;\">300.867</td><td style=\"text-align: right;\"> 90521  </td><td style=\"text-align: right;\">227.576 </td><td style=\"text-align: right;\">  0.230481 </td></tr>\n",
       "<tr><td>DeepLearning_grid__1_AutoML_20210531_000638_model_2</td><td style=\"text-align: right;\">                 99563.2</td><td style=\"text-align: right;\">315.536</td><td style=\"text-align: right;\"> 99563.2</td><td style=\"text-align: right;\">222.234 </td><td style=\"text-align: right;\">nan        </td></tr>\n",
       "<tr><td>DeepLearning_1_AutoML_20210531_000638              </td><td style=\"text-align: right;\">                109928  </td><td style=\"text-align: right;\">331.553</td><td style=\"text-align: right;\">109928  </td><td style=\"text-align: right;\">245.672 </td><td style=\"text-align: right;\">  0.302724 </td></tr>\n",
       "<tr><td>DeepLearning_grid__1_AutoML_20210531_000638_model_3</td><td style=\"text-align: right;\">                156176  </td><td style=\"text-align: right;\">395.191</td><td style=\"text-align: right;\">156176  </td><td style=\"text-align: right;\">307.73  </td><td style=\"text-align: right;\">  0.371601 </td></tr>\n",
       "<tr><td>GLM_1_AutoML_20210531_000638                       </td><td style=\"text-align: right;\">                298970  </td><td style=\"text-align: right;\">546.782</td><td style=\"text-align: right;\">298970  </td><td style=\"text-align: right;\">436.652 </td><td style=\"text-align: right;\">  0.441529 </td></tr>\n",
       "</tbody>\n",
       "</table>"
      ]
     },
     "metadata": {},
     "output_type": "display_data"
    },
    {
     "name": "stdout",
     "output_type": "stream",
     "text": [
      "\n",
      "num :  6\n",
      "pred :  1008\n"
     ]
    },
    {
     "name": "stderr",
     "output_type": "stream",
     "text": [
      "\r",
      " 10%|███████▌                                                                    | 6/60 [1:50:51<16:52:14, 1124.71s/it]"
     ]
    },
    {
     "name": "stdout",
     "output_type": "stream",
     "text": [
      "\n",
      "00:28:07.409: AutoML: XGBoost is not available; skipping it.\n",
      "\n"
     ]
    },
    {
     "data": {
      "text/html": [
       "<table>\n",
       "<thead>\n",
       "<tr><th>model_id                                           </th><th style=\"text-align: right;\">  mean_residual_deviance</th><th style=\"text-align: right;\">   rmse</th><th style=\"text-align: right;\">     mse</th><th style=\"text-align: right;\">     mae</th><th style=\"text-align: right;\">    rmsle</th></tr>\n",
       "</thead>\n",
       "<tbody>\n",
       "<tr><td>StackedEnsemble_AllModels_AutoML_20210531_002807   </td><td style=\"text-align: right;\">                 15098.5</td><td style=\"text-align: right;\">122.876</td><td style=\"text-align: right;\"> 15098.5</td><td style=\"text-align: right;\"> 68.7559</td><td style=\"text-align: right;\">0.0926703</td></tr>\n",
       "<tr><td>StackedEnsemble_BestOfFamily_AutoML_20210531_002807</td><td style=\"text-align: right;\">                 15122.7</td><td style=\"text-align: right;\">122.974</td><td style=\"text-align: right;\"> 15122.7</td><td style=\"text-align: right;\"> 71.1012</td><td style=\"text-align: right;\">0.0933327</td></tr>\n",
       "<tr><td>GBM_4_AutoML_20210531_002807                       </td><td style=\"text-align: right;\">                 16171.8</td><td style=\"text-align: right;\">127.169</td><td style=\"text-align: right;\"> 16171.8</td><td style=\"text-align: right;\"> 76.0313</td><td style=\"text-align: right;\">0.0960304</td></tr>\n",
       "<tr><td>GBM_1_AutoML_20210531_002807                       </td><td style=\"text-align: right;\">                 16311.4</td><td style=\"text-align: right;\">127.716</td><td style=\"text-align: right;\"> 16311.4</td><td style=\"text-align: right;\"> 70.1285</td><td style=\"text-align: right;\">0.0960001</td></tr>\n",
       "<tr><td>GBM_3_AutoML_20210531_002807                       </td><td style=\"text-align: right;\">                 16498.9</td><td style=\"text-align: right;\">128.448</td><td style=\"text-align: right;\"> 16498.9</td><td style=\"text-align: right;\"> 73.2989</td><td style=\"text-align: right;\">0.0967702</td></tr>\n",
       "<tr><td>GBM_grid__1_AutoML_20210531_002807_model_4         </td><td style=\"text-align: right;\">                 17249.1</td><td style=\"text-align: right;\">131.336</td><td style=\"text-align: right;\"> 17249.1</td><td style=\"text-align: right;\"> 75.3744</td><td style=\"text-align: right;\">0.102017 </td></tr>\n",
       "<tr><td>GBM_grid__1_AutoML_20210531_002807_model_2         </td><td style=\"text-align: right;\">                 17269.8</td><td style=\"text-align: right;\">131.415</td><td style=\"text-align: right;\"> 17269.8</td><td style=\"text-align: right;\"> 80.592 </td><td style=\"text-align: right;\">0.102043 </td></tr>\n",
       "<tr><td>GBM_grid__1_AutoML_20210531_002807_model_7         </td><td style=\"text-align: right;\">                 17340.6</td><td style=\"text-align: right;\">131.684</td><td style=\"text-align: right;\"> 17340.6</td><td style=\"text-align: right;\"> 77.9393</td><td style=\"text-align: right;\">0.100312 </td></tr>\n",
       "<tr><td>GBM_grid__1_AutoML_20210531_002807_model_1         </td><td style=\"text-align: right;\">                 17506.3</td><td style=\"text-align: right;\">132.312</td><td style=\"text-align: right;\"> 17506.3</td><td style=\"text-align: right;\"> 86.9431</td><td style=\"text-align: right;\">0.102548 </td></tr>\n",
       "<tr><td>GBM_2_AutoML_20210531_002807                       </td><td style=\"text-align: right;\">                 17827.8</td><td style=\"text-align: right;\">133.521</td><td style=\"text-align: right;\"> 17827.8</td><td style=\"text-align: right;\"> 82.0713</td><td style=\"text-align: right;\">0.100707 </td></tr>\n",
       "<tr><td>GBM_grid__1_AutoML_20210531_002807_model_5         </td><td style=\"text-align: right;\">                 18141.9</td><td style=\"text-align: right;\">134.692</td><td style=\"text-align: right;\"> 18141.9</td><td style=\"text-align: right;\"> 85.7484</td><td style=\"text-align: right;\">0.103716 </td></tr>\n",
       "<tr><td>GBM_grid__1_AutoML_20210531_002807_model_3         </td><td style=\"text-align: right;\">                 18396.1</td><td style=\"text-align: right;\">135.632</td><td style=\"text-align: right;\"> 18396.1</td><td style=\"text-align: right;\"> 87.9225</td><td style=\"text-align: right;\">0.102626 </td></tr>\n",
       "<tr><td>DRF_1_AutoML_20210531_002807                       </td><td style=\"text-align: right;\">                 20227.9</td><td style=\"text-align: right;\">142.225</td><td style=\"text-align: right;\"> 20227.9</td><td style=\"text-align: right;\"> 91.8824</td><td style=\"text-align: right;\">0.11465  </td></tr>\n",
       "<tr><td>DeepLearning_grid__3_AutoML_20210531_002807_model_2</td><td style=\"text-align: right;\">                 27432.9</td><td style=\"text-align: right;\">165.629</td><td style=\"text-align: right;\"> 27432.9</td><td style=\"text-align: right;\">107.666 </td><td style=\"text-align: right;\">0.121657 </td></tr>\n",
       "<tr><td>GBM_5_AutoML_20210531_002807                       </td><td style=\"text-align: right;\">                 30112.7</td><td style=\"text-align: right;\">173.53 </td><td style=\"text-align: right;\"> 30112.7</td><td style=\"text-align: right;\">110.955 </td><td style=\"text-align: right;\">0.143507 </td></tr>\n",
       "<tr><td>GBM_grid__1_AutoML_20210531_002807_model_6         </td><td style=\"text-align: right;\">                 32293.1</td><td style=\"text-align: right;\">179.703</td><td style=\"text-align: right;\"> 32293.1</td><td style=\"text-align: right;\">115.243 </td><td style=\"text-align: right;\">0.149044 </td></tr>\n",
       "<tr><td>XRT_1_AutoML_20210531_002807                       </td><td style=\"text-align: right;\">                 34265.7</td><td style=\"text-align: right;\">185.11 </td><td style=\"text-align: right;\"> 34265.7</td><td style=\"text-align: right;\">134.433 </td><td style=\"text-align: right;\">0.149654 </td></tr>\n",
       "<tr><td>DeepLearning_grid__2_AutoML_20210531_002807_model_2</td><td style=\"text-align: right;\">                 35631.1</td><td style=\"text-align: right;\">188.762</td><td style=\"text-align: right;\"> 35631.1</td><td style=\"text-align: right;\">124.767 </td><td style=\"text-align: right;\">0.140721 </td></tr>\n",
       "<tr><td>DeepLearning_grid__2_AutoML_20210531_002807_model_1</td><td style=\"text-align: right;\">                 38446.2</td><td style=\"text-align: right;\">196.077</td><td style=\"text-align: right;\"> 38446.2</td><td style=\"text-align: right;\">135.99  </td><td style=\"text-align: right;\">0.151454 </td></tr>\n",
       "<tr><td>DeepLearning_grid__3_AutoML_20210531_002807_model_1</td><td style=\"text-align: right;\">                 60515.2</td><td style=\"text-align: right;\">245.998</td><td style=\"text-align: right;\"> 60515.2</td><td style=\"text-align: right;\">177.803 </td><td style=\"text-align: right;\">0.188449 </td></tr>\n",
       "<tr><td>DeepLearning_grid__1_AutoML_20210531_002807_model_1</td><td style=\"text-align: right;\">                 66269.9</td><td style=\"text-align: right;\">257.429</td><td style=\"text-align: right;\"> 66269.9</td><td style=\"text-align: right;\">196.192 </td><td style=\"text-align: right;\">0.206941 </td></tr>\n",
       "<tr><td>GBM_grid__1_AutoML_20210531_002807_model_8         </td><td style=\"text-align: right;\">                 66579.4</td><td style=\"text-align: right;\">258.03 </td><td style=\"text-align: right;\"> 66579.4</td><td style=\"text-align: right;\">199.739 </td><td style=\"text-align: right;\">0.213601 </td></tr>\n",
       "<tr><td>DeepLearning_grid__2_AutoML_20210531_002807_model_3</td><td style=\"text-align: right;\">                 75947.4</td><td style=\"text-align: right;\">275.586</td><td style=\"text-align: right;\"> 75947.4</td><td style=\"text-align: right;\">217.804 </td><td style=\"text-align: right;\">0.21107  </td></tr>\n",
       "<tr><td>DeepLearning_grid__1_AutoML_20210531_002807_model_2</td><td style=\"text-align: right;\">                107659  </td><td style=\"text-align: right;\">328.114</td><td style=\"text-align: right;\">107659  </td><td style=\"text-align: right;\">265.867 </td><td style=\"text-align: right;\">0.253755 </td></tr>\n",
       "<tr><td>DeepLearning_1_AutoML_20210531_002807              </td><td style=\"text-align: right;\">                119860  </td><td style=\"text-align: right;\">346.208</td><td style=\"text-align: right;\">119860  </td><td style=\"text-align: right;\">275.853 </td><td style=\"text-align: right;\">0.27146  </td></tr>\n",
       "<tr><td>DeepLearning_grid__1_AutoML_20210531_002807_model_3</td><td style=\"text-align: right;\">                152255  </td><td style=\"text-align: right;\">390.199</td><td style=\"text-align: right;\">152255  </td><td style=\"text-align: right;\">324.644 </td><td style=\"text-align: right;\">0.29581  </td></tr>\n",
       "<tr><td>GLM_1_AutoML_20210531_002807                       </td><td style=\"text-align: right;\">                365903  </td><td style=\"text-align: right;\">604.899</td><td style=\"text-align: right;\">365903  </td><td style=\"text-align: right;\">532.1   </td><td style=\"text-align: right;\">0.422162 </td></tr>\n",
       "</tbody>\n",
       "</table>"
      ]
     },
     "metadata": {},
     "output_type": "display_data"
    },
    {
     "name": "stdout",
     "output_type": "stream",
     "text": [
      "\n",
      "num :  7\n",
      "pred :  1176\n"
     ]
    },
    {
     "name": "stderr",
     "output_type": "stream",
     "text": [
      "\r",
      " 12%|████████▊                                                                   | 7/60 [2:13:35<17:36:50, 1196.42s/it]"
     ]
    },
    {
     "name": "stdout",
     "output_type": "stream",
     "text": [
      "\n",
      "00:50:51.346: AutoML: XGBoost is not available; skipping it.\n",
      "\n"
     ]
    },
    {
     "data": {
      "text/html": [
       "<table>\n",
       "<thead>\n",
       "<tr><th>model_id                                           </th><th style=\"text-align: right;\">  mean_residual_deviance</th><th style=\"text-align: right;\">    rmse</th><th style=\"text-align: right;\">             mse</th><th style=\"text-align: right;\">     mae</th><th style=\"text-align: right;\">      rmsle</th></tr>\n",
       "</thead>\n",
       "<tbody>\n",
       "<tr><td>StackedEnsemble_AllModels_AutoML_20210531_005051   </td><td style=\"text-align: right;\">        555040          </td><td style=\"text-align: right;\"> 745.01 </td><td style=\"text-align: right;\">555040          </td><td style=\"text-align: right;\"> 400.895</td><td style=\"text-align: right;\">  0.0738192</td></tr>\n",
       "<tr><td>StackedEnsemble_BestOfFamily_AutoML_20210531_005051</td><td style=\"text-align: right;\">        565606          </td><td style=\"text-align: right;\"> 752.067</td><td style=\"text-align: right;\">565606          </td><td style=\"text-align: right;\"> 404.257</td><td style=\"text-align: right;\">  0.0744196</td></tr>\n",
       "<tr><td>GBM_grid__1_AutoML_20210531_005051_model_4         </td><td style=\"text-align: right;\">        578822          </td><td style=\"text-align: right;\"> 760.803</td><td style=\"text-align: right;\">578822          </td><td style=\"text-align: right;\"> 419.777</td><td style=\"text-align: right;\">  0.0754032</td></tr>\n",
       "<tr><td>GBM_3_AutoML_20210531_005051                       </td><td style=\"text-align: right;\">        600040          </td><td style=\"text-align: right;\"> 774.623</td><td style=\"text-align: right;\">600040          </td><td style=\"text-align: right;\"> 446.651</td><td style=\"text-align: right;\">  0.0770461</td></tr>\n",
       "<tr><td>GBM_2_AutoML_20210531_005051                       </td><td style=\"text-align: right;\">        609424          </td><td style=\"text-align: right;\"> 780.656</td><td style=\"text-align: right;\">609424          </td><td style=\"text-align: right;\"> 457.452</td><td style=\"text-align: right;\">  0.0776345</td></tr>\n",
       "<tr><td>GBM_grid__1_AutoML_20210531_005051_model_1         </td><td style=\"text-align: right;\">        646511          </td><td style=\"text-align: right;\"> 804.059</td><td style=\"text-align: right;\">646511          </td><td style=\"text-align: right;\"> 497.476</td><td style=\"text-align: right;\">  0.0813025</td></tr>\n",
       "<tr><td>GBM_grid__1_AutoML_20210531_005051_model_2         </td><td style=\"text-align: right;\">        682185          </td><td style=\"text-align: right;\"> 825.945</td><td style=\"text-align: right;\">682185          </td><td style=\"text-align: right;\"> 476.028</td><td style=\"text-align: right;\">  0.081529 </td></tr>\n",
       "<tr><td>GBM_grid__1_AutoML_20210531_005051_model_7         </td><td style=\"text-align: right;\">        699185          </td><td style=\"text-align: right;\"> 836.173</td><td style=\"text-align: right;\">699185          </td><td style=\"text-align: right;\"> 506.702</td><td style=\"text-align: right;\">  0.0850313</td></tr>\n",
       "<tr><td>GBM_1_AutoML_20210531_005051                       </td><td style=\"text-align: right;\">        700590          </td><td style=\"text-align: right;\"> 837.013</td><td style=\"text-align: right;\">700590          </td><td style=\"text-align: right;\"> 483.427</td><td style=\"text-align: right;\">  0.0839169</td></tr>\n",
       "<tr><td>GBM_4_AutoML_20210531_005051                       </td><td style=\"text-align: right;\">        735902          </td><td style=\"text-align: right;\"> 857.847</td><td style=\"text-align: right;\">735902          </td><td style=\"text-align: right;\"> 524.074</td><td style=\"text-align: right;\">  0.087556 </td></tr>\n",
       "<tr><td>GBM_grid__1_AutoML_20210531_005051_model_5         </td><td style=\"text-align: right;\">        758918          </td><td style=\"text-align: right;\"> 871.159</td><td style=\"text-align: right;\">758918          </td><td style=\"text-align: right;\"> 533.409</td><td style=\"text-align: right;\">  0.0876814</td></tr>\n",
       "<tr><td>GBM_grid__1_AutoML_20210531_005051_model_6         </td><td style=\"text-align: right;\">        764389          </td><td style=\"text-align: right;\"> 874.293</td><td style=\"text-align: right;\">764389          </td><td style=\"text-align: right;\"> 521.778</td><td style=\"text-align: right;\">  0.088047 </td></tr>\n",
       "<tr><td>GBM_5_AutoML_20210531_005051                       </td><td style=\"text-align: right;\">        773238          </td><td style=\"text-align: right;\"> 879.339</td><td style=\"text-align: right;\">773238          </td><td style=\"text-align: right;\"> 533.198</td><td style=\"text-align: right;\">  0.0897376</td></tr>\n",
       "<tr><td>DRF_1_AutoML_20210531_005051                       </td><td style=\"text-align: right;\">        798304          </td><td style=\"text-align: right;\"> 893.478</td><td style=\"text-align: right;\">798304          </td><td style=\"text-align: right;\"> 554.157</td><td style=\"text-align: right;\">  0.0885439</td></tr>\n",
       "<tr><td>GBM_grid__1_AutoML_20210531_005051_model_3         </td><td style=\"text-align: right;\">        873959          </td><td style=\"text-align: right;\"> 934.857</td><td style=\"text-align: right;\">873959          </td><td style=\"text-align: right;\"> 621.517</td><td style=\"text-align: right;\">  0.0974424</td></tr>\n",
       "<tr><td>DeepLearning_grid__3_AutoML_20210531_005051_model_2</td><td style=\"text-align: right;\">        981111          </td><td style=\"text-align: right;\"> 990.511</td><td style=\"text-align: right;\">981111          </td><td style=\"text-align: right;\"> 575.496</td><td style=\"text-align: right;\">  0.0981714</td></tr>\n",
       "<tr><td>XRT_1_AutoML_20210531_005051                       </td><td style=\"text-align: right;\">             1.30067e+06</td><td style=\"text-align: right;\">1140.47 </td><td style=\"text-align: right;\">     1.30067e+06</td><td style=\"text-align: right;\"> 768.528</td><td style=\"text-align: right;\">  0.115847 </td></tr>\n",
       "<tr><td>DeepLearning_grid__2_AutoML_20210531_005051_model_1</td><td style=\"text-align: right;\">             1.50959e+06</td><td style=\"text-align: right;\">1228.65 </td><td style=\"text-align: right;\">     1.50959e+06</td><td style=\"text-align: right;\"> 830.292</td><td style=\"text-align: right;\">  0.139408 </td></tr>\n",
       "<tr><td>GBM_grid__1_AutoML_20210531_005051_model_8         </td><td style=\"text-align: right;\">             2.17691e+06</td><td style=\"text-align: right;\">1475.44 </td><td style=\"text-align: right;\">     2.17691e+06</td><td style=\"text-align: right;\">1182.29 </td><td style=\"text-align: right;\">  0.175482 </td></tr>\n",
       "<tr><td>DeepLearning_grid__2_AutoML_20210531_005051_model_2</td><td style=\"text-align: right;\">             2.50359e+06</td><td style=\"text-align: right;\">1582.27 </td><td style=\"text-align: right;\">     2.50359e+06</td><td style=\"text-align: right;\">1085.99 </td><td style=\"text-align: right;\">  0.167078 </td></tr>\n",
       "<tr><td>DeepLearning_grid__3_AutoML_20210531_005051_model_1</td><td style=\"text-align: right;\">             2.60487e+06</td><td style=\"text-align: right;\">1613.96 </td><td style=\"text-align: right;\">     2.60487e+06</td><td style=\"text-align: right;\">1136.63 </td><td style=\"text-align: right;\">  0.192899 </td></tr>\n",
       "<tr><td>DeepLearning_grid__1_AutoML_20210531_005051_model_1</td><td style=\"text-align: right;\">             2.65581e+06</td><td style=\"text-align: right;\">1629.66 </td><td style=\"text-align: right;\">     2.65581e+06</td><td style=\"text-align: right;\">1206.3  </td><td style=\"text-align: right;\">nan        </td></tr>\n",
       "<tr><td>DeepLearning_grid__2_AutoML_20210531_005051_model_3</td><td style=\"text-align: right;\">             3.60137e+06</td><td style=\"text-align: right;\">1897.73 </td><td style=\"text-align: right;\">     3.60137e+06</td><td style=\"text-align: right;\">1530.83 </td><td style=\"text-align: right;\">  0.197075 </td></tr>\n",
       "<tr><td>DeepLearning_grid__1_AutoML_20210531_005051_model_2</td><td style=\"text-align: right;\">             4.44028e+06</td><td style=\"text-align: right;\">2107.2  </td><td style=\"text-align: right;\">     4.44028e+06</td><td style=\"text-align: right;\">1597.58 </td><td style=\"text-align: right;\">nan        </td></tr>\n",
       "<tr><td>DeepLearning_1_AutoML_20210531_005051              </td><td style=\"text-align: right;\">             4.7419e+06 </td><td style=\"text-align: right;\">2177.59 </td><td style=\"text-align: right;\">     4.7419e+06 </td><td style=\"text-align: right;\">1623.62 </td><td style=\"text-align: right;\">  0.251291 </td></tr>\n",
       "<tr><td>DeepLearning_grid__1_AutoML_20210531_005051_model_3</td><td style=\"text-align: right;\">             4.94854e+06</td><td style=\"text-align: right;\">2224.53 </td><td style=\"text-align: right;\">     4.94854e+06</td><td style=\"text-align: right;\">1767.07 </td><td style=\"text-align: right;\">  0.235854 </td></tr>\n",
       "<tr><td>GLM_1_AutoML_20210531_005051                       </td><td style=\"text-align: right;\">             1.61e+07   </td><td style=\"text-align: right;\">4012.48 </td><td style=\"text-align: right;\">     1.61e+07   </td><td style=\"text-align: right;\">3515.65 </td><td style=\"text-align: right;\">  0.424207 </td></tr>\n",
       "</tbody>\n",
       "</table>"
      ]
     },
     "metadata": {},
     "output_type": "display_data"
    },
    {
     "name": "stdout",
     "output_type": "stream",
     "text": [
      "\n",
      "num :  8\n",
      "pred :  1344\n"
     ]
    },
    {
     "name": "stderr",
     "output_type": "stream",
     "text": [
      "\r",
      " 13%|██████████▏                                                                 | 8/60 [2:34:13<17:27:54, 1209.13s/it]"
     ]
    },
    {
     "name": "stdout",
     "output_type": "stream",
     "text": [
      "\n",
      "01:11:29.957: AutoML: XGBoost is not available; skipping it.\n",
      "\n"
     ]
    },
    {
     "data": {
      "text/html": [
       "<table>\n",
       "<thead>\n",
       "<tr><th>model_id                                           </th><th style=\"text-align: right;\">  mean_residual_deviance</th><th style=\"text-align: right;\">   rmse</th><th style=\"text-align: right;\">    mse</th><th style=\"text-align: right;\">    mae</th><th style=\"text-align: right;\">    rmsle</th></tr>\n",
       "</thead>\n",
       "<tbody>\n",
       "<tr><td>GBM_4_AutoML_20210531_011129                       </td><td style=\"text-align: right;\">                 1796.4 </td><td style=\"text-align: right;\">42.3839</td><td style=\"text-align: right;\">1796.4 </td><td style=\"text-align: right;\">26.993 </td><td style=\"text-align: right;\">0.0368177</td></tr>\n",
       "<tr><td>GBM_3_AutoML_20210531_011129                       </td><td style=\"text-align: right;\">                 1804.86</td><td style=\"text-align: right;\">42.4836</td><td style=\"text-align: right;\">1804.86</td><td style=\"text-align: right;\">27.3749</td><td style=\"text-align: right;\">0.0369139</td></tr>\n",
       "<tr><td>GBM_2_AutoML_20210531_011129                       </td><td style=\"text-align: right;\">                 1851.3 </td><td style=\"text-align: right;\">43.0268</td><td style=\"text-align: right;\">1851.3 </td><td style=\"text-align: right;\">27.647 </td><td style=\"text-align: right;\">0.0374092</td></tr>\n",
       "<tr><td>GBM_grid__1_AutoML_20210531_011129_model_3         </td><td style=\"text-align: right;\">                 1862.79</td><td style=\"text-align: right;\">43.1601</td><td style=\"text-align: right;\">1862.79</td><td style=\"text-align: right;\">27.1364</td><td style=\"text-align: right;\">0.0376148</td></tr>\n",
       "<tr><td>GBM_grid__1_AutoML_20210531_011129_model_7         </td><td style=\"text-align: right;\">                 1867.5 </td><td style=\"text-align: right;\">43.2145</td><td style=\"text-align: right;\">1867.5 </td><td style=\"text-align: right;\">27.9611</td><td style=\"text-align: right;\">0.0376349</td></tr>\n",
       "<tr><td>GBM_grid__1_AutoML_20210531_011129_model_1         </td><td style=\"text-align: right;\">                 1873.83</td><td style=\"text-align: right;\">43.2878</td><td style=\"text-align: right;\">1873.83</td><td style=\"text-align: right;\">27.4147</td><td style=\"text-align: right;\">0.0377283</td></tr>\n",
       "<tr><td>GBM_1_AutoML_20210531_011129                       </td><td style=\"text-align: right;\">                 1883.8 </td><td style=\"text-align: right;\">43.4028</td><td style=\"text-align: right;\">1883.8 </td><td style=\"text-align: right;\">27.3309</td><td style=\"text-align: right;\">0.0378147</td></tr>\n",
       "<tr><td>GBM_grid__1_AutoML_20210531_011129_model_2         </td><td style=\"text-align: right;\">                 1895.12</td><td style=\"text-align: right;\">43.533 </td><td style=\"text-align: right;\">1895.12</td><td style=\"text-align: right;\">27.5425</td><td style=\"text-align: right;\">0.0380348</td></tr>\n",
       "<tr><td>GBM_grid__1_AutoML_20210531_011129_model_5         </td><td style=\"text-align: right;\">                 1895.96</td><td style=\"text-align: right;\">43.5427</td><td style=\"text-align: right;\">1895.96</td><td style=\"text-align: right;\">27.9639</td><td style=\"text-align: right;\">0.037897 </td></tr>\n",
       "<tr><td>GBM_grid__1_AutoML_20210531_011129_model_4         </td><td style=\"text-align: right;\">                 1909.76</td><td style=\"text-align: right;\">43.7008</td><td style=\"text-align: right;\">1909.76</td><td style=\"text-align: right;\">28.218 </td><td style=\"text-align: right;\">0.0380625</td></tr>\n",
       "<tr><td>DRF_1_AutoML_20210531_011129                       </td><td style=\"text-align: right;\">                 1933.83</td><td style=\"text-align: right;\">43.9754</td><td style=\"text-align: right;\">1933.83</td><td style=\"text-align: right;\">26.9242</td><td style=\"text-align: right;\">0.0384632</td></tr>\n",
       "<tr><td>XRT_1_AutoML_20210531_011129                       </td><td style=\"text-align: right;\">                 1993.97</td><td style=\"text-align: right;\">44.6539</td><td style=\"text-align: right;\">1993.97</td><td style=\"text-align: right;\">27.8797</td><td style=\"text-align: right;\">0.0389531</td></tr>\n",
       "<tr><td>GBM_5_AutoML_20210531_011129                       </td><td style=\"text-align: right;\">                 2160.52</td><td style=\"text-align: right;\">46.4813</td><td style=\"text-align: right;\">2160.52</td><td style=\"text-align: right;\">29.8694</td><td style=\"text-align: right;\">0.0404897</td></tr>\n",
       "<tr><td>StackedEnsemble_AllModels_AutoML_20210531_011129   </td><td style=\"text-align: right;\">                 2267.5 </td><td style=\"text-align: right;\">47.6183</td><td style=\"text-align: right;\">2267.5 </td><td style=\"text-align: right;\">31.6276</td><td style=\"text-align: right;\">0.0414356</td></tr>\n",
       "<tr><td>GBM_grid__1_AutoML_20210531_011129_model_6         </td><td style=\"text-align: right;\">                 2276.61</td><td style=\"text-align: right;\">47.7139</td><td style=\"text-align: right;\">2276.61</td><td style=\"text-align: right;\">30.9751</td><td style=\"text-align: right;\">0.0414954</td></tr>\n",
       "<tr><td>DeepLearning_grid__2_AutoML_20210531_011129_model_1</td><td style=\"text-align: right;\">                 2285.12</td><td style=\"text-align: right;\">47.8029</td><td style=\"text-align: right;\">2285.12</td><td style=\"text-align: right;\">32.555 </td><td style=\"text-align: right;\">0.0406765</td></tr>\n",
       "<tr><td>StackedEnsemble_BestOfFamily_AutoML_20210531_011129</td><td style=\"text-align: right;\">                 2289.07</td><td style=\"text-align: right;\">47.8442</td><td style=\"text-align: right;\">2289.07</td><td style=\"text-align: right;\">31.8529</td><td style=\"text-align: right;\">0.0416159</td></tr>\n",
       "<tr><td>DeepLearning_grid__3_AutoML_20210531_011129_model_1</td><td style=\"text-align: right;\">                 2307.63</td><td style=\"text-align: right;\">48.0378</td><td style=\"text-align: right;\">2307.63</td><td style=\"text-align: right;\">33.5049</td><td style=\"text-align: right;\">0.0405031</td></tr>\n",
       "<tr><td>DeepLearning_grid__3_AutoML_20210531_011129_model_2</td><td style=\"text-align: right;\">                 2461.65</td><td style=\"text-align: right;\">49.615 </td><td style=\"text-align: right;\">2461.65</td><td style=\"text-align: right;\">31.7903</td><td style=\"text-align: right;\">0.0430649</td></tr>\n",
       "<tr><td>DeepLearning_grid__2_AutoML_20210531_011129_model_2</td><td style=\"text-align: right;\">                 2498.28</td><td style=\"text-align: right;\">49.9828</td><td style=\"text-align: right;\">2498.28</td><td style=\"text-align: right;\">32.3137</td><td style=\"text-align: right;\">0.0432966</td></tr>\n",
       "<tr><td>DeepLearning_grid__3_AutoML_20210531_011129_model_3</td><td style=\"text-align: right;\">                 2499.96</td><td style=\"text-align: right;\">49.9996</td><td style=\"text-align: right;\">2499.96</td><td style=\"text-align: right;\">34.3056</td><td style=\"text-align: right;\">0.0431176</td></tr>\n",
       "<tr><td>DeepLearning_grid__2_AutoML_20210531_011129_model_3</td><td style=\"text-align: right;\">                 2503.27</td><td style=\"text-align: right;\">50.0327</td><td style=\"text-align: right;\">2503.27</td><td style=\"text-align: right;\">34.6126</td><td style=\"text-align: right;\">0.0430991</td></tr>\n",
       "<tr><td>DeepLearning_grid__1_AutoML_20210531_011129_model_1</td><td style=\"text-align: right;\">                 2520.13</td><td style=\"text-align: right;\">50.2009</td><td style=\"text-align: right;\">2520.13</td><td style=\"text-align: right;\">34.6471</td><td style=\"text-align: right;\">0.0428868</td></tr>\n",
       "<tr><td>DeepLearning_grid__1_AutoML_20210531_011129_model_2</td><td style=\"text-align: right;\">                 2631.41</td><td style=\"text-align: right;\">51.2972</td><td style=\"text-align: right;\">2631.41</td><td style=\"text-align: right;\">34.0084</td><td style=\"text-align: right;\">0.0442983</td></tr>\n",
       "<tr><td>DeepLearning_grid__1_AutoML_20210531_011129_model_3</td><td style=\"text-align: right;\">                 2670.14</td><td style=\"text-align: right;\">51.6734</td><td style=\"text-align: right;\">2670.14</td><td style=\"text-align: right;\">33.5103</td><td style=\"text-align: right;\">0.0447527</td></tr>\n",
       "<tr><td>DeepLearning_1_AutoML_20210531_011129              </td><td style=\"text-align: right;\">                 2898.35</td><td style=\"text-align: right;\">53.8363</td><td style=\"text-align: right;\">2898.35</td><td style=\"text-align: right;\">38.3371</td><td style=\"text-align: right;\">0.0459543</td></tr>\n",
       "<tr><td>GLM_1_AutoML_20210531_011129                       </td><td style=\"text-align: right;\">                 3083.98</td><td style=\"text-align: right;\">55.5336</td><td style=\"text-align: right;\">3083.98</td><td style=\"text-align: right;\">37.3752</td><td style=\"text-align: right;\">0.0476484</td></tr>\n",
       "</tbody>\n",
       "</table>"
      ]
     },
     "metadata": {},
     "output_type": "display_data"
    },
    {
     "name": "stdout",
     "output_type": "stream",
     "text": [
      "\n",
      "num :  9\n",
      "pred :  1512\n"
     ]
    },
    {
     "name": "stderr",
     "output_type": "stream",
     "text": [
      "\r",
      " 15%|███████████▍                                                                | 9/60 [2:50:25<16:07:07, 1137.80s/it]"
     ]
    },
    {
     "name": "stdout",
     "output_type": "stream",
     "text": [
      "\n",
      "01:27:41.315: AutoML: XGBoost is not available; skipping it.\n",
      "\n"
     ]
    },
    {
     "data": {
      "text/html": [
       "<table>\n",
       "<thead>\n",
       "<tr><th>model_id                                           </th><th style=\"text-align: right;\">  mean_residual_deviance</th><th style=\"text-align: right;\">    rmse</th><th style=\"text-align: right;\">             mse</th><th style=\"text-align: right;\">     mae</th><th style=\"text-align: right;\">     rmsle</th></tr>\n",
       "</thead>\n",
       "<tbody>\n",
       "<tr><td>StackedEnsemble_AllModels_AutoML_20210531_012741   </td><td style=\"text-align: right;\">         23941          </td><td style=\"text-align: right;\"> 154.729</td><td style=\"text-align: right;\"> 23941          </td><td style=\"text-align: right;\"> 72.6189</td><td style=\"text-align: right;\">  0.140787</td></tr>\n",
       "<tr><td>StackedEnsemble_BestOfFamily_AutoML_20210531_012741</td><td style=\"text-align: right;\">         24319.7        </td><td style=\"text-align: right;\"> 155.948</td><td style=\"text-align: right;\"> 24319.7        </td><td style=\"text-align: right;\"> 73.2725</td><td style=\"text-align: right;\">  0.140364</td></tr>\n",
       "<tr><td>GBM_3_AutoML_20210531_012741                       </td><td style=\"text-align: right;\">         24462.8        </td><td style=\"text-align: right;\"> 156.406</td><td style=\"text-align: right;\"> 24462.8        </td><td style=\"text-align: right;\"> 75.4062</td><td style=\"text-align: right;\">  0.144804</td></tr>\n",
       "<tr><td>GBM_4_AutoML_20210531_012741                       </td><td style=\"text-align: right;\">         26286          </td><td style=\"text-align: right;\"> 162.13 </td><td style=\"text-align: right;\"> 26286          </td><td style=\"text-align: right;\"> 83.218 </td><td style=\"text-align: right;\">  0.151007</td></tr>\n",
       "<tr><td>GBM_grid__1_AutoML_20210531_012741_model_7         </td><td style=\"text-align: right;\">         26329.6        </td><td style=\"text-align: right;\"> 162.264</td><td style=\"text-align: right;\"> 26329.6        </td><td style=\"text-align: right;\"> 79.7487</td><td style=\"text-align: right;\">  0.151025</td></tr>\n",
       "<tr><td>GBM_1_AutoML_20210531_012741                       </td><td style=\"text-align: right;\">         27547.2        </td><td style=\"text-align: right;\"> 165.973</td><td style=\"text-align: right;\"> 27547.2        </td><td style=\"text-align: right;\"> 71.9024</td><td style=\"text-align: right;\">  0.143595</td></tr>\n",
       "<tr><td>GBM_grid__1_AutoML_20210531_012741_model_2         </td><td style=\"text-align: right;\">         28521.4        </td><td style=\"text-align: right;\"> 168.883</td><td style=\"text-align: right;\"> 28521.4        </td><td style=\"text-align: right;\"> 84.542 </td><td style=\"text-align: right;\">  0.162152</td></tr>\n",
       "<tr><td>GBM_grid__1_AutoML_20210531_012741_model_4         </td><td style=\"text-align: right;\">         28749.3        </td><td style=\"text-align: right;\"> 169.556</td><td style=\"text-align: right;\"> 28749.3        </td><td style=\"text-align: right;\"> 74.8263</td><td style=\"text-align: right;\">nan       </td></tr>\n",
       "<tr><td>DRF_1_AutoML_20210531_012741                       </td><td style=\"text-align: right;\">         30991.3        </td><td style=\"text-align: right;\"> 176.043</td><td style=\"text-align: right;\"> 30991.3        </td><td style=\"text-align: right;\"> 89.0955</td><td style=\"text-align: right;\">  0.15116 </td></tr>\n",
       "<tr><td>GBM_grid__1_AutoML_20210531_012741_model_5         </td><td style=\"text-align: right;\">         31011.9        </td><td style=\"text-align: right;\"> 176.102</td><td style=\"text-align: right;\"> 31011.9        </td><td style=\"text-align: right;\"> 98.8816</td><td style=\"text-align: right;\">  0.1804  </td></tr>\n",
       "<tr><td>GBM_grid__1_AutoML_20210531_012741_model_3         </td><td style=\"text-align: right;\">         31157.9        </td><td style=\"text-align: right;\"> 176.516</td><td style=\"text-align: right;\"> 31157.9        </td><td style=\"text-align: right;\"> 99.5783</td><td style=\"text-align: right;\">  0.173873</td></tr>\n",
       "<tr><td>GBM_2_AutoML_20210531_012741                       </td><td style=\"text-align: right;\">         32081.6        </td><td style=\"text-align: right;\"> 179.113</td><td style=\"text-align: right;\"> 32081.6        </td><td style=\"text-align: right;\"> 99.9284</td><td style=\"text-align: right;\">  0.17126 </td></tr>\n",
       "<tr><td>GBM_grid__1_AutoML_20210531_012741_model_1         </td><td style=\"text-align: right;\">         32946.1        </td><td style=\"text-align: right;\"> 181.511</td><td style=\"text-align: right;\"> 32946.1        </td><td style=\"text-align: right;\">103.739 </td><td style=\"text-align: right;\">  0.182919</td></tr>\n",
       "<tr><td>GBM_5_AutoML_20210531_012741                       </td><td style=\"text-align: right;\">         39927          </td><td style=\"text-align: right;\"> 199.817</td><td style=\"text-align: right;\"> 39927          </td><td style=\"text-align: right;\"> 94.0515</td><td style=\"text-align: right;\">  0.169319</td></tr>\n",
       "<tr><td>GBM_grid__1_AutoML_20210531_012741_model_6         </td><td style=\"text-align: right;\">         43215.5        </td><td style=\"text-align: right;\"> 207.883</td><td style=\"text-align: right;\"> 43215.5        </td><td style=\"text-align: right;\"> 96.2095</td><td style=\"text-align: right;\">  0.171825</td></tr>\n",
       "<tr><td>XRT_1_AutoML_20210531_012741                       </td><td style=\"text-align: right;\">         44027.3        </td><td style=\"text-align: right;\"> 209.827</td><td style=\"text-align: right;\"> 44027.3        </td><td style=\"text-align: right;\">121.53  </td><td style=\"text-align: right;\">  0.186737</td></tr>\n",
       "<tr><td>DeepLearning_grid__3_AutoML_20210531_012741_model_2</td><td style=\"text-align: right;\">         48489.7        </td><td style=\"text-align: right;\"> 220.204</td><td style=\"text-align: right;\"> 48489.7        </td><td style=\"text-align: right;\">110.989 </td><td style=\"text-align: right;\">  0.176565</td></tr>\n",
       "<tr><td>DeepLearning_grid__2_AutoML_20210531_012741_model_1</td><td style=\"text-align: right;\">         58484.9        </td><td style=\"text-align: right;\"> 241.837</td><td style=\"text-align: right;\"> 58484.9        </td><td style=\"text-align: right;\">131.437 </td><td style=\"text-align: right;\">  0.236145</td></tr>\n",
       "<tr><td>DeepLearning_grid__3_AutoML_20210531_012741_model_1</td><td style=\"text-align: right;\">         59709.5        </td><td style=\"text-align: right;\"> 244.355</td><td style=\"text-align: right;\"> 59709.5        </td><td style=\"text-align: right;\">139.424 </td><td style=\"text-align: right;\">  0.222733</td></tr>\n",
       "<tr><td>GBM_grid__1_AutoML_20210531_012741_model_8         </td><td style=\"text-align: right;\">         73322.2        </td><td style=\"text-align: right;\"> 270.781</td><td style=\"text-align: right;\"> 73322.2        </td><td style=\"text-align: right;\">179.138 </td><td style=\"text-align: right;\">  0.270606</td></tr>\n",
       "<tr><td>DeepLearning_grid__1_AutoML_20210531_012741_model_1</td><td style=\"text-align: right;\">         98909.1        </td><td style=\"text-align: right;\"> 314.498</td><td style=\"text-align: right;\"> 98909.1        </td><td style=\"text-align: right;\">210.82  </td><td style=\"text-align: right;\">nan       </td></tr>\n",
       "<tr><td>DeepLearning_grid__2_AutoML_20210531_012741_model_2</td><td style=\"text-align: right;\">        103894          </td><td style=\"text-align: right;\"> 322.326</td><td style=\"text-align: right;\">103894          </td><td style=\"text-align: right;\">185.534 </td><td style=\"text-align: right;\">  0.266389</td></tr>\n",
       "<tr><td>DeepLearning_grid__1_AutoML_20210531_012741_model_2</td><td style=\"text-align: right;\">        219249          </td><td style=\"text-align: right;\"> 468.24 </td><td style=\"text-align: right;\">219249          </td><td style=\"text-align: right;\">335.63  </td><td style=\"text-align: right;\">nan       </td></tr>\n",
       "<tr><td>DeepLearning_1_AutoML_20210531_012741              </td><td style=\"text-align: right;\">        229647          </td><td style=\"text-align: right;\"> 479.215</td><td style=\"text-align: right;\">229647          </td><td style=\"text-align: right;\">368.799 </td><td style=\"text-align: right;\">nan       </td></tr>\n",
       "<tr><td>DeepLearning_grid__1_AutoML_20210531_012741_model_3</td><td style=\"text-align: right;\">        269648          </td><td style=\"text-align: right;\"> 519.276</td><td style=\"text-align: right;\">269648          </td><td style=\"text-align: right;\">425.833 </td><td style=\"text-align: right;\">nan       </td></tr>\n",
       "<tr><td>DeepLearning_grid__2_AutoML_20210531_012741_model_3</td><td style=\"text-align: right;\">        293039          </td><td style=\"text-align: right;\"> 541.331</td><td style=\"text-align: right;\">293039          </td><td style=\"text-align: right;\">454.217 </td><td style=\"text-align: right;\">  0.5197  </td></tr>\n",
       "<tr><td>GLM_1_AutoML_20210531_012741                       </td><td style=\"text-align: right;\">             1.06453e+06</td><td style=\"text-align: right;\">1031.76 </td><td style=\"text-align: right;\">     1.06453e+06</td><td style=\"text-align: right;\">992.539 </td><td style=\"text-align: right;\">  0.896014</td></tr>\n",
       "</tbody>\n",
       "</table>"
      ]
     },
     "metadata": {},
     "output_type": "display_data"
    },
    {
     "name": "stdout",
     "output_type": "stream",
     "text": [
      "\n",
      "num :  10\n",
      "pred :  1680\n"
     ]
    },
    {
     "name": "stderr",
     "output_type": "stream",
     "text": [
      "\r",
      " 17%|████████████▌                                                              | 10/60 [3:10:38<16:06:59, 1160.40s/it]"
     ]
    },
    {
     "name": "stdout",
     "output_type": "stream",
     "text": [
      "\n",
      "01:47:54.432: AutoML: XGBoost is not available; skipping it.\n",
      "\n"
     ]
    },
    {
     "data": {
      "text/html": [
       "<table>\n",
       "<thead>\n",
       "<tr><th>model_id                                           </th><th style=\"text-align: right;\">  mean_residual_deviance</th><th style=\"text-align: right;\">    rmse</th><th style=\"text-align: right;\">             mse</th><th style=\"text-align: right;\">      mae</th><th style=\"text-align: right;\">      rmsle</th></tr>\n",
       "</thead>\n",
       "<tbody>\n",
       "<tr><td>StackedEnsemble_AllModels_AutoML_20210531_014754   </td><td style=\"text-align: right;\">         13237          </td><td style=\"text-align: right;\"> 115.052</td><td style=\"text-align: right;\"> 13237          </td><td style=\"text-align: right;\">  77.5299</td><td style=\"text-align: right;\">  0.0608679</td></tr>\n",
       "<tr><td>GBM_1_AutoML_20210531_014754                       </td><td style=\"text-align: right;\">         13959          </td><td style=\"text-align: right;\"> 118.148</td><td style=\"text-align: right;\"> 13959          </td><td style=\"text-align: right;\">  80.2835</td><td style=\"text-align: right;\">  0.0655111</td></tr>\n",
       "<tr><td>StackedEnsemble_BestOfFamily_AutoML_20210531_014754</td><td style=\"text-align: right;\">         13988.7        </td><td style=\"text-align: right;\"> 118.274</td><td style=\"text-align: right;\"> 13988.7        </td><td style=\"text-align: right;\">  80.1134</td><td style=\"text-align: right;\">  0.0654834</td></tr>\n",
       "<tr><td>GBM_grid__1_AutoML_20210531_014754_model_4         </td><td style=\"text-align: right;\">         15500.8        </td><td style=\"text-align: right;\"> 124.502</td><td style=\"text-align: right;\"> 15500.8        </td><td style=\"text-align: right;\">  82.0198</td><td style=\"text-align: right;\">  0.0597284</td></tr>\n",
       "<tr><td>GBM_3_AutoML_20210531_014754                       </td><td style=\"text-align: right;\">         17512.8        </td><td style=\"text-align: right;\"> 132.336</td><td style=\"text-align: right;\"> 17512.8        </td><td style=\"text-align: right;\">  94.4916</td><td style=\"text-align: right;\">  0.082133 </td></tr>\n",
       "<tr><td>GBM_grid__1_AutoML_20210531_014754_model_7         </td><td style=\"text-align: right;\">         18969.4        </td><td style=\"text-align: right;\"> 137.729</td><td style=\"text-align: right;\"> 18969.4        </td><td style=\"text-align: right;\">  96.9866</td><td style=\"text-align: right;\">  0.0847682</td></tr>\n",
       "<tr><td>GBM_5_AutoML_20210531_014754                       </td><td style=\"text-align: right;\">         20070.9        </td><td style=\"text-align: right;\"> 141.672</td><td style=\"text-align: right;\"> 20070.9        </td><td style=\"text-align: right;\">  99.1579</td><td style=\"text-align: right;\">  0.0806818</td></tr>\n",
       "<tr><td>GBM_grid__1_AutoML_20210531_014754_model_6         </td><td style=\"text-align: right;\">         20534.8        </td><td style=\"text-align: right;\"> 143.3  </td><td style=\"text-align: right;\"> 20534.8        </td><td style=\"text-align: right;\">  99.0717</td><td style=\"text-align: right;\">  0.0748074</td></tr>\n",
       "<tr><td>GBM_grid__1_AutoML_20210531_014754_model_2         </td><td style=\"text-align: right;\">         25251.1        </td><td style=\"text-align: right;\"> 158.906</td><td style=\"text-align: right;\"> 25251.1        </td><td style=\"text-align: right;\"> 108.416 </td><td style=\"text-align: right;\">  0.103491 </td></tr>\n",
       "<tr><td>GBM_4_AutoML_20210531_014754                       </td><td style=\"text-align: right;\">         25905          </td><td style=\"text-align: right;\"> 160.95 </td><td style=\"text-align: right;\"> 25905          </td><td style=\"text-align: right;\"> 114.559 </td><td style=\"text-align: right;\">  0.112009 </td></tr>\n",
       "<tr><td>DRF_1_AutoML_20210531_014754                       </td><td style=\"text-align: right;\">         26454.4        </td><td style=\"text-align: right;\"> 162.648</td><td style=\"text-align: right;\"> 26454.4        </td><td style=\"text-align: right;\"> 109.862 </td><td style=\"text-align: right;\">  0.103854 </td></tr>\n",
       "<tr><td>GBM_grid__1_AutoML_20210531_014754_model_5         </td><td style=\"text-align: right;\">         30483.6        </td><td style=\"text-align: right;\"> 174.595</td><td style=\"text-align: right;\"> 30483.6        </td><td style=\"text-align: right;\"> 124.658 </td><td style=\"text-align: right;\">  0.12553  </td></tr>\n",
       "<tr><td>GBM_grid__1_AutoML_20210531_014754_model_1         </td><td style=\"text-align: right;\">         35680.4        </td><td style=\"text-align: right;\"> 188.892</td><td style=\"text-align: right;\"> 35680.4        </td><td style=\"text-align: right;\"> 136.325 </td><td style=\"text-align: right;\">  0.138037 </td></tr>\n",
       "<tr><td>GBM_2_AutoML_20210531_014754                       </td><td style=\"text-align: right;\">         36442.4        </td><td style=\"text-align: right;\"> 190.899</td><td style=\"text-align: right;\"> 36442.4        </td><td style=\"text-align: right;\"> 134.541 </td><td style=\"text-align: right;\">  0.13351  </td></tr>\n",
       "<tr><td>GBM_grid__1_AutoML_20210531_014754_model_3         </td><td style=\"text-align: right;\">         37069.8        </td><td style=\"text-align: right;\"> 192.535</td><td style=\"text-align: right;\"> 37069.8        </td><td style=\"text-align: right;\"> 138.689 </td><td style=\"text-align: right;\">  0.140367 </td></tr>\n",
       "<tr><td>XRT_1_AutoML_20210531_014754                       </td><td style=\"text-align: right;\">         75494.4        </td><td style=\"text-align: right;\"> 274.762</td><td style=\"text-align: right;\"> 75494.4        </td><td style=\"text-align: right;\"> 185.734 </td><td style=\"text-align: right;\">  0.169307 </td></tr>\n",
       "<tr><td>DeepLearning_grid__3_AutoML_20210531_014754_model_2</td><td style=\"text-align: right;\">         75586.8        </td><td style=\"text-align: right;\"> 274.93 </td><td style=\"text-align: right;\"> 75586.8        </td><td style=\"text-align: right;\"> 181.006 </td><td style=\"text-align: right;\">nan        </td></tr>\n",
       "<tr><td>GBM_grid__1_AutoML_20210531_014754_model_8         </td><td style=\"text-align: right;\">         93523.9        </td><td style=\"text-align: right;\"> 305.817</td><td style=\"text-align: right;\"> 93523.9        </td><td style=\"text-align: right;\"> 222.385 </td><td style=\"text-align: right;\">  0.248257 </td></tr>\n",
       "<tr><td>DeepLearning_grid__2_AutoML_20210531_014754_model_1</td><td style=\"text-align: right;\">        133827          </td><td style=\"text-align: right;\"> 365.823</td><td style=\"text-align: right;\">133827          </td><td style=\"text-align: right;\"> 254.277 </td><td style=\"text-align: right;\">nan        </td></tr>\n",
       "<tr><td>DeepLearning_grid__2_AutoML_20210531_014754_model_2</td><td style=\"text-align: right;\">        188432          </td><td style=\"text-align: right;\"> 434.088</td><td style=\"text-align: right;\">188432          </td><td style=\"text-align: right;\"> 298.09  </td><td style=\"text-align: right;\">  0.27053  </td></tr>\n",
       "<tr><td>DeepLearning_grid__1_AutoML_20210531_014754_model_1</td><td style=\"text-align: right;\">        222897          </td><td style=\"text-align: right;\"> 472.12 </td><td style=\"text-align: right;\">222897          </td><td style=\"text-align: right;\"> 346.647 </td><td style=\"text-align: right;\">nan        </td></tr>\n",
       "<tr><td>DeepLearning_grid__3_AutoML_20210531_014754_model_1</td><td style=\"text-align: right;\">        245440          </td><td style=\"text-align: right;\"> 495.419</td><td style=\"text-align: right;\">245440          </td><td style=\"text-align: right;\"> 347.918 </td><td style=\"text-align: right;\">nan        </td></tr>\n",
       "<tr><td>DeepLearning_grid__1_AutoML_20210531_014754_model_2</td><td style=\"text-align: right;\">        458641          </td><td style=\"text-align: right;\"> 677.23 </td><td style=\"text-align: right;\">458641          </td><td style=\"text-align: right;\"> 455.207 </td><td style=\"text-align: right;\">nan        </td></tr>\n",
       "<tr><td>DeepLearning_grid__2_AutoML_20210531_014754_model_3</td><td style=\"text-align: right;\">        677959          </td><td style=\"text-align: right;\"> 823.383</td><td style=\"text-align: right;\">677959          </td><td style=\"text-align: right;\"> 687.669 </td><td style=\"text-align: right;\">  0.491962 </td></tr>\n",
       "<tr><td>DeepLearning_1_AutoML_20210531_014754              </td><td style=\"text-align: right;\">        701194          </td><td style=\"text-align: right;\"> 837.373</td><td style=\"text-align: right;\">701194          </td><td style=\"text-align: right;\"> 654.081 </td><td style=\"text-align: right;\">nan        </td></tr>\n",
       "<tr><td>DeepLearning_grid__1_AutoML_20210531_014754_model_3</td><td style=\"text-align: right;\">             1.08182e+06</td><td style=\"text-align: right;\">1040.11 </td><td style=\"text-align: right;\">     1.08182e+06</td><td style=\"text-align: right;\"> 858.203 </td><td style=\"text-align: right;\">nan        </td></tr>\n",
       "<tr><td>GLM_1_AutoML_20210531_014754                       </td><td style=\"text-align: right;\">             3.255e+06  </td><td style=\"text-align: right;\">1804.16 </td><td style=\"text-align: right;\">     3.255e+06  </td><td style=\"text-align: right;\">1731.42  </td><td style=\"text-align: right;\">  0.974878 </td></tr>\n",
       "</tbody>\n",
       "</table>"
      ]
     },
     "metadata": {},
     "output_type": "display_data"
    },
    {
     "name": "stdout",
     "output_type": "stream",
     "text": [
      "\n",
      "num :  11\n",
      "pred :  1848\n"
     ]
    },
    {
     "name": "stderr",
     "output_type": "stream",
     "text": [
      "\r",
      " 18%|█████████████▋                                                             | 11/60 [3:30:56<16:01:42, 1177.60s/it]"
     ]
    },
    {
     "name": "stdout",
     "output_type": "stream",
     "text": [
      "\n",
      "02:08:12.177: AutoML: XGBoost is not available; skipping it.\n",
      "\n"
     ]
    },
    {
     "data": {
      "text/html": [
       "<table>\n",
       "<thead>\n",
       "<tr><th>model_id                                           </th><th style=\"text-align: right;\">  mean_residual_deviance</th><th style=\"text-align: right;\">     rmse</th><th style=\"text-align: right;\">             mse</th><th style=\"text-align: right;\">      mae</th><th style=\"text-align: right;\">      rmsle</th></tr>\n",
       "</thead>\n",
       "<tbody>\n",
       "<tr><td>StackedEnsemble_AllModels_AutoML_20210531_020812   </td><td style=\"text-align: right;\">          6193.69       </td><td style=\"text-align: right;\">  78.7   </td><td style=\"text-align: right;\">  6193.69       </td><td style=\"text-align: right;\">  53.1916</td><td style=\"text-align: right;\">  0.0552164</td></tr>\n",
       "<tr><td>StackedEnsemble_BestOfFamily_AutoML_20210531_020812</td><td style=\"text-align: right;\">          6591.32       </td><td style=\"text-align: right;\">  81.1869</td><td style=\"text-align: right;\">  6591.32       </td><td style=\"text-align: right;\">  55.3846</td><td style=\"text-align: right;\">  0.0574221</td></tr>\n",
       "<tr><td>GBM_4_AutoML_20210531_020812                       </td><td style=\"text-align: right;\">          6655.24       </td><td style=\"text-align: right;\">  81.5797</td><td style=\"text-align: right;\">  6655.24       </td><td style=\"text-align: right;\">  56.3375</td><td style=\"text-align: right;\">  0.0597458</td></tr>\n",
       "<tr><td>GBM_grid__1_AutoML_20210531_020812_model_4         </td><td style=\"text-align: right;\">          7247.48       </td><td style=\"text-align: right;\">  85.1321</td><td style=\"text-align: right;\">  7247.48       </td><td style=\"text-align: right;\">  56.17  </td><td style=\"text-align: right;\">  0.0564763</td></tr>\n",
       "<tr><td>GBM_3_AutoML_20210531_020812                       </td><td style=\"text-align: right;\">          9576.32       </td><td style=\"text-align: right;\">  97.8587</td><td style=\"text-align: right;\">  9576.32       </td><td style=\"text-align: right;\">  69.7349</td><td style=\"text-align: right;\">  0.0823192</td></tr>\n",
       "<tr><td>GBM_1_AutoML_20210531_020812                       </td><td style=\"text-align: right;\">          9687.37       </td><td style=\"text-align: right;\">  98.4244</td><td style=\"text-align: right;\">  9687.37       </td><td style=\"text-align: right;\">  68.0398</td><td style=\"text-align: right;\">  0.0796794</td></tr>\n",
       "<tr><td>GBM_grid__1_AutoML_20210531_020812_model_6         </td><td style=\"text-align: right;\">          9954.48       </td><td style=\"text-align: right;\">  99.7722</td><td style=\"text-align: right;\">  9954.48       </td><td style=\"text-align: right;\">  70.1883</td><td style=\"text-align: right;\">  0.0755424</td></tr>\n",
       "<tr><td>GBM_grid__1_AutoML_20210531_020812_model_1         </td><td style=\"text-align: right;\">         10443.7        </td><td style=\"text-align: right;\"> 102.194 </td><td style=\"text-align: right;\"> 10443.7        </td><td style=\"text-align: right;\">  72.8599</td><td style=\"text-align: right;\">  0.0871841</td></tr>\n",
       "<tr><td>GBM_5_AutoML_20210531_020812                       </td><td style=\"text-align: right;\">         10507          </td><td style=\"text-align: right;\"> 102.504 </td><td style=\"text-align: right;\"> 10507          </td><td style=\"text-align: right;\">  73.8636</td><td style=\"text-align: right;\">  0.0850852</td></tr>\n",
       "<tr><td>GBM_2_AutoML_20210531_020812                       </td><td style=\"text-align: right;\">         10699.9        </td><td style=\"text-align: right;\"> 103.44  </td><td style=\"text-align: right;\"> 10699.9        </td><td style=\"text-align: right;\">  73.2196</td><td style=\"text-align: right;\">  0.0879155</td></tr>\n",
       "<tr><td>GBM_grid__1_AutoML_20210531_020812_model_2         </td><td style=\"text-align: right;\">         11567.3        </td><td style=\"text-align: right;\"> 107.552 </td><td style=\"text-align: right;\"> 11567.3        </td><td style=\"text-align: right;\">  71.2662</td><td style=\"text-align: right;\">  0.0848091</td></tr>\n",
       "<tr><td>GBM_grid__1_AutoML_20210531_020812_model_7         </td><td style=\"text-align: right;\">         11796.7        </td><td style=\"text-align: right;\"> 108.612 </td><td style=\"text-align: right;\"> 11796.7        </td><td style=\"text-align: right;\">  76.7775</td><td style=\"text-align: right;\">  0.0934682</td></tr>\n",
       "<tr><td>GBM_grid__1_AutoML_20210531_020812_model_5         </td><td style=\"text-align: right;\">         17360          </td><td style=\"text-align: right;\"> 131.757 </td><td style=\"text-align: right;\"> 17360          </td><td style=\"text-align: right;\">  93.7953</td><td style=\"text-align: right;\">  0.119944 </td></tr>\n",
       "<tr><td>DeepLearning_grid__3_AutoML_20210531_020812_model_2</td><td style=\"text-align: right;\">         18641.9        </td><td style=\"text-align: right;\"> 136.535 </td><td style=\"text-align: right;\"> 18641.9        </td><td style=\"text-align: right;\">  91.471 </td><td style=\"text-align: right;\">  0.087028 </td></tr>\n",
       "<tr><td>GBM_grid__1_AutoML_20210531_020812_model_3         </td><td style=\"text-align: right;\">         23787.4        </td><td style=\"text-align: right;\"> 154.232 </td><td style=\"text-align: right;\"> 23787.4        </td><td style=\"text-align: right;\"> 111.386 </td><td style=\"text-align: right;\">  0.144875 </td></tr>\n",
       "<tr><td>DRF_1_AutoML_20210531_020812                       </td><td style=\"text-align: right;\">         26604.1        </td><td style=\"text-align: right;\"> 163.108 </td><td style=\"text-align: right;\"> 26604.1        </td><td style=\"text-align: right;\"> 108.562 </td><td style=\"text-align: right;\">  0.121629 </td></tr>\n",
       "<tr><td>XRT_1_AutoML_20210531_020812                       </td><td style=\"text-align: right;\">         36695          </td><td style=\"text-align: right;\"> 191.559 </td><td style=\"text-align: right;\"> 36695          </td><td style=\"text-align: right;\"> 131.658 </td><td style=\"text-align: right;\">  0.149001 </td></tr>\n",
       "<tr><td>GBM_grid__1_AutoML_20210531_020812_model_8         </td><td style=\"text-align: right;\">         48303.3        </td><td style=\"text-align: right;\"> 219.78  </td><td style=\"text-align: right;\"> 48303.3        </td><td style=\"text-align: right;\"> 160.573 </td><td style=\"text-align: right;\">  0.204703 </td></tr>\n",
       "<tr><td>DeepLearning_grid__2_AutoML_20210531_020812_model_1</td><td style=\"text-align: right;\">         51473.8        </td><td style=\"text-align: right;\"> 226.878 </td><td style=\"text-align: right;\"> 51473.8        </td><td style=\"text-align: right;\"> 152.154 </td><td style=\"text-align: right;\">nan        </td></tr>\n",
       "<tr><td>DeepLearning_grid__3_AutoML_20210531_020812_model_1</td><td style=\"text-align: right;\">         70517          </td><td style=\"text-align: right;\"> 265.55  </td><td style=\"text-align: right;\"> 70517          </td><td style=\"text-align: right;\"> 178.372 </td><td style=\"text-align: right;\">  0.213321 </td></tr>\n",
       "<tr><td>DeepLearning_grid__1_AutoML_20210531_020812_model_1</td><td style=\"text-align: right;\">         77361.2        </td><td style=\"text-align: right;\"> 278.139 </td><td style=\"text-align: right;\"> 77361.2        </td><td style=\"text-align: right;\"> 201.267 </td><td style=\"text-align: right;\">nan        </td></tr>\n",
       "<tr><td>DeepLearning_grid__2_AutoML_20210531_020812_model_2</td><td style=\"text-align: right;\">        114226          </td><td style=\"text-align: right;\"> 337.973 </td><td style=\"text-align: right;\">114226          </td><td style=\"text-align: right;\"> 229.819 </td><td style=\"text-align: right;\">  0.265769 </td></tr>\n",
       "<tr><td>DeepLearning_grid__1_AutoML_20210531_020812_model_3</td><td style=\"text-align: right;\">        303518          </td><td style=\"text-align: right;\"> 550.925 </td><td style=\"text-align: right;\">303518          </td><td style=\"text-align: right;\"> 447.571 </td><td style=\"text-align: right;\">nan        </td></tr>\n",
       "<tr><td>DeepLearning_1_AutoML_20210531_020812              </td><td style=\"text-align: right;\">        324498          </td><td style=\"text-align: right;\"> 569.648 </td><td style=\"text-align: right;\">324498          </td><td style=\"text-align: right;\"> 424.743 </td><td style=\"text-align: right;\">nan        </td></tr>\n",
       "<tr><td>DeepLearning_grid__2_AutoML_20210531_020812_model_3</td><td style=\"text-align: right;\">        345786          </td><td style=\"text-align: right;\"> 588.035 </td><td style=\"text-align: right;\">345786          </td><td style=\"text-align: right;\"> 506.127 </td><td style=\"text-align: right;\">  0.445792 </td></tr>\n",
       "<tr><td>DeepLearning_grid__1_AutoML_20210531_020812_model_2</td><td style=\"text-align: right;\">        383663          </td><td style=\"text-align: right;\"> 619.405 </td><td style=\"text-align: right;\">383663          </td><td style=\"text-align: right;\"> 442.14  </td><td style=\"text-align: right;\">nan        </td></tr>\n",
       "<tr><td>GLM_1_AutoML_20210531_020812                       </td><td style=\"text-align: right;\">             1.46961e+06</td><td style=\"text-align: right;\">1212.27  </td><td style=\"text-align: right;\">     1.46961e+06</td><td style=\"text-align: right;\">1152.76  </td><td style=\"text-align: right;\">  0.878231 </td></tr>\n",
       "</tbody>\n",
       "</table>"
      ]
     },
     "metadata": {},
     "output_type": "display_data"
    },
    {
     "name": "stdout",
     "output_type": "stream",
     "text": [
      "\n",
      "num :  12\n",
      "pred :  2016\n"
     ]
    },
    {
     "name": "stderr",
     "output_type": "stream",
     "text": [
      "\r",
      " 20%|███████████████                                                            | 12/60 [3:52:38<16:12:01, 1215.03s/it]"
     ]
    },
    {
     "name": "stdout",
     "output_type": "stream",
     "text": [
      "\n",
      "02:29:54.547: AutoML: XGBoost is not available; skipping it.\n",
      "\n"
     ]
    },
    {
     "data": {
      "text/html": [
       "<table>\n",
       "<thead>\n",
       "<tr><th>model_id                                           </th><th style=\"text-align: right;\">  mean_residual_deviance</th><th style=\"text-align: right;\">    rmse</th><th style=\"text-align: right;\">     mse</th><th style=\"text-align: right;\">     mae</th><th style=\"text-align: right;\">    rmsle</th></tr>\n",
       "</thead>\n",
       "<tbody>\n",
       "<tr><td>StackedEnsemble_BestOfFamily_AutoML_20210531_022954</td><td style=\"text-align: right;\">                 3183.12</td><td style=\"text-align: right;\"> 56.4191</td><td style=\"text-align: right;\"> 3183.12</td><td style=\"text-align: right;\"> 36.4489</td><td style=\"text-align: right;\">0.0471593</td></tr>\n",
       "<tr><td>StackedEnsemble_AllModels_AutoML_20210531_022954   </td><td style=\"text-align: right;\">                 3185.18</td><td style=\"text-align: right;\"> 56.4374</td><td style=\"text-align: right;\"> 3185.18</td><td style=\"text-align: right;\"> 36.326 </td><td style=\"text-align: right;\">0.0470866</td></tr>\n",
       "<tr><td>GBM_grid__1_AutoML_20210531_022954_model_4         </td><td style=\"text-align: right;\">                 3271.84</td><td style=\"text-align: right;\"> 57.2   </td><td style=\"text-align: right;\"> 3271.84</td><td style=\"text-align: right;\"> 37.5094</td><td style=\"text-align: right;\">0.0478914</td></tr>\n",
       "<tr><td>GBM_3_AutoML_20210531_022954                       </td><td style=\"text-align: right;\">                 3565.74</td><td style=\"text-align: right;\"> 59.7138</td><td style=\"text-align: right;\"> 3565.74</td><td style=\"text-align: right;\"> 38.4203</td><td style=\"text-align: right;\">0.0492969</td></tr>\n",
       "<tr><td>GBM_4_AutoML_20210531_022954                       </td><td style=\"text-align: right;\">                 3624.9 </td><td style=\"text-align: right;\"> 60.2072</td><td style=\"text-align: right;\"> 3624.9 </td><td style=\"text-align: right;\"> 39.8583</td><td style=\"text-align: right;\">0.0505381</td></tr>\n",
       "<tr><td>GBM_1_AutoML_20210531_022954                       </td><td style=\"text-align: right;\">                 3647.53</td><td style=\"text-align: right;\"> 60.3948</td><td style=\"text-align: right;\"> 3647.53</td><td style=\"text-align: right;\"> 38.5779</td><td style=\"text-align: right;\">0.049276 </td></tr>\n",
       "<tr><td>GBM_grid__1_AutoML_20210531_022954_model_2         </td><td style=\"text-align: right;\">                 3648.86</td><td style=\"text-align: right;\"> 60.4058</td><td style=\"text-align: right;\"> 3648.86</td><td style=\"text-align: right;\"> 39.2854</td><td style=\"text-align: right;\">0.0502619</td></tr>\n",
       "<tr><td>GBM_grid__1_AutoML_20210531_022954_model_3         </td><td style=\"text-align: right;\">                 3879.69</td><td style=\"text-align: right;\"> 62.2872</td><td style=\"text-align: right;\"> 3879.69</td><td style=\"text-align: right;\"> 41.9119</td><td style=\"text-align: right;\">0.0522271</td></tr>\n",
       "<tr><td>GBM_grid__1_AutoML_20210531_022954_model_1         </td><td style=\"text-align: right;\">                 3939.75</td><td style=\"text-align: right;\"> 62.7674</td><td style=\"text-align: right;\"> 3939.75</td><td style=\"text-align: right;\"> 42.1899</td><td style=\"text-align: right;\">0.0526793</td></tr>\n",
       "<tr><td>GBM_grid__1_AutoML_20210531_022954_model_7         </td><td style=\"text-align: right;\">                 3970.56</td><td style=\"text-align: right;\"> 63.0124</td><td style=\"text-align: right;\"> 3970.56</td><td style=\"text-align: right;\"> 40.9768</td><td style=\"text-align: right;\">0.0514598</td></tr>\n",
       "<tr><td>GBM_2_AutoML_20210531_022954                       </td><td style=\"text-align: right;\">                 3977.16</td><td style=\"text-align: right;\"> 63.0648</td><td style=\"text-align: right;\"> 3977.16</td><td style=\"text-align: right;\"> 42.2521</td><td style=\"text-align: right;\">0.052656 </td></tr>\n",
       "<tr><td>GBM_grid__1_AutoML_20210531_022954_model_5         </td><td style=\"text-align: right;\">                 4160.1 </td><td style=\"text-align: right;\"> 64.4988</td><td style=\"text-align: right;\"> 4160.1 </td><td style=\"text-align: right;\"> 43.3363</td><td style=\"text-align: right;\">0.0535017</td></tr>\n",
       "<tr><td>GBM_5_AutoML_20210531_022954                       </td><td style=\"text-align: right;\">                 4330   </td><td style=\"text-align: right;\"> 65.8028</td><td style=\"text-align: right;\"> 4330   </td><td style=\"text-align: right;\"> 44.2941</td><td style=\"text-align: right;\">0.0550977</td></tr>\n",
       "<tr><td>DRF_1_AutoML_20210531_022954                       </td><td style=\"text-align: right;\">                 4728.81</td><td style=\"text-align: right;\"> 68.7663</td><td style=\"text-align: right;\"> 4728.81</td><td style=\"text-align: right;\"> 45.9984</td><td style=\"text-align: right;\">0.0567363</td></tr>\n",
       "<tr><td>GBM_grid__1_AutoML_20210531_022954_model_6         </td><td style=\"text-align: right;\">                 5135.78</td><td style=\"text-align: right;\"> 71.6644</td><td style=\"text-align: right;\"> 5135.78</td><td style=\"text-align: right;\"> 50.3211</td><td style=\"text-align: right;\">0.0606623</td></tr>\n",
       "<tr><td>DeepLearning_grid__3_AutoML_20210531_022954_model_2</td><td style=\"text-align: right;\">                 5710.55</td><td style=\"text-align: right;\"> 75.5682</td><td style=\"text-align: right;\"> 5710.55</td><td style=\"text-align: right;\"> 52.2155</td><td style=\"text-align: right;\">0.0637128</td></tr>\n",
       "<tr><td>XRT_1_AutoML_20210531_022954                       </td><td style=\"text-align: right;\">                 7465.27</td><td style=\"text-align: right;\"> 86.4018</td><td style=\"text-align: right;\"> 7465.27</td><td style=\"text-align: right;\"> 58.9682</td><td style=\"text-align: right;\">0.0702683</td></tr>\n",
       "<tr><td>GBM_grid__1_AutoML_20210531_022954_model_8         </td><td style=\"text-align: right;\">                10727.7 </td><td style=\"text-align: right;\">103.574 </td><td style=\"text-align: right;\">10727.7 </td><td style=\"text-align: right;\"> 80.6495</td><td style=\"text-align: right;\">0.0908158</td></tr>\n",
       "<tr><td>DeepLearning_grid__2_AutoML_20210531_022954_model_2</td><td style=\"text-align: right;\">                14495.8 </td><td style=\"text-align: right;\">120.399 </td><td style=\"text-align: right;\">14495.8 </td><td style=\"text-align: right;\"> 87.1746</td><td style=\"text-align: right;\">0.100998 </td></tr>\n",
       "<tr><td>DeepLearning_grid__1_AutoML_20210531_022954_model_1</td><td style=\"text-align: right;\">                15965.9 </td><td style=\"text-align: right;\">126.356 </td><td style=\"text-align: right;\">15965.9 </td><td style=\"text-align: right;\"> 92.8396</td><td style=\"text-align: right;\">0.109333 </td></tr>\n",
       "<tr><td>DeepLearning_grid__2_AutoML_20210531_022954_model_1</td><td style=\"text-align: right;\">                17829.7 </td><td style=\"text-align: right;\">133.528 </td><td style=\"text-align: right;\">17829.7 </td><td style=\"text-align: right;\"> 96.3215</td><td style=\"text-align: right;\">0.115055 </td></tr>\n",
       "<tr><td>DeepLearning_grid__3_AutoML_20210531_022954_model_1</td><td style=\"text-align: right;\">                18241.8 </td><td style=\"text-align: right;\">135.062 </td><td style=\"text-align: right;\">18241.8 </td><td style=\"text-align: right;\"> 97.9401</td><td style=\"text-align: right;\">0.112667 </td></tr>\n",
       "<tr><td>DeepLearning_1_AutoML_20210531_022954              </td><td style=\"text-align: right;\">                21141.2 </td><td style=\"text-align: right;\">145.4   </td><td style=\"text-align: right;\">21141.2 </td><td style=\"text-align: right;\">111.443 </td><td style=\"text-align: right;\">0.130092 </td></tr>\n",
       "<tr><td>DeepLearning_grid__2_AutoML_20210531_022954_model_3</td><td style=\"text-align: right;\">                23817.4 </td><td style=\"text-align: right;\">154.329 </td><td style=\"text-align: right;\">23817.4 </td><td style=\"text-align: right;\">121.001 </td><td style=\"text-align: right;\">0.135525 </td></tr>\n",
       "<tr><td>DeepLearning_grid__1_AutoML_20210531_022954_model_2</td><td style=\"text-align: right;\">                24638.8 </td><td style=\"text-align: right;\">156.968 </td><td style=\"text-align: right;\">24638.8 </td><td style=\"text-align: right;\">116.484 </td><td style=\"text-align: right;\">0.130415 </td></tr>\n",
       "<tr><td>DeepLearning_grid__1_AutoML_20210531_022954_model_3</td><td style=\"text-align: right;\">                30895   </td><td style=\"text-align: right;\">175.77  </td><td style=\"text-align: right;\">30895   </td><td style=\"text-align: right;\">136.88  </td><td style=\"text-align: right;\">0.145928 </td></tr>\n",
       "<tr><td>GLM_1_AutoML_20210531_022954                       </td><td style=\"text-align: right;\">                59697.6 </td><td style=\"text-align: right;\">244.331 </td><td style=\"text-align: right;\">59697.6 </td><td style=\"text-align: right;\">194.805 </td><td style=\"text-align: right;\">0.208999 </td></tr>\n",
       "</tbody>\n",
       "</table>"
      ]
     },
     "metadata": {},
     "output_type": "display_data"
    },
    {
     "name": "stdout",
     "output_type": "stream",
     "text": [
      "\n",
      "num :  13\n",
      "pred :  2184\n"
     ]
    },
    {
     "name": "stderr",
     "output_type": "stream",
     "text": [
      "\r",
      " 22%|████████████████▎                                                          | 13/60 [4:10:24<15:16:38, 1170.19s/it]"
     ]
    },
    {
     "name": "stdout",
     "output_type": "stream",
     "text": [
      "\n",
      "02:47:40.105: AutoML: XGBoost is not available; skipping it.\n",
      "\n"
     ]
    },
    {
     "data": {
      "text/html": [
       "<table>\n",
       "<thead>\n",
       "<tr><th>model_id                                           </th><th style=\"text-align: right;\">  mean_residual_deviance</th><th style=\"text-align: right;\">    rmse</th><th style=\"text-align: right;\">      mse</th><th style=\"text-align: right;\">     mae</th><th style=\"text-align: right;\">    rmsle</th></tr>\n",
       "</thead>\n",
       "<tbody>\n",
       "<tr><td>StackedEnsemble_AllModels_AutoML_20210531_024740   </td><td style=\"text-align: right;\">                 8770.67</td><td style=\"text-align: right;\"> 93.6518</td><td style=\"text-align: right;\">  8770.67</td><td style=\"text-align: right;\"> 64.4792</td><td style=\"text-align: right;\">0.0613024</td></tr>\n",
       "<tr><td>StackedEnsemble_BestOfFamily_AutoML_20210531_024740</td><td style=\"text-align: right;\">                 8888.72</td><td style=\"text-align: right;\"> 94.28  </td><td style=\"text-align: right;\">  8888.72</td><td style=\"text-align: right;\"> 64.7869</td><td style=\"text-align: right;\">0.061838 </td></tr>\n",
       "<tr><td>GBM_grid__1_AutoML_20210531_024740_model_4         </td><td style=\"text-align: right;\">                 9053.13</td><td style=\"text-align: right;\"> 95.1479</td><td style=\"text-align: right;\">  9053.13</td><td style=\"text-align: right;\"> 65.8004</td><td style=\"text-align: right;\">0.0625492</td></tr>\n",
       "<tr><td>GBM_3_AutoML_20210531_024740                       </td><td style=\"text-align: right;\">                 9201.5 </td><td style=\"text-align: right;\"> 95.9244</td><td style=\"text-align: right;\">  9201.5 </td><td style=\"text-align: right;\"> 66.5765</td><td style=\"text-align: right;\">0.0617298</td></tr>\n",
       "<tr><td>GBM_2_AutoML_20210531_024740                       </td><td style=\"text-align: right;\">                 9342.32</td><td style=\"text-align: right;\"> 96.6557</td><td style=\"text-align: right;\">  9342.32</td><td style=\"text-align: right;\"> 67.5241</td><td style=\"text-align: right;\">0.0614831</td></tr>\n",
       "<tr><td>GBM_grid__1_AutoML_20210531_024740_model_7         </td><td style=\"text-align: right;\">                 9571.63</td><td style=\"text-align: right;\"> 97.8347</td><td style=\"text-align: right;\">  9571.63</td><td style=\"text-align: right;\"> 70.2442</td><td style=\"text-align: right;\">0.0624618</td></tr>\n",
       "<tr><td>GBM_grid__1_AutoML_20210531_024740_model_1         </td><td style=\"text-align: right;\">                 9773.41</td><td style=\"text-align: right;\"> 98.8606</td><td style=\"text-align: right;\">  9773.41</td><td style=\"text-align: right;\"> 71.1453</td><td style=\"text-align: right;\">0.0627091</td></tr>\n",
       "<tr><td>GBM_grid__1_AutoML_20210531_024740_model_2         </td><td style=\"text-align: right;\">                 9843.47</td><td style=\"text-align: right;\"> 99.2143</td><td style=\"text-align: right;\">  9843.47</td><td style=\"text-align: right;\"> 69.5516</td><td style=\"text-align: right;\">0.063707 </td></tr>\n",
       "<tr><td>GBM_1_AutoML_20210531_024740                       </td><td style=\"text-align: right;\">                 9874.9 </td><td style=\"text-align: right;\"> 99.3725</td><td style=\"text-align: right;\">  9874.9 </td><td style=\"text-align: right;\"> 69.5327</td><td style=\"text-align: right;\">0.0642991</td></tr>\n",
       "<tr><td>GBM_4_AutoML_20210531_024740                       </td><td style=\"text-align: right;\">                10482.3 </td><td style=\"text-align: right;\">102.383 </td><td style=\"text-align: right;\"> 10482.3 </td><td style=\"text-align: right;\"> 73.6393</td><td style=\"text-align: right;\">0.0641107</td></tr>\n",
       "<tr><td>GBM_grid__1_AutoML_20210531_024740_model_5         </td><td style=\"text-align: right;\">                10628.7 </td><td style=\"text-align: right;\">103.096 </td><td style=\"text-align: right;\"> 10628.7 </td><td style=\"text-align: right;\"> 74.1851</td><td style=\"text-align: right;\">0.065431 </td></tr>\n",
       "<tr><td>GBM_grid__1_AutoML_20210531_024740_model_6         </td><td style=\"text-align: right;\">                11075.7 </td><td style=\"text-align: right;\">105.241 </td><td style=\"text-align: right;\"> 11075.7 </td><td style=\"text-align: right;\"> 74.7777</td><td style=\"text-align: right;\">0.0695185</td></tr>\n",
       "<tr><td>GBM_5_AutoML_20210531_024740                       </td><td style=\"text-align: right;\">                11196.7 </td><td style=\"text-align: right;\">105.814 </td><td style=\"text-align: right;\"> 11196.7 </td><td style=\"text-align: right;\"> 77.152 </td><td style=\"text-align: right;\">0.0690626</td></tr>\n",
       "<tr><td>GBM_grid__1_AutoML_20210531_024740_model_3         </td><td style=\"text-align: right;\">                12226.9 </td><td style=\"text-align: right;\">110.575 </td><td style=\"text-align: right;\"> 12226.9 </td><td style=\"text-align: right;\"> 80.216 </td><td style=\"text-align: right;\">0.0686882</td></tr>\n",
       "<tr><td>DRF_1_AutoML_20210531_024740                       </td><td style=\"text-align: right;\">                12327.9 </td><td style=\"text-align: right;\">111.031 </td><td style=\"text-align: right;\"> 12327.9 </td><td style=\"text-align: right;\"> 78.8572</td><td style=\"text-align: right;\">0.0686243</td></tr>\n",
       "<tr><td>XRT_1_AutoML_20210531_024740                       </td><td style=\"text-align: right;\">                16111.6 </td><td style=\"text-align: right;\">126.931 </td><td style=\"text-align: right;\"> 16111.6 </td><td style=\"text-align: right;\"> 92.933 </td><td style=\"text-align: right;\">0.0762334</td></tr>\n",
       "<tr><td>DeepLearning_grid__3_AutoML_20210531_024740_model_2</td><td style=\"text-align: right;\">                21372.7 </td><td style=\"text-align: right;\">146.194 </td><td style=\"text-align: right;\"> 21372.7 </td><td style=\"text-align: right;\">105.074 </td><td style=\"text-align: right;\">0.0880366</td></tr>\n",
       "<tr><td>DeepLearning_grid__2_AutoML_20210531_024740_model_1</td><td style=\"text-align: right;\">                28060.4 </td><td style=\"text-align: right;\">167.512 </td><td style=\"text-align: right;\"> 28060.4 </td><td style=\"text-align: right;\">128.876 </td><td style=\"text-align: right;\">0.0978028</td></tr>\n",
       "<tr><td>DeepLearning_grid__2_AutoML_20210531_024740_model_2</td><td style=\"text-align: right;\">                28074.8 </td><td style=\"text-align: right;\">167.555 </td><td style=\"text-align: right;\"> 28074.8 </td><td style=\"text-align: right;\">122.026 </td><td style=\"text-align: right;\">0.0979902</td></tr>\n",
       "<tr><td>GBM_grid__1_AutoML_20210531_024740_model_8         </td><td style=\"text-align: right;\">                30600.5 </td><td style=\"text-align: right;\">174.93  </td><td style=\"text-align: right;\"> 30600.5 </td><td style=\"text-align: right;\">141.2   </td><td style=\"text-align: right;\">0.106796 </td></tr>\n",
       "<tr><td>DeepLearning_grid__3_AutoML_20210531_024740_model_1</td><td style=\"text-align: right;\">                33594   </td><td style=\"text-align: right;\">183.287 </td><td style=\"text-align: right;\"> 33594   </td><td style=\"text-align: right;\">140.984 </td><td style=\"text-align: right;\">0.104637 </td></tr>\n",
       "<tr><td>DeepLearning_grid__1_AutoML_20210531_024740_model_1</td><td style=\"text-align: right;\">                35878   </td><td style=\"text-align: right;\">189.415 </td><td style=\"text-align: right;\"> 35878   </td><td style=\"text-align: right;\">144.181 </td><td style=\"text-align: right;\">0.109375 </td></tr>\n",
       "<tr><td>DeepLearning_grid__1_AutoML_20210531_024740_model_2</td><td style=\"text-align: right;\">                55879.5 </td><td style=\"text-align: right;\">236.388 </td><td style=\"text-align: right;\"> 55879.5 </td><td style=\"text-align: right;\">180.078 </td><td style=\"text-align: right;\">0.138116 </td></tr>\n",
       "<tr><td>DeepLearning_grid__2_AutoML_20210531_024740_model_3</td><td style=\"text-align: right;\">                64495.7 </td><td style=\"text-align: right;\">253.96  </td><td style=\"text-align: right;\"> 64495.7 </td><td style=\"text-align: right;\">202.132 </td><td style=\"text-align: right;\">0.151239 </td></tr>\n",
       "<tr><td>DeepLearning_grid__1_AutoML_20210531_024740_model_3</td><td style=\"text-align: right;\">                65015.1 </td><td style=\"text-align: right;\">254.981 </td><td style=\"text-align: right;\"> 65015.1 </td><td style=\"text-align: right;\">203.06  </td><td style=\"text-align: right;\">0.143107 </td></tr>\n",
       "<tr><td>DeepLearning_1_AutoML_20210531_024740              </td><td style=\"text-align: right;\">                67996.5 </td><td style=\"text-align: right;\">260.761 </td><td style=\"text-align: right;\"> 67996.5 </td><td style=\"text-align: right;\">202.387 </td><td style=\"text-align: right;\">0.158504 </td></tr>\n",
       "<tr><td>GLM_1_AutoML_20210531_024740                       </td><td style=\"text-align: right;\">               148448   </td><td style=\"text-align: right;\">385.29  </td><td style=\"text-align: right;\">148448   </td><td style=\"text-align: right;\">314.438 </td><td style=\"text-align: right;\">0.215129 </td></tr>\n",
       "</tbody>\n",
       "</table>"
      ]
     },
     "metadata": {},
     "output_type": "display_data"
    },
    {
     "name": "stdout",
     "output_type": "stream",
     "text": [
      "\n",
      "num :  14\n",
      "pred :  2352\n"
     ]
    },
    {
     "name": "stderr",
     "output_type": "stream",
     "text": [
      "\r",
      " 23%|█████████████████▌                                                         | 14/60 [4:26:59<14:16:57, 1117.77s/it]"
     ]
    },
    {
     "name": "stdout",
     "output_type": "stream",
     "text": [
      "\n",
      "03:04:15.544: AutoML: XGBoost is not available; skipping it.\n",
      "\n"
     ]
    },
    {
     "data": {
      "text/html": [
       "<table>\n",
       "<thead>\n",
       "<tr><th>model_id                                           </th><th style=\"text-align: right;\">  mean_residual_deviance</th><th style=\"text-align: right;\">   rmse</th><th style=\"text-align: right;\">     mse</th><th style=\"text-align: right;\">    mae</th><th style=\"text-align: right;\">    rmsle</th></tr>\n",
       "</thead>\n",
       "<tbody>\n",
       "<tr><td>StackedEnsemble_AllModels_AutoML_20210531_030415   </td><td style=\"text-align: right;\">                 41677.2</td><td style=\"text-align: right;\">204.15 </td><td style=\"text-align: right;\"> 41677.2</td><td style=\"text-align: right;\">154.237</td><td style=\"text-align: right;\">0.0965979</td></tr>\n",
       "<tr><td>StackedEnsemble_BestOfFamily_AutoML_20210531_030415</td><td style=\"text-align: right;\">                 41910  </td><td style=\"text-align: right;\">204.719</td><td style=\"text-align: right;\"> 41910  </td><td style=\"text-align: right;\">154.814</td><td style=\"text-align: right;\">0.0966852</td></tr>\n",
       "<tr><td>GBM_3_AutoML_20210531_030415                       </td><td style=\"text-align: right;\">                 43184.2</td><td style=\"text-align: right;\">207.808</td><td style=\"text-align: right;\"> 43184.2</td><td style=\"text-align: right;\">157.86 </td><td style=\"text-align: right;\">0.0984393</td></tr>\n",
       "<tr><td>GBM_4_AutoML_20210531_030415                       </td><td style=\"text-align: right;\">                 43322.6</td><td style=\"text-align: right;\">208.141</td><td style=\"text-align: right;\"> 43322.6</td><td style=\"text-align: right;\">158.557</td><td style=\"text-align: right;\">0.0985293</td></tr>\n",
       "<tr><td>GBM_grid__1_AutoML_20210531_030415_model_3         </td><td style=\"text-align: right;\">                 44966.5</td><td style=\"text-align: right;\">212.053</td><td style=\"text-align: right;\"> 44966.5</td><td style=\"text-align: right;\">163.284</td><td style=\"text-align: right;\">0.10036  </td></tr>\n",
       "<tr><td>GBM_2_AutoML_20210531_030415                       </td><td style=\"text-align: right;\">                 45531.4</td><td style=\"text-align: right;\">213.381</td><td style=\"text-align: right;\"> 45531.4</td><td style=\"text-align: right;\">164.051</td><td style=\"text-align: right;\">0.10092  </td></tr>\n",
       "<tr><td>GBM_grid__1_AutoML_20210531_030415_model_1         </td><td style=\"text-align: right;\">                 45850.2</td><td style=\"text-align: right;\">214.127</td><td style=\"text-align: right;\"> 45850.2</td><td style=\"text-align: right;\">165.551</td><td style=\"text-align: right;\">0.101369 </td></tr>\n",
       "<tr><td>GBM_grid__1_AutoML_20210531_030415_model_7         </td><td style=\"text-align: right;\">                 46475.8</td><td style=\"text-align: right;\">215.582</td><td style=\"text-align: right;\"> 46475.8</td><td style=\"text-align: right;\">165.723</td><td style=\"text-align: right;\">0.101664 </td></tr>\n",
       "<tr><td>GBM_1_AutoML_20210531_030415                       </td><td style=\"text-align: right;\">                 46669.9</td><td style=\"text-align: right;\">216.032</td><td style=\"text-align: right;\"> 46669.9</td><td style=\"text-align: right;\">164.139</td><td style=\"text-align: right;\">0.102222 </td></tr>\n",
       "<tr><td>GBM_grid__1_AutoML_20210531_030415_model_2         </td><td style=\"text-align: right;\">                 46821.6</td><td style=\"text-align: right;\">216.383</td><td style=\"text-align: right;\"> 46821.6</td><td style=\"text-align: right;\">164.714</td><td style=\"text-align: right;\">0.102187 </td></tr>\n",
       "<tr><td>GBM_grid__1_AutoML_20210531_030415_model_4         </td><td style=\"text-align: right;\">                 47039.8</td><td style=\"text-align: right;\">216.887</td><td style=\"text-align: right;\"> 47039.8</td><td style=\"text-align: right;\">165.553</td><td style=\"text-align: right;\">0.102187 </td></tr>\n",
       "<tr><td>GBM_grid__1_AutoML_20210531_030415_model_5         </td><td style=\"text-align: right;\">                 47840.8</td><td style=\"text-align: right;\">218.725</td><td style=\"text-align: right;\"> 47840.8</td><td style=\"text-align: right;\">169.269</td><td style=\"text-align: right;\">0.103589 </td></tr>\n",
       "<tr><td>DRF_1_AutoML_20210531_030415                       </td><td style=\"text-align: right;\">                 50107.7</td><td style=\"text-align: right;\">223.848</td><td style=\"text-align: right;\"> 50107.7</td><td style=\"text-align: right;\">170.282</td><td style=\"text-align: right;\">0.104484 </td></tr>\n",
       "<tr><td>XRT_1_AutoML_20210531_030415                       </td><td style=\"text-align: right;\">                 60741  </td><td style=\"text-align: right;\">246.457</td><td style=\"text-align: right;\"> 60741  </td><td style=\"text-align: right;\">189.379</td><td style=\"text-align: right;\">0.115546 </td></tr>\n",
       "<tr><td>GBM_5_AutoML_20210531_030415                       </td><td style=\"text-align: right;\">                 64220.3</td><td style=\"text-align: right;\">253.417</td><td style=\"text-align: right;\"> 64220.3</td><td style=\"text-align: right;\">194.922</td><td style=\"text-align: right;\">0.119081 </td></tr>\n",
       "<tr><td>DeepLearning_grid__3_AutoML_20210531_030415_model_2</td><td style=\"text-align: right;\">                 65611.4</td><td style=\"text-align: right;\">256.147</td><td style=\"text-align: right;\"> 65611.4</td><td style=\"text-align: right;\">195.822</td><td style=\"text-align: right;\">0.121127 </td></tr>\n",
       "<tr><td>GBM_grid__1_AutoML_20210531_030415_model_6         </td><td style=\"text-align: right;\">                 67270.3</td><td style=\"text-align: right;\">259.365</td><td style=\"text-align: right;\"> 67270.3</td><td style=\"text-align: right;\">200.283</td><td style=\"text-align: right;\">0.122277 </td></tr>\n",
       "<tr><td>DeepLearning_grid__2_AutoML_20210531_030415_model_1</td><td style=\"text-align: right;\">                 77282.4</td><td style=\"text-align: right;\">277.997</td><td style=\"text-align: right;\"> 77282.4</td><td style=\"text-align: right;\">214.031</td><td style=\"text-align: right;\">0.132482 </td></tr>\n",
       "<tr><td>DeepLearning_grid__3_AutoML_20210531_030415_model_1</td><td style=\"text-align: right;\">                 83152.7</td><td style=\"text-align: right;\">288.362</td><td style=\"text-align: right;\"> 83152.7</td><td style=\"text-align: right;\">224.947</td><td style=\"text-align: right;\">0.136324 </td></tr>\n",
       "<tr><td>GBM_grid__1_AutoML_20210531_030415_model_8         </td><td style=\"text-align: right;\">                 84948  </td><td style=\"text-align: right;\">291.458</td><td style=\"text-align: right;\"> 84948  </td><td style=\"text-align: right;\">227.53 </td><td style=\"text-align: right;\">0.136747 </td></tr>\n",
       "<tr><td>DeepLearning_grid__1_AutoML_20210531_030415_model_1</td><td style=\"text-align: right;\">                 92830  </td><td style=\"text-align: right;\">304.68 </td><td style=\"text-align: right;\"> 92830  </td><td style=\"text-align: right;\">237.988</td><td style=\"text-align: right;\">0.143267 </td></tr>\n",
       "<tr><td>DeepLearning_grid__2_AutoML_20210531_030415_model_2</td><td style=\"text-align: right;\">                 95215.1</td><td style=\"text-align: right;\">308.569</td><td style=\"text-align: right;\"> 95215.1</td><td style=\"text-align: right;\">239.55 </td><td style=\"text-align: right;\">0.144118 </td></tr>\n",
       "<tr><td>DeepLearning_grid__1_AutoML_20210531_030415_model_2</td><td style=\"text-align: right;\">                110660  </td><td style=\"text-align: right;\">332.656</td><td style=\"text-align: right;\">110660  </td><td style=\"text-align: right;\">264.636</td><td style=\"text-align: right;\">0.154273 </td></tr>\n",
       "<tr><td>DeepLearning_grid__1_AutoML_20210531_030415_model_3</td><td style=\"text-align: right;\">                119155  </td><td style=\"text-align: right;\">345.189</td><td style=\"text-align: right;\">119155  </td><td style=\"text-align: right;\">275.866</td><td style=\"text-align: right;\">0.161272 </td></tr>\n",
       "<tr><td>DeepLearning_grid__2_AutoML_20210531_030415_model_3</td><td style=\"text-align: right;\">                120616  </td><td style=\"text-align: right;\">347.299</td><td style=\"text-align: right;\">120616  </td><td style=\"text-align: right;\">278.88 </td><td style=\"text-align: right;\">0.163745 </td></tr>\n",
       "<tr><td>DeepLearning_1_AutoML_20210531_030415              </td><td style=\"text-align: right;\">                120761  </td><td style=\"text-align: right;\">347.507</td><td style=\"text-align: right;\">120761  </td><td style=\"text-align: right;\">278.524</td><td style=\"text-align: right;\">0.1627   </td></tr>\n",
       "<tr><td>GLM_1_AutoML_20210531_030415                       </td><td style=\"text-align: right;\">                136893  </td><td style=\"text-align: right;\">369.99 </td><td style=\"text-align: right;\">136893  </td><td style=\"text-align: right;\">298.667</td><td style=\"text-align: right;\">0.173544 </td></tr>\n",
       "</tbody>\n",
       "</table>"
      ]
     },
     "metadata": {},
     "output_type": "display_data"
    },
    {
     "name": "stdout",
     "output_type": "stream",
     "text": [
      "\n",
      "num :  15\n",
      "pred :  2520\n"
     ]
    },
    {
     "name": "stderr",
     "output_type": "stream",
     "text": [
      "\r",
      " 25%|██████████████████▊                                                        | 15/60 [4:47:30<14:23:46, 1151.71s/it]"
     ]
    },
    {
     "name": "stdout",
     "output_type": "stream",
     "text": [
      "\n",
      "03:24:46.441: AutoML: XGBoost is not available; skipping it.\n",
      "\n"
     ]
    },
    {
     "data": {
      "text/html": [
       "<table>\n",
       "<thead>\n",
       "<tr><th>model_id                                           </th><th style=\"text-align: right;\">  mean_residual_deviance</th><th style=\"text-align: right;\">    rmse</th><th style=\"text-align: right;\">      mse</th><th style=\"text-align: right;\">    mae</th><th style=\"text-align: right;\">    rmsle</th></tr>\n",
       "</thead>\n",
       "<tbody>\n",
       "<tr><td>GBM_grid__1_AutoML_20210531_032446_model_4         </td><td style=\"text-align: right;\">                 852.18 </td><td style=\"text-align: right;\"> 29.1921</td><td style=\"text-align: right;\">  852.18 </td><td style=\"text-align: right;\">17.8262</td><td style=\"text-align: right;\">0.0170337</td></tr>\n",
       "<tr><td>StackedEnsemble_AllModels_AutoML_20210531_032446   </td><td style=\"text-align: right;\">                 875.011</td><td style=\"text-align: right;\"> 29.5806</td><td style=\"text-align: right;\">  875.011</td><td style=\"text-align: right;\">18.1656</td><td style=\"text-align: right;\">0.0172281</td></tr>\n",
       "<tr><td>StackedEnsemble_BestOfFamily_AutoML_20210531_032446</td><td style=\"text-align: right;\">                 876.712</td><td style=\"text-align: right;\"> 29.6093</td><td style=\"text-align: right;\">  876.712</td><td style=\"text-align: right;\">18.196 </td><td style=\"text-align: right;\">0.0172462</td></tr>\n",
       "<tr><td>GBM_3_AutoML_20210531_032446                       </td><td style=\"text-align: right;\">                 881.81 </td><td style=\"text-align: right;\"> 29.6953</td><td style=\"text-align: right;\">  881.81 </td><td style=\"text-align: right;\">18.5387</td><td style=\"text-align: right;\">0.0172215</td></tr>\n",
       "<tr><td>GBM_2_AutoML_20210531_032446                       </td><td style=\"text-align: right;\">                 896.829</td><td style=\"text-align: right;\"> 29.9471</td><td style=\"text-align: right;\">  896.829</td><td style=\"text-align: right;\">18.6349</td><td style=\"text-align: right;\">0.0173651</td></tr>\n",
       "<tr><td>GBM_grid__1_AutoML_20210531_032446_model_2         </td><td style=\"text-align: right;\">                 972.942</td><td style=\"text-align: right;\"> 31.192 </td><td style=\"text-align: right;\">  972.942</td><td style=\"text-align: right;\">19.1593</td><td style=\"text-align: right;\">0.0181152</td></tr>\n",
       "<tr><td>GBM_1_AutoML_20210531_032446                       </td><td style=\"text-align: right;\">                1007.16 </td><td style=\"text-align: right;\"> 31.7358</td><td style=\"text-align: right;\"> 1007.16 </td><td style=\"text-align: right;\">19.4687</td><td style=\"text-align: right;\">0.0183629</td></tr>\n",
       "<tr><td>GBM_grid__1_AutoML_20210531_032446_model_1         </td><td style=\"text-align: right;\">                1011.71 </td><td style=\"text-align: right;\"> 31.8073</td><td style=\"text-align: right;\"> 1011.71 </td><td style=\"text-align: right;\">19.5557</td><td style=\"text-align: right;\">0.0184131</td></tr>\n",
       "<tr><td>GBM_grid__1_AutoML_20210531_032446_model_7         </td><td style=\"text-align: right;\">                1093.23 </td><td style=\"text-align: right;\"> 33.0641</td><td style=\"text-align: right;\"> 1093.23 </td><td style=\"text-align: right;\">20.8657</td><td style=\"text-align: right;\">0.0191598</td></tr>\n",
       "<tr><td>GBM_grid__1_AutoML_20210531_032446_model_5         </td><td style=\"text-align: right;\">                1132.42 </td><td style=\"text-align: right;\"> 33.6514</td><td style=\"text-align: right;\"> 1132.42 </td><td style=\"text-align: right;\">22.0683</td><td style=\"text-align: right;\">0.0195295</td></tr>\n",
       "<tr><td>DRF_1_AutoML_20210531_032446                       </td><td style=\"text-align: right;\">                1159.41 </td><td style=\"text-align: right;\"> 34.0501</td><td style=\"text-align: right;\"> 1159.41 </td><td style=\"text-align: right;\">21.7159</td><td style=\"text-align: right;\">0.0196053</td></tr>\n",
       "<tr><td>GBM_4_AutoML_20210531_032446                       </td><td style=\"text-align: right;\">                1178.42 </td><td style=\"text-align: right;\"> 34.3281</td><td style=\"text-align: right;\"> 1178.42 </td><td style=\"text-align: right;\">21.1556</td><td style=\"text-align: right;\">0.0198622</td></tr>\n",
       "<tr><td>GBM_5_AutoML_20210531_032446                       </td><td style=\"text-align: right;\">                1185.31 </td><td style=\"text-align: right;\"> 34.4284</td><td style=\"text-align: right;\"> 1185.31 </td><td style=\"text-align: right;\">21.6382</td><td style=\"text-align: right;\">0.020052 </td></tr>\n",
       "<tr><td>GBM_grid__1_AutoML_20210531_032446_model_6         </td><td style=\"text-align: right;\">                1201.71 </td><td style=\"text-align: right;\"> 34.6657</td><td style=\"text-align: right;\"> 1201.71 </td><td style=\"text-align: right;\">21.6332</td><td style=\"text-align: right;\">0.0202335</td></tr>\n",
       "<tr><td>GBM_grid__1_AutoML_20210531_032446_model_3         </td><td style=\"text-align: right;\">                1230.78 </td><td style=\"text-align: right;\"> 35.0825</td><td style=\"text-align: right;\"> 1230.78 </td><td style=\"text-align: right;\">22.9727</td><td style=\"text-align: right;\">0.0203188</td></tr>\n",
       "<tr><td>XRT_1_AutoML_20210531_032446                       </td><td style=\"text-align: right;\">                1963.68 </td><td style=\"text-align: right;\"> 44.3134</td><td style=\"text-align: right;\"> 1963.68 </td><td style=\"text-align: right;\">28.8469</td><td style=\"text-align: right;\">0.0254872</td></tr>\n",
       "<tr><td>DeepLearning_grid__3_AutoML_20210531_032446_model_2</td><td style=\"text-align: right;\">                2293.38 </td><td style=\"text-align: right;\"> 47.8892</td><td style=\"text-align: right;\"> 2293.38 </td><td style=\"text-align: right;\">30.7286</td><td style=\"text-align: right;\">0.0275162</td></tr>\n",
       "<tr><td>DeepLearning_grid__2_AutoML_20210531_032446_model_1</td><td style=\"text-align: right;\">                2344.3  </td><td style=\"text-align: right;\"> 48.418 </td><td style=\"text-align: right;\"> 2344.3  </td><td style=\"text-align: right;\">32.4741</td><td style=\"text-align: right;\">0.0279343</td></tr>\n",
       "<tr><td>GBM_grid__1_AutoML_20210531_032446_model_8         </td><td style=\"text-align: right;\">                2871.64 </td><td style=\"text-align: right;\"> 53.5877</td><td style=\"text-align: right;\"> 2871.64 </td><td style=\"text-align: right;\">40.0618</td><td style=\"text-align: right;\">0.0314785</td></tr>\n",
       "<tr><td>DeepLearning_grid__2_AutoML_20210531_032446_model_2</td><td style=\"text-align: right;\">                3375.67 </td><td style=\"text-align: right;\"> 58.1005</td><td style=\"text-align: right;\"> 3375.67 </td><td style=\"text-align: right;\">40.2406</td><td style=\"text-align: right;\">0.0336075</td></tr>\n",
       "<tr><td>DeepLearning_grid__1_AutoML_20210531_032446_model_1</td><td style=\"text-align: right;\">                3692.02 </td><td style=\"text-align: right;\"> 60.762 </td><td style=\"text-align: right;\"> 3692.02 </td><td style=\"text-align: right;\">43.5082</td><td style=\"text-align: right;\">0.0353353</td></tr>\n",
       "<tr><td>DeepLearning_grid__3_AutoML_20210531_032446_model_1</td><td style=\"text-align: right;\">                3767.96 </td><td style=\"text-align: right;\"> 61.3837</td><td style=\"text-align: right;\"> 3767.96 </td><td style=\"text-align: right;\">42.8237</td><td style=\"text-align: right;\">0.0359793</td></tr>\n",
       "<tr><td>DeepLearning_grid__2_AutoML_20210531_032446_model_3</td><td style=\"text-align: right;\">                3920.22 </td><td style=\"text-align: right;\"> 62.6117</td><td style=\"text-align: right;\"> 3920.22 </td><td style=\"text-align: right;\">45.434 </td><td style=\"text-align: right;\">0.0356345</td></tr>\n",
       "<tr><td>DeepLearning_grid__1_AutoML_20210531_032446_model_2</td><td style=\"text-align: right;\">                5562.35 </td><td style=\"text-align: right;\"> 74.5812</td><td style=\"text-align: right;\"> 5562.35 </td><td style=\"text-align: right;\">53.7975</td><td style=\"text-align: right;\">0.0432853</td></tr>\n",
       "<tr><td>DeepLearning_1_AutoML_20210531_032446              </td><td style=\"text-align: right;\">                6131.19 </td><td style=\"text-align: right;\"> 78.3019</td><td style=\"text-align: right;\"> 6131.19 </td><td style=\"text-align: right;\">57.7169</td><td style=\"text-align: right;\">0.0459643</td></tr>\n",
       "<tr><td>DeepLearning_grid__1_AutoML_20210531_032446_model_3</td><td style=\"text-align: right;\">                6873.34 </td><td style=\"text-align: right;\"> 82.9056</td><td style=\"text-align: right;\"> 6873.34 </td><td style=\"text-align: right;\">64.0798</td><td style=\"text-align: right;\">0.0479788</td></tr>\n",
       "<tr><td>GLM_1_AutoML_20210531_032446                       </td><td style=\"text-align: right;\">               12367.8  </td><td style=\"text-align: right;\">111.211 </td><td style=\"text-align: right;\">12367.8  </td><td style=\"text-align: right;\">88.0183</td><td style=\"text-align: right;\">0.0647483</td></tr>\n",
       "</tbody>\n",
       "</table>"
      ]
     },
     "metadata": {},
     "output_type": "display_data"
    },
    {
     "name": "stdout",
     "output_type": "stream",
     "text": [
      "\n",
      "num :  16\n",
      "pred :  2688\n"
     ]
    },
    {
     "name": "stderr",
     "output_type": "stream",
     "text": [
      "\r",
      " 27%|████████████████████                                                       | 16/60 [5:04:25<13:34:28, 1110.64s/it]"
     ]
    },
    {
     "name": "stdout",
     "output_type": "stream",
     "text": [
      "\n",
      "03:41:41.259: AutoML: XGBoost is not available; skipping it.\n",
      "\n"
     ]
    },
    {
     "data": {
      "text/html": [
       "<table>\n",
       "<thead>\n",
       "<tr><th>model_id                                           </th><th style=\"text-align: right;\">  mean_residual_deviance</th><th style=\"text-align: right;\">    rmse</th><th style=\"text-align: right;\">      mse</th><th style=\"text-align: right;\">     mae</th><th style=\"text-align: right;\">    rmsle</th></tr>\n",
       "</thead>\n",
       "<tbody>\n",
       "<tr><td>StackedEnsemble_AllModels_AutoML_20210531_034141   </td><td style=\"text-align: right;\">                 5971   </td><td style=\"text-align: right;\"> 77.2722</td><td style=\"text-align: right;\">  5971   </td><td style=\"text-align: right;\"> 38.4658</td><td style=\"text-align: right;\">0.0738049</td></tr>\n",
       "<tr><td>StackedEnsemble_BestOfFamily_AutoML_20210531_034141</td><td style=\"text-align: right;\">                 6044.93</td><td style=\"text-align: right;\"> 77.7491</td><td style=\"text-align: right;\">  6044.93</td><td style=\"text-align: right;\"> 38.8033</td><td style=\"text-align: right;\">0.0744316</td></tr>\n",
       "<tr><td>GBM_grid__1_AutoML_20210531_034141_model_4         </td><td style=\"text-align: right;\">                 6241.31</td><td style=\"text-align: right;\"> 79.0019</td><td style=\"text-align: right;\">  6241.31</td><td style=\"text-align: right;\"> 39.9326</td><td style=\"text-align: right;\">0.0758915</td></tr>\n",
       "<tr><td>GBM_3_AutoML_20210531_034141                       </td><td style=\"text-align: right;\">                 6264.7 </td><td style=\"text-align: right;\"> 79.1499</td><td style=\"text-align: right;\">  6264.7 </td><td style=\"text-align: right;\"> 42.8139</td><td style=\"text-align: right;\">0.0757149</td></tr>\n",
       "<tr><td>GBM_grid__1_AutoML_20210531_034141_model_2         </td><td style=\"text-align: right;\">                 6496.55</td><td style=\"text-align: right;\"> 80.6012</td><td style=\"text-align: right;\">  6496.55</td><td style=\"text-align: right;\"> 44.2831</td><td style=\"text-align: right;\">0.0788856</td></tr>\n",
       "<tr><td>GBM_1_AutoML_20210531_034141                       </td><td style=\"text-align: right;\">                 6603.64</td><td style=\"text-align: right;\"> 81.2628</td><td style=\"text-align: right;\">  6603.64</td><td style=\"text-align: right;\"> 39.6771</td><td style=\"text-align: right;\">0.0755969</td></tr>\n",
       "<tr><td>GBM_4_AutoML_20210531_034141                       </td><td style=\"text-align: right;\">                 6618.27</td><td style=\"text-align: right;\"> 81.3527</td><td style=\"text-align: right;\">  6618.27</td><td style=\"text-align: right;\"> 46.994 </td><td style=\"text-align: right;\">0.0798626</td></tr>\n",
       "<tr><td>GBM_grid__1_AutoML_20210531_034141_model_7         </td><td style=\"text-align: right;\">                 6741.06</td><td style=\"text-align: right;\"> 82.1039</td><td style=\"text-align: right;\">  6741.06</td><td style=\"text-align: right;\"> 46.2323</td><td style=\"text-align: right;\">0.0794171</td></tr>\n",
       "<tr><td>GBM_grid__1_AutoML_20210531_034141_model_1         </td><td style=\"text-align: right;\">                 7610.65</td><td style=\"text-align: right;\"> 87.2391</td><td style=\"text-align: right;\">  7610.65</td><td style=\"text-align: right;\"> 53.9129</td><td style=\"text-align: right;\">0.087546 </td></tr>\n",
       "<tr><td>GBM_grid__1_AutoML_20210531_034141_model_5         </td><td style=\"text-align: right;\">                 7798.37</td><td style=\"text-align: right;\"> 88.3084</td><td style=\"text-align: right;\">  7798.37</td><td style=\"text-align: right;\"> 54.0115</td><td style=\"text-align: right;\">0.0879333</td></tr>\n",
       "<tr><td>GBM_2_AutoML_20210531_034141                       </td><td style=\"text-align: right;\">                 7832.17</td><td style=\"text-align: right;\"> 88.4996</td><td style=\"text-align: right;\">  7832.17</td><td style=\"text-align: right;\"> 50.3988</td><td style=\"text-align: right;\">0.0845985</td></tr>\n",
       "<tr><td>DRF_1_AutoML_20210531_034141                       </td><td style=\"text-align: right;\">                 7962.7 </td><td style=\"text-align: right;\"> 89.234 </td><td style=\"text-align: right;\">  7962.7 </td><td style=\"text-align: right;\"> 51.7407</td><td style=\"text-align: right;\">0.08589  </td></tr>\n",
       "<tr><td>GBM_grid__1_AutoML_20210531_034141_model_3         </td><td style=\"text-align: right;\">                 8015.33</td><td style=\"text-align: right;\"> 89.5284</td><td style=\"text-align: right;\">  8015.33</td><td style=\"text-align: right;\"> 56.1174</td><td style=\"text-align: right;\">0.0896194</td></tr>\n",
       "<tr><td>GBM_5_AutoML_20210531_034141                       </td><td style=\"text-align: right;\">                 8231.78</td><td style=\"text-align: right;\"> 90.7292</td><td style=\"text-align: right;\">  8231.78</td><td style=\"text-align: right;\"> 53.8399</td><td style=\"text-align: right;\">0.0931626</td></tr>\n",
       "<tr><td>GBM_grid__1_AutoML_20210531_034141_model_6         </td><td style=\"text-align: right;\">                 8608.74</td><td style=\"text-align: right;\"> 92.7833</td><td style=\"text-align: right;\">  8608.74</td><td style=\"text-align: right;\"> 51.1569</td><td style=\"text-align: right;\">0.0915181</td></tr>\n",
       "<tr><td>DeepLearning_grid__3_AutoML_20210531_034141_model_2</td><td style=\"text-align: right;\">                11415.2 </td><td style=\"text-align: right;\">106.842 </td><td style=\"text-align: right;\"> 11415.2 </td><td style=\"text-align: right;\"> 60.9111</td><td style=\"text-align: right;\">0.101769 </td></tr>\n",
       "<tr><td>XRT_1_AutoML_20210531_034141                       </td><td style=\"text-align: right;\">                12932.6 </td><td style=\"text-align: right;\">113.721 </td><td style=\"text-align: right;\"> 12932.6 </td><td style=\"text-align: right;\"> 74.5997</td><td style=\"text-align: right;\">0.111535 </td></tr>\n",
       "<tr><td>DeepLearning_grid__2_AutoML_20210531_034141_model_1</td><td style=\"text-align: right;\">                17795.5 </td><td style=\"text-align: right;\">133.4   </td><td style=\"text-align: right;\"> 17795.5 </td><td style=\"text-align: right;\"> 87.8154</td><td style=\"text-align: right;\">0.133334 </td></tr>\n",
       "<tr><td>DeepLearning_grid__2_AutoML_20210531_034141_model_2</td><td style=\"text-align: right;\">                18131.1 </td><td style=\"text-align: right;\">134.652 </td><td style=\"text-align: right;\"> 18131.1 </td><td style=\"text-align: right;\"> 86.69  </td><td style=\"text-align: right;\">0.128678 </td></tr>\n",
       "<tr><td>GBM_grid__1_AutoML_20210531_034141_model_8         </td><td style=\"text-align: right;\">                23608.8 </td><td style=\"text-align: right;\">153.652 </td><td style=\"text-align: right;\"> 23608.8 </td><td style=\"text-align: right;\">120.752 </td><td style=\"text-align: right;\">0.187151 </td></tr>\n",
       "<tr><td>DeepLearning_grid__1_AutoML_20210531_034141_model_1</td><td style=\"text-align: right;\">                25736   </td><td style=\"text-align: right;\">160.425 </td><td style=\"text-align: right;\"> 25736   </td><td style=\"text-align: right;\">116.89  </td><td style=\"text-align: right;\">0.19058  </td></tr>\n",
       "<tr><td>DeepLearning_grid__3_AutoML_20210531_034141_model_1</td><td style=\"text-align: right;\">                27764.5 </td><td style=\"text-align: right;\">166.627 </td><td style=\"text-align: right;\"> 27764.5 </td><td style=\"text-align: right;\">111.079 </td><td style=\"text-align: right;\">0.164045 </td></tr>\n",
       "<tr><td>DeepLearning_grid__2_AutoML_20210531_034141_model_3</td><td style=\"text-align: right;\">                40801.8 </td><td style=\"text-align: right;\">201.995 </td><td style=\"text-align: right;\"> 40801.8 </td><td style=\"text-align: right;\">166.428 </td><td style=\"text-align: right;\">0.213748 </td></tr>\n",
       "<tr><td>DeepLearning_grid__1_AutoML_20210531_034141_model_2</td><td style=\"text-align: right;\">                46006.7 </td><td style=\"text-align: right;\">214.492 </td><td style=\"text-align: right;\"> 46006.7 </td><td style=\"text-align: right;\">162.281 </td><td style=\"text-align: right;\">0.236692 </td></tr>\n",
       "<tr><td>DeepLearning_1_AutoML_20210531_034141              </td><td style=\"text-align: right;\">                51811.9 </td><td style=\"text-align: right;\">227.622 </td><td style=\"text-align: right;\"> 51811.9 </td><td style=\"text-align: right;\">173.436 </td><td style=\"text-align: right;\">0.263539 </td></tr>\n",
       "<tr><td>DeepLearning_grid__1_AutoML_20210531_034141_model_3</td><td style=\"text-align: right;\">                68606.5 </td><td style=\"text-align: right;\">261.929 </td><td style=\"text-align: right;\"> 68606.5 </td><td style=\"text-align: right;\">215.156 </td><td style=\"text-align: right;\">0.267989 </td></tr>\n",
       "<tr><td>GLM_1_AutoML_20210531_034141                       </td><td style=\"text-align: right;\">               168565   </td><td style=\"text-align: right;\">410.567 </td><td style=\"text-align: right;\">168565   </td><td style=\"text-align: right;\">340.375 </td><td style=\"text-align: right;\">0.398211 </td></tr>\n",
       "</tbody>\n",
       "</table>"
      ]
     },
     "metadata": {},
     "output_type": "display_data"
    },
    {
     "name": "stdout",
     "output_type": "stream",
     "text": [
      "\n",
      "num :  17\n",
      "pred :  2856\n"
     ]
    },
    {
     "name": "stderr",
     "output_type": "stream",
     "text": [
      "\r",
      " 28%|█████████████████████▎                                                     | 17/60 [5:25:30<13:49:08, 1156.94s/it]"
     ]
    },
    {
     "name": "stdout",
     "output_type": "stream",
     "text": [
      "\n",
      "04:02:46.239: AutoML: XGBoost is not available; skipping it.\n",
      "\n"
     ]
    },
    {
     "data": {
      "text/html": [
       "<table>\n",
       "<thead>\n",
       "<tr><th>model_id                                           </th><th style=\"text-align: right;\">  mean_residual_deviance</th><th style=\"text-align: right;\">   rmse</th><th style=\"text-align: right;\">     mse</th><th style=\"text-align: right;\">    mae</th><th style=\"text-align: right;\">     rmsle</th></tr>\n",
       "</thead>\n",
       "<tbody>\n",
       "<tr><td>StackedEnsemble_AllModels_AutoML_20210531_040246   </td><td style=\"text-align: right;\">                 40433.8</td><td style=\"text-align: right;\">201.082</td><td style=\"text-align: right;\"> 40433.8</td><td style=\"text-align: right;\">122.933</td><td style=\"text-align: right;\">  0.125299</td></tr>\n",
       "<tr><td>StackedEnsemble_BestOfFamily_AutoML_20210531_040246</td><td style=\"text-align: right;\">                 41525.6</td><td style=\"text-align: right;\">203.778</td><td style=\"text-align: right;\"> 41525.6</td><td style=\"text-align: right;\">125.424</td><td style=\"text-align: right;\">  0.127249</td></tr>\n",
       "<tr><td>GBM_3_AutoML_20210531_040246                       </td><td style=\"text-align: right;\">                 43292.3</td><td style=\"text-align: right;\">208.068</td><td style=\"text-align: right;\"> 43292.3</td><td style=\"text-align: right;\">129.937</td><td style=\"text-align: right;\">  0.130101</td></tr>\n",
       "<tr><td>GBM_4_AutoML_20210531_040246                       </td><td style=\"text-align: right;\">                 44393.2</td><td style=\"text-align: right;\">210.697</td><td style=\"text-align: right;\"> 44393.2</td><td style=\"text-align: right;\">135.621</td><td style=\"text-align: right;\">  0.13338 </td></tr>\n",
       "<tr><td>GBM_grid__1_AutoML_20210531_040246_model_4         </td><td style=\"text-align: right;\">                 47700.7</td><td style=\"text-align: right;\">218.405</td><td style=\"text-align: right;\"> 47700.7</td><td style=\"text-align: right;\">138.95 </td><td style=\"text-align: right;\">  0.13463 </td></tr>\n",
       "<tr><td>GBM_1_AutoML_20210531_040246                       </td><td style=\"text-align: right;\">                 47848.5</td><td style=\"text-align: right;\">218.743</td><td style=\"text-align: right;\"> 47848.5</td><td style=\"text-align: right;\">131.144</td><td style=\"text-align: right;\">  0.133207</td></tr>\n",
       "<tr><td>GBM_2_AutoML_20210531_040246                       </td><td style=\"text-align: right;\">                 48866  </td><td style=\"text-align: right;\">221.057</td><td style=\"text-align: right;\"> 48866  </td><td style=\"text-align: right;\">146.151</td><td style=\"text-align: right;\">  0.142667</td></tr>\n",
       "<tr><td>GBM_grid__1_AutoML_20210531_040246_model_3         </td><td style=\"text-align: right;\">                 49260.2</td><td style=\"text-align: right;\">221.946</td><td style=\"text-align: right;\"> 49260.2</td><td style=\"text-align: right;\">147.666</td><td style=\"text-align: right;\">  0.143933</td></tr>\n",
       "<tr><td>GBM_grid__1_AutoML_20210531_040246_model_2         </td><td style=\"text-align: right;\">                 50873.9</td><td style=\"text-align: right;\">225.552</td><td style=\"text-align: right;\"> 50873.9</td><td style=\"text-align: right;\">148.366</td><td style=\"text-align: right;\">  0.143499</td></tr>\n",
       "<tr><td>GBM_grid__1_AutoML_20210531_040246_model_7         </td><td style=\"text-align: right;\">                 51644.2</td><td style=\"text-align: right;\">227.254</td><td style=\"text-align: right;\"> 51644.2</td><td style=\"text-align: right;\">148.763</td><td style=\"text-align: right;\">  0.144599</td></tr>\n",
       "<tr><td>GBM_grid__1_AutoML_20210531_040246_model_1         </td><td style=\"text-align: right;\">                 54355.9</td><td style=\"text-align: right;\">233.144</td><td style=\"text-align: right;\"> 54355.9</td><td style=\"text-align: right;\">158.061</td><td style=\"text-align: right;\">  0.150527</td></tr>\n",
       "<tr><td>GBM_grid__1_AutoML_20210531_040246_model_5         </td><td style=\"text-align: right;\">                 57176.4</td><td style=\"text-align: right;\">239.116</td><td style=\"text-align: right;\"> 57176.4</td><td style=\"text-align: right;\">163.762</td><td style=\"text-align: right;\">  0.157416</td></tr>\n",
       "<tr><td>DRF_1_AutoML_20210531_040246                       </td><td style=\"text-align: right;\">                 67872.3</td><td style=\"text-align: right;\">260.523</td><td style=\"text-align: right;\"> 67872.3</td><td style=\"text-align: right;\">181.719</td><td style=\"text-align: right;\">  0.168369</td></tr>\n",
       "<tr><td>GBM_5_AutoML_20210531_040246                       </td><td style=\"text-align: right;\">                 70064.2</td><td style=\"text-align: right;\">264.696</td><td style=\"text-align: right;\"> 70064.2</td><td style=\"text-align: right;\">189.306</td><td style=\"text-align: right;\">  0.177816</td></tr>\n",
       "<tr><td>GBM_grid__1_AutoML_20210531_040246_model_6         </td><td style=\"text-align: right;\">                 76744.4</td><td style=\"text-align: right;\">277.028</td><td style=\"text-align: right;\"> 76744.4</td><td style=\"text-align: right;\">200.54 </td><td style=\"text-align: right;\">  0.185819</td></tr>\n",
       "<tr><td>DeepLearning_grid__3_AutoML_20210531_040246_model_2</td><td style=\"text-align: right;\">                 85680.6</td><td style=\"text-align: right;\">292.712</td><td style=\"text-align: right;\"> 85680.6</td><td style=\"text-align: right;\">193.951</td><td style=\"text-align: right;\">  0.17533 </td></tr>\n",
       "<tr><td>XRT_1_AutoML_20210531_040246                       </td><td style=\"text-align: right;\">                 99321.3</td><td style=\"text-align: right;\">315.153</td><td style=\"text-align: right;\"> 99321.3</td><td style=\"text-align: right;\">242.992</td><td style=\"text-align: right;\">  0.219558</td></tr>\n",
       "<tr><td>DeepLearning_grid__2_AutoML_20210531_040246_model_2</td><td style=\"text-align: right;\">                106837  </td><td style=\"text-align: right;\">326.859</td><td style=\"text-align: right;\">106837  </td><td style=\"text-align: right;\">238.056</td><td style=\"text-align: right;\">  0.215343</td></tr>\n",
       "<tr><td>DeepLearning_grid__2_AutoML_20210531_040246_model_1</td><td style=\"text-align: right;\">                108092  </td><td style=\"text-align: right;\">328.773</td><td style=\"text-align: right;\">108092  </td><td style=\"text-align: right;\">243.5  </td><td style=\"text-align: right;\">nan       </td></tr>\n",
       "<tr><td>DeepLearning_grid__3_AutoML_20210531_040246_model_1</td><td style=\"text-align: right;\">                147217  </td><td style=\"text-align: right;\">383.689</td><td style=\"text-align: right;\">147217  </td><td style=\"text-align: right;\">277.945</td><td style=\"text-align: right;\">  0.283426</td></tr>\n",
       "<tr><td>GBM_grid__1_AutoML_20210531_040246_model_8         </td><td style=\"text-align: right;\">                147746  </td><td style=\"text-align: right;\">384.378</td><td style=\"text-align: right;\">147746  </td><td style=\"text-align: right;\">307.587</td><td style=\"text-align: right;\">  0.279664</td></tr>\n",
       "<tr><td>DeepLearning_grid__1_AutoML_20210531_040246_model_1</td><td style=\"text-align: right;\">                190777  </td><td style=\"text-align: right;\">436.78 </td><td style=\"text-align: right;\">190777  </td><td style=\"text-align: right;\">337.51 </td><td style=\"text-align: right;\">nan       </td></tr>\n",
       "<tr><td>DeepLearning_grid__2_AutoML_20210531_040246_model_3</td><td style=\"text-align: right;\">                214415  </td><td style=\"text-align: right;\">463.049</td><td style=\"text-align: right;\">214415  </td><td style=\"text-align: right;\">380.906</td><td style=\"text-align: right;\">  0.314015</td></tr>\n",
       "<tr><td>DeepLearning_grid__1_AutoML_20210531_040246_model_2</td><td style=\"text-align: right;\">                281199  </td><td style=\"text-align: right;\">530.282</td><td style=\"text-align: right;\">281199  </td><td style=\"text-align: right;\">427.723</td><td style=\"text-align: right;\">nan       </td></tr>\n",
       "<tr><td>DeepLearning_1_AutoML_20210531_040246              </td><td style=\"text-align: right;\">                387070  </td><td style=\"text-align: right;\">622.149</td><td style=\"text-align: right;\">387070  </td><td style=\"text-align: right;\">500.33 </td><td style=\"text-align: right;\">  0.439798</td></tr>\n",
       "<tr><td>DeepLearning_grid__1_AutoML_20210531_040246_model_3</td><td style=\"text-align: right;\">                458932  </td><td style=\"text-align: right;\">677.446</td><td style=\"text-align: right;\">458932  </td><td style=\"text-align: right;\">557.138</td><td style=\"text-align: right;\">  0.463277</td></tr>\n",
       "<tr><td>GLM_1_AutoML_20210531_040246                       </td><td style=\"text-align: right;\">                894434  </td><td style=\"text-align: right;\">945.745</td><td style=\"text-align: right;\">894434  </td><td style=\"text-align: right;\">819.13 </td><td style=\"text-align: right;\">  0.608601</td></tr>\n",
       "</tbody>\n",
       "</table>"
      ]
     },
     "metadata": {},
     "output_type": "display_data"
    },
    {
     "name": "stdout",
     "output_type": "stream",
     "text": [
      "\n",
      "num :  18\n",
      "pred :  3024\n"
     ]
    },
    {
     "name": "stderr",
     "output_type": "stream",
     "text": [
      "\r",
      " 30%|██████████████████████▌                                                    | 18/60 [5:48:10<14:12:34, 1217.97s/it]"
     ]
    },
    {
     "name": "stdout",
     "output_type": "stream",
     "text": [
      "\n",
      "04:25:26.617: AutoML: XGBoost is not available; skipping it.\n",
      "\n"
     ]
    },
    {
     "data": {
      "text/html": [
       "<table>\n",
       "<thead>\n",
       "<tr><th>model_id                                           </th><th style=\"text-align: right;\">  mean_residual_deviance</th><th style=\"text-align: right;\">    rmse</th><th style=\"text-align: right;\">     mse</th><th style=\"text-align: right;\">     mae</th><th style=\"text-align: right;\">    rmsle</th></tr>\n",
       "</thead>\n",
       "<tbody>\n",
       "<tr><td>StackedEnsemble_AllModels_AutoML_20210531_042526   </td><td style=\"text-align: right;\">                 1337.71</td><td style=\"text-align: right;\"> 36.5748</td><td style=\"text-align: right;\"> 1337.71</td><td style=\"text-align: right;\"> 24.3455</td><td style=\"text-align: right;\">0.037699 </td></tr>\n",
       "<tr><td>StackedEnsemble_BestOfFamily_AutoML_20210531_042526</td><td style=\"text-align: right;\">                 1367.12</td><td style=\"text-align: right;\"> 36.9746</td><td style=\"text-align: right;\"> 1367.12</td><td style=\"text-align: right;\"> 24.689 </td><td style=\"text-align: right;\">0.0381324</td></tr>\n",
       "<tr><td>GBM_3_AutoML_20210531_042526                       </td><td style=\"text-align: right;\">                 1379.22</td><td style=\"text-align: right;\"> 37.1378</td><td style=\"text-align: right;\"> 1379.22</td><td style=\"text-align: right;\"> 24.888 </td><td style=\"text-align: right;\">0.0384356</td></tr>\n",
       "<tr><td>GBM_1_AutoML_20210531_042526                       </td><td style=\"text-align: right;\">                 1417.8 </td><td style=\"text-align: right;\"> 37.6537</td><td style=\"text-align: right;\"> 1417.8 </td><td style=\"text-align: right;\"> 25.3043</td><td style=\"text-align: right;\">0.0389298</td></tr>\n",
       "<tr><td>GBM_4_AutoML_20210531_042526                       </td><td style=\"text-align: right;\">                 1466.16</td><td style=\"text-align: right;\"> 38.2905</td><td style=\"text-align: right;\"> 1466.16</td><td style=\"text-align: right;\"> 26.0896</td><td style=\"text-align: right;\">0.0404877</td></tr>\n",
       "<tr><td>GBM_grid__1_AutoML_20210531_042526_model_7         </td><td style=\"text-align: right;\">                 1532.56</td><td style=\"text-align: right;\"> 39.1479</td><td style=\"text-align: right;\"> 1532.56</td><td style=\"text-align: right;\"> 26.6608</td><td style=\"text-align: right;\">0.0414775</td></tr>\n",
       "<tr><td>GBM_grid__1_AutoML_20210531_042526_model_2         </td><td style=\"text-align: right;\">                 1570.31</td><td style=\"text-align: right;\"> 39.6271</td><td style=\"text-align: right;\"> 1570.31</td><td style=\"text-align: right;\"> 27.0085</td><td style=\"text-align: right;\">0.0418628</td></tr>\n",
       "<tr><td>GBM_grid__1_AutoML_20210531_042526_model_3         </td><td style=\"text-align: right;\">                 1579.68</td><td style=\"text-align: right;\"> 39.7451</td><td style=\"text-align: right;\"> 1579.68</td><td style=\"text-align: right;\"> 27.6298</td><td style=\"text-align: right;\">0.0428046</td></tr>\n",
       "<tr><td>GBM_grid__1_AutoML_20210531_042526_model_4         </td><td style=\"text-align: right;\">                 1607.09</td><td style=\"text-align: right;\"> 40.0885</td><td style=\"text-align: right;\"> 1607.09</td><td style=\"text-align: right;\"> 26.8926</td><td style=\"text-align: right;\">0.0416385</td></tr>\n",
       "<tr><td>GBM_2_AutoML_20210531_042526                       </td><td style=\"text-align: right;\">                 1638   </td><td style=\"text-align: right;\"> 40.4722</td><td style=\"text-align: right;\"> 1638   </td><td style=\"text-align: right;\"> 27.7657</td><td style=\"text-align: right;\">0.0432782</td></tr>\n",
       "<tr><td>GBM_grid__1_AutoML_20210531_042526_model_5         </td><td style=\"text-align: right;\">                 1658.26</td><td style=\"text-align: right;\"> 40.7217</td><td style=\"text-align: right;\"> 1658.26</td><td style=\"text-align: right;\"> 28.0774</td><td style=\"text-align: right;\">0.0437018</td></tr>\n",
       "<tr><td>GBM_grid__1_AutoML_20210531_042526_model_1         </td><td style=\"text-align: right;\">                 1690.42</td><td style=\"text-align: right;\"> 41.1147</td><td style=\"text-align: right;\"> 1690.42</td><td style=\"text-align: right;\"> 28.3152</td><td style=\"text-align: right;\">0.0442273</td></tr>\n",
       "<tr><td>DRF_1_AutoML_20210531_042526                       </td><td style=\"text-align: right;\">                 2447.11</td><td style=\"text-align: right;\"> 49.4683</td><td style=\"text-align: right;\"> 2447.11</td><td style=\"text-align: right;\"> 35.7694</td><td style=\"text-align: right;\">0.0544549</td></tr>\n",
       "<tr><td>XRT_1_AutoML_20210531_042526                       </td><td style=\"text-align: right;\">                 3060.71</td><td style=\"text-align: right;\"> 55.3237</td><td style=\"text-align: right;\"> 3060.71</td><td style=\"text-align: right;\"> 40.8695</td><td style=\"text-align: right;\">0.0621178</td></tr>\n",
       "<tr><td>GBM_5_AutoML_20210531_042526                       </td><td style=\"text-align: right;\">                 3129.03</td><td style=\"text-align: right;\"> 55.9377</td><td style=\"text-align: right;\"> 3129.03</td><td style=\"text-align: right;\"> 39.8972</td><td style=\"text-align: right;\">0.0600609</td></tr>\n",
       "<tr><td>GBM_grid__1_AutoML_20210531_042526_model_6         </td><td style=\"text-align: right;\">                 3691.42</td><td style=\"text-align: right;\"> 60.7571</td><td style=\"text-align: right;\"> 3691.42</td><td style=\"text-align: right;\"> 43.4127</td><td style=\"text-align: right;\">0.0647069</td></tr>\n",
       "<tr><td>GBM_grid__1_AutoML_20210531_042526_model_8         </td><td style=\"text-align: right;\">                 4736.7 </td><td style=\"text-align: right;\"> 68.8237</td><td style=\"text-align: right;\"> 4736.7 </td><td style=\"text-align: right;\"> 51.2256</td><td style=\"text-align: right;\">0.0759429</td></tr>\n",
       "<tr><td>DeepLearning_grid__1_AutoML_20210531_042526_model_1</td><td style=\"text-align: right;\">                 6724.92</td><td style=\"text-align: right;\"> 82.0056</td><td style=\"text-align: right;\"> 6724.92</td><td style=\"text-align: right;\"> 51.6921</td><td style=\"text-align: right;\">0.0854772</td></tr>\n",
       "<tr><td>DeepLearning_grid__3_AutoML_20210531_042526_model_2</td><td style=\"text-align: right;\">                 7062.51</td><td style=\"text-align: right;\"> 84.0387</td><td style=\"text-align: right;\"> 7062.51</td><td style=\"text-align: right;\"> 50.6727</td><td style=\"text-align: right;\">0.0827195</td></tr>\n",
       "<tr><td>DeepLearning_grid__3_AutoML_20210531_042526_model_1</td><td style=\"text-align: right;\">                 7694.57</td><td style=\"text-align: right;\"> 87.7187</td><td style=\"text-align: right;\"> 7694.57</td><td style=\"text-align: right;\"> 55.5998</td><td style=\"text-align: right;\">0.0883865</td></tr>\n",
       "<tr><td>DeepLearning_grid__2_AutoML_20210531_042526_model_1</td><td style=\"text-align: right;\">                 7721.83</td><td style=\"text-align: right;\"> 87.8739</td><td style=\"text-align: right;\"> 7721.83</td><td style=\"text-align: right;\"> 53.0087</td><td style=\"text-align: right;\">0.0894005</td></tr>\n",
       "<tr><td>DeepLearning_grid__2_AutoML_20210531_042526_model_2</td><td style=\"text-align: right;\">                10021.8 </td><td style=\"text-align: right;\">100.109 </td><td style=\"text-align: right;\">10021.8 </td><td style=\"text-align: right;\"> 69.1862</td><td style=\"text-align: right;\">0.107685 </td></tr>\n",
       "<tr><td>DeepLearning_grid__1_AutoML_20210531_042526_model_3</td><td style=\"text-align: right;\">                10792.3 </td><td style=\"text-align: right;\">103.886 </td><td style=\"text-align: right;\">10792.3 </td><td style=\"text-align: right;\"> 81.0865</td><td style=\"text-align: right;\">0.121212 </td></tr>\n",
       "<tr><td>DeepLearning_1_AutoML_20210531_042526              </td><td style=\"text-align: right;\">                12002.3 </td><td style=\"text-align: right;\">109.555 </td><td style=\"text-align: right;\">12002.3 </td><td style=\"text-align: right;\"> 83.4516</td><td style=\"text-align: right;\">0.124158 </td></tr>\n",
       "<tr><td>DeepLearning_grid__1_AutoML_20210531_042526_model_2</td><td style=\"text-align: right;\">                13247.3 </td><td style=\"text-align: right;\">115.097 </td><td style=\"text-align: right;\">13247.3 </td><td style=\"text-align: right;\"> 86.7664</td><td style=\"text-align: right;\">0.131184 </td></tr>\n",
       "<tr><td>GLM_1_AutoML_20210531_042526                       </td><td style=\"text-align: right;\">                13996.7 </td><td style=\"text-align: right;\">118.308 </td><td style=\"text-align: right;\">13996.7 </td><td style=\"text-align: right;\"> 94.085 </td><td style=\"text-align: right;\">0.143889 </td></tr>\n",
       "<tr><td>DeepLearning_grid__2_AutoML_20210531_042526_model_3</td><td style=\"text-align: right;\">                18339.4 </td><td style=\"text-align: right;\">135.423 </td><td style=\"text-align: right;\">18339.4 </td><td style=\"text-align: right;\">101.264 </td><td style=\"text-align: right;\">0.151942 </td></tr>\n",
       "</tbody>\n",
       "</table>"
      ]
     },
     "metadata": {},
     "output_type": "display_data"
    },
    {
     "name": "stdout",
     "output_type": "stream",
     "text": [
      "\n",
      "num :  19\n",
      "pred :  3192\n"
     ]
    },
    {
     "name": "stderr",
     "output_type": "stream",
     "text": [
      "\r",
      " 32%|███████████████████████▊                                                   | 19/60 [6:08:44<13:55:35, 1222.81s/it]"
     ]
    },
    {
     "name": "stdout",
     "output_type": "stream",
     "text": [
      "\n",
      "04:46:00.713: AutoML: XGBoost is not available; skipping it.\n",
      "\n"
     ]
    },
    {
     "data": {
      "text/html": [
       "<table>\n",
       "<thead>\n",
       "<tr><th>model_id                                           </th><th style=\"text-align: right;\">  mean_residual_deviance</th><th style=\"text-align: right;\">    rmse</th><th style=\"text-align: right;\">     mse</th><th style=\"text-align: right;\">     mae</th><th style=\"text-align: right;\">    rmsle</th></tr>\n",
       "</thead>\n",
       "<tbody>\n",
       "<tr><td>StackedEnsemble_AllModels_AutoML_20210531_044600   </td><td style=\"text-align: right;\">                 3380.26</td><td style=\"text-align: right;\"> 58.14  </td><td style=\"text-align: right;\"> 3380.26</td><td style=\"text-align: right;\"> 42.3135</td><td style=\"text-align: right;\">0.0360769</td></tr>\n",
       "<tr><td>StackedEnsemble_BestOfFamily_AutoML_20210531_044600</td><td style=\"text-align: right;\">                 3461.98</td><td style=\"text-align: right;\"> 58.8386</td><td style=\"text-align: right;\"> 3461.98</td><td style=\"text-align: right;\"> 42.9055</td><td style=\"text-align: right;\">0.0365124</td></tr>\n",
       "<tr><td>GBM_3_AutoML_20210531_044600                       </td><td style=\"text-align: right;\">                 3509.56</td><td style=\"text-align: right;\"> 59.2416</td><td style=\"text-align: right;\"> 3509.56</td><td style=\"text-align: right;\"> 43.1894</td><td style=\"text-align: right;\">0.0367938</td></tr>\n",
       "<tr><td>GBM_1_AutoML_20210531_044600                       </td><td style=\"text-align: right;\">                 3554.83</td><td style=\"text-align: right;\"> 59.6224</td><td style=\"text-align: right;\"> 3554.83</td><td style=\"text-align: right;\"> 43.4262</td><td style=\"text-align: right;\">0.0370157</td></tr>\n",
       "<tr><td>GBM_grid__1_AutoML_20210531_044600_model_7         </td><td style=\"text-align: right;\">                 4006.1 </td><td style=\"text-align: right;\"> 63.2937</td><td style=\"text-align: right;\"> 4006.1 </td><td style=\"text-align: right;\"> 46.2199</td><td style=\"text-align: right;\">0.0396475</td></tr>\n",
       "<tr><td>GBM_4_AutoML_20210531_044600                       </td><td style=\"text-align: right;\">                 4034.49</td><td style=\"text-align: right;\"> 63.5176</td><td style=\"text-align: right;\"> 4034.49</td><td style=\"text-align: right;\"> 46.8998</td><td style=\"text-align: right;\">0.0400987</td></tr>\n",
       "<tr><td>GBM_grid__1_AutoML_20210531_044600_model_2         </td><td style=\"text-align: right;\">                 4060.94</td><td style=\"text-align: right;\"> 63.7255</td><td style=\"text-align: right;\"> 4060.94</td><td style=\"text-align: right;\"> 46.4701</td><td style=\"text-align: right;\">0.0404862</td></tr>\n",
       "<tr><td>GBM_grid__1_AutoML_20210531_044600_model_3         </td><td style=\"text-align: right;\">                 4095.72</td><td style=\"text-align: right;\"> 63.9978</td><td style=\"text-align: right;\"> 4095.72</td><td style=\"text-align: right;\"> 47.5574</td><td style=\"text-align: right;\">0.0406688</td></tr>\n",
       "<tr><td>GBM_grid__1_AutoML_20210531_044600_model_4         </td><td style=\"text-align: right;\">                 4100.05</td><td style=\"text-align: right;\"> 64.0317</td><td style=\"text-align: right;\"> 4100.05</td><td style=\"text-align: right;\"> 46.7931</td><td style=\"text-align: right;\">0.0399164</td></tr>\n",
       "<tr><td>GBM_2_AutoML_20210531_044600                       </td><td style=\"text-align: right;\">                 4346.54</td><td style=\"text-align: right;\"> 65.9283</td><td style=\"text-align: right;\"> 4346.54</td><td style=\"text-align: right;\"> 49.4638</td><td style=\"text-align: right;\">0.0427556</td></tr>\n",
       "<tr><td>GBM_grid__1_AutoML_20210531_044600_model_5         </td><td style=\"text-align: right;\">                 4515.98</td><td style=\"text-align: right;\"> 67.201 </td><td style=\"text-align: right;\"> 4515.98</td><td style=\"text-align: right;\"> 49.8536</td><td style=\"text-align: right;\">0.0430863</td></tr>\n",
       "<tr><td>GBM_grid__1_AutoML_20210531_044600_model_1         </td><td style=\"text-align: right;\">                 4536.21</td><td style=\"text-align: right;\"> 67.3514</td><td style=\"text-align: right;\"> 4536.21</td><td style=\"text-align: right;\"> 49.5636</td><td style=\"text-align: right;\">0.0425956</td></tr>\n",
       "<tr><td>DRF_1_AutoML_20210531_044600                       </td><td style=\"text-align: right;\">                 6605.1 </td><td style=\"text-align: right;\"> 81.2718</td><td style=\"text-align: right;\"> 6605.1 </td><td style=\"text-align: right;\"> 61.8074</td><td style=\"text-align: right;\">0.0528097</td></tr>\n",
       "<tr><td>GBM_5_AutoML_20210531_044600                       </td><td style=\"text-align: right;\">                 7718.33</td><td style=\"text-align: right;\"> 87.8541</td><td style=\"text-align: right;\"> 7718.33</td><td style=\"text-align: right;\"> 66.7707</td><td style=\"text-align: right;\">0.0573116</td></tr>\n",
       "<tr><td>XRT_1_AutoML_20210531_044600                       </td><td style=\"text-align: right;\">                 8553.64</td><td style=\"text-align: right;\"> 92.4859</td><td style=\"text-align: right;\"> 8553.64</td><td style=\"text-align: right;\"> 71.2546</td><td style=\"text-align: right;\">0.0603485</td></tr>\n",
       "<tr><td>GBM_grid__1_AutoML_20210531_044600_model_6         </td><td style=\"text-align: right;\">                 8834.98</td><td style=\"text-align: right;\"> 93.9946</td><td style=\"text-align: right;\"> 8834.98</td><td style=\"text-align: right;\"> 72.4555</td><td style=\"text-align: right;\">0.0614215</td></tr>\n",
       "<tr><td>DeepLearning_grid__2_AutoML_20210531_044600_model_1</td><td style=\"text-align: right;\">                11235   </td><td style=\"text-align: right;\">105.995 </td><td style=\"text-align: right;\">11235   </td><td style=\"text-align: right;\"> 76.135 </td><td style=\"text-align: right;\">0.0666244</td></tr>\n",
       "<tr><td>DeepLearning_grid__3_AutoML_20210531_044600_model_2</td><td style=\"text-align: right;\">                12386.6 </td><td style=\"text-align: right;\">111.295 </td><td style=\"text-align: right;\">12386.6 </td><td style=\"text-align: right;\"> 75.7181</td><td style=\"text-align: right;\">0.0683164</td></tr>\n",
       "<tr><td>DeepLearning_grid__1_AutoML_20210531_044600_model_1</td><td style=\"text-align: right;\">                14094.7 </td><td style=\"text-align: right;\">118.721 </td><td style=\"text-align: right;\">14094.7 </td><td style=\"text-align: right;\"> 84.2212</td><td style=\"text-align: right;\">0.0742335</td></tr>\n",
       "<tr><td>GBM_grid__1_AutoML_20210531_044600_model_8         </td><td style=\"text-align: right;\">                15331.7 </td><td style=\"text-align: right;\">123.821 </td><td style=\"text-align: right;\">15331.7 </td><td style=\"text-align: right;\"> 96.2346</td><td style=\"text-align: right;\">0.0845807</td></tr>\n",
       "<tr><td>DeepLearning_grid__3_AutoML_20210531_044600_model_1</td><td style=\"text-align: right;\">                17463   </td><td style=\"text-align: right;\">132.148 </td><td style=\"text-align: right;\">17463   </td><td style=\"text-align: right;\"> 91.8351</td><td style=\"text-align: right;\">0.081784 </td></tr>\n",
       "<tr><td>DeepLearning_grid__2_AutoML_20210531_044600_model_2</td><td style=\"text-align: right;\">                18291.7 </td><td style=\"text-align: right;\">135.247 </td><td style=\"text-align: right;\">18291.7 </td><td style=\"text-align: right;\"> 93.9068</td><td style=\"text-align: right;\">0.0828156</td></tr>\n",
       "<tr><td>DeepLearning_grid__1_AutoML_20210531_044600_model_2</td><td style=\"text-align: right;\">                33784.2 </td><td style=\"text-align: right;\">183.805 </td><td style=\"text-align: right;\">33784.2 </td><td style=\"text-align: right;\">148.223 </td><td style=\"text-align: right;\">0.126875 </td></tr>\n",
       "<tr><td>DeepLearning_grid__1_AutoML_20210531_044600_model_3</td><td style=\"text-align: right;\">                34145.7 </td><td style=\"text-align: right;\">184.785 </td><td style=\"text-align: right;\">34145.7 </td><td style=\"text-align: right;\">151.653 </td><td style=\"text-align: right;\">0.129005 </td></tr>\n",
       "<tr><td>DeepLearning_1_AutoML_20210531_044600              </td><td style=\"text-align: right;\">                39866.8 </td><td style=\"text-align: right;\">199.667 </td><td style=\"text-align: right;\">39866.8 </td><td style=\"text-align: right;\">159.909 </td><td style=\"text-align: right;\">0.135409 </td></tr>\n",
       "<tr><td>GLM_1_AutoML_20210531_044600                       </td><td style=\"text-align: right;\">                42458.2 </td><td style=\"text-align: right;\">206.054 </td><td style=\"text-align: right;\">42458.2 </td><td style=\"text-align: right;\">168.827 </td><td style=\"text-align: right;\">0.146029 </td></tr>\n",
       "<tr><td>DeepLearning_grid__2_AutoML_20210531_044600_model_3</td><td style=\"text-align: right;\">                42902.4 </td><td style=\"text-align: right;\">207.129 </td><td style=\"text-align: right;\">42902.4 </td><td style=\"text-align: right;\">162.648 </td><td style=\"text-align: right;\">0.141978 </td></tr>\n",
       "</tbody>\n",
       "</table>"
      ]
     },
     "metadata": {},
     "output_type": "display_data"
    },
    {
     "name": "stdout",
     "output_type": "stream",
     "text": [
      "\n",
      "num :  20\n",
      "pred :  3360\n"
     ]
    },
    {
     "name": "stderr",
     "output_type": "stream",
     "text": [
      "\r",
      " 33%|█████████████████████████                                                  | 20/60 [6:30:10<13:47:47, 1241.68s/it]"
     ]
    },
    {
     "name": "stdout",
     "output_type": "stream",
     "text": [
      "\n",
      "05:07:26.617: AutoML: XGBoost is not available; skipping it.\n",
      "\n"
     ]
    },
    {
     "data": {
      "text/html": [
       "<table>\n",
       "<thead>\n",
       "<tr><th>model_id                                           </th><th style=\"text-align: right;\">  mean_residual_deviance</th><th style=\"text-align: right;\">    rmse</th><th style=\"text-align: right;\">     mse</th><th style=\"text-align: right;\">     mae</th><th style=\"text-align: right;\">    rmsle</th></tr>\n",
       "</thead>\n",
       "<tbody>\n",
       "<tr><td>StackedEnsemble_AllModels_AutoML_20210531_050726   </td><td style=\"text-align: right;\">                 4077.42</td><td style=\"text-align: right;\"> 63.8546</td><td style=\"text-align: right;\"> 4077.42</td><td style=\"text-align: right;\"> 46.2294</td><td style=\"text-align: right;\">0.0363871</td></tr>\n",
       "<tr><td>StackedEnsemble_BestOfFamily_AutoML_20210531_050726</td><td style=\"text-align: right;\">                 4102.36</td><td style=\"text-align: right;\"> 64.0496</td><td style=\"text-align: right;\"> 4102.36</td><td style=\"text-align: right;\"> 46.4028</td><td style=\"text-align: right;\">0.0364176</td></tr>\n",
       "<tr><td>GBM_4_AutoML_20210531_050726                       </td><td style=\"text-align: right;\">                 4156.6 </td><td style=\"text-align: right;\"> 64.4717</td><td style=\"text-align: right;\"> 4156.6 </td><td style=\"text-align: right;\"> 46.9207</td><td style=\"text-align: right;\">0.0367639</td></tr>\n",
       "<tr><td>GBM_3_AutoML_20210531_050726                       </td><td style=\"text-align: right;\">                 4381.79</td><td style=\"text-align: right;\"> 66.1951</td><td style=\"text-align: right;\"> 4381.79</td><td style=\"text-align: right;\"> 48.8194</td><td style=\"text-align: right;\">0.0381928</td></tr>\n",
       "<tr><td>GBM_grid__1_AutoML_20210531_050726_model_1         </td><td style=\"text-align: right;\">                 4441.67</td><td style=\"text-align: right;\"> 66.6458</td><td style=\"text-align: right;\"> 4441.67</td><td style=\"text-align: right;\"> 48.9823</td><td style=\"text-align: right;\">0.0381085</td></tr>\n",
       "<tr><td>GBM_2_AutoML_20210531_050726                       </td><td style=\"text-align: right;\">                 4443.97</td><td style=\"text-align: right;\"> 66.6631</td><td style=\"text-align: right;\"> 4443.97</td><td style=\"text-align: right;\"> 49.7786</td><td style=\"text-align: right;\">0.0387216</td></tr>\n",
       "<tr><td>GBM_1_AutoML_20210531_050726                       </td><td style=\"text-align: right;\">                 4461.33</td><td style=\"text-align: right;\"> 66.7932</td><td style=\"text-align: right;\"> 4461.33</td><td style=\"text-align: right;\"> 49.5955</td><td style=\"text-align: right;\">0.0384289</td></tr>\n",
       "<tr><td>GBM_grid__1_AutoML_20210531_050726_model_7         </td><td style=\"text-align: right;\">                 4629.26</td><td style=\"text-align: right;\"> 68.0386</td><td style=\"text-align: right;\"> 4629.26</td><td style=\"text-align: right;\"> 50.9871</td><td style=\"text-align: right;\">0.039364 </td></tr>\n",
       "<tr><td>GBM_grid__1_AutoML_20210531_050726_model_2         </td><td style=\"text-align: right;\">                 4667.38</td><td style=\"text-align: right;\"> 68.3183</td><td style=\"text-align: right;\"> 4667.38</td><td style=\"text-align: right;\"> 50.5976</td><td style=\"text-align: right;\">0.0391149</td></tr>\n",
       "<tr><td>GBM_grid__1_AutoML_20210531_050726_model_4         </td><td style=\"text-align: right;\">                 4719.77</td><td style=\"text-align: right;\"> 68.7006</td><td style=\"text-align: right;\"> 4719.77</td><td style=\"text-align: right;\"> 49.96  </td><td style=\"text-align: right;\">0.0394018</td></tr>\n",
       "<tr><td>GBM_grid__1_AutoML_20210531_050726_model_5         </td><td style=\"text-align: right;\">                 5457.53</td><td style=\"text-align: right;\"> 73.8751</td><td style=\"text-align: right;\"> 5457.53</td><td style=\"text-align: right;\"> 56.1016</td><td style=\"text-align: right;\">0.0435646</td></tr>\n",
       "<tr><td>GBM_grid__1_AutoML_20210531_050726_model_3         </td><td style=\"text-align: right;\">                 5596.46</td><td style=\"text-align: right;\"> 74.8095</td><td style=\"text-align: right;\"> 5596.46</td><td style=\"text-align: right;\"> 56.4883</td><td style=\"text-align: right;\">0.0449319</td></tr>\n",
       "<tr><td>DRF_1_AutoML_20210531_050726                       </td><td style=\"text-align: right;\">                 8390.18</td><td style=\"text-align: right;\"> 91.5979</td><td style=\"text-align: right;\"> 8390.18</td><td style=\"text-align: right;\"> 69.2549</td><td style=\"text-align: right;\">0.053594 </td></tr>\n",
       "<tr><td>GBM_5_AutoML_20210531_050726                       </td><td style=\"text-align: right;\">                 8836.86</td><td style=\"text-align: right;\"> 94.0046</td><td style=\"text-align: right;\"> 8836.86</td><td style=\"text-align: right;\"> 70.8675</td><td style=\"text-align: right;\">0.0552974</td></tr>\n",
       "<tr><td>GBM_grid__1_AutoML_20210531_050726_model_6         </td><td style=\"text-align: right;\">                 9887.51</td><td style=\"text-align: right;\"> 99.436 </td><td style=\"text-align: right;\"> 9887.51</td><td style=\"text-align: right;\"> 75.2956</td><td style=\"text-align: right;\">0.0583746</td></tr>\n",
       "<tr><td>XRT_1_AutoML_20210531_050726                       </td><td style=\"text-align: right;\">                10138.7 </td><td style=\"text-align: right;\">100.691 </td><td style=\"text-align: right;\">10138.7 </td><td style=\"text-align: right;\"> 77.1492</td><td style=\"text-align: right;\">0.0600875</td></tr>\n",
       "<tr><td>DeepLearning_grid__3_AutoML_20210531_050726_model_2</td><td style=\"text-align: right;\">                14208.5 </td><td style=\"text-align: right;\">119.199 </td><td style=\"text-align: right;\">14208.5 </td><td style=\"text-align: right;\"> 84.3388</td><td style=\"text-align: right;\">0.0659442</td></tr>\n",
       "<tr><td>GBM_grid__1_AutoML_20210531_050726_model_8         </td><td style=\"text-align: right;\">                15493.6 </td><td style=\"text-align: right;\">124.473 </td><td style=\"text-align: right;\">15493.6 </td><td style=\"text-align: right;\"> 95.678 </td><td style=\"text-align: right;\">0.075771 </td></tr>\n",
       "<tr><td>DeepLearning_grid__2_AutoML_20210531_050726_model_1</td><td style=\"text-align: right;\">                15698   </td><td style=\"text-align: right;\">125.292 </td><td style=\"text-align: right;\">15698   </td><td style=\"text-align: right;\"> 91.1728</td><td style=\"text-align: right;\">0.0715916</td></tr>\n",
       "<tr><td>DeepLearning_grid__1_AutoML_20210531_050726_model_1</td><td style=\"text-align: right;\">                17952.2 </td><td style=\"text-align: right;\">133.986 </td><td style=\"text-align: right;\">17952.2 </td><td style=\"text-align: right;\">100.734 </td><td style=\"text-align: right;\">0.0764654</td></tr>\n",
       "<tr><td>DeepLearning_grid__3_AutoML_20210531_050726_model_1</td><td style=\"text-align: right;\">                18146.1 </td><td style=\"text-align: right;\">134.707 </td><td style=\"text-align: right;\">18146.1 </td><td style=\"text-align: right;\"> 96.3976</td><td style=\"text-align: right;\">0.0748064</td></tr>\n",
       "<tr><td>DeepLearning_grid__2_AutoML_20210531_050726_model_2</td><td style=\"text-align: right;\">                24476.2 </td><td style=\"text-align: right;\">156.449 </td><td style=\"text-align: right;\">24476.2 </td><td style=\"text-align: right;\">114.091 </td><td style=\"text-align: right;\">0.0904067</td></tr>\n",
       "<tr><td>DeepLearning_grid__1_AutoML_20210531_050726_model_2</td><td style=\"text-align: right;\">                33543.8 </td><td style=\"text-align: right;\">183.15  </td><td style=\"text-align: right;\">33543.8 </td><td style=\"text-align: right;\">144.943 </td><td style=\"text-align: right;\">0.119528 </td></tr>\n",
       "<tr><td>DeepLearning_grid__1_AutoML_20210531_050726_model_3</td><td style=\"text-align: right;\">                40746.3 </td><td style=\"text-align: right;\">201.857 </td><td style=\"text-align: right;\">40746.3 </td><td style=\"text-align: right;\">160.634 </td><td style=\"text-align: right;\">0.129451 </td></tr>\n",
       "<tr><td>DeepLearning_1_AutoML_20210531_050726              </td><td style=\"text-align: right;\">                41939.7 </td><td style=\"text-align: right;\">204.792 </td><td style=\"text-align: right;\">41939.7 </td><td style=\"text-align: right;\">165.716 </td><td style=\"text-align: right;\">0.133681 </td></tr>\n",
       "<tr><td>DeepLearning_grid__2_AutoML_20210531_050726_model_3</td><td style=\"text-align: right;\">                43939.2 </td><td style=\"text-align: right;\">209.617 </td><td style=\"text-align: right;\">43939.2 </td><td style=\"text-align: right;\">160.931 </td><td style=\"text-align: right;\">0.128809 </td></tr>\n",
       "<tr><td>GLM_1_AutoML_20210531_050726                       </td><td style=\"text-align: right;\">                45239.4 </td><td style=\"text-align: right;\">212.696 </td><td style=\"text-align: right;\">45239.4 </td><td style=\"text-align: right;\">169.064 </td><td style=\"text-align: right;\">0.139889 </td></tr>\n",
       "</tbody>\n",
       "</table>"
      ]
     },
     "metadata": {},
     "output_type": "display_data"
    },
    {
     "name": "stdout",
     "output_type": "stream",
     "text": [
      "\n",
      "num :  21\n",
      "pred :  3528\n"
     ]
    },
    {
     "name": "stderr",
     "output_type": "stream",
     "text": [
      "\r",
      " 35%|██████████████████████████▎                                                | 21/60 [6:51:01<13:28:58, 1244.59s/it]"
     ]
    },
    {
     "name": "stdout",
     "output_type": "stream",
     "text": [
      "\n",
      "05:28:17.801: AutoML: XGBoost is not available; skipping it.\n",
      "\n"
     ]
    },
    {
     "data": {
      "text/html": [
       "<table>\n",
       "<thead>\n",
       "<tr><th>model_id                                           </th><th style=\"text-align: right;\">  mean_residual_deviance</th><th style=\"text-align: right;\">    rmse</th><th style=\"text-align: right;\">     mse</th><th style=\"text-align: right;\">     mae</th><th style=\"text-align: right;\">    rmsle</th></tr>\n",
       "</thead>\n",
       "<tbody>\n",
       "<tr><td>StackedEnsemble_AllModels_AutoML_20210531_052817   </td><td style=\"text-align: right;\">                 3314.64</td><td style=\"text-align: right;\"> 57.5729</td><td style=\"text-align: right;\"> 3314.64</td><td style=\"text-align: right;\"> 34.1679</td><td style=\"text-align: right;\">0.0426277</td></tr>\n",
       "<tr><td>StackedEnsemble_BestOfFamily_AutoML_20210531_052817</td><td style=\"text-align: right;\">                 3345.32</td><td style=\"text-align: right;\"> 57.8387</td><td style=\"text-align: right;\"> 3345.32</td><td style=\"text-align: right;\"> 34.3124</td><td style=\"text-align: right;\">0.0428111</td></tr>\n",
       "<tr><td>GBM_1_AutoML_20210531_052817                       </td><td style=\"text-align: right;\">                 3360.23</td><td style=\"text-align: right;\"> 57.9675</td><td style=\"text-align: right;\"> 3360.23</td><td style=\"text-align: right;\"> 34.5577</td><td style=\"text-align: right;\">0.0429234</td></tr>\n",
       "<tr><td>GBM_3_AutoML_20210531_052817                       </td><td style=\"text-align: right;\">                 3466.39</td><td style=\"text-align: right;\"> 58.8761</td><td style=\"text-align: right;\"> 3466.39</td><td style=\"text-align: right;\"> 35.7979</td><td style=\"text-align: right;\">0.0434083</td></tr>\n",
       "<tr><td>GBM_grid__1_AutoML_20210531_052817_model_2         </td><td style=\"text-align: right;\">                 3484.69</td><td style=\"text-align: right;\"> 59.0313</td><td style=\"text-align: right;\"> 3484.69</td><td style=\"text-align: right;\"> 36.6241</td><td style=\"text-align: right;\">0.0440305</td></tr>\n",
       "<tr><td>GBM_4_AutoML_20210531_052817                       </td><td style=\"text-align: right;\">                 3512.18</td><td style=\"text-align: right;\"> 59.2637</td><td style=\"text-align: right;\"> 3512.18</td><td style=\"text-align: right;\"> 36.7053</td><td style=\"text-align: right;\">0.0440581</td></tr>\n",
       "<tr><td>GBM_grid__1_AutoML_20210531_052817_model_4         </td><td style=\"text-align: right;\">                 3559.15</td><td style=\"text-align: right;\"> 59.6586</td><td style=\"text-align: right;\"> 3559.15</td><td style=\"text-align: right;\"> 36.7496</td><td style=\"text-align: right;\">0.0445767</td></tr>\n",
       "<tr><td>GBM_2_AutoML_20210531_052817                       </td><td style=\"text-align: right;\">                 3626.61</td><td style=\"text-align: right;\"> 60.2213</td><td style=\"text-align: right;\"> 3626.61</td><td style=\"text-align: right;\"> 38.3787</td><td style=\"text-align: right;\">0.0448615</td></tr>\n",
       "<tr><td>GBM_grid__1_AutoML_20210531_052817_model_7         </td><td style=\"text-align: right;\">                 3703.64</td><td style=\"text-align: right;\"> 60.8575</td><td style=\"text-align: right;\"> 3703.64</td><td style=\"text-align: right;\"> 37.2877</td><td style=\"text-align: right;\">0.0451298</td></tr>\n",
       "<tr><td>GBM_grid__1_AutoML_20210531_052817_model_1         </td><td style=\"text-align: right;\">                 3731.78</td><td style=\"text-align: right;\"> 61.0883</td><td style=\"text-align: right;\"> 3731.78</td><td style=\"text-align: right;\"> 39.4706</td><td style=\"text-align: right;\">0.0458283</td></tr>\n",
       "<tr><td>GBM_grid__1_AutoML_20210531_052817_model_5         </td><td style=\"text-align: right;\">                 3754.29</td><td style=\"text-align: right;\"> 61.2723</td><td style=\"text-align: right;\"> 3754.29</td><td style=\"text-align: right;\"> 38.7382</td><td style=\"text-align: right;\">0.0457642</td></tr>\n",
       "<tr><td>GBM_grid__1_AutoML_20210531_052817_model_3         </td><td style=\"text-align: right;\">                 3765.63</td><td style=\"text-align: right;\"> 61.3647</td><td style=\"text-align: right;\"> 3765.63</td><td style=\"text-align: right;\"> 39.0621</td><td style=\"text-align: right;\">0.0458752</td></tr>\n",
       "<tr><td>DRF_1_AutoML_20210531_052817                       </td><td style=\"text-align: right;\">                 4242.6 </td><td style=\"text-align: right;\"> 65.1353</td><td style=\"text-align: right;\"> 4242.6 </td><td style=\"text-align: right;\"> 40.7532</td><td style=\"text-align: right;\">0.0478959</td></tr>\n",
       "<tr><td>GBM_5_AutoML_20210531_052817                       </td><td style=\"text-align: right;\">                 4482.2 </td><td style=\"text-align: right;\"> 66.9492</td><td style=\"text-align: right;\"> 4482.2 </td><td style=\"text-align: right;\"> 43.2965</td><td style=\"text-align: right;\">0.0503154</td></tr>\n",
       "<tr><td>GBM_grid__1_AutoML_20210531_052817_model_6         </td><td style=\"text-align: right;\">                 5518.79</td><td style=\"text-align: right;\"> 74.2886</td><td style=\"text-align: right;\"> 5518.79</td><td style=\"text-align: right;\"> 48.7941</td><td style=\"text-align: right;\">0.0555286</td></tr>\n",
       "<tr><td>XRT_1_AutoML_20210531_052817                       </td><td style=\"text-align: right;\">                 5983.87</td><td style=\"text-align: right;\"> 77.3555</td><td style=\"text-align: right;\"> 5983.87</td><td style=\"text-align: right;\"> 51.8016</td><td style=\"text-align: right;\">0.0573468</td></tr>\n",
       "<tr><td>DeepLearning_grid__3_AutoML_20210531_052817_model_2</td><td style=\"text-align: right;\">                 7765.35</td><td style=\"text-align: right;\"> 88.1212</td><td style=\"text-align: right;\"> 7765.35</td><td style=\"text-align: right;\"> 61.1346</td><td style=\"text-align: right;\">0.0681827</td></tr>\n",
       "<tr><td>GBM_grid__1_AutoML_20210531_052817_model_8         </td><td style=\"text-align: right;\">                 8333.96</td><td style=\"text-align: right;\"> 91.2905</td><td style=\"text-align: right;\"> 8333.96</td><td style=\"text-align: right;\"> 68.6355</td><td style=\"text-align: right;\">0.0716304</td></tr>\n",
       "<tr><td>DeepLearning_grid__2_AutoML_20210531_052817_model_2</td><td style=\"text-align: right;\">                 8696.03</td><td style=\"text-align: right;\"> 93.2525</td><td style=\"text-align: right;\"> 8696.03</td><td style=\"text-align: right;\"> 64.4827</td><td style=\"text-align: right;\">0.0704576</td></tr>\n",
       "<tr><td>DeepLearning_grid__2_AutoML_20210531_052817_model_1</td><td style=\"text-align: right;\">                 9480.2 </td><td style=\"text-align: right;\"> 97.3663</td><td style=\"text-align: right;\"> 9480.2 </td><td style=\"text-align: right;\"> 69.8223</td><td style=\"text-align: right;\">0.0747956</td></tr>\n",
       "<tr><td>DeepLearning_grid__3_AutoML_20210531_052817_model_1</td><td style=\"text-align: right;\">                 9491.26</td><td style=\"text-align: right;\"> 97.4231</td><td style=\"text-align: right;\"> 9491.26</td><td style=\"text-align: right;\"> 68.8695</td><td style=\"text-align: right;\">0.0751954</td></tr>\n",
       "<tr><td>DeepLearning_grid__1_AutoML_20210531_052817_model_1</td><td style=\"text-align: right;\">                10548.7 </td><td style=\"text-align: right;\">102.707 </td><td style=\"text-align: right;\">10548.7 </td><td style=\"text-align: right;\"> 75.3956</td><td style=\"text-align: right;\">0.0793305</td></tr>\n",
       "<tr><td>DeepLearning_1_AutoML_20210531_052817              </td><td style=\"text-align: right;\">                11808.1 </td><td style=\"text-align: right;\">108.665 </td><td style=\"text-align: right;\">11808.1 </td><td style=\"text-align: right;\"> 81.4834</td><td style=\"text-align: right;\">0.0862118</td></tr>\n",
       "<tr><td>DeepLearning_grid__1_AutoML_20210531_052817_model_2</td><td style=\"text-align: right;\">                14063.5 </td><td style=\"text-align: right;\">118.59  </td><td style=\"text-align: right;\">14063.5 </td><td style=\"text-align: right;\"> 87.5348</td><td style=\"text-align: right;\">0.0917007</td></tr>\n",
       "<tr><td>DeepLearning_grid__2_AutoML_20210531_052817_model_3</td><td style=\"text-align: right;\">                14726.1 </td><td style=\"text-align: right;\">121.351 </td><td style=\"text-align: right;\">14726.1 </td><td style=\"text-align: right;\"> 89.4477</td><td style=\"text-align: right;\">0.0897562</td></tr>\n",
       "<tr><td>DeepLearning_grid__1_AutoML_20210531_052817_model_3</td><td style=\"text-align: right;\">                18620.1 </td><td style=\"text-align: right;\">136.456 </td><td style=\"text-align: right;\">18620.1 </td><td style=\"text-align: right;\">104.144 </td><td style=\"text-align: right;\">0.103705 </td></tr>\n",
       "<tr><td>GLM_1_AutoML_20210531_052817                       </td><td style=\"text-align: right;\">                34016.1 </td><td style=\"text-align: right;\">184.435 </td><td style=\"text-align: right;\">34016.1 </td><td style=\"text-align: right;\">145.456 </td><td style=\"text-align: right;\">0.142115 </td></tr>\n",
       "</tbody>\n",
       "</table>"
      ]
     },
     "metadata": {},
     "output_type": "display_data"
    },
    {
     "name": "stdout",
     "output_type": "stream",
     "text": [
      "\n",
      "num :  22\n",
      "pred :  3696\n"
     ]
    },
    {
     "name": "stderr",
     "output_type": "stream",
     "text": [
      "\r",
      " 37%|███████████████████████████▍                                               | 22/60 [7:07:21<12:17:50, 1165.01s/it]"
     ]
    },
    {
     "name": "stdout",
     "output_type": "stream",
     "text": [
      "\n",
      "05:44:37.122: AutoML: XGBoost is not available; skipping it.\n",
      "\n"
     ]
    },
    {
     "data": {
      "text/html": [
       "<table>\n",
       "<thead>\n",
       "<tr><th>model_id                                           </th><th style=\"text-align: right;\">  mean_residual_deviance</th><th style=\"text-align: right;\">   rmse</th><th style=\"text-align: right;\">     mse</th><th style=\"text-align: right;\">     mae</th><th style=\"text-align: right;\">    rmsle</th></tr>\n",
       "</thead>\n",
       "<tbody>\n",
       "<tr><td>StackedEnsemble_AllModels_AutoML_20210531_054437   </td><td style=\"text-align: right;\">                 25098.5</td><td style=\"text-align: right;\">158.425</td><td style=\"text-align: right;\"> 25098.5</td><td style=\"text-align: right;\"> 85.2406</td><td style=\"text-align: right;\">0.0682289</td></tr>\n",
       "<tr><td>StackedEnsemble_BestOfFamily_AutoML_20210531_054437</td><td style=\"text-align: right;\">                 25357.5</td><td style=\"text-align: right;\">159.24 </td><td style=\"text-align: right;\"> 25357.5</td><td style=\"text-align: right;\"> 85.2999</td><td style=\"text-align: right;\">0.0685537</td></tr>\n",
       "<tr><td>GBM_3_AutoML_20210531_054437                       </td><td style=\"text-align: right;\">                 25815.7</td><td style=\"text-align: right;\">160.673</td><td style=\"text-align: right;\"> 25815.7</td><td style=\"text-align: right;\"> 87.1853</td><td style=\"text-align: right;\">0.0693126</td></tr>\n",
       "<tr><td>GBM_2_AutoML_20210531_054437                       </td><td style=\"text-align: right;\">                 26623.9</td><td style=\"text-align: right;\">163.168</td><td style=\"text-align: right;\"> 26623.9</td><td style=\"text-align: right;\"> 88.9378</td><td style=\"text-align: right;\">0.0701089</td></tr>\n",
       "<tr><td>GBM_grid__1_AutoML_20210531_054437_model_1         </td><td style=\"text-align: right;\">                 26688.7</td><td style=\"text-align: right;\">163.367</td><td style=\"text-align: right;\"> 26688.7</td><td style=\"text-align: right;\"> 92.2549</td><td style=\"text-align: right;\">0.0707641</td></tr>\n",
       "<tr><td>GBM_grid__1_AutoML_20210531_054437_model_2         </td><td style=\"text-align: right;\">                 27512.3</td><td style=\"text-align: right;\">165.868</td><td style=\"text-align: right;\"> 27512.3</td><td style=\"text-align: right;\"> 93.2872</td><td style=\"text-align: right;\">0.0716275</td></tr>\n",
       "<tr><td>GBM_grid__1_AutoML_20210531_054437_model_4         </td><td style=\"text-align: right;\">                 27584.5</td><td style=\"text-align: right;\">166.086</td><td style=\"text-align: right;\"> 27584.5</td><td style=\"text-align: right;\"> 91.3967</td><td style=\"text-align: right;\">0.0716917</td></tr>\n",
       "<tr><td>GBM_1_AutoML_20210531_054437                       </td><td style=\"text-align: right;\">                 27629.1</td><td style=\"text-align: right;\">166.22 </td><td style=\"text-align: right;\"> 27629.1</td><td style=\"text-align: right;\"> 91.1497</td><td style=\"text-align: right;\">0.0714815</td></tr>\n",
       "<tr><td>GBM_grid__1_AutoML_20210531_054437_model_5         </td><td style=\"text-align: right;\">                 27879.3</td><td style=\"text-align: right;\">166.971</td><td style=\"text-align: right;\"> 27879.3</td><td style=\"text-align: right;\"> 95.5443</td><td style=\"text-align: right;\">0.0724104</td></tr>\n",
       "<tr><td>GBM_grid__1_AutoML_20210531_054437_model_3         </td><td style=\"text-align: right;\">                 27960.3</td><td style=\"text-align: right;\">167.213</td><td style=\"text-align: right;\"> 27960.3</td><td style=\"text-align: right;\"> 97.3617</td><td style=\"text-align: right;\">0.0729924</td></tr>\n",
       "<tr><td>GBM_4_AutoML_20210531_054437                       </td><td style=\"text-align: right;\">                 28446.9</td><td style=\"text-align: right;\">168.662</td><td style=\"text-align: right;\"> 28446.9</td><td style=\"text-align: right;\"> 94.7013</td><td style=\"text-align: right;\">0.0729656</td></tr>\n",
       "<tr><td>GBM_grid__1_AutoML_20210531_054437_model_7         </td><td style=\"text-align: right;\">                 28563  </td><td style=\"text-align: right;\">169.006</td><td style=\"text-align: right;\"> 28563  </td><td style=\"text-align: right;\"> 94.5926</td><td style=\"text-align: right;\">0.0727498</td></tr>\n",
       "<tr><td>DRF_1_AutoML_20210531_054437                       </td><td style=\"text-align: right;\">                 31246.3</td><td style=\"text-align: right;\">176.766</td><td style=\"text-align: right;\"> 31246.3</td><td style=\"text-align: right;\"> 97.6929</td><td style=\"text-align: right;\">0.0756071</td></tr>\n",
       "<tr><td>GBM_5_AutoML_20210531_054437                       </td><td style=\"text-align: right;\">                 35978.1</td><td style=\"text-align: right;\">189.679</td><td style=\"text-align: right;\"> 35978.1</td><td style=\"text-align: right;\">112.245 </td><td style=\"text-align: right;\">0.0820497</td></tr>\n",
       "<tr><td>XRT_1_AutoML_20210531_054437                       </td><td style=\"text-align: right;\">                 38817.8</td><td style=\"text-align: right;\">197.022</td><td style=\"text-align: right;\"> 38817.8</td><td style=\"text-align: right;\">114.5   </td><td style=\"text-align: right;\">0.0845984</td></tr>\n",
       "<tr><td>GBM_grid__1_AutoML_20210531_054437_model_6         </td><td style=\"text-align: right;\">                 40244.9</td><td style=\"text-align: right;\">200.611</td><td style=\"text-align: right;\"> 40244.9</td><td style=\"text-align: right;\">119.956 </td><td style=\"text-align: right;\">0.0869066</td></tr>\n",
       "<tr><td>DeepLearning_grid__3_AutoML_20210531_054437_model_2</td><td style=\"text-align: right;\">                 42893.9</td><td style=\"text-align: right;\">207.109</td><td style=\"text-align: right;\"> 42893.9</td><td style=\"text-align: right;\">127.16  </td><td style=\"text-align: right;\">0.091976 </td></tr>\n",
       "<tr><td>DeepLearning_grid__2_AutoML_20210531_054437_model_1</td><td style=\"text-align: right;\">                 47990.2</td><td style=\"text-align: right;\">219.067</td><td style=\"text-align: right;\"> 47990.2</td><td style=\"text-align: right;\">144.481 </td><td style=\"text-align: right;\">0.101879 </td></tr>\n",
       "<tr><td>GBM_grid__1_AutoML_20210531_054437_model_8         </td><td style=\"text-align: right;\">                 48467  </td><td style=\"text-align: right;\">220.152</td><td style=\"text-align: right;\"> 48467  </td><td style=\"text-align: right;\">144.194 </td><td style=\"text-align: right;\">0.0984993</td></tr>\n",
       "<tr><td>DeepLearning_grid__2_AutoML_20210531_054437_model_2</td><td style=\"text-align: right;\">                 50479.1</td><td style=\"text-align: right;\">224.676</td><td style=\"text-align: right;\"> 50479.1</td><td style=\"text-align: right;\">146.188 </td><td style=\"text-align: right;\">0.10102  </td></tr>\n",
       "<tr><td>DeepLearning_grid__1_AutoML_20210531_054437_model_1</td><td style=\"text-align: right;\">                 50556.1</td><td style=\"text-align: right;\">224.847</td><td style=\"text-align: right;\"> 50556.1</td><td style=\"text-align: right;\">146.557 </td><td style=\"text-align: right;\">0.10229  </td></tr>\n",
       "<tr><td>DeepLearning_grid__3_AutoML_20210531_054437_model_1</td><td style=\"text-align: right;\">                 58069.5</td><td style=\"text-align: right;\">240.976</td><td style=\"text-align: right;\"> 58069.5</td><td style=\"text-align: right;\">148.712 </td><td style=\"text-align: right;\">0.106836 </td></tr>\n",
       "<tr><td>DeepLearning_grid__2_AutoML_20210531_054437_model_3</td><td style=\"text-align: right;\">                 60350.4</td><td style=\"text-align: right;\">245.663</td><td style=\"text-align: right;\"> 60350.4</td><td style=\"text-align: right;\">156.75  </td><td style=\"text-align: right;\">0.108043 </td></tr>\n",
       "<tr><td>DeepLearning_grid__1_AutoML_20210531_054437_model_2</td><td style=\"text-align: right;\">                 66341.7</td><td style=\"text-align: right;\">257.569</td><td style=\"text-align: right;\"> 66341.7</td><td style=\"text-align: right;\">167.87  </td><td style=\"text-align: right;\">0.114404 </td></tr>\n",
       "<tr><td>DeepLearning_grid__1_AutoML_20210531_054437_model_3</td><td style=\"text-align: right;\">                 75336.9</td><td style=\"text-align: right;\">274.476</td><td style=\"text-align: right;\"> 75336.9</td><td style=\"text-align: right;\">188.761 </td><td style=\"text-align: right;\">0.123546 </td></tr>\n",
       "<tr><td>DeepLearning_1_AutoML_20210531_054437              </td><td style=\"text-align: right;\">                 76505.9</td><td style=\"text-align: right;\">276.597</td><td style=\"text-align: right;\"> 76505.9</td><td style=\"text-align: right;\">190.979 </td><td style=\"text-align: right;\">0.126637 </td></tr>\n",
       "<tr><td>GLM_1_AutoML_20210531_054437                       </td><td style=\"text-align: right;\">                109851  </td><td style=\"text-align: right;\">331.438</td><td style=\"text-align: right;\">109851  </td><td style=\"text-align: right;\">242.133 </td><td style=\"text-align: right;\">0.153581 </td></tr>\n",
       "</tbody>\n",
       "</table>"
      ]
     },
     "metadata": {},
     "output_type": "display_data"
    },
    {
     "name": "stdout",
     "output_type": "stream",
     "text": [
      "\n",
      "num :  23\n",
      "pred :  3864\n"
     ]
    },
    {
     "name": "stderr",
     "output_type": "stream",
     "text": [
      "\r",
      " 38%|████████████████████████████▊                                              | 23/60 [7:25:13<11:41:13, 1137.11s/it]"
     ]
    },
    {
     "name": "stdout",
     "output_type": "stream",
     "text": [
      "\n",
      "06:02:29.157: AutoML: XGBoost is not available; skipping it.\n",
      "\n"
     ]
    },
    {
     "data": {
      "text/html": [
       "<table>\n",
       "<thead>\n",
       "<tr><th>model_id                                           </th><th style=\"text-align: right;\">  mean_residual_deviance</th><th style=\"text-align: right;\">   rmse</th><th style=\"text-align: right;\">     mse</th><th style=\"text-align: right;\">     mae</th><th style=\"text-align: right;\">    rmsle</th></tr>\n",
       "</thead>\n",
       "<tbody>\n",
       "<tr><td>StackedEnsemble_AllModels_AutoML_20210531_060229   </td><td style=\"text-align: right;\">                 18615.4</td><td style=\"text-align: right;\">136.438</td><td style=\"text-align: right;\"> 18615.4</td><td style=\"text-align: right;\"> 92.2289</td><td style=\"text-align: right;\">0.0506197</td></tr>\n",
       "<tr><td>StackedEnsemble_BestOfFamily_AutoML_20210531_060229</td><td style=\"text-align: right;\">                 18770.4</td><td style=\"text-align: right;\">137.005</td><td style=\"text-align: right;\"> 18770.4</td><td style=\"text-align: right;\"> 92.2622</td><td style=\"text-align: right;\">0.0506875</td></tr>\n",
       "<tr><td>GBM_1_AutoML_20210531_060229                       </td><td style=\"text-align: right;\">                 19413.8</td><td style=\"text-align: right;\">139.333</td><td style=\"text-align: right;\"> 19413.8</td><td style=\"text-align: right;\"> 93.5934</td><td style=\"text-align: right;\">0.051755 </td></tr>\n",
       "<tr><td>GBM_3_AutoML_20210531_060229                       </td><td style=\"text-align: right;\">                 19737.6</td><td style=\"text-align: right;\">140.491</td><td style=\"text-align: right;\"> 19737.6</td><td style=\"text-align: right;\"> 96.6739</td><td style=\"text-align: right;\">0.053403 </td></tr>\n",
       "<tr><td>GBM_grid__1_AutoML_20210531_060229_model_3         </td><td style=\"text-align: right;\">                 20218.1</td><td style=\"text-align: right;\">142.19 </td><td style=\"text-align: right;\"> 20218.1</td><td style=\"text-align: right;\">100.176 </td><td style=\"text-align: right;\">0.0535099</td></tr>\n",
       "<tr><td>GBM_grid__1_AutoML_20210531_060229_model_2         </td><td style=\"text-align: right;\">                 20275.9</td><td style=\"text-align: right;\">142.394</td><td style=\"text-align: right;\"> 20275.9</td><td style=\"text-align: right;\"> 97.6079</td><td style=\"text-align: right;\">0.0544259</td></tr>\n",
       "<tr><td>GBM_4_AutoML_20210531_060229                       </td><td style=\"text-align: right;\">                 20394.4</td><td style=\"text-align: right;\">142.809</td><td style=\"text-align: right;\"> 20394.4</td><td style=\"text-align: right;\"> 98.4525</td><td style=\"text-align: right;\">0.0538464</td></tr>\n",
       "<tr><td>GBM_2_AutoML_20210531_060229                       </td><td style=\"text-align: right;\">                 20400  </td><td style=\"text-align: right;\">142.829</td><td style=\"text-align: right;\"> 20400  </td><td style=\"text-align: right;\"> 97.3816</td><td style=\"text-align: right;\">0.0543035</td></tr>\n",
       "<tr><td>GBM_grid__1_AutoML_20210531_060229_model_1         </td><td style=\"text-align: right;\">                 20437.8</td><td style=\"text-align: right;\">142.961</td><td style=\"text-align: right;\"> 20437.8</td><td style=\"text-align: right;\"> 97.4327</td><td style=\"text-align: right;\">0.0550511</td></tr>\n",
       "<tr><td>DRF_1_AutoML_20210531_060229                       </td><td style=\"text-align: right;\">                 20919.4</td><td style=\"text-align: right;\">144.636</td><td style=\"text-align: right;\"> 20919.4</td><td style=\"text-align: right;\"> 99.6142</td><td style=\"text-align: right;\">0.0532272</td></tr>\n",
       "<tr><td>GBM_grid__1_AutoML_20210531_060229_model_5         </td><td style=\"text-align: right;\">                 21297.7</td><td style=\"text-align: right;\">145.937</td><td style=\"text-align: right;\"> 21297.7</td><td style=\"text-align: right;\">100.625 </td><td style=\"text-align: right;\">0.0554689</td></tr>\n",
       "<tr><td>GBM_grid__1_AutoML_20210531_060229_model_7         </td><td style=\"text-align: right;\">                 21365  </td><td style=\"text-align: right;\">146.168</td><td style=\"text-align: right;\"> 21365  </td><td style=\"text-align: right;\"> 99.9324</td><td style=\"text-align: right;\">0.0551869</td></tr>\n",
       "<tr><td>GBM_grid__1_AutoML_20210531_060229_model_4         </td><td style=\"text-align: right;\">                 21570.4</td><td style=\"text-align: right;\">146.869</td><td style=\"text-align: right;\"> 21570.4</td><td style=\"text-align: right;\">100.014 </td><td style=\"text-align: right;\">0.0565826</td></tr>\n",
       "<tr><td>XRT_1_AutoML_20210531_060229                       </td><td style=\"text-align: right;\">                 22753.8</td><td style=\"text-align: right;\">150.844</td><td style=\"text-align: right;\"> 22753.8</td><td style=\"text-align: right;\">105.825 </td><td style=\"text-align: right;\">0.0553846</td></tr>\n",
       "<tr><td>GBM_5_AutoML_20210531_060229                       </td><td style=\"text-align: right;\">                 27735.1</td><td style=\"text-align: right;\">166.539</td><td style=\"text-align: right;\"> 27735.1</td><td style=\"text-align: right;\">113.73  </td><td style=\"text-align: right;\">0.0657044</td></tr>\n",
       "<tr><td>GBM_grid__1_AutoML_20210531_060229_model_6         </td><td style=\"text-align: right;\">                 29682.7</td><td style=\"text-align: right;\">172.287</td><td style=\"text-align: right;\"> 29682.7</td><td style=\"text-align: right;\">116.812 </td><td style=\"text-align: right;\">0.0678502</td></tr>\n",
       "<tr><td>DeepLearning_grid__2_AutoML_20210531_060229_model_1</td><td style=\"text-align: right;\">                 31121.4</td><td style=\"text-align: right;\">176.413</td><td style=\"text-align: right;\"> 31121.4</td><td style=\"text-align: right;\">125.729 </td><td style=\"text-align: right;\">0.0654536</td></tr>\n",
       "<tr><td>DeepLearning_grid__3_AutoML_20210531_060229_model_2</td><td style=\"text-align: right;\">                 32920.2</td><td style=\"text-align: right;\">181.439</td><td style=\"text-align: right;\"> 32920.2</td><td style=\"text-align: right;\">128.19  </td><td style=\"text-align: right;\">0.0668113</td></tr>\n",
       "<tr><td>GBM_grid__1_AutoML_20210531_060229_model_8         </td><td style=\"text-align: right;\">                 35973.5</td><td style=\"text-align: right;\">189.667</td><td style=\"text-align: right;\"> 35973.5</td><td style=\"text-align: right;\">133.796 </td><td style=\"text-align: right;\">0.0732668</td></tr>\n",
       "<tr><td>DeepLearning_grid__2_AutoML_20210531_060229_model_2</td><td style=\"text-align: right;\">                 36465.7</td><td style=\"text-align: right;\">190.96 </td><td style=\"text-align: right;\"> 36465.7</td><td style=\"text-align: right;\">136.791 </td><td style=\"text-align: right;\">0.0709457</td></tr>\n",
       "<tr><td>DeepLearning_grid__3_AutoML_20210531_060229_model_1</td><td style=\"text-align: right;\">                 37168.5</td><td style=\"text-align: right;\">192.791</td><td style=\"text-align: right;\"> 37168.5</td><td style=\"text-align: right;\">138.297 </td><td style=\"text-align: right;\">0.0710252</td></tr>\n",
       "<tr><td>DeepLearning_grid__1_AutoML_20210531_060229_model_2</td><td style=\"text-align: right;\">                 41609.1</td><td style=\"text-align: right;\">203.983</td><td style=\"text-align: right;\"> 41609.1</td><td style=\"text-align: right;\">147.487 </td><td style=\"text-align: right;\">0.0752818</td></tr>\n",
       "<tr><td>DeepLearning_grid__1_AutoML_20210531_060229_model_3</td><td style=\"text-align: right;\">                 46738  </td><td style=\"text-align: right;\">216.19 </td><td style=\"text-align: right;\"> 46738  </td><td style=\"text-align: right;\">165.331 </td><td style=\"text-align: right;\">0.0759964</td></tr>\n",
       "<tr><td>DeepLearning_grid__1_AutoML_20210531_060229_model_1</td><td style=\"text-align: right;\">                 49746.8</td><td style=\"text-align: right;\">223.04 </td><td style=\"text-align: right;\"> 49746.8</td><td style=\"text-align: right;\">162.283 </td><td style=\"text-align: right;\">0.0774878</td></tr>\n",
       "<tr><td>DeepLearning_grid__2_AutoML_20210531_060229_model_3</td><td style=\"text-align: right;\">                 59608.1</td><td style=\"text-align: right;\">244.148</td><td style=\"text-align: right;\"> 59608.1</td><td style=\"text-align: right;\">189.345 </td><td style=\"text-align: right;\">0.0833038</td></tr>\n",
       "<tr><td>GLM_1_AutoML_20210531_060229                       </td><td style=\"text-align: right;\">                 66773.6</td><td style=\"text-align: right;\">258.406</td><td style=\"text-align: right;\"> 66773.6</td><td style=\"text-align: right;\">201.417 </td><td style=\"text-align: right;\">0.091103 </td></tr>\n",
       "<tr><td>DeepLearning_1_AutoML_20210531_060229              </td><td style=\"text-align: right;\">                105119  </td><td style=\"text-align: right;\">324.221</td><td style=\"text-align: right;\">105119  </td><td style=\"text-align: right;\">256.731 </td><td style=\"text-align: right;\">0.11214  </td></tr>\n",
       "</tbody>\n",
       "</table>"
      ]
     },
     "metadata": {},
     "output_type": "display_data"
    },
    {
     "name": "stdout",
     "output_type": "stream",
     "text": [
      "\n",
      "num :  24\n",
      "pred :  4032\n"
     ]
    },
    {
     "name": "stderr",
     "output_type": "stream",
     "text": [
      "\r",
      " 40%|██████████████████████████████                                             | 24/60 [7:42:15<11:01:41, 1102.82s/it]"
     ]
    },
    {
     "name": "stdout",
     "output_type": "stream",
     "text": [
      "\n",
      "06:19:31.971: AutoML: XGBoost is not available; skipping it.\n",
      "\n"
     ]
    },
    {
     "data": {
      "text/html": [
       "<table>\n",
       "<thead>\n",
       "<tr><th>model_id                                           </th><th style=\"text-align: right;\">  mean_residual_deviance</th><th style=\"text-align: right;\">   rmse</th><th style=\"text-align: right;\">     mse</th><th style=\"text-align: right;\">     mae</th><th style=\"text-align: right;\">    rmsle</th></tr>\n",
       "</thead>\n",
       "<tbody>\n",
       "<tr><td>StackedEnsemble_AllModels_AutoML_20210531_061931   </td><td style=\"text-align: right;\">                 17041.9</td><td style=\"text-align: right;\">130.544</td><td style=\"text-align: right;\"> 17041.9</td><td style=\"text-align: right;\"> 81.5856</td><td style=\"text-align: right;\">0.0884576</td></tr>\n",
       "<tr><td>StackedEnsemble_BestOfFamily_AutoML_20210531_061931</td><td style=\"text-align: right;\">                 17468.8</td><td style=\"text-align: right;\">132.169</td><td style=\"text-align: right;\"> 17468.8</td><td style=\"text-align: right;\"> 83.1158</td><td style=\"text-align: right;\">0.089354 </td></tr>\n",
       "<tr><td>GBM_4_AutoML_20210531_061931                       </td><td style=\"text-align: right;\">                 17923.7</td><td style=\"text-align: right;\">133.88 </td><td style=\"text-align: right;\"> 17923.7</td><td style=\"text-align: right;\"> 84.8812</td><td style=\"text-align: right;\">0.0899276</td></tr>\n",
       "<tr><td>GBM_3_AutoML_20210531_061931                       </td><td style=\"text-align: right;\">                 18157.7</td><td style=\"text-align: right;\">134.75 </td><td style=\"text-align: right;\"> 18157.7</td><td style=\"text-align: right;\"> 83.7272</td><td style=\"text-align: right;\">0.0904539</td></tr>\n",
       "<tr><td>GBM_grid__1_AutoML_20210531_061931_model_4         </td><td style=\"text-align: right;\">                 19349.1</td><td style=\"text-align: right;\">139.101</td><td style=\"text-align: right;\"> 19349.1</td><td style=\"text-align: right;\"> 87.6337</td><td style=\"text-align: right;\">0.0946359</td></tr>\n",
       "<tr><td>GBM_1_AutoML_20210531_061931                       </td><td style=\"text-align: right;\">                 20088  </td><td style=\"text-align: right;\">141.732</td><td style=\"text-align: right;\"> 20088  </td><td style=\"text-align: right;\"> 87.3605</td><td style=\"text-align: right;\">0.0946904</td></tr>\n",
       "<tr><td>GBM_2_AutoML_20210531_061931                       </td><td style=\"text-align: right;\">                 20156  </td><td style=\"text-align: right;\">141.972</td><td style=\"text-align: right;\"> 20156  </td><td style=\"text-align: right;\"> 90.9642</td><td style=\"text-align: right;\">0.0948609</td></tr>\n",
       "<tr><td>GBM_grid__1_AutoML_20210531_061931_model_2         </td><td style=\"text-align: right;\">                 20350.1</td><td style=\"text-align: right;\">142.654</td><td style=\"text-align: right;\"> 20350.1</td><td style=\"text-align: right;\"> 88.7284</td><td style=\"text-align: right;\">0.0952467</td></tr>\n",
       "<tr><td>GBM_grid__1_AutoML_20210531_061931_model_7         </td><td style=\"text-align: right;\">                 20737.5</td><td style=\"text-align: right;\">144.005</td><td style=\"text-align: right;\"> 20737.5</td><td style=\"text-align: right;\"> 93.2057</td><td style=\"text-align: right;\">0.0972687</td></tr>\n",
       "<tr><td>GBM_grid__1_AutoML_20210531_061931_model_3         </td><td style=\"text-align: right;\">                 21447.9</td><td style=\"text-align: right;\">146.451</td><td style=\"text-align: right;\"> 21447.9</td><td style=\"text-align: right;\"> 92.7593</td><td style=\"text-align: right;\">0.0964007</td></tr>\n",
       "<tr><td>GBM_grid__1_AutoML_20210531_061931_model_1         </td><td style=\"text-align: right;\">                 21839  </td><td style=\"text-align: right;\">147.78 </td><td style=\"text-align: right;\"> 21839  </td><td style=\"text-align: right;\"> 95.6068</td><td style=\"text-align: right;\">0.0971781</td></tr>\n",
       "<tr><td>GBM_grid__1_AutoML_20210531_061931_model_5         </td><td style=\"text-align: right;\">                 22502.4</td><td style=\"text-align: right;\">150.008</td><td style=\"text-align: right;\"> 22502.4</td><td style=\"text-align: right;\"> 98.3381</td><td style=\"text-align: right;\">0.100499 </td></tr>\n",
       "<tr><td>DRF_1_AutoML_20210531_061931                       </td><td style=\"text-align: right;\">                 26121.3</td><td style=\"text-align: right;\">161.621</td><td style=\"text-align: right;\"> 26121.3</td><td style=\"text-align: right;\">101.182 </td><td style=\"text-align: right;\">0.101724 </td></tr>\n",
       "<tr><td>GBM_5_AutoML_20210531_061931                       </td><td style=\"text-align: right;\">                 30006.4</td><td style=\"text-align: right;\">173.224</td><td style=\"text-align: right;\"> 30006.4</td><td style=\"text-align: right;\">112.294 </td><td style=\"text-align: right;\">0.114397 </td></tr>\n",
       "<tr><td>GBM_grid__1_AutoML_20210531_061931_model_6         </td><td style=\"text-align: right;\">                 36839  </td><td style=\"text-align: right;\">191.935</td><td style=\"text-align: right;\"> 36839  </td><td style=\"text-align: right;\">124.525 </td><td style=\"text-align: right;\">0.123051 </td></tr>\n",
       "<tr><td>XRT_1_AutoML_20210531_061931                       </td><td style=\"text-align: right;\">                 38134.3</td><td style=\"text-align: right;\">195.28 </td><td style=\"text-align: right;\"> 38134.3</td><td style=\"text-align: right;\">126.036 </td><td style=\"text-align: right;\">0.11789  </td></tr>\n",
       "<tr><td>DeepLearning_grid__3_AutoML_20210531_061931_model_2</td><td style=\"text-align: right;\">                 40823.4</td><td style=\"text-align: right;\">202.048</td><td style=\"text-align: right;\"> 40823.4</td><td style=\"text-align: right;\">132.626 </td><td style=\"text-align: right;\">0.125805 </td></tr>\n",
       "<tr><td>DeepLearning_grid__2_AutoML_20210531_061931_model_1</td><td style=\"text-align: right;\">                 49083  </td><td style=\"text-align: right;\">221.547</td><td style=\"text-align: right;\"> 49083  </td><td style=\"text-align: right;\">152.348 </td><td style=\"text-align: right;\">0.138196 </td></tr>\n",
       "<tr><td>GBM_grid__1_AutoML_20210531_061931_model_8         </td><td style=\"text-align: right;\">                 53846.6</td><td style=\"text-align: right;\">232.049</td><td style=\"text-align: right;\"> 53846.6</td><td style=\"text-align: right;\">168.574 </td><td style=\"text-align: right;\">0.150426 </td></tr>\n",
       "<tr><td>DeepLearning_grid__1_AutoML_20210531_061931_model_1</td><td style=\"text-align: right;\">                 59326.2</td><td style=\"text-align: right;\">243.57 </td><td style=\"text-align: right;\"> 59326.2</td><td style=\"text-align: right;\">175.901 </td><td style=\"text-align: right;\">0.156889 </td></tr>\n",
       "<tr><td>DeepLearning_grid__2_AutoML_20210531_061931_model_2</td><td style=\"text-align: right;\">                 67867.1</td><td style=\"text-align: right;\">260.513</td><td style=\"text-align: right;\"> 67867.1</td><td style=\"text-align: right;\">174.295 </td><td style=\"text-align: right;\">0.156664 </td></tr>\n",
       "<tr><td>DeepLearning_grid__3_AutoML_20210531_061931_model_1</td><td style=\"text-align: right;\">                 70512.6</td><td style=\"text-align: right;\">265.542</td><td style=\"text-align: right;\"> 70512.6</td><td style=\"text-align: right;\">182.47  </td><td style=\"text-align: right;\">0.167484 </td></tr>\n",
       "<tr><td>DeepLearning_grid__2_AutoML_20210531_061931_model_3</td><td style=\"text-align: right;\">                 88094.7</td><td style=\"text-align: right;\">296.807</td><td style=\"text-align: right;\"> 88094.7</td><td style=\"text-align: right;\">219.946 </td><td style=\"text-align: right;\">0.180217 </td></tr>\n",
       "<tr><td>DeepLearning_grid__1_AutoML_20210531_061931_model_2</td><td style=\"text-align: right;\">                 97702.3</td><td style=\"text-align: right;\">312.574</td><td style=\"text-align: right;\"> 97702.3</td><td style=\"text-align: right;\">226.189 </td><td style=\"text-align: right;\">0.191609 </td></tr>\n",
       "<tr><td>DeepLearning_1_AutoML_20210531_061931              </td><td style=\"text-align: right;\">                 98265.4</td><td style=\"text-align: right;\">313.473</td><td style=\"text-align: right;\"> 98265.4</td><td style=\"text-align: right;\">236.821 </td><td style=\"text-align: right;\">0.198674 </td></tr>\n",
       "<tr><td>DeepLearning_grid__1_AutoML_20210531_061931_model_3</td><td style=\"text-align: right;\">                111613  </td><td style=\"text-align: right;\">334.086</td><td style=\"text-align: right;\">111613  </td><td style=\"text-align: right;\">247.689 </td><td style=\"text-align: right;\">0.198252 </td></tr>\n",
       "<tr><td>GLM_1_AutoML_20210531_061931                       </td><td style=\"text-align: right;\">                188093  </td><td style=\"text-align: right;\">433.697</td><td style=\"text-align: right;\">188093  </td><td style=\"text-align: right;\">333.71  </td><td style=\"text-align: right;\">0.257846 </td></tr>\n",
       "</tbody>\n",
       "</table>"
      ]
     },
     "metadata": {},
     "output_type": "display_data"
    },
    {
     "name": "stdout",
     "output_type": "stream",
     "text": [
      "\n",
      "num :  25\n",
      "pred :  4200\n"
     ]
    },
    {
     "name": "stderr",
     "output_type": "stream",
     "text": [
      "\r",
      " 42%|███████████████████████████████▎                                           | 25/60 [8:00:47<10:44:49, 1105.40s/it]"
     ]
    },
    {
     "name": "stdout",
     "output_type": "stream",
     "text": [
      "\n",
      "06:38:03.378: AutoML: XGBoost is not available; skipping it.\n",
      "\n"
     ]
    },
    {
     "data": {
      "text/html": [
       "<table>\n",
       "<thead>\n",
       "<tr><th>model_id                                           </th><th style=\"text-align: right;\">  mean_residual_deviance</th><th style=\"text-align: right;\">   rmse</th><th style=\"text-align: right;\">     mse</th><th style=\"text-align: right;\">    mae</th><th style=\"text-align: right;\">    rmsle</th></tr>\n",
       "</thead>\n",
       "<tbody>\n",
       "<tr><td>StackedEnsemble_AllModels_AutoML_20210531_063803   </td><td style=\"text-align: right;\">                 26871.1</td><td style=\"text-align: right;\">163.924</td><td style=\"text-align: right;\"> 26871.1</td><td style=\"text-align: right;\">105.811</td><td style=\"text-align: right;\">0.0484046</td></tr>\n",
       "<tr><td>StackedEnsemble_BestOfFamily_AutoML_20210531_063803</td><td style=\"text-align: right;\">                 27504.8</td><td style=\"text-align: right;\">165.846</td><td style=\"text-align: right;\"> 27504.8</td><td style=\"text-align: right;\">107.506</td><td style=\"text-align: right;\">0.048919 </td></tr>\n",
       "<tr><td>GBM_3_AutoML_20210531_063803                       </td><td style=\"text-align: right;\">                 27906.4</td><td style=\"text-align: right;\">167.052</td><td style=\"text-align: right;\"> 27906.4</td><td style=\"text-align: right;\">108.455</td><td style=\"text-align: right;\">0.0492151</td></tr>\n",
       "<tr><td>GBM_grid__1_AutoML_20210531_063803_model_4         </td><td style=\"text-align: right;\">                 28218.5</td><td style=\"text-align: right;\">167.984</td><td style=\"text-align: right;\"> 28218.5</td><td style=\"text-align: right;\">111.306</td><td style=\"text-align: right;\">0.0499724</td></tr>\n",
       "<tr><td>GBM_1_AutoML_20210531_063803                       </td><td style=\"text-align: right;\">                 28381.7</td><td style=\"text-align: right;\">168.469</td><td style=\"text-align: right;\"> 28381.7</td><td style=\"text-align: right;\">111.076</td><td style=\"text-align: right;\">0.0499274</td></tr>\n",
       "<tr><td>GBM_2_AutoML_20210531_063803                       </td><td style=\"text-align: right;\">                 28883.1</td><td style=\"text-align: right;\">169.95 </td><td style=\"text-align: right;\"> 28883.1</td><td style=\"text-align: right;\">112.518</td><td style=\"text-align: right;\">0.050353 </td></tr>\n",
       "<tr><td>GBM_grid__1_AutoML_20210531_063803_model_2         </td><td style=\"text-align: right;\">                 30517.8</td><td style=\"text-align: right;\">174.693</td><td style=\"text-align: right;\"> 30517.8</td><td style=\"text-align: right;\">114.078</td><td style=\"text-align: right;\">0.0514152</td></tr>\n",
       "<tr><td>GBM_grid__1_AutoML_20210531_063803_model_7         </td><td style=\"text-align: right;\">                 31009.5</td><td style=\"text-align: right;\">176.095</td><td style=\"text-align: right;\"> 31009.5</td><td style=\"text-align: right;\">117.739</td><td style=\"text-align: right;\">0.0518664</td></tr>\n",
       "<tr><td>GBM_grid__1_AutoML_20210531_063803_model_1         </td><td style=\"text-align: right;\">                 31199.6</td><td style=\"text-align: right;\">176.634</td><td style=\"text-align: right;\"> 31199.6</td><td style=\"text-align: right;\">114.202</td><td style=\"text-align: right;\">0.0517467</td></tr>\n",
       "<tr><td>GBM_4_AutoML_20210531_063803                       </td><td style=\"text-align: right;\">                 32556  </td><td style=\"text-align: right;\">180.433</td><td style=\"text-align: right;\"> 32556  </td><td style=\"text-align: right;\">116.61 </td><td style=\"text-align: right;\">0.0529939</td></tr>\n",
       "<tr><td>GBM_grid__1_AutoML_20210531_063803_model_5         </td><td style=\"text-align: right;\">                 32919.7</td><td style=\"text-align: right;\">181.438</td><td style=\"text-align: right;\"> 32919.7</td><td style=\"text-align: right;\">123.732</td><td style=\"text-align: right;\">0.0536131</td></tr>\n",
       "<tr><td>GBM_grid__1_AutoML_20210531_063803_model_3         </td><td style=\"text-align: right;\">                 35398.6</td><td style=\"text-align: right;\">188.145</td><td style=\"text-align: right;\"> 35398.6</td><td style=\"text-align: right;\">125.996</td><td style=\"text-align: right;\">0.0557359</td></tr>\n",
       "<tr><td>GBM_5_AutoML_20210531_063803                       </td><td style=\"text-align: right;\">                 37125.1</td><td style=\"text-align: right;\">192.679</td><td style=\"text-align: right;\"> 37125.1</td><td style=\"text-align: right;\">131.875</td><td style=\"text-align: right;\">0.0571783</td></tr>\n",
       "<tr><td>DRF_1_AutoML_20210531_063803                       </td><td style=\"text-align: right;\">                 39589.8</td><td style=\"text-align: right;\">198.972</td><td style=\"text-align: right;\"> 39589.8</td><td style=\"text-align: right;\">134.693</td><td style=\"text-align: right;\">0.0578622</td></tr>\n",
       "<tr><td>GBM_grid__1_AutoML_20210531_063803_model_6         </td><td style=\"text-align: right;\">                 46936.1</td><td style=\"text-align: right;\">216.647</td><td style=\"text-align: right;\"> 46936.1</td><td style=\"text-align: right;\">149.589</td><td style=\"text-align: right;\">0.0636311</td></tr>\n",
       "<tr><td>XRT_1_AutoML_20210531_063803                       </td><td style=\"text-align: right;\">                 58817.4</td><td style=\"text-align: right;\">242.523</td><td style=\"text-align: right;\"> 58817.4</td><td style=\"text-align: right;\">166.655</td><td style=\"text-align: right;\">0.0698841</td></tr>\n",
       "<tr><td>DeepLearning_grid__3_AutoML_20210531_063803_model_2</td><td style=\"text-align: right;\">                 68674.6</td><td style=\"text-align: right;\">262.058</td><td style=\"text-align: right;\"> 68674.6</td><td style=\"text-align: right;\">174.601</td><td style=\"text-align: right;\">0.0775157</td></tr>\n",
       "<tr><td>GBM_grid__1_AutoML_20210531_063803_model_8         </td><td style=\"text-align: right;\">                 84748.3</td><td style=\"text-align: right;\">291.116</td><td style=\"text-align: right;\"> 84748.3</td><td style=\"text-align: right;\">220.071</td><td style=\"text-align: right;\">0.0890929</td></tr>\n",
       "<tr><td>DeepLearning_grid__2_AutoML_20210531_063803_model_1</td><td style=\"text-align: right;\">                 95969.2</td><td style=\"text-align: right;\">309.789</td><td style=\"text-align: right;\"> 95969.2</td><td style=\"text-align: right;\">210.031</td><td style=\"text-align: right;\">0.0925597</td></tr>\n",
       "<tr><td>DeepLearning_grid__3_AutoML_20210531_063803_model_1</td><td style=\"text-align: right;\">                106921  </td><td style=\"text-align: right;\">326.987</td><td style=\"text-align: right;\">106921  </td><td style=\"text-align: right;\">231.225</td><td style=\"text-align: right;\">0.0998495</td></tr>\n",
       "<tr><td>DeepLearning_grid__1_AutoML_20210531_063803_model_1</td><td style=\"text-align: right;\">                107338  </td><td style=\"text-align: right;\">327.624</td><td style=\"text-align: right;\">107338  </td><td style=\"text-align: right;\">243.716</td><td style=\"text-align: right;\">0.102935 </td></tr>\n",
       "<tr><td>DeepLearning_grid__2_AutoML_20210531_063803_model_2</td><td style=\"text-align: right;\">                123376  </td><td style=\"text-align: right;\">351.25 </td><td style=\"text-align: right;\">123376  </td><td style=\"text-align: right;\">271.032</td><td style=\"text-align: right;\">0.110494 </td></tr>\n",
       "<tr><td>DeepLearning_grid__1_AutoML_20210531_063803_model_2</td><td style=\"text-align: right;\">                156762  </td><td style=\"text-align: right;\">395.932</td><td style=\"text-align: right;\">156762  </td><td style=\"text-align: right;\">292.313</td><td style=\"text-align: right;\">0.125052 </td></tr>\n",
       "<tr><td>DeepLearning_grid__2_AutoML_20210531_063803_model_3</td><td style=\"text-align: right;\">                162442  </td><td style=\"text-align: right;\">403.041</td><td style=\"text-align: right;\">162442  </td><td style=\"text-align: right;\">307.529</td><td style=\"text-align: right;\">0.12595  </td></tr>\n",
       "<tr><td>DeepLearning_grid__1_AutoML_20210531_063803_model_3</td><td style=\"text-align: right;\">                198574  </td><td style=\"text-align: right;\">445.617</td><td style=\"text-align: right;\">198574  </td><td style=\"text-align: right;\">337.671</td><td style=\"text-align: right;\">0.133628 </td></tr>\n",
       "<tr><td>DeepLearning_1_AutoML_20210531_063803              </td><td style=\"text-align: right;\">                259353  </td><td style=\"text-align: right;\">509.267</td><td style=\"text-align: right;\">259353  </td><td style=\"text-align: right;\">414.383</td><td style=\"text-align: right;\">0.167855 </td></tr>\n",
       "<tr><td>GLM_1_AutoML_20210531_063803                       </td><td style=\"text-align: right;\">                290102  </td><td style=\"text-align: right;\">538.611</td><td style=\"text-align: right;\">290102  </td><td style=\"text-align: right;\">418.357</td><td style=\"text-align: right;\">0.163247 </td></tr>\n",
       "</tbody>\n",
       "</table>"
      ]
     },
     "metadata": {},
     "output_type": "display_data"
    },
    {
     "name": "stdout",
     "output_type": "stream",
     "text": [
      "\n",
      "num :  26\n",
      "pred :  4368\n"
     ]
    },
    {
     "name": "stderr",
     "output_type": "stream",
     "text": [
      "\r",
      " 43%|████████████████████████████████▌                                          | 26/60 [8:19:21<10:27:53, 1108.04s/it]"
     ]
    },
    {
     "name": "stdout",
     "output_type": "stream",
     "text": [
      "\n",
      "06:56:37.563: AutoML: XGBoost is not available; skipping it.\n",
      "\n"
     ]
    },
    {
     "data": {
      "text/html": [
       "<table>\n",
       "<thead>\n",
       "<tr><th>model_id                                           </th><th style=\"text-align: right;\">  mean_residual_deviance</th><th style=\"text-align: right;\">    rmse</th><th style=\"text-align: right;\">     mse</th><th style=\"text-align: right;\">     mae</th><th style=\"text-align: right;\">   rmsle</th></tr>\n",
       "</thead>\n",
       "<tbody>\n",
       "<tr><td>StackedEnsemble_AllModels_AutoML_20210531_065637   </td><td style=\"text-align: right;\">                 5791.5 </td><td style=\"text-align: right;\"> 76.1019</td><td style=\"text-align: right;\"> 5791.5 </td><td style=\"text-align: right;\"> 48.366 </td><td style=\"text-align: right;\">0.307339</td></tr>\n",
       "<tr><td>StackedEnsemble_BestOfFamily_AutoML_20210531_065637</td><td style=\"text-align: right;\">                 5850.03</td><td style=\"text-align: right;\"> 76.4855</td><td style=\"text-align: right;\"> 5850.03</td><td style=\"text-align: right;\"> 48.3955</td><td style=\"text-align: right;\">0.307677</td></tr>\n",
       "<tr><td>GBM_2_AutoML_20210531_065637                       </td><td style=\"text-align: right;\">                 5963.82</td><td style=\"text-align: right;\"> 77.2258</td><td style=\"text-align: right;\"> 5963.82</td><td style=\"text-align: right;\"> 49.2515</td><td style=\"text-align: right;\">0.307805</td></tr>\n",
       "<tr><td>GBM_3_AutoML_20210531_065637                       </td><td style=\"text-align: right;\">                 6056.46</td><td style=\"text-align: right;\"> 77.8233</td><td style=\"text-align: right;\"> 6056.46</td><td style=\"text-align: right;\"> 49.2974</td><td style=\"text-align: right;\">0.303433</td></tr>\n",
       "<tr><td>GBM_grid__1_AutoML_20210531_065637_model_4         </td><td style=\"text-align: right;\">                 6275.16</td><td style=\"text-align: right;\"> 79.2159</td><td style=\"text-align: right;\"> 6275.16</td><td style=\"text-align: right;\"> 50.1412</td><td style=\"text-align: right;\">0.31445 </td></tr>\n",
       "<tr><td>GBM_grid__1_AutoML_20210531_065637_model_1         </td><td style=\"text-align: right;\">                 6381.87</td><td style=\"text-align: right;\"> 79.8866</td><td style=\"text-align: right;\"> 6381.87</td><td style=\"text-align: right;\"> 50.9301</td><td style=\"text-align: right;\">0.318993</td></tr>\n",
       "<tr><td>GBM_1_AutoML_20210531_065637                       </td><td style=\"text-align: right;\">                 6414.36</td><td style=\"text-align: right;\"> 80.0897</td><td style=\"text-align: right;\"> 6414.36</td><td style=\"text-align: right;\"> 50.2334</td><td style=\"text-align: right;\">0.311984</td></tr>\n",
       "<tr><td>GBM_grid__1_AutoML_20210531_065637_model_2         </td><td style=\"text-align: right;\">                 6466.2 </td><td style=\"text-align: right;\"> 80.4127</td><td style=\"text-align: right;\"> 6466.2 </td><td style=\"text-align: right;\"> 50.4978</td><td style=\"text-align: right;\">0.314762</td></tr>\n",
       "<tr><td>GBM_grid__1_AutoML_20210531_065637_model_7         </td><td style=\"text-align: right;\">                 6705.3 </td><td style=\"text-align: right;\"> 81.8859</td><td style=\"text-align: right;\"> 6705.3 </td><td style=\"text-align: right;\"> 52.1363</td><td style=\"text-align: right;\">0.321732</td></tr>\n",
       "<tr><td>GBM_4_AutoML_20210531_065637                       </td><td style=\"text-align: right;\">                 6756.15</td><td style=\"text-align: right;\"> 82.1958</td><td style=\"text-align: right;\"> 6756.15</td><td style=\"text-align: right;\"> 51.467 </td><td style=\"text-align: right;\">0.321888</td></tr>\n",
       "<tr><td>GBM_grid__1_AutoML_20210531_065637_model_3         </td><td style=\"text-align: right;\">                 6782.4 </td><td style=\"text-align: right;\"> 82.3553</td><td style=\"text-align: right;\"> 6782.4 </td><td style=\"text-align: right;\"> 52.9489</td><td style=\"text-align: right;\">0.319173</td></tr>\n",
       "<tr><td>GBM_grid__1_AutoML_20210531_065637_model_5         </td><td style=\"text-align: right;\">                 6803.97</td><td style=\"text-align: right;\"> 82.4862</td><td style=\"text-align: right;\"> 6803.97</td><td style=\"text-align: right;\"> 53.2564</td><td style=\"text-align: right;\">0.320156</td></tr>\n",
       "<tr><td>DRF_1_AutoML_20210531_065637                       </td><td style=\"text-align: right;\">                 6839.62</td><td style=\"text-align: right;\"> 82.702 </td><td style=\"text-align: right;\"> 6839.62</td><td style=\"text-align: right;\"> 51.7779</td><td style=\"text-align: right;\">0.313056</td></tr>\n",
       "<tr><td>GBM_5_AutoML_20210531_065637                       </td><td style=\"text-align: right;\">                 7873.27</td><td style=\"text-align: right;\"> 88.7314</td><td style=\"text-align: right;\"> 7873.27</td><td style=\"text-align: right;\"> 56.6577</td><td style=\"text-align: right;\">0.33283 </td></tr>\n",
       "<tr><td>XRT_1_AutoML_20210531_065637                       </td><td style=\"text-align: right;\">                 8731.5 </td><td style=\"text-align: right;\"> 93.4425</td><td style=\"text-align: right;\"> 8731.5 </td><td style=\"text-align: right;\"> 59.4297</td><td style=\"text-align: right;\">0.333962</td></tr>\n",
       "<tr><td>GBM_grid__1_AutoML_20210531_065637_model_6         </td><td style=\"text-align: right;\">                 9030.19</td><td style=\"text-align: right;\"> 95.0273</td><td style=\"text-align: right;\"> 9030.19</td><td style=\"text-align: right;\"> 62.3515</td><td style=\"text-align: right;\">0.342166</td></tr>\n",
       "<tr><td>GBM_grid__1_AutoML_20210531_065637_model_8         </td><td style=\"text-align: right;\">                13164.4 </td><td style=\"text-align: right;\">114.736 </td><td style=\"text-align: right;\">13164.4 </td><td style=\"text-align: right;\"> 81.3865</td><td style=\"text-align: right;\">0.361852</td></tr>\n",
       "<tr><td>DeepLearning_grid__2_AutoML_20210531_065637_model_1</td><td style=\"text-align: right;\">                14101.7 </td><td style=\"text-align: right;\">118.75  </td><td style=\"text-align: right;\">14101.7 </td><td style=\"text-align: right;\"> 81.3751</td><td style=\"text-align: right;\">0.362421</td></tr>\n",
       "<tr><td>DeepLearning_grid__3_AutoML_20210531_065637_model_2</td><td style=\"text-align: right;\">                14109.4 </td><td style=\"text-align: right;\">118.783 </td><td style=\"text-align: right;\">14109.4 </td><td style=\"text-align: right;\"> 79.18  </td><td style=\"text-align: right;\">0.342169</td></tr>\n",
       "<tr><td>DeepLearning_grid__1_AutoML_20210531_065637_model_1</td><td style=\"text-align: right;\">                14138.8 </td><td style=\"text-align: right;\">118.906 </td><td style=\"text-align: right;\">14138.8 </td><td style=\"text-align: right;\"> 83.5122</td><td style=\"text-align: right;\">0.36164 </td></tr>\n",
       "<tr><td>DeepLearning_grid__2_AutoML_20210531_065637_model_3</td><td style=\"text-align: right;\">                14207.8 </td><td style=\"text-align: right;\">119.196 </td><td style=\"text-align: right;\">14207.8 </td><td style=\"text-align: right;\"> 81.9729</td><td style=\"text-align: right;\">0.35991 </td></tr>\n",
       "<tr><td>DeepLearning_grid__2_AutoML_20210531_065637_model_2</td><td style=\"text-align: right;\">                14975.2 </td><td style=\"text-align: right;\">122.373 </td><td style=\"text-align: right;\">14975.2 </td><td style=\"text-align: right;\"> 82.3342</td><td style=\"text-align: right;\">0.366646</td></tr>\n",
       "<tr><td>DeepLearning_grid__3_AutoML_20210531_065637_model_1</td><td style=\"text-align: right;\">                17617.6 </td><td style=\"text-align: right;\">132.731 </td><td style=\"text-align: right;\">17617.6 </td><td style=\"text-align: right;\"> 92.9196</td><td style=\"text-align: right;\">0.368444</td></tr>\n",
       "<tr><td>DeepLearning_grid__1_AutoML_20210531_065637_model_2</td><td style=\"text-align: right;\">                18727.4 </td><td style=\"text-align: right;\">136.848 </td><td style=\"text-align: right;\">18727.4 </td><td style=\"text-align: right;\"> 96.0584</td><td style=\"text-align: right;\">0.376463</td></tr>\n",
       "<tr><td>DeepLearning_grid__1_AutoML_20210531_065637_model_3</td><td style=\"text-align: right;\">                20070.2 </td><td style=\"text-align: right;\">141.669 </td><td style=\"text-align: right;\">20070.2 </td><td style=\"text-align: right;\">102.073 </td><td style=\"text-align: right;\">0.378163</td></tr>\n",
       "<tr><td>DeepLearning_1_AutoML_20210531_065637              </td><td style=\"text-align: right;\">                22469.4 </td><td style=\"text-align: right;\">149.898 </td><td style=\"text-align: right;\">22469.4 </td><td style=\"text-align: right;\">112.975 </td><td style=\"text-align: right;\">0.388005</td></tr>\n",
       "<tr><td>GLM_1_AutoML_20210531_065637                       </td><td style=\"text-align: right;\">                27880.3 </td><td style=\"text-align: right;\">166.974 </td><td style=\"text-align: right;\">27880.3 </td><td style=\"text-align: right;\">127.223 </td><td style=\"text-align: right;\">0.403307</td></tr>\n",
       "</tbody>\n",
       "</table>"
      ]
     },
     "metadata": {},
     "output_type": "display_data"
    },
    {
     "name": "stdout",
     "output_type": "stream",
     "text": [
      "\n",
      "num :  27\n",
      "pred :  4536\n"
     ]
    },
    {
     "name": "stderr",
     "output_type": "stream",
     "text": [
      "\r",
      " 45%|██████████████████████████████████▏                                         | 27/60 [8:35:15<9:43:59, 1061.79s/it]"
     ]
    },
    {
     "name": "stdout",
     "output_type": "stream",
     "text": [
      "\n",
      "07:12:31.440: AutoML: XGBoost is not available; skipping it.\n",
      "\n"
     ]
    },
    {
     "data": {
      "text/html": [
       "<table>\n",
       "<thead>\n",
       "<tr><th>model_id                                           </th><th style=\"text-align: right;\">  mean_residual_deviance</th><th style=\"text-align: right;\">   rmse</th><th style=\"text-align: right;\">    mse</th><th style=\"text-align: right;\">     mae</th><th style=\"text-align: right;\">      rmsle</th></tr>\n",
       "</thead>\n",
       "<tbody>\n",
       "<tr><td>StackedEnsemble_AllModels_AutoML_20210531_071231   </td><td style=\"text-align: right;\">                 10210.7</td><td style=\"text-align: right;\">101.048</td><td style=\"text-align: right;\">10210.7</td><td style=\"text-align: right;\"> 76.9028</td><td style=\"text-align: right;\">  0.0483355</td></tr>\n",
       "<tr><td>StackedEnsemble_BestOfFamily_AutoML_20210531_071231</td><td style=\"text-align: right;\">                 10301.3</td><td style=\"text-align: right;\">101.495</td><td style=\"text-align: right;\">10301.3</td><td style=\"text-align: right;\"> 77.2726</td><td style=\"text-align: right;\">  0.0485579</td></tr>\n",
       "<tr><td>GBM_3_AutoML_20210531_071231                       </td><td style=\"text-align: right;\">                 10378.4</td><td style=\"text-align: right;\">101.874</td><td style=\"text-align: right;\">10378.4</td><td style=\"text-align: right;\"> 77.5203</td><td style=\"text-align: right;\">  0.0488075</td></tr>\n",
       "<tr><td>GBM_1_AutoML_20210531_071231                       </td><td style=\"text-align: right;\">                 10623.8</td><td style=\"text-align: right;\">103.072</td><td style=\"text-align: right;\">10623.8</td><td style=\"text-align: right;\"> 78.088 </td><td style=\"text-align: right;\">  0.0495047</td></tr>\n",
       "<tr><td>GBM_4_AutoML_20210531_071231                       </td><td style=\"text-align: right;\">                 10898.4</td><td style=\"text-align: right;\">104.395</td><td style=\"text-align: right;\">10898.4</td><td style=\"text-align: right;\"> 78.9438</td><td style=\"text-align: right;\">  0.0502375</td></tr>\n",
       "<tr><td>GBM_grid__1_AutoML_20210531_071231_model_7         </td><td style=\"text-align: right;\">                 10933.7</td><td style=\"text-align: right;\">104.565</td><td style=\"text-align: right;\">10933.7</td><td style=\"text-align: right;\"> 79.3555</td><td style=\"text-align: right;\">  0.0496759</td></tr>\n",
       "<tr><td>GBM_grid__1_AutoML_20210531_071231_model_4         </td><td style=\"text-align: right;\">                 11257.6</td><td style=\"text-align: right;\">106.102</td><td style=\"text-align: right;\">11257.6</td><td style=\"text-align: right;\"> 81.4265</td><td style=\"text-align: right;\">  0.0509926</td></tr>\n",
       "<tr><td>GBM_grid__1_AutoML_20210531_071231_model_2         </td><td style=\"text-align: right;\">                 11365.6</td><td style=\"text-align: right;\">106.61 </td><td style=\"text-align: right;\">11365.6</td><td style=\"text-align: right;\"> 80.9074</td><td style=\"text-align: right;\">  0.0508701</td></tr>\n",
       "<tr><td>GBM_2_AutoML_20210531_071231                       </td><td style=\"text-align: right;\">                 11525.2</td><td style=\"text-align: right;\">107.356</td><td style=\"text-align: right;\">11525.2</td><td style=\"text-align: right;\"> 82.1791</td><td style=\"text-align: right;\">  0.051336 </td></tr>\n",
       "<tr><td>GBM_grid__1_AutoML_20210531_071231_model_3         </td><td style=\"text-align: right;\">                 11544.8</td><td style=\"text-align: right;\">107.447</td><td style=\"text-align: right;\">11544.8</td><td style=\"text-align: right;\"> 82.0907</td><td style=\"text-align: right;\">  0.0514948</td></tr>\n",
       "<tr><td>GBM_grid__1_AutoML_20210531_071231_model_5         </td><td style=\"text-align: right;\">                 11931.4</td><td style=\"text-align: right;\">109.231</td><td style=\"text-align: right;\">11931.4</td><td style=\"text-align: right;\"> 82.6936</td><td style=\"text-align: right;\">  0.0520937</td></tr>\n",
       "<tr><td>GBM_grid__1_AutoML_20210531_071231_model_1         </td><td style=\"text-align: right;\">                 12342.3</td><td style=\"text-align: right;\">111.096</td><td style=\"text-align: right;\">12342.3</td><td style=\"text-align: right;\"> 83.9122</td><td style=\"text-align: right;\">  0.053028 </td></tr>\n",
       "<tr><td>DRF_1_AutoML_20210531_071231                       </td><td style=\"text-align: right;\">                 13425.1</td><td style=\"text-align: right;\">115.867</td><td style=\"text-align: right;\">13425.1</td><td style=\"text-align: right;\"> 87.0393</td><td style=\"text-align: right;\">  0.0561932</td></tr>\n",
       "<tr><td>GBM_5_AutoML_20210531_071231                       </td><td style=\"text-align: right;\">                 14245.6</td><td style=\"text-align: right;\">119.355</td><td style=\"text-align: right;\">14245.6</td><td style=\"text-align: right;\"> 93.1036</td><td style=\"text-align: right;\">  0.0588076</td></tr>\n",
       "<tr><td>GBM_grid__1_AutoML_20210531_071231_model_6         </td><td style=\"text-align: right;\">                 14874.9</td><td style=\"text-align: right;\">121.963</td><td style=\"text-align: right;\">14874.9</td><td style=\"text-align: right;\"> 95.541 </td><td style=\"text-align: right;\">  0.0607343</td></tr>\n",
       "<tr><td>XRT_1_AutoML_20210531_071231                       </td><td style=\"text-align: right;\">                 16136.8</td><td style=\"text-align: right;\">127.031</td><td style=\"text-align: right;\">16136.8</td><td style=\"text-align: right;\"> 95.2697</td><td style=\"text-align: right;\">  0.0618124</td></tr>\n",
       "<tr><td>GBM_grid__1_AutoML_20210531_071231_model_8         </td><td style=\"text-align: right;\">                 19904.5</td><td style=\"text-align: right;\">141.083</td><td style=\"text-align: right;\">19904.5</td><td style=\"text-align: right;\">111.094 </td><td style=\"text-align: right;\">  0.0674108</td></tr>\n",
       "<tr><td>DeepLearning_grid__3_AutoML_20210531_071231_model_2</td><td style=\"text-align: right;\">                 26086.7</td><td style=\"text-align: right;\">161.514</td><td style=\"text-align: right;\">26086.7</td><td style=\"text-align: right;\">124.144 </td><td style=\"text-align: right;\">  0.0759583</td></tr>\n",
       "<tr><td>DeepLearning_grid__2_AutoML_20210531_071231_model_2</td><td style=\"text-align: right;\">                 32196  </td><td style=\"text-align: right;\">179.432</td><td style=\"text-align: right;\">32196  </td><td style=\"text-align: right;\">138.365 </td><td style=\"text-align: right;\">  0.0859613</td></tr>\n",
       "<tr><td>DeepLearning_grid__3_AutoML_20210531_071231_model_1</td><td style=\"text-align: right;\">                 34226.5</td><td style=\"text-align: right;\">185.004</td><td style=\"text-align: right;\">34226.5</td><td style=\"text-align: right;\">144.846 </td><td style=\"text-align: right;\">  0.0863587</td></tr>\n",
       "<tr><td>DeepLearning_grid__1_AutoML_20210531_071231_model_2</td><td style=\"text-align: right;\">                 46969.4</td><td style=\"text-align: right;\">216.724</td><td style=\"text-align: right;\">46969.4</td><td style=\"text-align: right;\">158.574 </td><td style=\"text-align: right;\">nan        </td></tr>\n",
       "<tr><td>DeepLearning_grid__2_AutoML_20210531_071231_model_1</td><td style=\"text-align: right;\">                 48035.4</td><td style=\"text-align: right;\">219.17 </td><td style=\"text-align: right;\">48035.4</td><td style=\"text-align: right;\">167.285 </td><td style=\"text-align: right;\">  0.101571 </td></tr>\n",
       "<tr><td>DeepLearning_grid__1_AutoML_20210531_071231_model_1</td><td style=\"text-align: right;\">                 49079.6</td><td style=\"text-align: right;\">221.539</td><td style=\"text-align: right;\">49079.6</td><td style=\"text-align: right;\">167.706 </td><td style=\"text-align: right;\">  0.119998 </td></tr>\n",
       "<tr><td>DeepLearning_1_AutoML_20210531_071231              </td><td style=\"text-align: right;\">                 57384.8</td><td style=\"text-align: right;\">239.551</td><td style=\"text-align: right;\">57384.8</td><td style=\"text-align: right;\">187.031 </td><td style=\"text-align: right;\">  0.118509 </td></tr>\n",
       "<tr><td>DeepLearning_grid__1_AutoML_20210531_071231_model_3</td><td style=\"text-align: right;\">                 68224  </td><td style=\"text-align: right;\">261.197</td><td style=\"text-align: right;\">68224  </td><td style=\"text-align: right;\">209.274 </td><td style=\"text-align: right;\">  0.119539 </td></tr>\n",
       "<tr><td>DeepLearning_grid__2_AutoML_20210531_071231_model_3</td><td style=\"text-align: right;\">                 88610.5</td><td style=\"text-align: right;\">297.675</td><td style=\"text-align: right;\">88610.5</td><td style=\"text-align: right;\">234.244 </td><td style=\"text-align: right;\">  0.13651  </td></tr>\n",
       "<tr><td>GLM_1_AutoML_20210531_071231                       </td><td style=\"text-align: right;\">                 98502.9</td><td style=\"text-align: right;\">313.852</td><td style=\"text-align: right;\">98502.9</td><td style=\"text-align: right;\">249.46  </td><td style=\"text-align: right;\">  0.144002 </td></tr>\n",
       "</tbody>\n",
       "</table>"
      ]
     },
     "metadata": {},
     "output_type": "display_data"
    },
    {
     "name": "stdout",
     "output_type": "stream",
     "text": [
      "\n",
      "num :  28\n",
      "pred :  4704\n"
     ]
    },
    {
     "name": "stderr",
     "output_type": "stream",
     "text": [
      "\r",
      " 47%|███████████████████████████████████▍                                        | 28/60 [8:51:20<9:10:45, 1032.67s/it]"
     ]
    },
    {
     "name": "stdout",
     "output_type": "stream",
     "text": [
      "\n",
      "07:28:36.163: AutoML: XGBoost is not available; skipping it.\n",
      "\n"
     ]
    },
    {
     "data": {
      "text/html": [
       "<table>\n",
       "<thead>\n",
       "<tr><th>model_id                                           </th><th style=\"text-align: right;\">  mean_residual_deviance</th><th style=\"text-align: right;\">    rmse</th><th style=\"text-align: right;\">     mse</th><th style=\"text-align: right;\">     mae</th><th style=\"text-align: right;\">      rmsle</th></tr>\n",
       "</thead>\n",
       "<tbody>\n",
       "<tr><td>StackedEnsemble_AllModels_AutoML_20210531_072836   </td><td style=\"text-align: right;\">                 5160.75</td><td style=\"text-align: right;\"> 71.8384</td><td style=\"text-align: right;\"> 5160.75</td><td style=\"text-align: right;\"> 51.5862</td><td style=\"text-align: right;\">  0.0944982</td></tr>\n",
       "<tr><td>StackedEnsemble_BestOfFamily_AutoML_20210531_072836</td><td style=\"text-align: right;\">                 5287.75</td><td style=\"text-align: right;\"> 72.7169</td><td style=\"text-align: right;\"> 5287.75</td><td style=\"text-align: right;\"> 52.4078</td><td style=\"text-align: right;\">  0.0954497</td></tr>\n",
       "<tr><td>GBM_grid__1_AutoML_20210531_072836_model_4         </td><td style=\"text-align: right;\">                 5357.55</td><td style=\"text-align: right;\"> 73.1953</td><td style=\"text-align: right;\"> 5357.55</td><td style=\"text-align: right;\"> 52.8522</td><td style=\"text-align: right;\">  0.0961629</td></tr>\n",
       "<tr><td>GBM_3_AutoML_20210531_072836                       </td><td style=\"text-align: right;\">                 5393.72</td><td style=\"text-align: right;\"> 73.442 </td><td style=\"text-align: right;\"> 5393.72</td><td style=\"text-align: right;\"> 52.9718</td><td style=\"text-align: right;\">  0.0973863</td></tr>\n",
       "<tr><td>GBM_4_AutoML_20210531_072836                       </td><td style=\"text-align: right;\">                 5461.66</td><td style=\"text-align: right;\"> 73.903 </td><td style=\"text-align: right;\"> 5461.66</td><td style=\"text-align: right;\"> 54.5153</td><td style=\"text-align: right;\">  0.099208 </td></tr>\n",
       "<tr><td>GBM_grid__1_AutoML_20210531_072836_model_2         </td><td style=\"text-align: right;\">                 5463.4 </td><td style=\"text-align: right;\"> 73.9148</td><td style=\"text-align: right;\"> 5463.4 </td><td style=\"text-align: right;\"> 54.1668</td><td style=\"text-align: right;\">  0.0991032</td></tr>\n",
       "<tr><td>GBM_1_AutoML_20210531_072836                       </td><td style=\"text-align: right;\">                 5547.36</td><td style=\"text-align: right;\"> 74.4806</td><td style=\"text-align: right;\"> 5547.36</td><td style=\"text-align: right;\"> 54.1671</td><td style=\"text-align: right;\">  0.0994738</td></tr>\n",
       "<tr><td>GBM_2_AutoML_20210531_072836                       </td><td style=\"text-align: right;\">                 5618.34</td><td style=\"text-align: right;\"> 74.9556</td><td style=\"text-align: right;\"> 5618.34</td><td style=\"text-align: right;\"> 55.5182</td><td style=\"text-align: right;\">  0.0997296</td></tr>\n",
       "<tr><td>GBM_grid__1_AutoML_20210531_072836_model_7         </td><td style=\"text-align: right;\">                 5677.87</td><td style=\"text-align: right;\"> 75.3516</td><td style=\"text-align: right;\"> 5677.87</td><td style=\"text-align: right;\"> 55.605 </td><td style=\"text-align: right;\">  0.0982956</td></tr>\n",
       "<tr><td>GBM_grid__1_AutoML_20210531_072836_model_3         </td><td style=\"text-align: right;\">                 5721.32</td><td style=\"text-align: right;\"> 75.6394</td><td style=\"text-align: right;\"> 5721.32</td><td style=\"text-align: right;\"> 56.3569</td><td style=\"text-align: right;\">  0.102137 </td></tr>\n",
       "<tr><td>GBM_grid__1_AutoML_20210531_072836_model_5         </td><td style=\"text-align: right;\">                 5872.02</td><td style=\"text-align: right;\"> 76.6291</td><td style=\"text-align: right;\"> 5872.02</td><td style=\"text-align: right;\"> 57.2529</td><td style=\"text-align: right;\">  0.102242 </td></tr>\n",
       "<tr><td>GBM_grid__1_AutoML_20210531_072836_model_1         </td><td style=\"text-align: right;\">                 5898.93</td><td style=\"text-align: right;\"> 76.8045</td><td style=\"text-align: right;\"> 5898.93</td><td style=\"text-align: right;\"> 57.8937</td><td style=\"text-align: right;\">  0.102797 </td></tr>\n",
       "<tr><td>GBM_5_AutoML_20210531_072836                       </td><td style=\"text-align: right;\">                 6467.19</td><td style=\"text-align: right;\"> 80.4189</td><td style=\"text-align: right;\"> 6467.19</td><td style=\"text-align: right;\"> 59.8623</td><td style=\"text-align: right;\">  0.104205 </td></tr>\n",
       "<tr><td>DRF_1_AutoML_20210531_072836                       </td><td style=\"text-align: right;\">                 6505.12</td><td style=\"text-align: right;\"> 80.6544</td><td style=\"text-align: right;\"> 6505.12</td><td style=\"text-align: right;\"> 58.915 </td><td style=\"text-align: right;\">  0.106327 </td></tr>\n",
       "<tr><td>GBM_grid__1_AutoML_20210531_072836_model_6         </td><td style=\"text-align: right;\">                 6939.73</td><td style=\"text-align: right;\"> 83.305 </td><td style=\"text-align: right;\"> 6939.73</td><td style=\"text-align: right;\"> 62.0209</td><td style=\"text-align: right;\">  0.108426 </td></tr>\n",
       "<tr><td>XRT_1_AutoML_20210531_072836                       </td><td style=\"text-align: right;\">                 7244.16</td><td style=\"text-align: right;\"> 85.1126</td><td style=\"text-align: right;\"> 7244.16</td><td style=\"text-align: right;\"> 64.2498</td><td style=\"text-align: right;\">  0.113134 </td></tr>\n",
       "<tr><td>GBM_grid__1_AutoML_20210531_072836_model_8         </td><td style=\"text-align: right;\">                 9980.22</td><td style=\"text-align: right;\"> 99.9011</td><td style=\"text-align: right;\"> 9980.22</td><td style=\"text-align: right;\"> 75.8786</td><td style=\"text-align: right;\">  0.129791 </td></tr>\n",
       "<tr><td>DeepLearning_grid__2_AutoML_20210531_072836_model_2</td><td style=\"text-align: right;\">                11847.8 </td><td style=\"text-align: right;\">108.847 </td><td style=\"text-align: right;\">11847.8 </td><td style=\"text-align: right;\"> 83.8122</td><td style=\"text-align: right;\">  0.146465 </td></tr>\n",
       "<tr><td>DeepLearning_grid__3_AutoML_20210531_072836_model_2</td><td style=\"text-align: right;\">                11879   </td><td style=\"text-align: right;\">108.991 </td><td style=\"text-align: right;\">11879   </td><td style=\"text-align: right;\"> 81.823 </td><td style=\"text-align: right;\">  0.140361 </td></tr>\n",
       "<tr><td>DeepLearning_grid__2_AutoML_20210531_072836_model_1</td><td style=\"text-align: right;\">                11893.4 </td><td style=\"text-align: right;\">109.057 </td><td style=\"text-align: right;\">11893.4 </td><td style=\"text-align: right;\"> 82.611 </td><td style=\"text-align: right;\">  0.144943 </td></tr>\n",
       "<tr><td>DeepLearning_grid__1_AutoML_20210531_072836_model_1</td><td style=\"text-align: right;\">                12489   </td><td style=\"text-align: right;\">111.754 </td><td style=\"text-align: right;\">12489   </td><td style=\"text-align: right;\"> 87.8996</td><td style=\"text-align: right;\">  0.160808 </td></tr>\n",
       "<tr><td>DeepLearning_grid__3_AutoML_20210531_072836_model_1</td><td style=\"text-align: right;\">                14804.6 </td><td style=\"text-align: right;\">121.674 </td><td style=\"text-align: right;\">14804.6 </td><td style=\"text-align: right;\"> 93.8306</td><td style=\"text-align: right;\">  0.15367  </td></tr>\n",
       "<tr><td>DeepLearning_grid__1_AutoML_20210531_072836_model_2</td><td style=\"text-align: right;\">                15590.4 </td><td style=\"text-align: right;\">124.861 </td><td style=\"text-align: right;\">15590.4 </td><td style=\"text-align: right;\"> 96.8579</td><td style=\"text-align: right;\">nan        </td></tr>\n",
       "<tr><td>DeepLearning_1_AutoML_20210531_072836              </td><td style=\"text-align: right;\">                16171.8 </td><td style=\"text-align: right;\">127.168 </td><td style=\"text-align: right;\">16171.8 </td><td style=\"text-align: right;\"> 99.5225</td><td style=\"text-align: right;\">  0.171834 </td></tr>\n",
       "<tr><td>DeepLearning_grid__1_AutoML_20210531_072836_model_3</td><td style=\"text-align: right;\">                19178.3 </td><td style=\"text-align: right;\">138.486 </td><td style=\"text-align: right;\">19178.3 </td><td style=\"text-align: right;\">111.333 </td><td style=\"text-align: right;\">  0.191928 </td></tr>\n",
       "<tr><td>DeepLearning_grid__2_AutoML_20210531_072836_model_3</td><td style=\"text-align: right;\">                35768.8 </td><td style=\"text-align: right;\">189.126 </td><td style=\"text-align: right;\">35768.8 </td><td style=\"text-align: right;\">156.098 </td><td style=\"text-align: right;\">  0.268173 </td></tr>\n",
       "<tr><td>GLM_1_AutoML_20210531_072836                       </td><td style=\"text-align: right;\">                49689.7 </td><td style=\"text-align: right;\">222.912 </td><td style=\"text-align: right;\">49689.7 </td><td style=\"text-align: right;\">182.777 </td><td style=\"text-align: right;\">  0.303057 </td></tr>\n",
       "</tbody>\n",
       "</table>"
      ]
     },
     "metadata": {},
     "output_type": "display_data"
    },
    {
     "name": "stdout",
     "output_type": "stream",
     "text": [
      "\n",
      "num :  29\n",
      "pred :  4872\n"
     ]
    },
    {
     "name": "stderr",
     "output_type": "stream",
     "text": [
      "\r",
      " 48%|████████████████████████████████████▋                                       | 29/60 [9:08:43<8:55:10, 1035.81s/it]"
     ]
    },
    {
     "name": "stdout",
     "output_type": "stream",
     "text": [
      "\n",
      "07:45:59.320: AutoML: XGBoost is not available; skipping it.\n",
      "\n"
     ]
    },
    {
     "data": {
      "text/html": [
       "<table>\n",
       "<thead>\n",
       "<tr><th>model_id                                           </th><th style=\"text-align: right;\">  mean_residual_deviance</th><th style=\"text-align: right;\">    rmse</th><th style=\"text-align: right;\">             mse</th><th style=\"text-align: right;\">     mae</th><th style=\"text-align: right;\">    rmsle</th></tr>\n",
       "</thead>\n",
       "<tbody>\n",
       "<tr><td>StackedEnsemble_AllModels_AutoML_20210531_074559   </td><td style=\"text-align: right;\">        163508          </td><td style=\"text-align: right;\"> 404.361</td><td style=\"text-align: right;\">163508          </td><td style=\"text-align: right;\"> 296.181</td><td style=\"text-align: right;\">0.0749189</td></tr>\n",
       "<tr><td>StackedEnsemble_BestOfFamily_AutoML_20210531_074559</td><td style=\"text-align: right;\">        164486          </td><td style=\"text-align: right;\"> 405.569</td><td style=\"text-align: right;\">164486          </td><td style=\"text-align: right;\"> 296.624</td><td style=\"text-align: right;\">0.0750122</td></tr>\n",
       "<tr><td>GBM_4_AutoML_20210531_074559                       </td><td style=\"text-align: right;\">        168560          </td><td style=\"text-align: right;\"> 410.561</td><td style=\"text-align: right;\">168560          </td><td style=\"text-align: right;\"> 300.687</td><td style=\"text-align: right;\">0.0761738</td></tr>\n",
       "<tr><td>GBM_grid__1_AutoML_20210531_074559_model_1         </td><td style=\"text-align: right;\">        173976          </td><td style=\"text-align: right;\"> 417.104</td><td style=\"text-align: right;\">173976          </td><td style=\"text-align: right;\"> 312.293</td><td style=\"text-align: right;\">0.0775223</td></tr>\n",
       "<tr><td>GBM_3_AutoML_20210531_074559                       </td><td style=\"text-align: right;\">        175502          </td><td style=\"text-align: right;\"> 418.929</td><td style=\"text-align: right;\">175502          </td><td style=\"text-align: right;\"> 310.793</td><td style=\"text-align: right;\">0.0773195</td></tr>\n",
       "<tr><td>GBM_2_AutoML_20210531_074559                       </td><td style=\"text-align: right;\">        176895          </td><td style=\"text-align: right;\"> 420.588</td><td style=\"text-align: right;\">176895          </td><td style=\"text-align: right;\"> 314.806</td><td style=\"text-align: right;\">0.0781441</td></tr>\n",
       "<tr><td>GBM_1_AutoML_20210531_074559                       </td><td style=\"text-align: right;\">        182211          </td><td style=\"text-align: right;\"> 426.862</td><td style=\"text-align: right;\">182211          </td><td style=\"text-align: right;\"> 317.909</td><td style=\"text-align: right;\">0.0791305</td></tr>\n",
       "<tr><td>GBM_grid__1_AutoML_20210531_074559_model_3         </td><td style=\"text-align: right;\">        182602          </td><td style=\"text-align: right;\"> 427.32 </td><td style=\"text-align: right;\">182602          </td><td style=\"text-align: right;\"> 318.636</td><td style=\"text-align: right;\">0.0790598</td></tr>\n",
       "<tr><td>GBM_grid__1_AutoML_20210531_074559_model_2         </td><td style=\"text-align: right;\">        184371          </td><td style=\"text-align: right;\"> 429.384</td><td style=\"text-align: right;\">184371          </td><td style=\"text-align: right;\"> 322.153</td><td style=\"text-align: right;\">0.0804734</td></tr>\n",
       "<tr><td>GBM_grid__1_AutoML_20210531_074559_model_7         </td><td style=\"text-align: right;\">        191076          </td><td style=\"text-align: right;\"> 437.122</td><td style=\"text-align: right;\">191076          </td><td style=\"text-align: right;\"> 328.729</td><td style=\"text-align: right;\">0.0810805</td></tr>\n",
       "<tr><td>GBM_grid__1_AutoML_20210531_074559_model_5         </td><td style=\"text-align: right;\">        194321          </td><td style=\"text-align: right;\"> 440.818</td><td style=\"text-align: right;\">194321          </td><td style=\"text-align: right;\"> 333.705</td><td style=\"text-align: right;\">0.0814741</td></tr>\n",
       "<tr><td>GBM_grid__1_AutoML_20210531_074559_model_4         </td><td style=\"text-align: right;\">        201199          </td><td style=\"text-align: right;\"> 448.552</td><td style=\"text-align: right;\">201199          </td><td style=\"text-align: right;\"> 340.057</td><td style=\"text-align: right;\">0.0843533</td></tr>\n",
       "<tr><td>DRF_1_AutoML_20210531_074559                       </td><td style=\"text-align: right;\">        203145          </td><td style=\"text-align: right;\"> 450.716</td><td style=\"text-align: right;\">203145          </td><td style=\"text-align: right;\"> 341.299</td><td style=\"text-align: right;\">0.0825651</td></tr>\n",
       "<tr><td>GBM_5_AutoML_20210531_074559                       </td><td style=\"text-align: right;\">        242029          </td><td style=\"text-align: right;\"> 491.965</td><td style=\"text-align: right;\">242029          </td><td style=\"text-align: right;\"> 386.814</td><td style=\"text-align: right;\">0.092621 </td></tr>\n",
       "<tr><td>XRT_1_AutoML_20210531_074559                       </td><td style=\"text-align: right;\">        246810          </td><td style=\"text-align: right;\"> 496.8  </td><td style=\"text-align: right;\">246810          </td><td style=\"text-align: right;\"> 384.968</td><td style=\"text-align: right;\">0.0915849</td></tr>\n",
       "<tr><td>GBM_grid__1_AutoML_20210531_074559_model_6         </td><td style=\"text-align: right;\">        267606          </td><td style=\"text-align: right;\"> 517.307</td><td style=\"text-align: right;\">267606          </td><td style=\"text-align: right;\"> 409.681</td><td style=\"text-align: right;\">0.096976 </td></tr>\n",
       "<tr><td>GBM_grid__1_AutoML_20210531_074559_model_8         </td><td style=\"text-align: right;\">        333567          </td><td style=\"text-align: right;\"> 577.553</td><td style=\"text-align: right;\">333567          </td><td style=\"text-align: right;\"> 461.152</td><td style=\"text-align: right;\">0.106557 </td></tr>\n",
       "<tr><td>DeepLearning_grid__3_AutoML_20210531_074559_model_2</td><td style=\"text-align: right;\">        358321          </td><td style=\"text-align: right;\"> 598.599</td><td style=\"text-align: right;\">358321          </td><td style=\"text-align: right;\"> 461.833</td><td style=\"text-align: right;\">0.117375 </td></tr>\n",
       "<tr><td>DeepLearning_grid__2_AutoML_20210531_074559_model_1</td><td style=\"text-align: right;\">        461428          </td><td style=\"text-align: right;\"> 679.285</td><td style=\"text-align: right;\">461428          </td><td style=\"text-align: right;\"> 513.039</td><td style=\"text-align: right;\">0.12247  </td></tr>\n",
       "<tr><td>DeepLearning_grid__2_AutoML_20210531_074559_model_2</td><td style=\"text-align: right;\">        550443          </td><td style=\"text-align: right;\"> 741.919</td><td style=\"text-align: right;\">550443          </td><td style=\"text-align: right;\"> 586.613</td><td style=\"text-align: right;\">0.144189 </td></tr>\n",
       "<tr><td>DeepLearning_grid__1_AutoML_20210531_074559_model_1</td><td style=\"text-align: right;\">        560430          </td><td style=\"text-align: right;\"> 748.619</td><td style=\"text-align: right;\">560430          </td><td style=\"text-align: right;\"> 577.147</td><td style=\"text-align: right;\">0.140115 </td></tr>\n",
       "<tr><td>DeepLearning_grid__3_AutoML_20210531_074559_model_1</td><td style=\"text-align: right;\">        597904          </td><td style=\"text-align: right;\"> 773.242</td><td style=\"text-align: right;\">597904          </td><td style=\"text-align: right;\"> 607.665</td><td style=\"text-align: right;\">0.147236 </td></tr>\n",
       "<tr><td>DeepLearning_grid__1_AutoML_20210531_074559_model_3</td><td style=\"text-align: right;\">        668072          </td><td style=\"text-align: right;\"> 817.357</td><td style=\"text-align: right;\">668072          </td><td style=\"text-align: right;\"> 661.526</td><td style=\"text-align: right;\">0.15158  </td></tr>\n",
       "<tr><td>DeepLearning_grid__1_AutoML_20210531_074559_model_2</td><td style=\"text-align: right;\">        672886          </td><td style=\"text-align: right;\"> 820.297</td><td style=\"text-align: right;\">672886          </td><td style=\"text-align: right;\"> 649.49 </td><td style=\"text-align: right;\">0.154119 </td></tr>\n",
       "<tr><td>DeepLearning_1_AutoML_20210531_074559              </td><td style=\"text-align: right;\">        765596          </td><td style=\"text-align: right;\"> 874.984</td><td style=\"text-align: right;\">765596          </td><td style=\"text-align: right;\"> 679.977</td><td style=\"text-align: right;\">0.158024 </td></tr>\n",
       "<tr><td>DeepLearning_grid__2_AutoML_20210531_074559_model_3</td><td style=\"text-align: right;\">        785221          </td><td style=\"text-align: right;\"> 886.127</td><td style=\"text-align: right;\">785221          </td><td style=\"text-align: right;\"> 719.584</td><td style=\"text-align: right;\">0.161037 </td></tr>\n",
       "<tr><td>GLM_1_AutoML_20210531_074559                       </td><td style=\"text-align: right;\">             2.85504e+06</td><td style=\"text-align: right;\">1689.69 </td><td style=\"text-align: right;\">     2.85504e+06</td><td style=\"text-align: right;\">1372.43 </td><td style=\"text-align: right;\">0.305406 </td></tr>\n",
       "</tbody>\n",
       "</table>"
      ]
     },
     "metadata": {},
     "output_type": "display_data"
    },
    {
     "name": "stdout",
     "output_type": "stream",
     "text": [
      "\n",
      "num :  30\n",
      "pred :  5040\n"
     ]
    },
    {
     "name": "stderr",
     "output_type": "stream",
     "text": [
      "\r",
      " 50%|██████████████████████████████████████                                      | 30/60 [9:27:56<8:55:28, 1070.94s/it]"
     ]
    },
    {
     "name": "stdout",
     "output_type": "stream",
     "text": [
      "\n",
      "08:05:12.221: AutoML: XGBoost is not available; skipping it.\n",
      "\n"
     ]
    },
    {
     "data": {
      "text/html": [
       "<table>\n",
       "<thead>\n",
       "<tr><th>model_id                                           </th><th style=\"text-align: right;\">  mean_residual_deviance</th><th style=\"text-align: right;\">   rmse</th><th style=\"text-align: right;\">    mse</th><th style=\"text-align: right;\">     mae</th><th style=\"text-align: right;\">    rmsle</th></tr>\n",
       "</thead>\n",
       "<tbody>\n",
       "<tr><td>GBM_grid__1_AutoML_20210531_080512_model_2         </td><td style=\"text-align: right;\">                 10102.5</td><td style=\"text-align: right;\">100.511</td><td style=\"text-align: right;\">10102.5</td><td style=\"text-align: right;\"> 35.0579</td><td style=\"text-align: right;\">0.023763 </td></tr>\n",
       "<tr><td>GBM_grid__1_AutoML_20210531_080512_model_1         </td><td style=\"text-align: right;\">                 10133.3</td><td style=\"text-align: right;\">100.664</td><td style=\"text-align: right;\">10133.3</td><td style=\"text-align: right;\"> 35.2211</td><td style=\"text-align: right;\">0.0237546</td></tr>\n",
       "<tr><td>GBM_3_AutoML_20210531_080512                       </td><td style=\"text-align: right;\">                 10178.4</td><td style=\"text-align: right;\">100.888</td><td style=\"text-align: right;\">10178.4</td><td style=\"text-align: right;\"> 35.4791</td><td style=\"text-align: right;\">0.0237544</td></tr>\n",
       "<tr><td>GBM_grid__1_AutoML_20210531_080512_model_5         </td><td style=\"text-align: right;\">                 10201.1</td><td style=\"text-align: right;\">101    </td><td style=\"text-align: right;\">10201.1</td><td style=\"text-align: right;\"> 36.688 </td><td style=\"text-align: right;\">0.0237516</td></tr>\n",
       "<tr><td>GBM_grid__1_AutoML_20210531_080512_model_4         </td><td style=\"text-align: right;\">                 10222.4</td><td style=\"text-align: right;\">101.106</td><td style=\"text-align: right;\">10222.4</td><td style=\"text-align: right;\"> 37.1986</td><td style=\"text-align: right;\">0.0238015</td></tr>\n",
       "<tr><td>GBM_grid__1_AutoML_20210531_080512_model_7         </td><td style=\"text-align: right;\">                 10311.2</td><td style=\"text-align: right;\">101.544</td><td style=\"text-align: right;\">10311.2</td><td style=\"text-align: right;\"> 36.3894</td><td style=\"text-align: right;\">0.0238405</td></tr>\n",
       "<tr><td>DeepLearning_grid__2_AutoML_20210531_080512_model_1</td><td style=\"text-align: right;\">                 10326.4</td><td style=\"text-align: right;\">101.619</td><td style=\"text-align: right;\">10326.4</td><td style=\"text-align: right;\"> 45.466 </td><td style=\"text-align: right;\">0.0236157</td></tr>\n",
       "<tr><td>GBM_2_AutoML_20210531_080512                       </td><td style=\"text-align: right;\">                 10399.1</td><td style=\"text-align: right;\">101.976</td><td style=\"text-align: right;\">10399.1</td><td style=\"text-align: right;\"> 35.9631</td><td style=\"text-align: right;\">0.0239006</td></tr>\n",
       "<tr><td>GBM_4_AutoML_20210531_080512                       </td><td style=\"text-align: right;\">                 10439.1</td><td style=\"text-align: right;\">102.172</td><td style=\"text-align: right;\">10439.1</td><td style=\"text-align: right;\"> 34.96  </td><td style=\"text-align: right;\">0.0239159</td></tr>\n",
       "<tr><td>GBM_grid__1_AutoML_20210531_080512_model_3         </td><td style=\"text-align: right;\">                 10477.7</td><td style=\"text-align: right;\">102.36 </td><td style=\"text-align: right;\">10477.7</td><td style=\"text-align: right;\"> 35.6231</td><td style=\"text-align: right;\">0.0239267</td></tr>\n",
       "<tr><td>GBM_5_AutoML_20210531_080512                       </td><td style=\"text-align: right;\">                 10512.4</td><td style=\"text-align: right;\">102.53 </td><td style=\"text-align: right;\">10512.4</td><td style=\"text-align: right;\"> 40.2768</td><td style=\"text-align: right;\">0.0239862</td></tr>\n",
       "<tr><td>DRF_1_AutoML_20210531_080512                       </td><td style=\"text-align: right;\">                 10702.8</td><td style=\"text-align: right;\">103.454</td><td style=\"text-align: right;\">10702.8</td><td style=\"text-align: right;\"> 37.8756</td><td style=\"text-align: right;\">0.0240577</td></tr>\n",
       "<tr><td>DeepLearning_grid__3_AutoML_20210531_080512_model_1</td><td style=\"text-align: right;\">                 10851  </td><td style=\"text-align: right;\">104.168</td><td style=\"text-align: right;\">10851  </td><td style=\"text-align: right;\"> 46.133 </td><td style=\"text-align: right;\">0.0239793</td></tr>\n",
       "<tr><td>GBM_grid__1_AutoML_20210531_080512_model_6         </td><td style=\"text-align: right;\">                 10954.5</td><td style=\"text-align: right;\">104.664</td><td style=\"text-align: right;\">10954.5</td><td style=\"text-align: right;\"> 42.5054</td><td style=\"text-align: right;\">0.0242761</td></tr>\n",
       "<tr><td>XRT_1_AutoML_20210531_080512                       </td><td style=\"text-align: right;\">                 11474.2</td><td style=\"text-align: right;\">107.118</td><td style=\"text-align: right;\">11474.2</td><td style=\"text-align: right;\"> 41.4385</td><td style=\"text-align: right;\">0.0244986</td></tr>\n",
       "<tr><td>DeepLearning_grid__1_AutoML_20210531_080512_model_1</td><td style=\"text-align: right;\">                 11853.2</td><td style=\"text-align: right;\">108.872</td><td style=\"text-align: right;\">11853.2</td><td style=\"text-align: right;\"> 53.0346</td><td style=\"text-align: right;\">0.0245656</td></tr>\n",
       "<tr><td>DeepLearning_grid__2_AutoML_20210531_080512_model_2</td><td style=\"text-align: right;\">                 12083.8</td><td style=\"text-align: right;\">109.926</td><td style=\"text-align: right;\">12083.8</td><td style=\"text-align: right;\"> 54.2651</td><td style=\"text-align: right;\">0.0246551</td></tr>\n",
       "<tr><td>DeepLearning_grid__1_AutoML_20210531_080512_model_2</td><td style=\"text-align: right;\">                 12687.3</td><td style=\"text-align: right;\">112.638</td><td style=\"text-align: right;\">12687.3</td><td style=\"text-align: right;\"> 57.6379</td><td style=\"text-align: right;\">0.0250392</td></tr>\n",
       "<tr><td>DeepLearning_1_AutoML_20210531_080512              </td><td style=\"text-align: right;\">                 13405.2</td><td style=\"text-align: right;\">115.781</td><td style=\"text-align: right;\">13405.2</td><td style=\"text-align: right;\"> 63.8316</td><td style=\"text-align: right;\">0.0254622</td></tr>\n",
       "<tr><td>DeepLearning_grid__1_AutoML_20210531_080512_model_3</td><td style=\"text-align: right;\">                 14084.9</td><td style=\"text-align: right;\">118.68 </td><td style=\"text-align: right;\">14084.9</td><td style=\"text-align: right;\"> 63.2007</td><td style=\"text-align: right;\">0.0258332</td></tr>\n",
       "<tr><td>DeepLearning_grid__3_AutoML_20210531_080512_model_2</td><td style=\"text-align: right;\">                 15072.2</td><td style=\"text-align: right;\">122.769</td><td style=\"text-align: right;\">15072.2</td><td style=\"text-align: right;\"> 70.2249</td><td style=\"text-align: right;\">0.0262025</td></tr>\n",
       "<tr><td>GBM_1_AutoML_20210531_080512                       </td><td style=\"text-align: right;\">                 15783.3</td><td style=\"text-align: right;\">125.632</td><td style=\"text-align: right;\">15783.3</td><td style=\"text-align: right;\"> 38.2259</td><td style=\"text-align: right;\">0.0276819</td></tr>\n",
       "<tr><td>GLM_1_AutoML_20210531_080512                       </td><td style=\"text-align: right;\">                 16186.4</td><td style=\"text-align: right;\">127.226</td><td style=\"text-align: right;\">16186.4</td><td style=\"text-align: right;\"> 73.5886</td><td style=\"text-align: right;\">0.0269627</td></tr>\n",
       "<tr><td>DeepLearning_grid__3_AutoML_20210531_080512_model_3</td><td style=\"text-align: right;\">                 19740  </td><td style=\"text-align: right;\">140.499</td><td style=\"text-align: right;\">19740  </td><td style=\"text-align: right;\"> 89.682 </td><td style=\"text-align: right;\">0.0286259</td></tr>\n",
       "<tr><td>DeepLearning_grid__2_AutoML_20210531_080512_model_3</td><td style=\"text-align: right;\">                 21677.6</td><td style=\"text-align: right;\">147.233</td><td style=\"text-align: right;\">21677.6</td><td style=\"text-align: right;\"> 97.5777</td><td style=\"text-align: right;\">0.0294701</td></tr>\n",
       "<tr><td>StackedEnsemble_AllModels_AutoML_20210531_080512   </td><td style=\"text-align: right;\">                 22904.3</td><td style=\"text-align: right;\">151.342</td><td style=\"text-align: right;\">22904.3</td><td style=\"text-align: right;\">101.721 </td><td style=\"text-align: right;\">0.0300993</td></tr>\n",
       "<tr><td>StackedEnsemble_BestOfFamily_AutoML_20210531_080512</td><td style=\"text-align: right;\">                 23025.9</td><td style=\"text-align: right;\">151.743</td><td style=\"text-align: right;\">23025.9</td><td style=\"text-align: right;\">102.115 </td><td style=\"text-align: right;\">0.030155 </td></tr>\n",
       "</tbody>\n",
       "</table>"
      ]
     },
     "metadata": {},
     "output_type": "display_data"
    },
    {
     "name": "stdout",
     "output_type": "stream",
     "text": [
      "\n",
      "num :  31\n",
      "pred :  5208\n"
     ]
    },
    {
     "name": "stderr",
     "output_type": "stream",
     "text": [
      "\r",
      " 52%|███████████████████████████████████████▎                                    | 31/60 [9:45:38<8:36:23, 1068.39s/it]"
     ]
    },
    {
     "name": "stdout",
     "output_type": "stream",
     "text": [
      "\n",
      "08:22:54.645: AutoML: XGBoost is not available; skipping it.\n",
      "\n"
     ]
    },
    {
     "data": {
      "text/html": [
       "<table>\n",
       "<thead>\n",
       "<tr><th>model_id                                           </th><th style=\"text-align: right;\">  mean_residual_deviance</th><th style=\"text-align: right;\">   rmse</th><th style=\"text-align: right;\">     mse</th><th style=\"text-align: right;\">     mae</th><th style=\"text-align: right;\">     rmsle</th></tr>\n",
       "</thead>\n",
       "<tbody>\n",
       "<tr><td>GBM_4_AutoML_20210531_082254                       </td><td style=\"text-align: right;\">                 122.95 </td><td style=\"text-align: right;\">11.0883</td><td style=\"text-align: right;\"> 122.95 </td><td style=\"text-align: right;\"> 8.61612</td><td style=\"text-align: right;\">0.00459071</td></tr>\n",
       "<tr><td>GBM_3_AutoML_20210531_082254                       </td><td style=\"text-align: right;\">                 123.958</td><td style=\"text-align: right;\">11.1337</td><td style=\"text-align: right;\"> 123.958</td><td style=\"text-align: right;\"> 8.66498</td><td style=\"text-align: right;\">0.00460986</td></tr>\n",
       "<tr><td>GBM_1_AutoML_20210531_082254                       </td><td style=\"text-align: right;\">                 125.979</td><td style=\"text-align: right;\">11.2241</td><td style=\"text-align: right;\"> 125.979</td><td style=\"text-align: right;\"> 8.72456</td><td style=\"text-align: right;\">0.0046472 </td></tr>\n",
       "<tr><td>GBM_grid__1_AutoML_20210531_082254_model_1         </td><td style=\"text-align: right;\">                 128.189</td><td style=\"text-align: right;\">11.322 </td><td style=\"text-align: right;\"> 128.189</td><td style=\"text-align: right;\"> 8.73849</td><td style=\"text-align: right;\">0.00468477</td></tr>\n",
       "<tr><td>GBM_grid__1_AutoML_20210531_082254_model_7         </td><td style=\"text-align: right;\">                 128.671</td><td style=\"text-align: right;\">11.3433</td><td style=\"text-align: right;\"> 128.671</td><td style=\"text-align: right;\"> 8.88266</td><td style=\"text-align: right;\">0.00469778</td></tr>\n",
       "<tr><td>GBM_grid__1_AutoML_20210531_082254_model_2         </td><td style=\"text-align: right;\">                 128.674</td><td style=\"text-align: right;\">11.3434</td><td style=\"text-align: right;\"> 128.674</td><td style=\"text-align: right;\"> 8.69506</td><td style=\"text-align: right;\">0.00469377</td></tr>\n",
       "<tr><td>GBM_grid__1_AutoML_20210531_082254_model_3         </td><td style=\"text-align: right;\">                 128.731</td><td style=\"text-align: right;\">11.3459</td><td style=\"text-align: right;\"> 128.731</td><td style=\"text-align: right;\"> 8.73327</td><td style=\"text-align: right;\">0.0046979 </td></tr>\n",
       "<tr><td>GBM_2_AutoML_20210531_082254                       </td><td style=\"text-align: right;\">                 129.679</td><td style=\"text-align: right;\">11.3877</td><td style=\"text-align: right;\"> 129.679</td><td style=\"text-align: right;\"> 8.86633</td><td style=\"text-align: right;\">0.00471442</td></tr>\n",
       "<tr><td>GBM_grid__1_AutoML_20210531_082254_model_5         </td><td style=\"text-align: right;\">                 132.329</td><td style=\"text-align: right;\">11.5034</td><td style=\"text-align: right;\"> 132.329</td><td style=\"text-align: right;\"> 8.96992</td><td style=\"text-align: right;\">0.00476398</td></tr>\n",
       "<tr><td>GBM_grid__1_AutoML_20210531_082254_model_4         </td><td style=\"text-align: right;\">                 134.164</td><td style=\"text-align: right;\">11.5829</td><td style=\"text-align: right;\"> 134.164</td><td style=\"text-align: right;\"> 9.02999</td><td style=\"text-align: right;\">0.00479338</td></tr>\n",
       "<tr><td>DRF_1_AutoML_20210531_082254                       </td><td style=\"text-align: right;\">                 140.061</td><td style=\"text-align: right;\">11.8347</td><td style=\"text-align: right;\"> 140.061</td><td style=\"text-align: right;\"> 9.14721</td><td style=\"text-align: right;\">0.00490016</td></tr>\n",
       "<tr><td>XRT_1_AutoML_20210531_082254                       </td><td style=\"text-align: right;\">                 158.778</td><td style=\"text-align: right;\">12.6007</td><td style=\"text-align: right;\"> 158.778</td><td style=\"text-align: right;\"> 9.78973</td><td style=\"text-align: right;\">0.00521684</td></tr>\n",
       "<tr><td>GBM_5_AutoML_20210531_082254                       </td><td style=\"text-align: right;\">                 162.376</td><td style=\"text-align: right;\">12.7427</td><td style=\"text-align: right;\"> 162.376</td><td style=\"text-align: right;\"> 9.81179</td><td style=\"text-align: right;\">0.00526661</td></tr>\n",
       "<tr><td>GBM_grid__1_AutoML_20210531_082254_model_6         </td><td style=\"text-align: right;\">                 171.979</td><td style=\"text-align: right;\">13.1141</td><td style=\"text-align: right;\"> 171.979</td><td style=\"text-align: right;\">10.093  </td><td style=\"text-align: right;\">0.00541942</td></tr>\n",
       "<tr><td>DeepLearning_grid__3_AutoML_20210531_082254_model_2</td><td style=\"text-align: right;\">                 176.547</td><td style=\"text-align: right;\">13.2871</td><td style=\"text-align: right;\"> 176.547</td><td style=\"text-align: right;\">10.3978 </td><td style=\"text-align: right;\">0.00551065</td></tr>\n",
       "<tr><td>GBM_grid__1_AutoML_20210531_082254_model_8         </td><td style=\"text-align: right;\">                 192.214</td><td style=\"text-align: right;\">13.8641</td><td style=\"text-align: right;\"> 192.214</td><td style=\"text-align: right;\">10.8273 </td><td style=\"text-align: right;\">0.00573553</td></tr>\n",
       "<tr><td>DeepLearning_grid__2_AutoML_20210531_082254_model_1</td><td style=\"text-align: right;\">                 192.745</td><td style=\"text-align: right;\">13.8833</td><td style=\"text-align: right;\"> 192.745</td><td style=\"text-align: right;\">10.8308 </td><td style=\"text-align: right;\">0.00575384</td></tr>\n",
       "<tr><td>DeepLearning_grid__2_AutoML_20210531_082254_model_2</td><td style=\"text-align: right;\">                 193.503</td><td style=\"text-align: right;\">13.9105</td><td style=\"text-align: right;\"> 193.503</td><td style=\"text-align: right;\">10.9104 </td><td style=\"text-align: right;\">0.00577021</td></tr>\n",
       "<tr><td>DeepLearning_grid__3_AutoML_20210531_082254_model_1</td><td style=\"text-align: right;\">                 202.481</td><td style=\"text-align: right;\">14.2296</td><td style=\"text-align: right;\"> 202.481</td><td style=\"text-align: right;\">11.0503 </td><td style=\"text-align: right;\">0.00589945</td></tr>\n",
       "<tr><td>DeepLearning_grid__1_AutoML_20210531_082254_model_1</td><td style=\"text-align: right;\">                 202.762</td><td style=\"text-align: right;\">14.2395</td><td style=\"text-align: right;\"> 202.762</td><td style=\"text-align: right;\">11.1462 </td><td style=\"text-align: right;\">0.00590665</td></tr>\n",
       "<tr><td>DeepLearning_grid__1_AutoML_20210531_082254_model_2</td><td style=\"text-align: right;\">                 279.903</td><td style=\"text-align: right;\">16.7303</td><td style=\"text-align: right;\"> 279.903</td><td style=\"text-align: right;\">13.3192 </td><td style=\"text-align: right;\">0.00693944</td></tr>\n",
       "<tr><td>DeepLearning_1_AutoML_20210531_082254              </td><td style=\"text-align: right;\">                 322.355</td><td style=\"text-align: right;\">17.9542</td><td style=\"text-align: right;\"> 322.355</td><td style=\"text-align: right;\">14.1494 </td><td style=\"text-align: right;\">0.00744526</td></tr>\n",
       "<tr><td>DeepLearning_grid__1_AutoML_20210531_082254_model_3</td><td style=\"text-align: right;\">                 323.691</td><td style=\"text-align: right;\">17.9914</td><td style=\"text-align: right;\"> 323.691</td><td style=\"text-align: right;\">14.2489 </td><td style=\"text-align: right;\">0.00744709</td></tr>\n",
       "<tr><td>GLM_1_AutoML_20210531_082254                       </td><td style=\"text-align: right;\">                 367.534</td><td style=\"text-align: right;\">19.1712</td><td style=\"text-align: right;\"> 367.534</td><td style=\"text-align: right;\">15.3399 </td><td style=\"text-align: right;\">0.00794318</td></tr>\n",
       "<tr><td>DeepLearning_grid__2_AutoML_20210531_082254_model_3</td><td style=\"text-align: right;\">                 465.028</td><td style=\"text-align: right;\">21.5645</td><td style=\"text-align: right;\"> 465.028</td><td style=\"text-align: right;\">16.6143 </td><td style=\"text-align: right;\">0.00889267</td></tr>\n",
       "<tr><td>StackedEnsemble_AllModels_AutoML_20210531_082254   </td><td style=\"text-align: right;\">                1141.99 </td><td style=\"text-align: right;\">33.7934</td><td style=\"text-align: right;\">1141.99 </td><td style=\"text-align: right;\">26.5253 </td><td style=\"text-align: right;\">0.0139742 </td></tr>\n",
       "<tr><td>StackedEnsemble_BestOfFamily_AutoML_20210531_082254</td><td style=\"text-align: right;\">                1146.89 </td><td style=\"text-align: right;\">33.8658</td><td style=\"text-align: right;\">1146.89 </td><td style=\"text-align: right;\">26.5823 </td><td style=\"text-align: right;\">0.0140042 </td></tr>\n",
       "</tbody>\n",
       "</table>"
      ]
     },
     "metadata": {},
     "output_type": "display_data"
    },
    {
     "name": "stdout",
     "output_type": "stream",
     "text": [
      "\n",
      "num :  32\n",
      "pred :  5376\n"
     ]
    },
    {
     "name": "stderr",
     "output_type": "stream",
     "text": [
      "\r",
      " 53%|████████████████████████████████████████                                   | 32/60 [10:03:21<8:17:52, 1066.88s/it]"
     ]
    },
    {
     "name": "stdout",
     "output_type": "stream",
     "text": [
      "\n",
      "08:40:37.990: AutoML: XGBoost is not available; skipping it.\n",
      "\n"
     ]
    },
    {
     "data": {
      "text/html": [
       "<table>\n",
       "<thead>\n",
       "<tr><th>model_id                                           </th><th style=\"text-align: right;\">  mean_residual_deviance</th><th style=\"text-align: right;\">    rmse</th><th style=\"text-align: right;\">     mse</th><th style=\"text-align: right;\">    mae</th><th style=\"text-align: right;\">    rmsle</th></tr>\n",
       "</thead>\n",
       "<tbody>\n",
       "<tr><td>GBM_grid__1_AutoML_20210531_084037_model_4         </td><td style=\"text-align: right;\">                 2378.77</td><td style=\"text-align: right;\"> 48.7727</td><td style=\"text-align: right;\"> 2378.77</td><td style=\"text-align: right;\">19.3336</td><td style=\"text-align: right;\">0.0268875</td></tr>\n",
       "<tr><td>GBM_grid__1_AutoML_20210531_084037_model_2         </td><td style=\"text-align: right;\">                 2407.1 </td><td style=\"text-align: right;\"> 49.0622</td><td style=\"text-align: right;\"> 2407.1 </td><td style=\"text-align: right;\">19.7131</td><td style=\"text-align: right;\">0.0269948</td></tr>\n",
       "<tr><td>GBM_4_AutoML_20210531_084037                       </td><td style=\"text-align: right;\">                 2451.5 </td><td style=\"text-align: right;\"> 49.5126</td><td style=\"text-align: right;\"> 2451.5 </td><td style=\"text-align: right;\">19.344 </td><td style=\"text-align: right;\">0.0271116</td></tr>\n",
       "<tr><td>GBM_3_AutoML_20210531_084037                       </td><td style=\"text-align: right;\">                 2464.73</td><td style=\"text-align: right;\"> 49.646 </td><td style=\"text-align: right;\"> 2464.73</td><td style=\"text-align: right;\">19.5677</td><td style=\"text-align: right;\">0.0271624</td></tr>\n",
       "<tr><td>GBM_grid__1_AutoML_20210531_084037_model_5         </td><td style=\"text-align: right;\">                 2499.34</td><td style=\"text-align: right;\"> 49.9934</td><td style=\"text-align: right;\"> 2499.34</td><td style=\"text-align: right;\">20.9465</td><td style=\"text-align: right;\">0.0272511</td></tr>\n",
       "<tr><td>GBM_grid__1_AutoML_20210531_084037_model_7         </td><td style=\"text-align: right;\">                 2502.87</td><td style=\"text-align: right;\"> 50.0287</td><td style=\"text-align: right;\"> 2502.87</td><td style=\"text-align: right;\">20.4284</td><td style=\"text-align: right;\">0.0272709</td></tr>\n",
       "<tr><td>GBM_5_AutoML_20210531_084037                       </td><td style=\"text-align: right;\">                 2520.71</td><td style=\"text-align: right;\"> 50.2067</td><td style=\"text-align: right;\"> 2520.71</td><td style=\"text-align: right;\">22.092 </td><td style=\"text-align: right;\">0.0273036</td></tr>\n",
       "<tr><td>GBM_grid__1_AutoML_20210531_084037_model_1         </td><td style=\"text-align: right;\">                 2531.55</td><td style=\"text-align: right;\"> 50.3145</td><td style=\"text-align: right;\"> 2531.55</td><td style=\"text-align: right;\">21.3411</td><td style=\"text-align: right;\">0.0272994</td></tr>\n",
       "<tr><td>GBM_grid__1_AutoML_20210531_084037_model_6         </td><td style=\"text-align: right;\">                 2546   </td><td style=\"text-align: right;\"> 50.458 </td><td style=\"text-align: right;\"> 2546   </td><td style=\"text-align: right;\">22.3165</td><td style=\"text-align: right;\">0.0273578</td></tr>\n",
       "<tr><td>GBM_2_AutoML_20210531_084037                       </td><td style=\"text-align: right;\">                 2571.74</td><td style=\"text-align: right;\"> 50.7124</td><td style=\"text-align: right;\"> 2571.74</td><td style=\"text-align: right;\">20.9959</td><td style=\"text-align: right;\">0.0274787</td></tr>\n",
       "<tr><td>DRF_1_AutoML_20210531_084037                       </td><td style=\"text-align: right;\">                 2646.08</td><td style=\"text-align: right;\"> 51.44  </td><td style=\"text-align: right;\"> 2646.08</td><td style=\"text-align: right;\">20.2799</td><td style=\"text-align: right;\">0.0277655</td></tr>\n",
       "<tr><td>GBM_grid__1_AutoML_20210531_084037_model_3         </td><td style=\"text-align: right;\">                 2657.66</td><td style=\"text-align: right;\"> 51.5525</td><td style=\"text-align: right;\"> 2657.66</td><td style=\"text-align: right;\">21.5106</td><td style=\"text-align: right;\">0.0277233</td></tr>\n",
       "<tr><td>XRT_1_AutoML_20210531_084037                       </td><td style=\"text-align: right;\">                 2806.03</td><td style=\"text-align: right;\"> 52.9719</td><td style=\"text-align: right;\"> 2806.03</td><td style=\"text-align: right;\">23.5742</td><td style=\"text-align: right;\">0.0280864</td></tr>\n",
       "<tr><td>DeepLearning_grid__3_AutoML_20210531_084037_model_2</td><td style=\"text-align: right;\">                 2918.84</td><td style=\"text-align: right;\"> 54.0263</td><td style=\"text-align: right;\"> 2918.84</td><td style=\"text-align: right;\">27.3608</td><td style=\"text-align: right;\">0.0281442</td></tr>\n",
       "<tr><td>GBM_1_AutoML_20210531_084037                       </td><td style=\"text-align: right;\">                 3053.54</td><td style=\"text-align: right;\"> 55.2589</td><td style=\"text-align: right;\"> 3053.54</td><td style=\"text-align: right;\">20.2548</td><td style=\"text-align: right;\">0.0292988</td></tr>\n",
       "<tr><td>DeepLearning_grid__2_AutoML_20210531_084037_model_3</td><td style=\"text-align: right;\">                 3298.96</td><td style=\"text-align: right;\"> 57.4366</td><td style=\"text-align: right;\"> 3298.96</td><td style=\"text-align: right;\">33.6907</td><td style=\"text-align: right;\">0.0292485</td></tr>\n",
       "<tr><td>DeepLearning_grid__2_AutoML_20210531_084037_model_2</td><td style=\"text-align: right;\">                 3460.76</td><td style=\"text-align: right;\"> 58.8282</td><td style=\"text-align: right;\"> 3460.76</td><td style=\"text-align: right;\">33.0022</td><td style=\"text-align: right;\">0.0296736</td></tr>\n",
       "<tr><td>GBM_grid__1_AutoML_20210531_084037_model_8         </td><td style=\"text-align: right;\">                 3558.14</td><td style=\"text-align: right;\"> 59.6501</td><td style=\"text-align: right;\"> 3558.14</td><td style=\"text-align: right;\">35.897 </td><td style=\"text-align: right;\">0.0299911</td></tr>\n",
       "<tr><td>DeepLearning_grid__2_AutoML_20210531_084037_model_1</td><td style=\"text-align: right;\">                 3719.53</td><td style=\"text-align: right;\"> 60.9879</td><td style=\"text-align: right;\"> 3719.53</td><td style=\"text-align: right;\">35.0459</td><td style=\"text-align: right;\">0.0303198</td></tr>\n",
       "<tr><td>DeepLearning_grid__3_AutoML_20210531_084037_model_1</td><td style=\"text-align: right;\">                 4158.98</td><td style=\"text-align: right;\"> 64.4902</td><td style=\"text-align: right;\"> 4158.98</td><td style=\"text-align: right;\">39.2731</td><td style=\"text-align: right;\">0.0311344</td></tr>\n",
       "<tr><td>DeepLearning_grid__1_AutoML_20210531_084037_model_1</td><td style=\"text-align: right;\">                 4246.39</td><td style=\"text-align: right;\"> 65.1644</td><td style=\"text-align: right;\"> 4246.39</td><td style=\"text-align: right;\">42.1359</td><td style=\"text-align: right;\">0.0315377</td></tr>\n",
       "<tr><td>StackedEnsemble_AllModels_AutoML_20210531_084037   </td><td style=\"text-align: right;\">                 4268.4 </td><td style=\"text-align: right;\"> 65.333 </td><td style=\"text-align: right;\"> 4268.4 </td><td style=\"text-align: right;\">44.7988</td><td style=\"text-align: right;\">0.0313873</td></tr>\n",
       "<tr><td>StackedEnsemble_BestOfFamily_AutoML_20210531_084037</td><td style=\"text-align: right;\">                 4274.45</td><td style=\"text-align: right;\"> 65.3793</td><td style=\"text-align: right;\"> 4274.45</td><td style=\"text-align: right;\">44.8633</td><td style=\"text-align: right;\">0.0313998</td></tr>\n",
       "<tr><td>DeepLearning_grid__1_AutoML_20210531_084037_model_2</td><td style=\"text-align: right;\">                 5291.94</td><td style=\"text-align: right;\"> 72.7457</td><td style=\"text-align: right;\"> 5291.94</td><td style=\"text-align: right;\">48.728 </td><td style=\"text-align: right;\">0.0338642</td></tr>\n",
       "<tr><td>DeepLearning_1_AutoML_20210531_084037              </td><td style=\"text-align: right;\">                 5975.68</td><td style=\"text-align: right;\"> 77.3025</td><td style=\"text-align: right;\"> 5975.68</td><td style=\"text-align: right;\">53.5251</td><td style=\"text-align: right;\">0.0352966</td></tr>\n",
       "<tr><td>DeepLearning_grid__1_AutoML_20210531_084037_model_3</td><td style=\"text-align: right;\">                 6245.9 </td><td style=\"text-align: right;\"> 79.031 </td><td style=\"text-align: right;\"> 6245.9 </td><td style=\"text-align: right;\">56.6489</td><td style=\"text-align: right;\">0.0358087</td></tr>\n",
       "<tr><td>GLM_1_AutoML_20210531_084037                       </td><td style=\"text-align: right;\">                10552.7 </td><td style=\"text-align: right;\">102.726 </td><td style=\"text-align: right;\">10552.7 </td><td style=\"text-align: right;\">76.9441</td><td style=\"text-align: right;\">0.0436921</td></tr>\n",
       "</tbody>\n",
       "</table>"
      ]
     },
     "metadata": {},
     "output_type": "display_data"
    },
    {
     "name": "stdout",
     "output_type": "stream",
     "text": [
      "\n",
      "num :  33\n",
      "pred :  5544\n"
     ]
    },
    {
     "name": "stderr",
     "output_type": "stream",
     "text": [
      "\r",
      " 55%|█████████████████████████████████████████▎                                 | 33/60 [10:21:02<7:59:16, 1065.04s/it]"
     ]
    },
    {
     "name": "stdout",
     "output_type": "stream",
     "text": [
      "\n",
      "08:58:18.759: AutoML: XGBoost is not available; skipping it.\n",
      "\n"
     ]
    },
    {
     "data": {
      "text/html": [
       "<table>\n",
       "<thead>\n",
       "<tr><th>model_id                                           </th><th style=\"text-align: right;\">  mean_residual_deviance</th><th style=\"text-align: right;\">   rmse</th><th style=\"text-align: right;\">    mse</th><th style=\"text-align: right;\">     mae</th><th style=\"text-align: right;\">   rmsle</th></tr>\n",
       "</thead>\n",
       "<tbody>\n",
       "<tr><td>StackedEnsemble_AllModels_AutoML_20210531_085818   </td><td style=\"text-align: right;\">                 13965.4</td><td style=\"text-align: right;\">118.175</td><td style=\"text-align: right;\">13965.4</td><td style=\"text-align: right;\"> 66.3001</td><td style=\"text-align: right;\">0.106631</td></tr>\n",
       "<tr><td>StackedEnsemble_BestOfFamily_AutoML_20210531_085818</td><td style=\"text-align: right;\">                 14225.9</td><td style=\"text-align: right;\">119.272</td><td style=\"text-align: right;\">14225.9</td><td style=\"text-align: right;\"> 66.997 </td><td style=\"text-align: right;\">0.107768</td></tr>\n",
       "<tr><td>GBM_4_AutoML_20210531_085818                       </td><td style=\"text-align: right;\">                 14492.3</td><td style=\"text-align: right;\">120.384</td><td style=\"text-align: right;\">14492.3</td><td style=\"text-align: right;\"> 67.4967</td><td style=\"text-align: right;\">0.108214</td></tr>\n",
       "<tr><td>GBM_3_AutoML_20210531_085818                       </td><td style=\"text-align: right;\">                 14858.1</td><td style=\"text-align: right;\">121.894</td><td style=\"text-align: right;\">14858.1</td><td style=\"text-align: right;\"> 68.7478</td><td style=\"text-align: right;\">0.109356</td></tr>\n",
       "<tr><td>GBM_2_AutoML_20210531_085818                       </td><td style=\"text-align: right;\">                 15070.9</td><td style=\"text-align: right;\">122.764</td><td style=\"text-align: right;\">15070.9</td><td style=\"text-align: right;\"> 69.5632</td><td style=\"text-align: right;\">0.109798</td></tr>\n",
       "<tr><td>GBM_grid__1_AutoML_20210531_085818_model_2         </td><td style=\"text-align: right;\">                 15573.7</td><td style=\"text-align: right;\">124.795</td><td style=\"text-align: right;\">15573.7</td><td style=\"text-align: right;\"> 71.8182</td><td style=\"text-align: right;\">0.111007</td></tr>\n",
       "<tr><td>GBM_grid__1_AutoML_20210531_085818_model_1         </td><td style=\"text-align: right;\">                 15737.2</td><td style=\"text-align: right;\">125.448</td><td style=\"text-align: right;\">15737.2</td><td style=\"text-align: right;\"> 72.3373</td><td style=\"text-align: right;\">0.113156</td></tr>\n",
       "<tr><td>GBM_grid__1_AutoML_20210531_085818_model_4         </td><td style=\"text-align: right;\">                 15783  </td><td style=\"text-align: right;\">125.63 </td><td style=\"text-align: right;\">15783  </td><td style=\"text-align: right;\"> 70.5122</td><td style=\"text-align: right;\">0.113518</td></tr>\n",
       "<tr><td>GBM_grid__1_AutoML_20210531_085818_model_7         </td><td style=\"text-align: right;\">                 15893.4</td><td style=\"text-align: right;\">126.069</td><td style=\"text-align: right;\">15893.4</td><td style=\"text-align: right;\"> 74.2973</td><td style=\"text-align: right;\">0.114183</td></tr>\n",
       "<tr><td>GBM_1_AutoML_20210531_085818                       </td><td style=\"text-align: right;\">                 16379.8</td><td style=\"text-align: right;\">127.983</td><td style=\"text-align: right;\">16379.8</td><td style=\"text-align: right;\"> 70.8531</td><td style=\"text-align: right;\">0.114523</td></tr>\n",
       "<tr><td>GBM_grid__1_AutoML_20210531_085818_model_3         </td><td style=\"text-align: right;\">                 16769.3</td><td style=\"text-align: right;\">129.496</td><td style=\"text-align: right;\">16769.3</td><td style=\"text-align: right;\"> 78.7148</td><td style=\"text-align: right;\">0.119638</td></tr>\n",
       "<tr><td>GBM_grid__1_AutoML_20210531_085818_model_5         </td><td style=\"text-align: right;\">                 17296.2</td><td style=\"text-align: right;\">131.515</td><td style=\"text-align: right;\">17296.2</td><td style=\"text-align: right;\"> 79.1566</td><td style=\"text-align: right;\">0.119808</td></tr>\n",
       "<tr><td>DRF_1_AutoML_20210531_085818                       </td><td style=\"text-align: right;\">                 20888.1</td><td style=\"text-align: right;\">144.527</td><td style=\"text-align: right;\">20888.1</td><td style=\"text-align: right;\"> 84.3784</td><td style=\"text-align: right;\">0.128905</td></tr>\n",
       "<tr><td>GBM_5_AutoML_20210531_085818                       </td><td style=\"text-align: right;\">                 23059.8</td><td style=\"text-align: right;\">151.855</td><td style=\"text-align: right;\">23059.8</td><td style=\"text-align: right;\"> 88.8472</td><td style=\"text-align: right;\">0.142604</td></tr>\n",
       "<tr><td>DeepLearning_grid__3_AutoML_20210531_085818_model_2</td><td style=\"text-align: right;\">                 23227.4</td><td style=\"text-align: right;\">152.405</td><td style=\"text-align: right;\">23227.4</td><td style=\"text-align: right;\"> 95.9068</td><td style=\"text-align: right;\">0.145895</td></tr>\n",
       "<tr><td>GBM_grid__1_AutoML_20210531_085818_model_6         </td><td style=\"text-align: right;\">                 25995.9</td><td style=\"text-align: right;\">161.232</td><td style=\"text-align: right;\">25995.9</td><td style=\"text-align: right;\"> 97.2447</td><td style=\"text-align: right;\">0.151395</td></tr>\n",
       "<tr><td>DeepLearning_grid__2_AutoML_20210531_085818_model_1</td><td style=\"text-align: right;\">                 26548.4</td><td style=\"text-align: right;\">162.937</td><td style=\"text-align: right;\">26548.4</td><td style=\"text-align: right;\">109.539 </td><td style=\"text-align: right;\">0.176036</td></tr>\n",
       "<tr><td>XRT_1_AutoML_20210531_085818                       </td><td style=\"text-align: right;\">                 26791.1</td><td style=\"text-align: right;\">163.68 </td><td style=\"text-align: right;\">26791.1</td><td style=\"text-align: right;\"> 98.0681</td><td style=\"text-align: right;\">0.145934</td></tr>\n",
       "<tr><td>DeepLearning_grid__2_AutoML_20210531_085818_model_2</td><td style=\"text-align: right;\">                 30141.3</td><td style=\"text-align: right;\">173.612</td><td style=\"text-align: right;\">30141.3</td><td style=\"text-align: right;\">112.158 </td><td style=\"text-align: right;\">0.161244</td></tr>\n",
       "<tr><td>DeepLearning_grid__3_AutoML_20210531_085818_model_1</td><td style=\"text-align: right;\">                 30895.4</td><td style=\"text-align: right;\">175.771</td><td style=\"text-align: right;\">30895.4</td><td style=\"text-align: right;\">113.438 </td><td style=\"text-align: right;\">0.176789</td></tr>\n",
       "<tr><td>DeepLearning_grid__1_AutoML_20210531_085818_model_1</td><td style=\"text-align: right;\">                 30989.4</td><td style=\"text-align: right;\">176.038</td><td style=\"text-align: right;\">30989.4</td><td style=\"text-align: right;\">119.81  </td><td style=\"text-align: right;\">0.192061</td></tr>\n",
       "<tr><td>DeepLearning_grid__1_AutoML_20210531_085818_model_2</td><td style=\"text-align: right;\">                 32997.1</td><td style=\"text-align: right;\">181.651</td><td style=\"text-align: right;\">32997.1</td><td style=\"text-align: right;\">118.545 </td><td style=\"text-align: right;\">0.177108</td></tr>\n",
       "<tr><td>GBM_grid__1_AutoML_20210531_085818_model_8         </td><td style=\"text-align: right;\">                 34029.5</td><td style=\"text-align: right;\">184.471</td><td style=\"text-align: right;\">34029.5</td><td style=\"text-align: right;\">119.643 </td><td style=\"text-align: right;\">0.171964</td></tr>\n",
       "<tr><td>DeepLearning_grid__1_AutoML_20210531_085818_model_3</td><td style=\"text-align: right;\">                 42712.1</td><td style=\"text-align: right;\">206.669</td><td style=\"text-align: right;\">42712.1</td><td style=\"text-align: right;\">137.906 </td><td style=\"text-align: right;\">0.184015</td></tr>\n",
       "<tr><td>DeepLearning_grid__2_AutoML_20210531_085818_model_3</td><td style=\"text-align: right;\">                 49502  </td><td style=\"text-align: right;\">222.49 </td><td style=\"text-align: right;\">49502  </td><td style=\"text-align: right;\">175.837 </td><td style=\"text-align: right;\">0.233724</td></tr>\n",
       "<tr><td>DeepLearning_1_AutoML_20210531_085818              </td><td style=\"text-align: right;\">                 60364.7</td><td style=\"text-align: right;\">245.692</td><td style=\"text-align: right;\">60364.7</td><td style=\"text-align: right;\">159.771 </td><td style=\"text-align: right;\">0.228579</td></tr>\n",
       "<tr><td>GLM_1_AutoML_20210531_085818                       </td><td style=\"text-align: right;\">                 75489.7</td><td style=\"text-align: right;\">274.754</td><td style=\"text-align: right;\">75489.7</td><td style=\"text-align: right;\">187.176 </td><td style=\"text-align: right;\">0.255968</td></tr>\n",
       "</tbody>\n",
       "</table>"
      ]
     },
     "metadata": {},
     "output_type": "display_data"
    },
    {
     "name": "stdout",
     "output_type": "stream",
     "text": [
      "\n",
      "num :  34\n",
      "pred :  5712\n"
     ]
    },
    {
     "name": "stderr",
     "output_type": "stream",
     "text": [
      "\r",
      " 57%|██████████████████████████████████████████▌                                | 34/60 [10:45:21<8:32:43, 1183.21s/it]"
     ]
    },
    {
     "name": "stdout",
     "output_type": "stream",
     "text": [
      "\n",
      "09:22:37.699: AutoML: XGBoost is not available; skipping it.\n",
      "\n"
     ]
    },
    {
     "data": {
      "text/html": [
       "<table>\n",
       "<thead>\n",
       "<tr><th>model_id                                           </th><th style=\"text-align: right;\">  mean_residual_deviance</th><th style=\"text-align: right;\">   rmse</th><th style=\"text-align: right;\">     mse</th><th style=\"text-align: right;\">     mae</th><th style=\"text-align: right;\">      rmsle</th></tr>\n",
       "</thead>\n",
       "<tbody>\n",
       "<tr><td>StackedEnsemble_AllModels_AutoML_20210531_092237   </td><td style=\"text-align: right;\">                 20923.3</td><td style=\"text-align: right;\">144.649</td><td style=\"text-align: right;\"> 20923.3</td><td style=\"text-align: right;\"> 72.7754</td><td style=\"text-align: right;\">  0.0970358</td></tr>\n",
       "<tr><td>StackedEnsemble_BestOfFamily_AutoML_20210531_092237</td><td style=\"text-align: right;\">                 21127.8</td><td style=\"text-align: right;\">145.354</td><td style=\"text-align: right;\"> 21127.8</td><td style=\"text-align: right;\"> 74.3649</td><td style=\"text-align: right;\">  0.0971988</td></tr>\n",
       "<tr><td>GBM_3_AutoML_20210531_092237                       </td><td style=\"text-align: right;\">                 21266.3</td><td style=\"text-align: right;\">145.83 </td><td style=\"text-align: right;\"> 21266.3</td><td style=\"text-align: right;\"> 74.4934</td><td style=\"text-align: right;\">  0.0972023</td></tr>\n",
       "<tr><td>GBM_4_AutoML_20210531_092237                       </td><td style=\"text-align: right;\">                 23591.7</td><td style=\"text-align: right;\">153.596</td><td style=\"text-align: right;\"> 23591.7</td><td style=\"text-align: right;\"> 80.2722</td><td style=\"text-align: right;\">  0.104885 </td></tr>\n",
       "<tr><td>GBM_2_AutoML_20210531_092237                       </td><td style=\"text-align: right;\">                 25197.3</td><td style=\"text-align: right;\">158.737</td><td style=\"text-align: right;\"> 25197.3</td><td style=\"text-align: right;\"> 90.6698</td><td style=\"text-align: right;\">  0.111486 </td></tr>\n",
       "<tr><td>GBM_1_AutoML_20210531_092237                       </td><td style=\"text-align: right;\">                 25593.3</td><td style=\"text-align: right;\">159.979</td><td style=\"text-align: right;\"> 25593.3</td><td style=\"text-align: right;\"> 75.9983</td><td style=\"text-align: right;\">  0.106595 </td></tr>\n",
       "<tr><td>GBM_grid__1_AutoML_20210531_092237_model_7         </td><td style=\"text-align: right;\">                 26150.1</td><td style=\"text-align: right;\">161.71 </td><td style=\"text-align: right;\"> 26150.1</td><td style=\"text-align: right;\"> 86.1584</td><td style=\"text-align: right;\">  0.107426 </td></tr>\n",
       "<tr><td>GBM_grid__1_AutoML_20210531_092237_model_3         </td><td style=\"text-align: right;\">                 26173.5</td><td style=\"text-align: right;\">161.782</td><td style=\"text-align: right;\"> 26173.5</td><td style=\"text-align: right;\"> 93.0123</td><td style=\"text-align: right;\">  0.114658 </td></tr>\n",
       "<tr><td>GBM_grid__1_AutoML_20210531_092237_model_2         </td><td style=\"text-align: right;\">                 27023.4</td><td style=\"text-align: right;\">164.388</td><td style=\"text-align: right;\"> 27023.4</td><td style=\"text-align: right;\"> 85.172 </td><td style=\"text-align: right;\">  0.109299 </td></tr>\n",
       "<tr><td>GBM_grid__1_AutoML_20210531_092237_model_5         </td><td style=\"text-align: right;\">                 27820.7</td><td style=\"text-align: right;\">166.795</td><td style=\"text-align: right;\"> 27820.7</td><td style=\"text-align: right;\"> 92.7409</td><td style=\"text-align: right;\">  0.115326 </td></tr>\n",
       "<tr><td>GBM_grid__1_AutoML_20210531_092237_model_4         </td><td style=\"text-align: right;\">                 28785.6</td><td style=\"text-align: right;\">169.663</td><td style=\"text-align: right;\"> 28785.6</td><td style=\"text-align: right;\"> 80.0912</td><td style=\"text-align: right;\">  0.107584 </td></tr>\n",
       "<tr><td>DRF_1_AutoML_20210531_092237                       </td><td style=\"text-align: right;\">                 29066.3</td><td style=\"text-align: right;\">170.489</td><td style=\"text-align: right;\"> 29066.3</td><td style=\"text-align: right;\"> 96.3712</td><td style=\"text-align: right;\">  0.113064 </td></tr>\n",
       "<tr><td>GBM_grid__1_AutoML_20210531_092237_model_1         </td><td style=\"text-align: right;\">                 30358.1</td><td style=\"text-align: right;\">174.236</td><td style=\"text-align: right;\"> 30358.1</td><td style=\"text-align: right;\"> 97.4321</td><td style=\"text-align: right;\">  0.120493 </td></tr>\n",
       "<tr><td>GBM_5_AutoML_20210531_092237                       </td><td style=\"text-align: right;\">                 41054.2</td><td style=\"text-align: right;\">202.618</td><td style=\"text-align: right;\"> 41054.2</td><td style=\"text-align: right;\">111.746 </td><td style=\"text-align: right;\">  0.140748 </td></tr>\n",
       "<tr><td>XRT_1_AutoML_20210531_092237                       </td><td style=\"text-align: right;\">                 42626.7</td><td style=\"text-align: right;\">206.462</td><td style=\"text-align: right;\"> 42626.7</td><td style=\"text-align: right;\">127.991 </td><td style=\"text-align: right;\">  0.141981 </td></tr>\n",
       "<tr><td>DeepLearning_grid__3_AutoML_20210531_092237_model_2</td><td style=\"text-align: right;\">                 46219.8</td><td style=\"text-align: right;\">214.988</td><td style=\"text-align: right;\"> 46219.8</td><td style=\"text-align: right;\">117.258 </td><td style=\"text-align: right;\">  0.142581 </td></tr>\n",
       "<tr><td>GBM_grid__1_AutoML_20210531_092237_model_6         </td><td style=\"text-align: right;\">                 51939.1</td><td style=\"text-align: right;\">227.902</td><td style=\"text-align: right;\"> 51939.1</td><td style=\"text-align: right;\">138.121 </td><td style=\"text-align: right;\">  0.166565 </td></tr>\n",
       "<tr><td>GBM_grid__1_AutoML_20210531_092237_model_8         </td><td style=\"text-align: right;\">                 80081.1</td><td style=\"text-align: right;\">282.986</td><td style=\"text-align: right;\"> 80081.1</td><td style=\"text-align: right;\">199.604 </td><td style=\"text-align: right;\">  0.243896 </td></tr>\n",
       "<tr><td>DeepLearning_grid__2_AutoML_20210531_092237_model_1</td><td style=\"text-align: right;\">                 81928.2</td><td style=\"text-align: right;\">286.231</td><td style=\"text-align: right;\"> 81928.2</td><td style=\"text-align: right;\">177.703 </td><td style=\"text-align: right;\">nan        </td></tr>\n",
       "<tr><td>DeepLearning_grid__1_AutoML_20210531_092237_model_1</td><td style=\"text-align: right;\">                 87890.4</td><td style=\"text-align: right;\">296.463</td><td style=\"text-align: right;\"> 87890.4</td><td style=\"text-align: right;\">205.603 </td><td style=\"text-align: right;\">nan        </td></tr>\n",
       "<tr><td>DeepLearning_grid__3_AutoML_20210531_092237_model_1</td><td style=\"text-align: right;\">                 93002.4</td><td style=\"text-align: right;\">304.963</td><td style=\"text-align: right;\"> 93002.4</td><td style=\"text-align: right;\">192.095 </td><td style=\"text-align: right;\">  0.213414 </td></tr>\n",
       "<tr><td>DeepLearning_grid__2_AutoML_20210531_092237_model_2</td><td style=\"text-align: right;\">                 98450.3</td><td style=\"text-align: right;\">313.768</td><td style=\"text-align: right;\"> 98450.3</td><td style=\"text-align: right;\">209.169 </td><td style=\"text-align: right;\">  0.22428  </td></tr>\n",
       "<tr><td>DeepLearning_grid__2_AutoML_20210531_092237_model_3</td><td style=\"text-align: right;\">                102717  </td><td style=\"text-align: right;\">320.496</td><td style=\"text-align: right;\">102717  </td><td style=\"text-align: right;\">235.005 </td><td style=\"text-align: right;\">  0.229152 </td></tr>\n",
       "<tr><td>DeepLearning_1_AutoML_20210531_092237              </td><td style=\"text-align: right;\">                141268  </td><td style=\"text-align: right;\">375.856</td><td style=\"text-align: right;\">141268  </td><td style=\"text-align: right;\">274.709 </td><td style=\"text-align: right;\">nan        </td></tr>\n",
       "<tr><td>DeepLearning_grid__1_AutoML_20210531_092237_model_2</td><td style=\"text-align: right;\">                163300  </td><td style=\"text-align: right;\">404.104</td><td style=\"text-align: right;\">163300  </td><td style=\"text-align: right;\">282.709 </td><td style=\"text-align: right;\">nan        </td></tr>\n",
       "<tr><td>DeepLearning_grid__1_AutoML_20210531_092237_model_3</td><td style=\"text-align: right;\">                242501  </td><td style=\"text-align: right;\">492.444</td><td style=\"text-align: right;\">242501  </td><td style=\"text-align: right;\">374.905 </td><td style=\"text-align: right;\">  0.358213 </td></tr>\n",
       "<tr><td>GLM_1_AutoML_20210531_092237                       </td><td style=\"text-align: right;\">                717040  </td><td style=\"text-align: right;\">846.782</td><td style=\"text-align: right;\">717040  </td><td style=\"text-align: right;\">725.322 </td><td style=\"text-align: right;\">  0.614686 </td></tr>\n",
       "</tbody>\n",
       "</table>"
      ]
     },
     "metadata": {},
     "output_type": "display_data"
    },
    {
     "name": "stdout",
     "output_type": "stream",
     "text": [
      "\n",
      "num :  35\n",
      "pred :  5880\n"
     ]
    },
    {
     "name": "stderr",
     "output_type": "stream",
     "text": [
      "\r",
      " 58%|███████████████████████████████████████████▊                               | 35/60 [11:06:07<8:20:49, 1201.98s/it]"
     ]
    },
    {
     "name": "stdout",
     "output_type": "stream",
     "text": [
      "\n",
      "09:43:23.489: AutoML: XGBoost is not available; skipping it.\n",
      "\n"
     ]
    },
    {
     "data": {
      "text/html": [
       "<table>\n",
       "<thead>\n",
       "<tr><th>model_id                                           </th><th style=\"text-align: right;\">  mean_residual_deviance</th><th style=\"text-align: right;\">    rmse</th><th style=\"text-align: right;\">     mse</th><th style=\"text-align: right;\">     mae</th><th style=\"text-align: right;\">    rmsle</th></tr>\n",
       "</thead>\n",
       "<tbody>\n",
       "<tr><td>StackedEnsemble_AllModels_AutoML_20210531_094323   </td><td style=\"text-align: right;\">                 2260.56</td><td style=\"text-align: right;\"> 47.5454</td><td style=\"text-align: right;\"> 2260.56</td><td style=\"text-align: right;\"> 30.7592</td><td style=\"text-align: right;\">0.0431769</td></tr>\n",
       "<tr><td>StackedEnsemble_BestOfFamily_AutoML_20210531_094323</td><td style=\"text-align: right;\">                 2270.07</td><td style=\"text-align: right;\"> 47.6452</td><td style=\"text-align: right;\"> 2270.07</td><td style=\"text-align: right;\"> 30.7921</td><td style=\"text-align: right;\">0.0432502</td></tr>\n",
       "<tr><td>GBM_4_AutoML_20210531_094323                       </td><td style=\"text-align: right;\">                 2270.13</td><td style=\"text-align: right;\"> 47.6458</td><td style=\"text-align: right;\"> 2270.13</td><td style=\"text-align: right;\"> 30.8393</td><td style=\"text-align: right;\">0.0432533</td></tr>\n",
       "<tr><td>GBM_3_AutoML_20210531_094323                       </td><td style=\"text-align: right;\">                 2374.32</td><td style=\"text-align: right;\"> 48.727 </td><td style=\"text-align: right;\"> 2374.32</td><td style=\"text-align: right;\"> 31.9754</td><td style=\"text-align: right;\">0.0443183</td></tr>\n",
       "<tr><td>GBM_1_AutoML_20210531_094323                       </td><td style=\"text-align: right;\">                 2427.68</td><td style=\"text-align: right;\"> 49.2715</td><td style=\"text-align: right;\"> 2427.68</td><td style=\"text-align: right;\"> 31.8838</td><td style=\"text-align: right;\">0.0443874</td></tr>\n",
       "<tr><td>GBM_grid__1_AutoML_20210531_094323_model_4         </td><td style=\"text-align: right;\">                 2484.13</td><td style=\"text-align: right;\"> 49.8411</td><td style=\"text-align: right;\"> 2484.13</td><td style=\"text-align: right;\"> 32.8015</td><td style=\"text-align: right;\">0.0454723</td></tr>\n",
       "<tr><td>GBM_grid__1_AutoML_20210531_094323_model_1         </td><td style=\"text-align: right;\">                 2510.98</td><td style=\"text-align: right;\"> 50.1097</td><td style=\"text-align: right;\"> 2510.98</td><td style=\"text-align: right;\"> 32.8887</td><td style=\"text-align: right;\">0.0453766</td></tr>\n",
       "<tr><td>GBM_2_AutoML_20210531_094323                       </td><td style=\"text-align: right;\">                 2549.48</td><td style=\"text-align: right;\"> 50.4924</td><td style=\"text-align: right;\"> 2549.48</td><td style=\"text-align: right;\"> 33.0784</td><td style=\"text-align: right;\">0.0457282</td></tr>\n",
       "<tr><td>GBM_grid__1_AutoML_20210531_094323_model_2         </td><td style=\"text-align: right;\">                 2577.27</td><td style=\"text-align: right;\"> 50.7668</td><td style=\"text-align: right;\"> 2577.27</td><td style=\"text-align: right;\"> 33.5866</td><td style=\"text-align: right;\">0.0460742</td></tr>\n",
       "<tr><td>GBM_grid__1_AutoML_20210531_094323_model_7         </td><td style=\"text-align: right;\">                 2723.89</td><td style=\"text-align: right;\"> 52.1909</td><td style=\"text-align: right;\"> 2723.89</td><td style=\"text-align: right;\"> 34.2318</td><td style=\"text-align: right;\">0.0472073</td></tr>\n",
       "<tr><td>GBM_grid__1_AutoML_20210531_094323_model_3         </td><td style=\"text-align: right;\">                 2780.04</td><td style=\"text-align: right;\"> 52.7261</td><td style=\"text-align: right;\"> 2780.04</td><td style=\"text-align: right;\"> 35.8172</td><td style=\"text-align: right;\">0.0480382</td></tr>\n",
       "<tr><td>GBM_grid__1_AutoML_20210531_094323_model_5         </td><td style=\"text-align: right;\">                 2946.41</td><td style=\"text-align: right;\"> 54.2808</td><td style=\"text-align: right;\"> 2946.41</td><td style=\"text-align: right;\"> 36.5534</td><td style=\"text-align: right;\">0.0492683</td></tr>\n",
       "<tr><td>GBM_5_AutoML_20210531_094323                       </td><td style=\"text-align: right;\">                 3051.64</td><td style=\"text-align: right;\"> 55.2416</td><td style=\"text-align: right;\"> 3051.64</td><td style=\"text-align: right;\"> 36.2173</td><td style=\"text-align: right;\">0.0501189</td></tr>\n",
       "<tr><td>GBM_grid__1_AutoML_20210531_094323_model_6         </td><td style=\"text-align: right;\">                 3344.92</td><td style=\"text-align: right;\"> 57.8353</td><td style=\"text-align: right;\"> 3344.92</td><td style=\"text-align: right;\"> 37.6182</td><td style=\"text-align: right;\">0.0522219</td></tr>\n",
       "<tr><td>DRF_1_AutoML_20210531_094323                       </td><td style=\"text-align: right;\">                 3384.74</td><td style=\"text-align: right;\"> 58.1785</td><td style=\"text-align: right;\"> 3384.74</td><td style=\"text-align: right;\"> 38.819 </td><td style=\"text-align: right;\">0.0522724</td></tr>\n",
       "<tr><td>XRT_1_AutoML_20210531_094323                       </td><td style=\"text-align: right;\">                 4058.44</td><td style=\"text-align: right;\"> 63.7059</td><td style=\"text-align: right;\"> 4058.44</td><td style=\"text-align: right;\"> 42.7586</td><td style=\"text-align: right;\">0.0574477</td></tr>\n",
       "<tr><td>GBM_grid__1_AutoML_20210531_094323_model_8         </td><td style=\"text-align: right;\">                 4688.6 </td><td style=\"text-align: right;\"> 68.4733</td><td style=\"text-align: right;\"> 4688.6 </td><td style=\"text-align: right;\"> 47.7001</td><td style=\"text-align: right;\">0.0621552</td></tr>\n",
       "<tr><td>DeepLearning_grid__3_AutoML_20210531_094323_model_2</td><td style=\"text-align: right;\">                 5789.64</td><td style=\"text-align: right;\"> 76.0897</td><td style=\"text-align: right;\"> 5789.64</td><td style=\"text-align: right;\"> 52.0036</td><td style=\"text-align: right;\">0.068029 </td></tr>\n",
       "<tr><td>DeepLearning_grid__2_AutoML_20210531_094323_model_1</td><td style=\"text-align: right;\">                 6437.08</td><td style=\"text-align: right;\"> 80.2314</td><td style=\"text-align: right;\"> 6437.08</td><td style=\"text-align: right;\"> 56.1099</td><td style=\"text-align: right;\">0.0710952</td></tr>\n",
       "<tr><td>DeepLearning_grid__3_AutoML_20210531_094323_model_1</td><td style=\"text-align: right;\">                 6554.18</td><td style=\"text-align: right;\"> 80.9579</td><td style=\"text-align: right;\"> 6554.18</td><td style=\"text-align: right;\"> 55.7985</td><td style=\"text-align: right;\">0.0727872</td></tr>\n",
       "<tr><td>DeepLearning_grid__1_AutoML_20210531_094323_model_1</td><td style=\"text-align: right;\">                 8043.86</td><td style=\"text-align: right;\"> 89.6876</td><td style=\"text-align: right;\"> 8043.86</td><td style=\"text-align: right;\"> 64.1579</td><td style=\"text-align: right;\">0.0799948</td></tr>\n",
       "<tr><td>DeepLearning_grid__2_AutoML_20210531_094323_model_2</td><td style=\"text-align: right;\">                 8696.51</td><td style=\"text-align: right;\"> 93.2551</td><td style=\"text-align: right;\"> 8696.51</td><td style=\"text-align: right;\"> 62.0767</td><td style=\"text-align: right;\">0.0818479</td></tr>\n",
       "<tr><td>DeepLearning_grid__1_AutoML_20210531_094323_model_2</td><td style=\"text-align: right;\">                12535.5 </td><td style=\"text-align: right;\">111.962 </td><td style=\"text-align: right;\">12535.5 </td><td style=\"text-align: right;\"> 84.0487</td><td style=\"text-align: right;\">0.101934 </td></tr>\n",
       "<tr><td>DeepLearning_1_AutoML_20210531_094323              </td><td style=\"text-align: right;\">                13124.8 </td><td style=\"text-align: right;\">114.564 </td><td style=\"text-align: right;\">13124.8 </td><td style=\"text-align: right;\"> 86.7352</td><td style=\"text-align: right;\">0.104571 </td></tr>\n",
       "<tr><td>DeepLearning_grid__1_AutoML_20210531_094323_model_3</td><td style=\"text-align: right;\">                13653.4 </td><td style=\"text-align: right;\">116.848 </td><td style=\"text-align: right;\">13653.4 </td><td style=\"text-align: right;\"> 91.6883</td><td style=\"text-align: right;\">0.104564 </td></tr>\n",
       "<tr><td>DeepLearning_grid__2_AutoML_20210531_094323_model_3</td><td style=\"text-align: right;\">                16892.8 </td><td style=\"text-align: right;\">129.972 </td><td style=\"text-align: right;\">16892.8 </td><td style=\"text-align: right;\">101.216 </td><td style=\"text-align: right;\">0.113555 </td></tr>\n",
       "<tr><td>GLM_1_AutoML_20210531_094323                       </td><td style=\"text-align: right;\">                23651.9 </td><td style=\"text-align: right;\">153.792 </td><td style=\"text-align: right;\">23651.9 </td><td style=\"text-align: right;\">123.409 </td><td style=\"text-align: right;\">0.139451 </td></tr>\n",
       "</tbody>\n",
       "</table>"
      ]
     },
     "metadata": {},
     "output_type": "display_data"
    },
    {
     "name": "stdout",
     "output_type": "stream",
     "text": [
      "\n",
      "num :  36\n",
      "pred :  6048\n"
     ]
    },
    {
     "name": "stderr",
     "output_type": "stream",
     "text": [
      "\r",
      " 60%|█████████████████████████████████████████████                              | 36/60 [11:21:39<7:28:21, 1120.90s/it]"
     ]
    },
    {
     "name": "stdout",
     "output_type": "stream",
     "text": [
      "\n",
      "09:58:55.406: AutoML: XGBoost is not available; skipping it.\n",
      "\n"
     ]
    },
    {
     "data": {
      "text/html": [
       "<table>\n",
       "<thead>\n",
       "<tr><th>model_id                                           </th><th style=\"text-align: right;\">  mean_residual_deviance</th><th style=\"text-align: right;\">   rmse</th><th style=\"text-align: right;\">     mse</th><th style=\"text-align: right;\">     mae</th><th style=\"text-align: right;\">    rmsle</th></tr>\n",
       "</thead>\n",
       "<tbody>\n",
       "<tr><td>StackedEnsemble_AllModels_AutoML_20210531_095855   </td><td style=\"text-align: right;\">                 13543.7</td><td style=\"text-align: right;\">116.378</td><td style=\"text-align: right;\"> 13543.7</td><td style=\"text-align: right;\"> 66.9283</td><td style=\"text-align: right;\">0.0533812</td></tr>\n",
       "<tr><td>StackedEnsemble_BestOfFamily_AutoML_20210531_095855</td><td style=\"text-align: right;\">                 13588.1</td><td style=\"text-align: right;\">116.568</td><td style=\"text-align: right;\"> 13588.1</td><td style=\"text-align: right;\"> 67.441 </td><td style=\"text-align: right;\">0.0534039</td></tr>\n",
       "<tr><td>GBM_3_AutoML_20210531_095855                       </td><td style=\"text-align: right;\">                 13938.3</td><td style=\"text-align: right;\">118.06 </td><td style=\"text-align: right;\"> 13938.3</td><td style=\"text-align: right;\"> 69.1001</td><td style=\"text-align: right;\">0.0538749</td></tr>\n",
       "<tr><td>GBM_grid__1_AutoML_20210531_095855_model_4         </td><td style=\"text-align: right;\">                 14031.4</td><td style=\"text-align: right;\">118.454</td><td style=\"text-align: right;\"> 14031.4</td><td style=\"text-align: right;\"> 69.5882</td><td style=\"text-align: right;\">0.054953 </td></tr>\n",
       "<tr><td>GBM_2_AutoML_20210531_095855                       </td><td style=\"text-align: right;\">                 14285.9</td><td style=\"text-align: right;\">119.524</td><td style=\"text-align: right;\"> 14285.9</td><td style=\"text-align: right;\"> 69.3831</td><td style=\"text-align: right;\">0.0546283</td></tr>\n",
       "<tr><td>GBM_grid__1_AutoML_20210531_095855_model_1         </td><td style=\"text-align: right;\">                 15219.8</td><td style=\"text-align: right;\">123.369</td><td style=\"text-align: right;\"> 15219.8</td><td style=\"text-align: right;\"> 78.2724</td><td style=\"text-align: right;\">0.0572793</td></tr>\n",
       "<tr><td>GBM_grid__1_AutoML_20210531_095855_model_2         </td><td style=\"text-align: right;\">                 15548.4</td><td style=\"text-align: right;\">124.693</td><td style=\"text-align: right;\"> 15548.4</td><td style=\"text-align: right;\"> 75.8496</td><td style=\"text-align: right;\">0.058181 </td></tr>\n",
       "<tr><td>GBM_grid__1_AutoML_20210531_095855_model_7         </td><td style=\"text-align: right;\">                 16017.5</td><td style=\"text-align: right;\">126.56 </td><td style=\"text-align: right;\"> 16017.5</td><td style=\"text-align: right;\"> 77.5783</td><td style=\"text-align: right;\">0.0585858</td></tr>\n",
       "<tr><td>GBM_grid__1_AutoML_20210531_095855_model_5         </td><td style=\"text-align: right;\">                 16213.8</td><td style=\"text-align: right;\">127.333</td><td style=\"text-align: right;\"> 16213.8</td><td style=\"text-align: right;\"> 80.517 </td><td style=\"text-align: right;\">0.0592019</td></tr>\n",
       "<tr><td>GBM_1_AutoML_20210531_095855                       </td><td style=\"text-align: right;\">                 16502.9</td><td style=\"text-align: right;\">128.463</td><td style=\"text-align: right;\"> 16502.9</td><td style=\"text-align: right;\"> 75.1563</td><td style=\"text-align: right;\">0.0594564</td></tr>\n",
       "<tr><td>DRF_1_AutoML_20210531_095855                       </td><td style=\"text-align: right;\">                 17320.9</td><td style=\"text-align: right;\">131.609</td><td style=\"text-align: right;\"> 17320.9</td><td style=\"text-align: right;\"> 81.4095</td><td style=\"text-align: right;\">0.0603915</td></tr>\n",
       "<tr><td>GBM_4_AutoML_20210531_095855                       </td><td style=\"text-align: right;\">                 17503.9</td><td style=\"text-align: right;\">132.302</td><td style=\"text-align: right;\"> 17503.9</td><td style=\"text-align: right;\"> 80.4911</td><td style=\"text-align: right;\">0.0618447</td></tr>\n",
       "<tr><td>GBM_grid__1_AutoML_20210531_095855_model_3         </td><td style=\"text-align: right;\">                 18956.6</td><td style=\"text-align: right;\">137.683</td><td style=\"text-align: right;\"> 18956.6</td><td style=\"text-align: right;\"> 92.9364</td><td style=\"text-align: right;\">0.0648612</td></tr>\n",
       "<tr><td>GBM_5_AutoML_20210531_095855                       </td><td style=\"text-align: right;\">                 19016.1</td><td style=\"text-align: right;\">137.899</td><td style=\"text-align: right;\"> 19016.1</td><td style=\"text-align: right;\"> 92.0416</td><td style=\"text-align: right;\">0.0665243</td></tr>\n",
       "<tr><td>GBM_grid__1_AutoML_20210531_095855_model_6         </td><td style=\"text-align: right;\">                 19724.5</td><td style=\"text-align: right;\">140.444</td><td style=\"text-align: right;\"> 19724.5</td><td style=\"text-align: right;\"> 92.3982</td><td style=\"text-align: right;\">0.0670714</td></tr>\n",
       "<tr><td>XRT_1_AutoML_20210531_095855                       </td><td style=\"text-align: right;\">                 25633.2</td><td style=\"text-align: right;\">160.104</td><td style=\"text-align: right;\"> 25633.2</td><td style=\"text-align: right;\">110.368 </td><td style=\"text-align: right;\">0.0749512</td></tr>\n",
       "<tr><td>DeepLearning_grid__3_AutoML_20210531_095855_model_2</td><td style=\"text-align: right;\">                 27126.8</td><td style=\"text-align: right;\">164.702</td><td style=\"text-align: right;\"> 27126.8</td><td style=\"text-align: right;\">105.297 </td><td style=\"text-align: right;\">0.0785783</td></tr>\n",
       "<tr><td>DeepLearning_grid__2_AutoML_20210531_095855_model_2</td><td style=\"text-align: right;\">                 39034.7</td><td style=\"text-align: right;\">197.572</td><td style=\"text-align: right;\"> 39034.7</td><td style=\"text-align: right;\">136.264 </td><td style=\"text-align: right;\">0.0956362</td></tr>\n",
       "<tr><td>DeepLearning_grid__2_AutoML_20210531_095855_model_1</td><td style=\"text-align: right;\">                 42041.6</td><td style=\"text-align: right;\">205.04 </td><td style=\"text-align: right;\"> 42041.6</td><td style=\"text-align: right;\">140.819 </td><td style=\"text-align: right;\">0.103271 </td></tr>\n",
       "<tr><td>GBM_grid__1_AutoML_20210531_095855_model_8         </td><td style=\"text-align: right;\">                 44754  </td><td style=\"text-align: right;\">211.551</td><td style=\"text-align: right;\"> 44754  </td><td style=\"text-align: right;\">167.56  </td><td style=\"text-align: right;\">0.107401 </td></tr>\n",
       "<tr><td>DeepLearning_grid__2_AutoML_20210531_095855_model_3</td><td style=\"text-align: right;\">                 45884.1</td><td style=\"text-align: right;\">214.206</td><td style=\"text-align: right;\"> 45884.1</td><td style=\"text-align: right;\">158.372 </td><td style=\"text-align: right;\">0.0982453</td></tr>\n",
       "<tr><td>DeepLearning_grid__1_AutoML_20210531_095855_model_1</td><td style=\"text-align: right;\">                 53292.6</td><td style=\"text-align: right;\">230.852</td><td style=\"text-align: right;\"> 53292.6</td><td style=\"text-align: right;\">173.641 </td><td style=\"text-align: right;\">0.117786 </td></tr>\n",
       "<tr><td>DeepLearning_grid__3_AutoML_20210531_095855_model_1</td><td style=\"text-align: right;\">                 58378.5</td><td style=\"text-align: right;\">241.616</td><td style=\"text-align: right;\"> 58378.5</td><td style=\"text-align: right;\">176.505 </td><td style=\"text-align: right;\">0.120629 </td></tr>\n",
       "<tr><td>DeepLearning_1_AutoML_20210531_095855              </td><td style=\"text-align: right;\">                 78390.2</td><td style=\"text-align: right;\">279.982</td><td style=\"text-align: right;\"> 78390.2</td><td style=\"text-align: right;\">209.664 </td><td style=\"text-align: right;\">0.13597  </td></tr>\n",
       "<tr><td>DeepLearning_grid__1_AutoML_20210531_095855_model_2</td><td style=\"text-align: right;\">                 83504.8</td><td style=\"text-align: right;\">288.972</td><td style=\"text-align: right;\"> 83504.8</td><td style=\"text-align: right;\">226.022 </td><td style=\"text-align: right;\">0.141071 </td></tr>\n",
       "<tr><td>DeepLearning_grid__1_AutoML_20210531_095855_model_3</td><td style=\"text-align: right;\">                 96140.9</td><td style=\"text-align: right;\">310.066</td><td style=\"text-align: right;\"> 96140.9</td><td style=\"text-align: right;\">251.625 </td><td style=\"text-align: right;\">0.146739 </td></tr>\n",
       "<tr><td>GLM_1_AutoML_20210531_095855                       </td><td style=\"text-align: right;\">                169369  </td><td style=\"text-align: right;\">411.545</td><td style=\"text-align: right;\">169369  </td><td style=\"text-align: right;\">341.686 </td><td style=\"text-align: right;\">0.1954   </td></tr>\n",
       "</tbody>\n",
       "</table>"
      ]
     },
     "metadata": {},
     "output_type": "display_data"
    },
    {
     "name": "stdout",
     "output_type": "stream",
     "text": [
      "\n",
      "num :  37\n",
      "pred :  6216\n"
     ]
    },
    {
     "name": "stderr",
     "output_type": "stream",
     "text": [
      "\r",
      " 62%|██████████████████████████████████████████████▎                            | 37/60 [11:42:16<7:23:03, 1155.79s/it]"
     ]
    },
    {
     "name": "stdout",
     "output_type": "stream",
     "text": [
      "\n",
      "10:19:32.399: AutoML: XGBoost is not available; skipping it.\n",
      "\n"
     ]
    },
    {
     "data": {
      "text/html": [
       "<table>\n",
       "<thead>\n",
       "<tr><th>model_id                                           </th><th style=\"text-align: right;\">  mean_residual_deviance</th><th style=\"text-align: right;\">    rmse</th><th style=\"text-align: right;\">             mse</th><th style=\"text-align: right;\">     mae</th><th style=\"text-align: right;\">    rmsle</th></tr>\n",
       "</thead>\n",
       "<tbody>\n",
       "<tr><td>StackedEnsemble_AllModels_AutoML_20210531_101932   </td><td style=\"text-align: right;\">        105920          </td><td style=\"text-align: right;\"> 325.453</td><td style=\"text-align: right;\">105920          </td><td style=\"text-align: right;\"> 211.641</td><td style=\"text-align: right;\">0.0397635</td></tr>\n",
       "<tr><td>StackedEnsemble_BestOfFamily_AutoML_20210531_101932</td><td style=\"text-align: right;\">        108691          </td><td style=\"text-align: right;\"> 329.683</td><td style=\"text-align: right;\">108691          </td><td style=\"text-align: right;\"> 216.357</td><td style=\"text-align: right;\">0.0404029</td></tr>\n",
       "<tr><td>GBM_grid__1_AutoML_20210531_101932_model_4         </td><td style=\"text-align: right;\">        110368          </td><td style=\"text-align: right;\"> 332.217</td><td style=\"text-align: right;\">110368          </td><td style=\"text-align: right;\"> 217.451</td><td style=\"text-align: right;\">0.0408171</td></tr>\n",
       "<tr><td>GBM_4_AutoML_20210531_101932                       </td><td style=\"text-align: right;\">        112904          </td><td style=\"text-align: right;\"> 336.012</td><td style=\"text-align: right;\">112904          </td><td style=\"text-align: right;\"> 225.839</td><td style=\"text-align: right;\">0.0409234</td></tr>\n",
       "<tr><td>GBM_3_AutoML_20210531_101932                       </td><td style=\"text-align: right;\">        116436          </td><td style=\"text-align: right;\"> 341.227</td><td style=\"text-align: right;\">116436          </td><td style=\"text-align: right;\"> 236.213</td><td style=\"text-align: right;\">0.0444347</td></tr>\n",
       "<tr><td>GBM_1_AutoML_20210531_101932                       </td><td style=\"text-align: right;\">        123000          </td><td style=\"text-align: right;\"> 350.714</td><td style=\"text-align: right;\">123000          </td><td style=\"text-align: right;\"> 237.609</td><td style=\"text-align: right;\">0.0436424</td></tr>\n",
       "<tr><td>GBM_2_AutoML_20210531_101932                       </td><td style=\"text-align: right;\">        123160          </td><td style=\"text-align: right;\"> 350.942</td><td style=\"text-align: right;\">123160          </td><td style=\"text-align: right;\"> 243.866</td><td style=\"text-align: right;\">0.0454626</td></tr>\n",
       "<tr><td>GBM_grid__1_AutoML_20210531_101932_model_2         </td><td style=\"text-align: right;\">        128016          </td><td style=\"text-align: right;\"> 357.793</td><td style=\"text-align: right;\">128016          </td><td style=\"text-align: right;\"> 246.341</td><td style=\"text-align: right;\">0.047159 </td></tr>\n",
       "<tr><td>GBM_grid__1_AutoML_20210531_101932_model_7         </td><td style=\"text-align: right;\">        132396          </td><td style=\"text-align: right;\"> 363.863</td><td style=\"text-align: right;\">132396          </td><td style=\"text-align: right;\"> 255.062</td><td style=\"text-align: right;\">0.0470053</td></tr>\n",
       "<tr><td>GBM_grid__1_AutoML_20210531_101932_model_1         </td><td style=\"text-align: right;\">        132803          </td><td style=\"text-align: right;\"> 364.421</td><td style=\"text-align: right;\">132803          </td><td style=\"text-align: right;\"> 256.805</td><td style=\"text-align: right;\">0.0478921</td></tr>\n",
       "<tr><td>GBM_grid__1_AutoML_20210531_101932_model_5         </td><td style=\"text-align: right;\">        165102          </td><td style=\"text-align: right;\"> 406.327</td><td style=\"text-align: right;\">165102          </td><td style=\"text-align: right;\"> 295.161</td><td style=\"text-align: right;\">0.0560484</td></tr>\n",
       "<tr><td>GBM_5_AutoML_20210531_101932                       </td><td style=\"text-align: right;\">        176401          </td><td style=\"text-align: right;\"> 420.002</td><td style=\"text-align: right;\">176401          </td><td style=\"text-align: right;\"> 301.405</td><td style=\"text-align: right;\">0.0611738</td></tr>\n",
       "<tr><td>GBM_grid__1_AutoML_20210531_101932_model_6         </td><td style=\"text-align: right;\">        187272          </td><td style=\"text-align: right;\"> 432.749</td><td style=\"text-align: right;\">187272          </td><td style=\"text-align: right;\"> 315.49 </td><td style=\"text-align: right;\">0.0616431</td></tr>\n",
       "<tr><td>GBM_grid__1_AutoML_20210531_101932_model_3         </td><td style=\"text-align: right;\">        210296          </td><td style=\"text-align: right;\"> 458.58 </td><td style=\"text-align: right;\">210296          </td><td style=\"text-align: right;\"> 341.74 </td><td style=\"text-align: right;\">0.0664471</td></tr>\n",
       "<tr><td>DRF_1_AutoML_20210531_101932                       </td><td style=\"text-align: right;\">        234278          </td><td style=\"text-align: right;\"> 484.023</td><td style=\"text-align: right;\">234278          </td><td style=\"text-align: right;\"> 347.381</td><td style=\"text-align: right;\">0.0670185</td></tr>\n",
       "<tr><td>XRT_1_AutoML_20210531_101932                       </td><td style=\"text-align: right;\">        279160          </td><td style=\"text-align: right;\"> 528.356</td><td style=\"text-align: right;\">279160          </td><td style=\"text-align: right;\"> 387.706</td><td style=\"text-align: right;\">0.0739497</td></tr>\n",
       "<tr><td>DeepLearning_grid__3_AutoML_20210531_101932_model_2</td><td style=\"text-align: right;\">        310737          </td><td style=\"text-align: right;\"> 557.438</td><td style=\"text-align: right;\">310737          </td><td style=\"text-align: right;\"> 380.148</td><td style=\"text-align: right;\">0.0678434</td></tr>\n",
       "<tr><td>DeepLearning_grid__2_AutoML_20210531_101932_model_1</td><td style=\"text-align: right;\">        376936          </td><td style=\"text-align: right;\"> 613.951</td><td style=\"text-align: right;\">376936          </td><td style=\"text-align: right;\"> 436.407</td><td style=\"text-align: right;\">0.0787419</td></tr>\n",
       "<tr><td>DeepLearning_grid__1_AutoML_20210531_101932_model_1</td><td style=\"text-align: right;\">        439702          </td><td style=\"text-align: right;\"> 663.1  </td><td style=\"text-align: right;\">439702          </td><td style=\"text-align: right;\"> 503.825</td><td style=\"text-align: right;\">0.0907607</td></tr>\n",
       "<tr><td>DeepLearning_grid__2_AutoML_20210531_101932_model_2</td><td style=\"text-align: right;\">        447052          </td><td style=\"text-align: right;\"> 668.619</td><td style=\"text-align: right;\">447052          </td><td style=\"text-align: right;\"> 475.381</td><td style=\"text-align: right;\">0.0852565</td></tr>\n",
       "<tr><td>DeepLearning_grid__3_AutoML_20210531_101932_model_1</td><td style=\"text-align: right;\">        464137          </td><td style=\"text-align: right;\"> 681.276</td><td style=\"text-align: right;\">464137          </td><td style=\"text-align: right;\"> 511.386</td><td style=\"text-align: right;\">0.0877116</td></tr>\n",
       "<tr><td>GBM_grid__1_AutoML_20210531_101932_model_8         </td><td style=\"text-align: right;\">        467860          </td><td style=\"text-align: right;\"> 684.003</td><td style=\"text-align: right;\">467860          </td><td style=\"text-align: right;\"> 521.453</td><td style=\"text-align: right;\">0.106403 </td></tr>\n",
       "<tr><td>DeepLearning_grid__1_AutoML_20210531_101932_model_2</td><td style=\"text-align: right;\">        973041          </td><td style=\"text-align: right;\"> 986.428</td><td style=\"text-align: right;\">973041          </td><td style=\"text-align: right;\"> 758.207</td><td style=\"text-align: right;\">0.177485 </td></tr>\n",
       "<tr><td>DeepLearning_1_AutoML_20210531_101932              </td><td style=\"text-align: right;\">             1.18407e+06</td><td style=\"text-align: right;\">1088.15 </td><td style=\"text-align: right;\">     1.18407e+06</td><td style=\"text-align: right;\"> 859.704</td><td style=\"text-align: right;\">0.197071 </td></tr>\n",
       "<tr><td>DeepLearning_grid__1_AutoML_20210531_101932_model_3</td><td style=\"text-align: right;\">             1.25804e+06</td><td style=\"text-align: right;\">1121.63 </td><td style=\"text-align: right;\">     1.25804e+06</td><td style=\"text-align: right;\"> 880.837</td><td style=\"text-align: right;\">0.179072 </td></tr>\n",
       "<tr><td>DeepLearning_grid__2_AutoML_20210531_101932_model_3</td><td style=\"text-align: right;\">             2.13116e+06</td><td style=\"text-align: right;\">1459.85 </td><td style=\"text-align: right;\">     2.13116e+06</td><td style=\"text-align: right;\">1228.74 </td><td style=\"text-align: right;\">0.25395  </td></tr>\n",
       "<tr><td>GLM_1_AutoML_20210531_101932                       </td><td style=\"text-align: right;\">             8.00537e+06</td><td style=\"text-align: right;\">2829.38 </td><td style=\"text-align: right;\">     8.00537e+06</td><td style=\"text-align: right;\">2459.16 </td><td style=\"text-align: right;\">0.43506  </td></tr>\n",
       "</tbody>\n",
       "</table>"
      ]
     },
     "metadata": {},
     "output_type": "display_data"
    },
    {
     "name": "stdout",
     "output_type": "stream",
     "text": [
      "\n",
      "num :  38\n",
      "pred :  6384\n"
     ]
    },
    {
     "name": "stderr",
     "output_type": "stream",
     "text": [
      "\r",
      " 63%|███████████████████████████████████████████████▌                           | 38/60 [12:00:26<6:56:34, 1136.11s/it]"
     ]
    },
    {
     "name": "stdout",
     "output_type": "stream",
     "text": [
      "\n",
      "10:37:42.589: AutoML: XGBoost is not available; skipping it.\n",
      "\n"
     ]
    },
    {
     "data": {
      "text/html": [
       "<table>\n",
       "<thead>\n",
       "<tr><th>model_id                                           </th><th style=\"text-align: right;\">  mean_residual_deviance</th><th style=\"text-align: right;\">   rmse</th><th style=\"text-align: right;\">    mse</th><th style=\"text-align: right;\">     mae</th><th style=\"text-align: right;\">    rmsle</th></tr>\n",
       "</thead>\n",
       "<tbody>\n",
       "<tr><td>StackedEnsemble_AllModels_AutoML_20210531_103742   </td><td style=\"text-align: right;\">                 15924.8</td><td style=\"text-align: right;\">126.193</td><td style=\"text-align: right;\">15924.8</td><td style=\"text-align: right;\"> 91.9028</td><td style=\"text-align: right;\">0.0653296</td></tr>\n",
       "<tr><td>StackedEnsemble_BestOfFamily_AutoML_20210531_103742</td><td style=\"text-align: right;\">                 16088.3</td><td style=\"text-align: right;\">126.84 </td><td style=\"text-align: right;\">16088.3</td><td style=\"text-align: right;\"> 92.28  </td><td style=\"text-align: right;\">0.0656317</td></tr>\n",
       "<tr><td>GBM_3_AutoML_20210531_103742                       </td><td style=\"text-align: right;\">                 16346.6</td><td style=\"text-align: right;\">127.854</td><td style=\"text-align: right;\">16346.6</td><td style=\"text-align: right;\"> 93.1736</td><td style=\"text-align: right;\">0.0661867</td></tr>\n",
       "<tr><td>GBM_2_AutoML_20210531_103742                       </td><td style=\"text-align: right;\">                 16423.8</td><td style=\"text-align: right;\">128.155</td><td style=\"text-align: right;\">16423.8</td><td style=\"text-align: right;\"> 94.2539</td><td style=\"text-align: right;\">0.0662561</td></tr>\n",
       "<tr><td>GBM_4_AutoML_20210531_103742                       </td><td style=\"text-align: right;\">                 16456.1</td><td style=\"text-align: right;\">128.281</td><td style=\"text-align: right;\">16456.1</td><td style=\"text-align: right;\"> 93.2221</td><td style=\"text-align: right;\">0.0661955</td></tr>\n",
       "<tr><td>GBM_grid__1_AutoML_20210531_103742_model_2         </td><td style=\"text-align: right;\">                 16586.6</td><td style=\"text-align: right;\">128.789</td><td style=\"text-align: right;\">16586.6</td><td style=\"text-align: right;\"> 94.4326</td><td style=\"text-align: right;\">0.0662519</td></tr>\n",
       "<tr><td>GBM_grid__1_AutoML_20210531_103742_model_1         </td><td style=\"text-align: right;\">                 16587  </td><td style=\"text-align: right;\">128.79 </td><td style=\"text-align: right;\">16587  </td><td style=\"text-align: right;\"> 93.5495</td><td style=\"text-align: right;\">0.0664245</td></tr>\n",
       "<tr><td>GBM_grid__1_AutoML_20210531_103742_model_7         </td><td style=\"text-align: right;\">                 16759.8</td><td style=\"text-align: right;\">129.46 </td><td style=\"text-align: right;\">16759.8</td><td style=\"text-align: right;\"> 96.1077</td><td style=\"text-align: right;\">0.0668785</td></tr>\n",
       "<tr><td>GBM_grid__1_AutoML_20210531_103742_model_4         </td><td style=\"text-align: right;\">                 16966.3</td><td style=\"text-align: right;\">130.255</td><td style=\"text-align: right;\">16966.3</td><td style=\"text-align: right;\"> 96.1203</td><td style=\"text-align: right;\">0.0675746</td></tr>\n",
       "<tr><td>GBM_1_AutoML_20210531_103742                       </td><td style=\"text-align: right;\">                 16995.6</td><td style=\"text-align: right;\">130.367</td><td style=\"text-align: right;\">16995.6</td><td style=\"text-align: right;\"> 95.7003</td><td style=\"text-align: right;\">0.0671716</td></tr>\n",
       "<tr><td>GBM_grid__1_AutoML_20210531_103742_model_3         </td><td style=\"text-align: right;\">                 17013.7</td><td style=\"text-align: right;\">130.437</td><td style=\"text-align: right;\">17013.7</td><td style=\"text-align: right;\"> 95.5295</td><td style=\"text-align: right;\">0.0675771</td></tr>\n",
       "<tr><td>GBM_grid__1_AutoML_20210531_103742_model_5         </td><td style=\"text-align: right;\">                 17707.1</td><td style=\"text-align: right;\">133.068</td><td style=\"text-align: right;\">17707.1</td><td style=\"text-align: right;\"> 98.7723</td><td style=\"text-align: right;\">0.0688977</td></tr>\n",
       "<tr><td>DRF_1_AutoML_20210531_103742                       </td><td style=\"text-align: right;\">                 17795.7</td><td style=\"text-align: right;\">133.401</td><td style=\"text-align: right;\">17795.7</td><td style=\"text-align: right;\"> 98.6493</td><td style=\"text-align: right;\">0.0686763</td></tr>\n",
       "<tr><td>GBM_5_AutoML_20210531_103742                       </td><td style=\"text-align: right;\">                 19015.5</td><td style=\"text-align: right;\">137.897</td><td style=\"text-align: right;\">19015.5</td><td style=\"text-align: right;\">103.859 </td><td style=\"text-align: right;\">0.0722413</td></tr>\n",
       "<tr><td>XRT_1_AutoML_20210531_103742                       </td><td style=\"text-align: right;\">                 20269.5</td><td style=\"text-align: right;\">142.371</td><td style=\"text-align: right;\">20269.5</td><td style=\"text-align: right;\">107.326 </td><td style=\"text-align: right;\">0.0732837</td></tr>\n",
       "<tr><td>GBM_grid__1_AutoML_20210531_103742_model_6         </td><td style=\"text-align: right;\">                 20402.2</td><td style=\"text-align: right;\">142.836</td><td style=\"text-align: right;\">20402.2</td><td style=\"text-align: right;\">107.952 </td><td style=\"text-align: right;\">0.074933 </td></tr>\n",
       "<tr><td>GBM_grid__1_AutoML_20210531_103742_model_8         </td><td style=\"text-align: right;\">                 25041.2</td><td style=\"text-align: right;\">158.244</td><td style=\"text-align: right;\">25041.2</td><td style=\"text-align: right;\">121.747 </td><td style=\"text-align: right;\">0.0829385</td></tr>\n",
       "<tr><td>DeepLearning_grid__3_AutoML_20210531_103742_model_1</td><td style=\"text-align: right;\">                 25371.9</td><td style=\"text-align: right;\">159.285</td><td style=\"text-align: right;\">25371.9</td><td style=\"text-align: right;\">120.514 </td><td style=\"text-align: right;\">0.0842202</td></tr>\n",
       "<tr><td>DeepLearning_grid__2_AutoML_20210531_103742_model_2</td><td style=\"text-align: right;\">                 25641.2</td><td style=\"text-align: right;\">160.129</td><td style=\"text-align: right;\">25641.2</td><td style=\"text-align: right;\">122.692 </td><td style=\"text-align: right;\">0.0841736</td></tr>\n",
       "<tr><td>DeepLearning_grid__2_AutoML_20210531_103742_model_1</td><td style=\"text-align: right;\">                 26446.4</td><td style=\"text-align: right;\">162.624</td><td style=\"text-align: right;\">26446.4</td><td style=\"text-align: right;\">122.139 </td><td style=\"text-align: right;\">0.0853999</td></tr>\n",
       "<tr><td>DeepLearning_grid__3_AutoML_20210531_103742_model_2</td><td style=\"text-align: right;\">                 27577.7</td><td style=\"text-align: right;\">166.065</td><td style=\"text-align: right;\">27577.7</td><td style=\"text-align: right;\">124.21  </td><td style=\"text-align: right;\">0.0870118</td></tr>\n",
       "<tr><td>DeepLearning_grid__1_AutoML_20210531_103742_model_1</td><td style=\"text-align: right;\">                 27725.6</td><td style=\"text-align: right;\">166.51 </td><td style=\"text-align: right;\">27725.6</td><td style=\"text-align: right;\">125.376 </td><td style=\"text-align: right;\">0.0873131</td></tr>\n",
       "<tr><td>DeepLearning_grid__1_AutoML_20210531_103742_model_2</td><td style=\"text-align: right;\">                 32069.8</td><td style=\"text-align: right;\">179.08 </td><td style=\"text-align: right;\">32069.8</td><td style=\"text-align: right;\">139.32  </td><td style=\"text-align: right;\">0.0933555</td></tr>\n",
       "<tr><td>DeepLearning_grid__1_AutoML_20210531_103742_model_3</td><td style=\"text-align: right;\">                 36011.3</td><td style=\"text-align: right;\">189.767</td><td style=\"text-align: right;\">36011.3</td><td style=\"text-align: right;\">149.197 </td><td style=\"text-align: right;\">0.0987504</td></tr>\n",
       "<tr><td>DeepLearning_1_AutoML_20210531_103742              </td><td style=\"text-align: right;\">                 50456  </td><td style=\"text-align: right;\">224.624</td><td style=\"text-align: right;\">50456  </td><td style=\"text-align: right;\">177.364 </td><td style=\"text-align: right;\">0.124082 </td></tr>\n",
       "<tr><td>GLM_1_AutoML_20210531_103742                       </td><td style=\"text-align: right;\">                 55378.8</td><td style=\"text-align: right;\">235.327</td><td style=\"text-align: right;\">55378.8</td><td style=\"text-align: right;\">189.683 </td><td style=\"text-align: right;\">0.123552 </td></tr>\n",
       "<tr><td>DeepLearning_grid__2_AutoML_20210531_103742_model_3</td><td style=\"text-align: right;\">                 63228.3</td><td style=\"text-align: right;\">251.452</td><td style=\"text-align: right;\">63228.3</td><td style=\"text-align: right;\">193.96  </td><td style=\"text-align: right;\">0.128072 </td></tr>\n",
       "</tbody>\n",
       "</table>"
      ]
     },
     "metadata": {},
     "output_type": "display_data"
    },
    {
     "name": "stdout",
     "output_type": "stream",
     "text": [
      "\n",
      "num :  39\n",
      "pred :  6552\n"
     ]
    },
    {
     "name": "stderr",
     "output_type": "stream",
     "text": [
      "\r",
      " 65%|████████████████████████████████████████████████▊                          | 39/60 [12:17:58<6:28:45, 1110.73s/it]"
     ]
    },
    {
     "name": "stdout",
     "output_type": "stream",
     "text": [
      "\n",
      "10:55:14.119: AutoML: XGBoost is not available; skipping it.\n",
      "\n"
     ]
    },
    {
     "data": {
      "text/html": [
       "<table>\n",
       "<thead>\n",
       "<tr><th>model_id                                           </th><th style=\"text-align: right;\">  mean_residual_deviance</th><th style=\"text-align: right;\">    rmse</th><th style=\"text-align: right;\">             mse</th><th style=\"text-align: right;\">     mae</th><th style=\"text-align: right;\">     rmsle</th></tr>\n",
       "</thead>\n",
       "<tbody>\n",
       "<tr><td>StackedEnsemble_AllModels_AutoML_20210531_105514   </td><td style=\"text-align: right;\">         65994.7        </td><td style=\"text-align: right;\"> 256.894</td><td style=\"text-align: right;\"> 65994.7        </td><td style=\"text-align: right;\"> 158.113</td><td style=\"text-align: right;\">  0.147444</td></tr>\n",
       "<tr><td>StackedEnsemble_BestOfFamily_AutoML_20210531_105514</td><td style=\"text-align: right;\">         67952.7        </td><td style=\"text-align: right;\"> 260.677</td><td style=\"text-align: right;\"> 67952.7        </td><td style=\"text-align: right;\"> 161.303</td><td style=\"text-align: right;\">  0.149274</td></tr>\n",
       "<tr><td>GBM_4_AutoML_20210531_105514                       </td><td style=\"text-align: right;\">         68853.9        </td><td style=\"text-align: right;\"> 262.4  </td><td style=\"text-align: right;\"> 68853.9        </td><td style=\"text-align: right;\"> 163.438</td><td style=\"text-align: right;\">  0.149723</td></tr>\n",
       "<tr><td>GBM_1_AutoML_20210531_105514                       </td><td style=\"text-align: right;\">         70607.5        </td><td style=\"text-align: right;\"> 265.721</td><td style=\"text-align: right;\"> 70607.5        </td><td style=\"text-align: right;\"> 168.464</td><td style=\"text-align: right;\">  0.151345</td></tr>\n",
       "<tr><td>GBM_3_AutoML_20210531_105514                       </td><td style=\"text-align: right;\">         71059.6        </td><td style=\"text-align: right;\"> 266.57 </td><td style=\"text-align: right;\"> 71059.6        </td><td style=\"text-align: right;\"> 169.775</td><td style=\"text-align: right;\">  0.153178</td></tr>\n",
       "<tr><td>GBM_grid__1_AutoML_20210531_105514_model_4         </td><td style=\"text-align: right;\">         71704.2        </td><td style=\"text-align: right;\"> 267.776</td><td style=\"text-align: right;\"> 71704.2        </td><td style=\"text-align: right;\"> 164.348</td><td style=\"text-align: right;\">  0.151284</td></tr>\n",
       "<tr><td>GBM_2_AutoML_20210531_105514                       </td><td style=\"text-align: right;\">         71788.2        </td><td style=\"text-align: right;\"> 267.933</td><td style=\"text-align: right;\"> 71788.2        </td><td style=\"text-align: right;\"> 173.063</td><td style=\"text-align: right;\">  0.153531</td></tr>\n",
       "<tr><td>GBM_grid__1_AutoML_20210531_105514_model_7         </td><td style=\"text-align: right;\">         76616.1        </td><td style=\"text-align: right;\"> 276.796</td><td style=\"text-align: right;\"> 76616.1        </td><td style=\"text-align: right;\"> 181.94 </td><td style=\"text-align: right;\">  0.157289</td></tr>\n",
       "<tr><td>GBM_grid__1_AutoML_20210531_105514_model_1         </td><td style=\"text-align: right;\">         77547.4        </td><td style=\"text-align: right;\"> 278.473</td><td style=\"text-align: right;\"> 77547.4        </td><td style=\"text-align: right;\"> 180.491</td><td style=\"text-align: right;\">  0.158941</td></tr>\n",
       "<tr><td>GBM_grid__1_AutoML_20210531_105514_model_2         </td><td style=\"text-align: right;\">         83428.1        </td><td style=\"text-align: right;\"> 288.839</td><td style=\"text-align: right;\"> 83428.1        </td><td style=\"text-align: right;\"> 191.47 </td><td style=\"text-align: right;\">  0.162464</td></tr>\n",
       "<tr><td>GBM_grid__1_AutoML_20210531_105514_model_3         </td><td style=\"text-align: right;\">         87049.1        </td><td style=\"text-align: right;\"> 295.041</td><td style=\"text-align: right;\"> 87049.1        </td><td style=\"text-align: right;\"> 202.818</td><td style=\"text-align: right;\">  0.166936</td></tr>\n",
       "<tr><td>GBM_grid__1_AutoML_20210531_105514_model_5         </td><td style=\"text-align: right;\">         89637.7        </td><td style=\"text-align: right;\"> 299.396</td><td style=\"text-align: right;\"> 89637.7        </td><td style=\"text-align: right;\"> 206.769</td><td style=\"text-align: right;\">  0.168244</td></tr>\n",
       "<tr><td>DeepLearning_grid__3_AutoML_20210531_105514_model_2</td><td style=\"text-align: right;\">        104469          </td><td style=\"text-align: right;\"> 323.217</td><td style=\"text-align: right;\">104469          </td><td style=\"text-align: right;\"> 211.65 </td><td style=\"text-align: right;\">  0.177673</td></tr>\n",
       "<tr><td>DRF_1_AutoML_20210531_105514                       </td><td style=\"text-align: right;\">        104553          </td><td style=\"text-align: right;\"> 323.347</td><td style=\"text-align: right;\">104553          </td><td style=\"text-align: right;\"> 228.696</td><td style=\"text-align: right;\">  0.186969</td></tr>\n",
       "<tr><td>GBM_grid__1_AutoML_20210531_105514_model_6         </td><td style=\"text-align: right;\">        108147          </td><td style=\"text-align: right;\"> 328.858</td><td style=\"text-align: right;\">108147          </td><td style=\"text-align: right;\"> 224.015</td><td style=\"text-align: right;\">  0.193155</td></tr>\n",
       "<tr><td>GBM_5_AutoML_20210531_105514                       </td><td style=\"text-align: right;\">        110603          </td><td style=\"text-align: right;\"> 332.57 </td><td style=\"text-align: right;\">110603          </td><td style=\"text-align: right;\"> 224.25 </td><td style=\"text-align: right;\">  0.196302</td></tr>\n",
       "<tr><td>XRT_1_AutoML_20210531_105514                       </td><td style=\"text-align: right;\">        131748          </td><td style=\"text-align: right;\"> 362.971</td><td style=\"text-align: right;\">131748          </td><td style=\"text-align: right;\"> 261.433</td><td style=\"text-align: right;\">  0.210215</td></tr>\n",
       "<tr><td>DeepLearning_grid__2_AutoML_20210531_105514_model_1</td><td style=\"text-align: right;\">        135823          </td><td style=\"text-align: right;\"> 368.542</td><td style=\"text-align: right;\">135823          </td><td style=\"text-align: right;\"> 246.967</td><td style=\"text-align: right;\">nan       </td></tr>\n",
       "<tr><td>DeepLearning_grid__3_AutoML_20210531_105514_model_1</td><td style=\"text-align: right;\">        143128          </td><td style=\"text-align: right;\"> 378.323</td><td style=\"text-align: right;\">143128          </td><td style=\"text-align: right;\"> 257.26 </td><td style=\"text-align: right;\">  0.206749</td></tr>\n",
       "<tr><td>DeepLearning_grid__2_AutoML_20210531_105514_model_2</td><td style=\"text-align: right;\">        175909          </td><td style=\"text-align: right;\"> 419.415</td><td style=\"text-align: right;\">175909          </td><td style=\"text-align: right;\"> 286.866</td><td style=\"text-align: right;\">  0.223578</td></tr>\n",
       "<tr><td>GBM_grid__1_AutoML_20210531_105514_model_8         </td><td style=\"text-align: right;\">        180718          </td><td style=\"text-align: right;\"> 425.109</td><td style=\"text-align: right;\">180718          </td><td style=\"text-align: right;\"> 320.551</td><td style=\"text-align: right;\">  0.246504</td></tr>\n",
       "<tr><td>DeepLearning_grid__1_AutoML_20210531_105514_model_1</td><td style=\"text-align: right;\">        242216          </td><td style=\"text-align: right;\"> 492.154</td><td style=\"text-align: right;\">242216          </td><td style=\"text-align: right;\"> 369.907</td><td style=\"text-align: right;\">nan       </td></tr>\n",
       "<tr><td>DeepLearning_grid__1_AutoML_20210531_105514_model_2</td><td style=\"text-align: right;\">        334839          </td><td style=\"text-align: right;\"> 578.653</td><td style=\"text-align: right;\">334839          </td><td style=\"text-align: right;\"> 443.401</td><td style=\"text-align: right;\">nan       </td></tr>\n",
       "<tr><td>DeepLearning_grid__2_AutoML_20210531_105514_model_3</td><td style=\"text-align: right;\">        406310          </td><td style=\"text-align: right;\"> 637.425</td><td style=\"text-align: right;\">406310          </td><td style=\"text-align: right;\"> 503.489</td><td style=\"text-align: right;\">  0.342232</td></tr>\n",
       "<tr><td>DeepLearning_grid__1_AutoML_20210531_105514_model_3</td><td style=\"text-align: right;\">        533980          </td><td style=\"text-align: right;\"> 730.739</td><td style=\"text-align: right;\">533980          </td><td style=\"text-align: right;\"> 604.264</td><td style=\"text-align: right;\">  0.394902</td></tr>\n",
       "<tr><td>DeepLearning_1_AutoML_20210531_105514              </td><td style=\"text-align: right;\">        732518          </td><td style=\"text-align: right;\"> 855.873</td><td style=\"text-align: right;\">732518          </td><td style=\"text-align: right;\"> 660.138</td><td style=\"text-align: right;\">  0.432606</td></tr>\n",
       "<tr><td>GLM_1_AutoML_20210531_105514                       </td><td style=\"text-align: right;\">             1.79405e+06</td><td style=\"text-align: right;\">1339.42 </td><td style=\"text-align: right;\">     1.79405e+06</td><td style=\"text-align: right;\">1233.86 </td><td style=\"text-align: right;\">  0.598979</td></tr>\n",
       "</tbody>\n",
       "</table>"
      ]
     },
     "metadata": {},
     "output_type": "display_data"
    },
    {
     "name": "stdout",
     "output_type": "stream",
     "text": [
      "\n",
      "num :  40\n",
      "pred :  6720\n"
     ]
    },
    {
     "name": "stderr",
     "output_type": "stream",
     "text": [
      "\r",
      " 67%|██████████████████████████████████████████████████                         | 40/60 [12:38:56<6:25:03, 1155.17s/it]"
     ]
    },
    {
     "name": "stdout",
     "output_type": "stream",
     "text": [
      "\n",
      "11:16:12.952: AutoML: XGBoost is not available; skipping it.\n",
      "\n"
     ]
    },
    {
     "data": {
      "text/html": [
       "<table>\n",
       "<thead>\n",
       "<tr><th>model_id                                           </th><th style=\"text-align: right;\">  mean_residual_deviance</th><th style=\"text-align: right;\">    rmse</th><th style=\"text-align: right;\">      mse</th><th style=\"text-align: right;\">     mae</th><th style=\"text-align: right;\">      rmsle</th></tr>\n",
       "</thead>\n",
       "<tbody>\n",
       "<tr><td>StackedEnsemble_AllModels_AutoML_20210531_111612   </td><td style=\"text-align: right;\">                 7660.81</td><td style=\"text-align: right;\"> 87.5261</td><td style=\"text-align: right;\">  7660.81</td><td style=\"text-align: right;\"> 53.612 </td><td style=\"text-align: right;\">  0.0827777</td></tr>\n",
       "<tr><td>StackedEnsemble_BestOfFamily_AutoML_20210531_111612</td><td style=\"text-align: right;\">                 7884.63</td><td style=\"text-align: right;\"> 88.7954</td><td style=\"text-align: right;\">  7884.63</td><td style=\"text-align: right;\"> 54.4804</td><td style=\"text-align: right;\">  0.0843671</td></tr>\n",
       "<tr><td>GBM_grid__1_AutoML_20210531_111612_model_4         </td><td style=\"text-align: right;\">                 7972.44</td><td style=\"text-align: right;\"> 89.2885</td><td style=\"text-align: right;\">  7972.44</td><td style=\"text-align: right;\"> 55.2324</td><td style=\"text-align: right;\">  0.0844542</td></tr>\n",
       "<tr><td>GBM_3_AutoML_20210531_111612                       </td><td style=\"text-align: right;\">                 8087.44</td><td style=\"text-align: right;\"> 89.9302</td><td style=\"text-align: right;\">  8087.44</td><td style=\"text-align: right;\"> 57.364 </td><td style=\"text-align: right;\">  0.0875041</td></tr>\n",
       "<tr><td>GBM_1_AutoML_20210531_111612                       </td><td style=\"text-align: right;\">                 8521.98</td><td style=\"text-align: right;\"> 92.3146</td><td style=\"text-align: right;\">  8521.98</td><td style=\"text-align: right;\"> 57.0108</td><td style=\"text-align: right;\">  0.087482 </td></tr>\n",
       "<tr><td>GBM_4_AutoML_20210531_111612                       </td><td style=\"text-align: right;\">                 8726.86</td><td style=\"text-align: right;\"> 93.4177</td><td style=\"text-align: right;\">  8726.86</td><td style=\"text-align: right;\"> 61.5778</td><td style=\"text-align: right;\">  0.0963245</td></tr>\n",
       "<tr><td>GBM_grid__1_AutoML_20210531_111612_model_7         </td><td style=\"text-align: right;\">                 8845.76</td><td style=\"text-align: right;\"> 94.0519</td><td style=\"text-align: right;\">  8845.76</td><td style=\"text-align: right;\"> 60.6253</td><td style=\"text-align: right;\">  0.0925878</td></tr>\n",
       "<tr><td>GBM_grid__1_AutoML_20210531_111612_model_2         </td><td style=\"text-align: right;\">                 9292.33</td><td style=\"text-align: right;\"> 96.3967</td><td style=\"text-align: right;\">  9292.33</td><td style=\"text-align: right;\"> 62.0157</td><td style=\"text-align: right;\">  0.0937246</td></tr>\n",
       "<tr><td>GBM_grid__1_AutoML_20210531_111612_model_3         </td><td style=\"text-align: right;\">                10064.3 </td><td style=\"text-align: right;\">100.321 </td><td style=\"text-align: right;\"> 10064.3 </td><td style=\"text-align: right;\"> 69.4675</td><td style=\"text-align: right;\">  0.109997 </td></tr>\n",
       "<tr><td>GBM_grid__1_AutoML_20210531_111612_model_5         </td><td style=\"text-align: right;\">                10354.4 </td><td style=\"text-align: right;\">101.756 </td><td style=\"text-align: right;\"> 10354.4 </td><td style=\"text-align: right;\"> 70.1523</td><td style=\"text-align: right;\">  0.107265 </td></tr>\n",
       "<tr><td>GBM_2_AutoML_20210531_111612                       </td><td style=\"text-align: right;\">                10397.9 </td><td style=\"text-align: right;\">101.97  </td><td style=\"text-align: right;\"> 10397.9 </td><td style=\"text-align: right;\"> 70.3899</td><td style=\"text-align: right;\">  0.108101 </td></tr>\n",
       "<tr><td>GBM_grid__1_AutoML_20210531_111612_model_1         </td><td style=\"text-align: right;\">                10793.8 </td><td style=\"text-align: right;\">103.893 </td><td style=\"text-align: right;\"> 10793.8 </td><td style=\"text-align: right;\"> 71.9695</td><td style=\"text-align: right;\">  0.112234 </td></tr>\n",
       "<tr><td>GBM_5_AutoML_20210531_111612                       </td><td style=\"text-align: right;\">                11384.7 </td><td style=\"text-align: right;\">106.699 </td><td style=\"text-align: right;\"> 11384.7 </td><td style=\"text-align: right;\"> 70.2802</td><td style=\"text-align: right;\">  0.105045 </td></tr>\n",
       "<tr><td>DRF_1_AutoML_20210531_111612                       </td><td style=\"text-align: right;\">                11744.5 </td><td style=\"text-align: right;\">108.372 </td><td style=\"text-align: right;\"> 11744.5 </td><td style=\"text-align: right;\"> 70.2871</td><td style=\"text-align: right;\">  0.107525 </td></tr>\n",
       "<tr><td>GBM_grid__1_AutoML_20210531_111612_model_6         </td><td style=\"text-align: right;\">                12633.4 </td><td style=\"text-align: right;\">112.398 </td><td style=\"text-align: right;\"> 12633.4 </td><td style=\"text-align: right;\"> 74.9435</td><td style=\"text-align: right;\">  0.106906 </td></tr>\n",
       "<tr><td>DeepLearning_grid__3_AutoML_20210531_111612_model_2</td><td style=\"text-align: right;\">                16533.8 </td><td style=\"text-align: right;\">128.584 </td><td style=\"text-align: right;\"> 16533.8 </td><td style=\"text-align: right;\"> 85.977 </td><td style=\"text-align: right;\">  0.119709 </td></tr>\n",
       "<tr><td>XRT_1_AutoML_20210531_111612                       </td><td style=\"text-align: right;\">                17889.5 </td><td style=\"text-align: right;\">133.752 </td><td style=\"text-align: right;\"> 17889.5 </td><td style=\"text-align: right;\"> 88.9898</td><td style=\"text-align: right;\">  0.126454 </td></tr>\n",
       "<tr><td>GBM_grid__1_AutoML_20210531_111612_model_8         </td><td style=\"text-align: right;\">                18244.4 </td><td style=\"text-align: right;\">135.072 </td><td style=\"text-align: right;\"> 18244.4 </td><td style=\"text-align: right;\"> 97.8594</td><td style=\"text-align: right;\">  0.153904 </td></tr>\n",
       "<tr><td>DeepLearning_grid__2_AutoML_20210531_111612_model_1</td><td style=\"text-align: right;\">                20544.3 </td><td style=\"text-align: right;\">143.333 </td><td style=\"text-align: right;\"> 20544.3 </td><td style=\"text-align: right;\"> 96.9739</td><td style=\"text-align: right;\">  0.145628 </td></tr>\n",
       "<tr><td>DeepLearning_grid__3_AutoML_20210531_111612_model_1</td><td style=\"text-align: right;\">                25406.9 </td><td style=\"text-align: right;\">159.395 </td><td style=\"text-align: right;\"> 25406.9 </td><td style=\"text-align: right;\">109.994 </td><td style=\"text-align: right;\">  0.154889 </td></tr>\n",
       "<tr><td>DeepLearning_grid__2_AutoML_20210531_111612_model_2</td><td style=\"text-align: right;\">                31541.1 </td><td style=\"text-align: right;\">177.598 </td><td style=\"text-align: right;\"> 31541.1 </td><td style=\"text-align: right;\">118.522 </td><td style=\"text-align: right;\">  0.165136 </td></tr>\n",
       "<tr><td>DeepLearning_grid__1_AutoML_20210531_111612_model_1</td><td style=\"text-align: right;\">                35081.7 </td><td style=\"text-align: right;\">187.301 </td><td style=\"text-align: right;\"> 35081.7 </td><td style=\"text-align: right;\">133.593 </td><td style=\"text-align: right;\">nan        </td></tr>\n",
       "<tr><td>DeepLearning_grid__1_AutoML_20210531_111612_model_2</td><td style=\"text-align: right;\">                51297.4 </td><td style=\"text-align: right;\">226.489 </td><td style=\"text-align: right;\"> 51297.4 </td><td style=\"text-align: right;\">161.674 </td><td style=\"text-align: right;\">nan        </td></tr>\n",
       "<tr><td>DeepLearning_1_AutoML_20210531_111612              </td><td style=\"text-align: right;\">                79195.7 </td><td style=\"text-align: right;\">281.417 </td><td style=\"text-align: right;\"> 79195.7 </td><td style=\"text-align: right;\">210.64  </td><td style=\"text-align: right;\">nan        </td></tr>\n",
       "<tr><td>DeepLearning_grid__2_AutoML_20210531_111612_model_3</td><td style=\"text-align: right;\">                91088.1 </td><td style=\"text-align: right;\">301.808 </td><td style=\"text-align: right;\"> 91088.1 </td><td style=\"text-align: right;\">261.37  </td><td style=\"text-align: right;\">  0.356693 </td></tr>\n",
       "<tr><td>DeepLearning_grid__1_AutoML_20210531_111612_model_3</td><td style=\"text-align: right;\">               100165   </td><td style=\"text-align: right;\">316.489 </td><td style=\"text-align: right;\">100165   </td><td style=\"text-align: right;\">249.788 </td><td style=\"text-align: right;\">  0.346187 </td></tr>\n",
       "<tr><td>GLM_1_AutoML_20210531_111612                       </td><td style=\"text-align: right;\">               161993   </td><td style=\"text-align: right;\">402.484 </td><td style=\"text-align: right;\">161993   </td><td style=\"text-align: right;\">320.65  </td><td style=\"text-align: right;\">nan        </td></tr>\n",
       "</tbody>\n",
       "</table>"
      ]
     },
     "metadata": {},
     "output_type": "display_data"
    },
    {
     "name": "stdout",
     "output_type": "stream",
     "text": [
      "\n",
      "num :  41\n",
      "pred :  6888\n"
     ]
    },
    {
     "name": "stderr",
     "output_type": "stream",
     "text": [
      "\r",
      " 68%|███████████████████████████████████████████████████▎                       | 41/60 [12:57:34<6:02:15, 1143.95s/it]"
     ]
    },
    {
     "name": "stdout",
     "output_type": "stream",
     "text": [
      "\n",
      "11:34:50.738: AutoML: XGBoost is not available; skipping it.\n",
      "\n"
     ]
    },
    {
     "data": {
      "text/html": [
       "<table>\n",
       "<thead>\n",
       "<tr><th>model_id                                           </th><th style=\"text-align: right;\">  mean_residual_deviance</th><th style=\"text-align: right;\">    rmse</th><th style=\"text-align: right;\">             mse</th><th style=\"text-align: right;\">     mae</th><th style=\"text-align: right;\">     rmsle</th></tr>\n",
       "</thead>\n",
       "<tbody>\n",
       "<tr><td>StackedEnsemble_AllModels_AutoML_20210531_113450   </td><td style=\"text-align: right;\">        143119          </td><td style=\"text-align: right;\"> 378.311</td><td style=\"text-align: right;\">143119          </td><td style=\"text-align: right;\"> 268.671</td><td style=\"text-align: right;\">  0.163989</td></tr>\n",
       "<tr><td>StackedEnsemble_BestOfFamily_AutoML_20210531_113450</td><td style=\"text-align: right;\">        143624          </td><td style=\"text-align: right;\"> 378.977</td><td style=\"text-align: right;\">143624          </td><td style=\"text-align: right;\"> 269.195</td><td style=\"text-align: right;\">  0.162426</td></tr>\n",
       "<tr><td>GBM_4_AutoML_20210531_113450                       </td><td style=\"text-align: right;\">        149117          </td><td style=\"text-align: right;\"> 386.156</td><td style=\"text-align: right;\">149117          </td><td style=\"text-align: right;\"> 271.802</td><td style=\"text-align: right;\">  0.168845</td></tr>\n",
       "<tr><td>GBM_grid__1_AutoML_20210531_113450_model_1         </td><td style=\"text-align: right;\">        156355          </td><td style=\"text-align: right;\"> 395.418</td><td style=\"text-align: right;\">156355          </td><td style=\"text-align: right;\"> 286.808</td><td style=\"text-align: right;\">  0.172686</td></tr>\n",
       "<tr><td>GBM_1_AutoML_20210531_113450                       </td><td style=\"text-align: right;\">        157457          </td><td style=\"text-align: right;\"> 396.808</td><td style=\"text-align: right;\">157457          </td><td style=\"text-align: right;\"> 280.579</td><td style=\"text-align: right;\">  0.170524</td></tr>\n",
       "<tr><td>GBM_2_AutoML_20210531_113450                       </td><td style=\"text-align: right;\">        160094          </td><td style=\"text-align: right;\"> 400.118</td><td style=\"text-align: right;\">160094          </td><td style=\"text-align: right;\"> 289.043</td><td style=\"text-align: right;\">  0.17409 </td></tr>\n",
       "<tr><td>GBM_3_AutoML_20210531_113450                       </td><td style=\"text-align: right;\">        160680          </td><td style=\"text-align: right;\"> 400.849</td><td style=\"text-align: right;\">160680          </td><td style=\"text-align: right;\"> 286.807</td><td style=\"text-align: right;\">  0.179113</td></tr>\n",
       "<tr><td>GBM_grid__1_AutoML_20210531_113450_model_2         </td><td style=\"text-align: right;\">        164412          </td><td style=\"text-align: right;\"> 405.477</td><td style=\"text-align: right;\">164412          </td><td style=\"text-align: right;\"> 294.142</td><td style=\"text-align: right;\">  0.176097</td></tr>\n",
       "<tr><td>DRF_1_AutoML_20210531_113450                       </td><td style=\"text-align: right;\">        170828          </td><td style=\"text-align: right;\"> 413.314</td><td style=\"text-align: right;\">170828          </td><td style=\"text-align: right;\"> 301.068</td><td style=\"text-align: right;\">  0.176568</td></tr>\n",
       "<tr><td>GBM_grid__1_AutoML_20210531_113450_model_3         </td><td style=\"text-align: right;\">        174911          </td><td style=\"text-align: right;\"> 418.223</td><td style=\"text-align: right;\">174911          </td><td style=\"text-align: right;\"> 305.294</td><td style=\"text-align: right;\">nan       </td></tr>\n",
       "<tr><td>GBM_grid__1_AutoML_20210531_113450_model_7         </td><td style=\"text-align: right;\">        182100          </td><td style=\"text-align: right;\"> 426.732</td><td style=\"text-align: right;\">182100          </td><td style=\"text-align: right;\"> 312.578</td><td style=\"text-align: right;\">  0.185792</td></tr>\n",
       "<tr><td>GBM_grid__1_AutoML_20210531_113450_model_5         </td><td style=\"text-align: right;\">        186885          </td><td style=\"text-align: right;\"> 432.302</td><td style=\"text-align: right;\">186885          </td><td style=\"text-align: right;\"> 318.081</td><td style=\"text-align: right;\">  0.1884  </td></tr>\n",
       "<tr><td>GBM_grid__1_AutoML_20210531_113450_model_4         </td><td style=\"text-align: right;\">        190976          </td><td style=\"text-align: right;\"> 437.008</td><td style=\"text-align: right;\">190976          </td><td style=\"text-align: right;\"> 317.596</td><td style=\"text-align: right;\">nan       </td></tr>\n",
       "<tr><td>XRT_1_AutoML_20210531_113450                       </td><td style=\"text-align: right;\">        242674          </td><td style=\"text-align: right;\"> 492.62 </td><td style=\"text-align: right;\">242674          </td><td style=\"text-align: right;\"> 360.229</td><td style=\"text-align: right;\">  0.212745</td></tr>\n",
       "<tr><td>GBM_5_AutoML_20210531_113450                       </td><td style=\"text-align: right;\">        309642          </td><td style=\"text-align: right;\"> 556.455</td><td style=\"text-align: right;\">309642          </td><td style=\"text-align: right;\"> 400.094</td><td style=\"text-align: right;\">  0.246984</td></tr>\n",
       "<tr><td>GBM_grid__1_AutoML_20210531_113450_model_6         </td><td style=\"text-align: right;\">        346948          </td><td style=\"text-align: right;\"> 589.023</td><td style=\"text-align: right;\">346948          </td><td style=\"text-align: right;\"> 422.262</td><td style=\"text-align: right;\">  0.255555</td></tr>\n",
       "<tr><td>DeepLearning_grid__3_AutoML_20210531_113450_model_2</td><td style=\"text-align: right;\">        361488          </td><td style=\"text-align: right;\"> 601.239</td><td style=\"text-align: right;\">361488          </td><td style=\"text-align: right;\"> 440.462</td><td style=\"text-align: right;\">  0.244263</td></tr>\n",
       "<tr><td>DeepLearning_grid__2_AutoML_20210531_113450_model_1</td><td style=\"text-align: right;\">        384772          </td><td style=\"text-align: right;\"> 620.3  </td><td style=\"text-align: right;\">384772          </td><td style=\"text-align: right;\"> 456.275</td><td style=\"text-align: right;\">nan       </td></tr>\n",
       "<tr><td>GBM_grid__1_AutoML_20210531_113450_model_8         </td><td style=\"text-align: right;\">        426021          </td><td style=\"text-align: right;\"> 652.703</td><td style=\"text-align: right;\">426021          </td><td style=\"text-align: right;\"> 492.905</td><td style=\"text-align: right;\">  0.272084</td></tr>\n",
       "<tr><td>DeepLearning_grid__3_AutoML_20210531_113450_model_1</td><td style=\"text-align: right;\">        438425          </td><td style=\"text-align: right;\"> 662.137</td><td style=\"text-align: right;\">438425          </td><td style=\"text-align: right;\"> 508.316</td><td style=\"text-align: right;\">  0.276374</td></tr>\n",
       "<tr><td>DeepLearning_grid__2_AutoML_20210531_113450_model_2</td><td style=\"text-align: right;\">        465312          </td><td style=\"text-align: right;\"> 682.138</td><td style=\"text-align: right;\">465312          </td><td style=\"text-align: right;\"> 489.796</td><td style=\"text-align: right;\">  0.282183</td></tr>\n",
       "<tr><td>DeepLearning_grid__1_AutoML_20210531_113450_model_1</td><td style=\"text-align: right;\">        528520          </td><td style=\"text-align: right;\"> 726.994</td><td style=\"text-align: right;\">528520          </td><td style=\"text-align: right;\"> 554.179</td><td style=\"text-align: right;\">  0.292018</td></tr>\n",
       "<tr><td>DeepLearning_grid__1_AutoML_20210531_113450_model_2</td><td style=\"text-align: right;\">        754126          </td><td style=\"text-align: right;\"> 868.404</td><td style=\"text-align: right;\">754126          </td><td style=\"text-align: right;\"> 675.991</td><td style=\"text-align: right;\">  0.33421 </td></tr>\n",
       "<tr><td>DeepLearning_grid__1_AutoML_20210531_113450_model_3</td><td style=\"text-align: right;\">        801797          </td><td style=\"text-align: right;\"> 895.431</td><td style=\"text-align: right;\">801797          </td><td style=\"text-align: right;\"> 716.173</td><td style=\"text-align: right;\">  0.340261</td></tr>\n",
       "<tr><td>DeepLearning_grid__2_AutoML_20210531_113450_model_3</td><td style=\"text-align: right;\">        806820          </td><td style=\"text-align: right;\"> 898.232</td><td style=\"text-align: right;\">806820          </td><td style=\"text-align: right;\"> 689.999</td><td style=\"text-align: right;\">  0.315941</td></tr>\n",
       "<tr><td>DeepLearning_1_AutoML_20210531_113450              </td><td style=\"text-align: right;\">        912216          </td><td style=\"text-align: right;\"> 955.1  </td><td style=\"text-align: right;\">912216          </td><td style=\"text-align: right;\"> 736.489</td><td style=\"text-align: right;\">  0.352871</td></tr>\n",
       "<tr><td>GLM_1_AutoML_20210531_113450                       </td><td style=\"text-align: right;\">             2.19326e+06</td><td style=\"text-align: right;\">1480.97 </td><td style=\"text-align: right;\">     2.19326e+06</td><td style=\"text-align: right;\">1290.24 </td><td style=\"text-align: right;\">  0.486353</td></tr>\n",
       "</tbody>\n",
       "</table>"
      ]
     },
     "metadata": {},
     "output_type": "display_data"
    },
    {
     "name": "stdout",
     "output_type": "stream",
     "text": [
      "\n",
      "num :  42\n",
      "pred :  7056\n"
     ]
    },
    {
     "name": "stderr",
     "output_type": "stream",
     "text": [
      "\r",
      " 70%|████████████████████████████████████████████████████▌                      | 42/60 [13:15:50<5:38:53, 1129.65s/it]"
     ]
    },
    {
     "name": "stdout",
     "output_type": "stream",
     "text": [
      "\n",
      "11:53:07.28: AutoML: XGBoost is not available; skipping it.\n",
      "\n"
     ]
    },
    {
     "data": {
      "text/html": [
       "<table>\n",
       "<thead>\n",
       "<tr><th>model_id                                           </th><th style=\"text-align: right;\">  mean_residual_deviance</th><th style=\"text-align: right;\">   rmse</th><th style=\"text-align: right;\">     mse</th><th style=\"text-align: right;\">     mae</th><th style=\"text-align: right;\">    rmsle</th></tr>\n",
       "</thead>\n",
       "<tbody>\n",
       "<tr><td>StackedEnsemble_AllModels_AutoML_20210531_115307   </td><td style=\"text-align: right;\">                 14255.8</td><td style=\"text-align: right;\">119.398</td><td style=\"text-align: right;\"> 14255.8</td><td style=\"text-align: right;\"> 87.6357</td><td style=\"text-align: right;\">0.0660884</td></tr>\n",
       "<tr><td>StackedEnsemble_BestOfFamily_AutoML_20210531_115307</td><td style=\"text-align: right;\">                 14533.6</td><td style=\"text-align: right;\">120.555</td><td style=\"text-align: right;\"> 14533.6</td><td style=\"text-align: right;\"> 88.7577</td><td style=\"text-align: right;\">0.0665222</td></tr>\n",
       "<tr><td>GBM_grid__1_AutoML_20210531_115307_model_4         </td><td style=\"text-align: right;\">                 14672  </td><td style=\"text-align: right;\">121.128</td><td style=\"text-align: right;\"> 14672  </td><td style=\"text-align: right;\"> 89.6312</td><td style=\"text-align: right;\">0.0669218</td></tr>\n",
       "<tr><td>GBM_3_AutoML_20210531_115307                       </td><td style=\"text-align: right;\">                 14779.7</td><td style=\"text-align: right;\">121.572</td><td style=\"text-align: right;\"> 14779.7</td><td style=\"text-align: right;\"> 89.6087</td><td style=\"text-align: right;\">0.067747 </td></tr>\n",
       "<tr><td>GBM_2_AutoML_20210531_115307                       </td><td style=\"text-align: right;\">                 15374.5</td><td style=\"text-align: right;\">123.994</td><td style=\"text-align: right;\"> 15374.5</td><td style=\"text-align: right;\"> 91.4833</td><td style=\"text-align: right;\">0.0683611</td></tr>\n",
       "<tr><td>GBM_4_AutoML_20210531_115307                       </td><td style=\"text-align: right;\">                 15657.9</td><td style=\"text-align: right;\">125.132</td><td style=\"text-align: right;\"> 15657.9</td><td style=\"text-align: right;\"> 92.2069</td><td style=\"text-align: right;\">0.0684037</td></tr>\n",
       "<tr><td>GBM_grid__1_AutoML_20210531_115307_model_1         </td><td style=\"text-align: right;\">                 15742.9</td><td style=\"text-align: right;\">125.471</td><td style=\"text-align: right;\"> 15742.9</td><td style=\"text-align: right;\"> 93.8164</td><td style=\"text-align: right;\">0.0690909</td></tr>\n",
       "<tr><td>GBM_1_AutoML_20210531_115307                       </td><td style=\"text-align: right;\">                 15864.8</td><td style=\"text-align: right;\">125.956</td><td style=\"text-align: right;\"> 15864.8</td><td style=\"text-align: right;\"> 92.5608</td><td style=\"text-align: right;\">0.069146 </td></tr>\n",
       "<tr><td>GBM_grid__1_AutoML_20210531_115307_model_2         </td><td style=\"text-align: right;\">                 16183.6</td><td style=\"text-align: right;\">127.215</td><td style=\"text-align: right;\"> 16183.6</td><td style=\"text-align: right;\"> 94.1325</td><td style=\"text-align: right;\">0.069821 </td></tr>\n",
       "<tr><td>GBM_grid__1_AutoML_20210531_115307_model_7         </td><td style=\"text-align: right;\">                 16361  </td><td style=\"text-align: right;\">127.91 </td><td style=\"text-align: right;\"> 16361  </td><td style=\"text-align: right;\"> 95.5609</td><td style=\"text-align: right;\">0.0698155</td></tr>\n",
       "<tr><td>GBM_grid__1_AutoML_20210531_115307_model_5         </td><td style=\"text-align: right;\">                 17694.8</td><td style=\"text-align: right;\">133.022</td><td style=\"text-align: right;\"> 17694.8</td><td style=\"text-align: right;\"> 99.4983</td><td style=\"text-align: right;\">0.0731542</td></tr>\n",
       "<tr><td>GBM_5_AutoML_20210531_115307                       </td><td style=\"text-align: right;\">                 18832.4</td><td style=\"text-align: right;\">137.231</td><td style=\"text-align: right;\"> 18832.4</td><td style=\"text-align: right;\">102.865 </td><td style=\"text-align: right;\">0.0747893</td></tr>\n",
       "<tr><td>GBM_grid__1_AutoML_20210531_115307_model_3         </td><td style=\"text-align: right;\">                 18833.8</td><td style=\"text-align: right;\">137.236</td><td style=\"text-align: right;\"> 18833.8</td><td style=\"text-align: right;\">102.949 </td><td style=\"text-align: right;\">0.0755478</td></tr>\n",
       "<tr><td>GBM_grid__1_AutoML_20210531_115307_model_6         </td><td style=\"text-align: right;\">                 20011  </td><td style=\"text-align: right;\">141.46 </td><td style=\"text-align: right;\"> 20011  </td><td style=\"text-align: right;\">107.792 </td><td style=\"text-align: right;\">0.0768802</td></tr>\n",
       "<tr><td>DRF_1_AutoML_20210531_115307                       </td><td style=\"text-align: right;\">                 20729.7</td><td style=\"text-align: right;\">143.978</td><td style=\"text-align: right;\"> 20729.7</td><td style=\"text-align: right;\">107.604 </td><td style=\"text-align: right;\">0.0764058</td></tr>\n",
       "<tr><td>XRT_1_AutoML_20210531_115307                       </td><td style=\"text-align: right;\">                 24403.4</td><td style=\"text-align: right;\">156.216</td><td style=\"text-align: right;\"> 24403.4</td><td style=\"text-align: right;\">117.417 </td><td style=\"text-align: right;\">0.0826059</td></tr>\n",
       "<tr><td>DeepLearning_grid__3_AutoML_20210531_115307_model_2</td><td style=\"text-align: right;\">                 29610.4</td><td style=\"text-align: right;\">172.077</td><td style=\"text-align: right;\"> 29610.4</td><td style=\"text-align: right;\">127.827 </td><td style=\"text-align: right;\">0.0914733</td></tr>\n",
       "<tr><td>GBM_grid__1_AutoML_20210531_115307_model_8         </td><td style=\"text-align: right;\">                 34879.1</td><td style=\"text-align: right;\">186.759</td><td style=\"text-align: right;\"> 34879.1</td><td style=\"text-align: right;\">146.554 </td><td style=\"text-align: right;\">0.100032 </td></tr>\n",
       "<tr><td>DeepLearning_grid__2_AutoML_20210531_115307_model_1</td><td style=\"text-align: right;\">                 36414.5</td><td style=\"text-align: right;\">190.826</td><td style=\"text-align: right;\"> 36414.5</td><td style=\"text-align: right;\">141.775 </td><td style=\"text-align: right;\">0.102166 </td></tr>\n",
       "<tr><td>DeepLearning_grid__3_AutoML_20210531_115307_model_1</td><td style=\"text-align: right;\">                 38439.8</td><td style=\"text-align: right;\">196.061</td><td style=\"text-align: right;\"> 38439.8</td><td style=\"text-align: right;\">149.164 </td><td style=\"text-align: right;\">0.103889 </td></tr>\n",
       "<tr><td>DeepLearning_grid__2_AutoML_20210531_115307_model_2</td><td style=\"text-align: right;\">                 42489.8</td><td style=\"text-align: right;\">206.131</td><td style=\"text-align: right;\"> 42489.8</td><td style=\"text-align: right;\">155.229 </td><td style=\"text-align: right;\">0.108242 </td></tr>\n",
       "<tr><td>DeepLearning_grid__1_AutoML_20210531_115307_model_1</td><td style=\"text-align: right;\">                 44617.8</td><td style=\"text-align: right;\">211.229</td><td style=\"text-align: right;\"> 44617.8</td><td style=\"text-align: right;\">160.07  </td><td style=\"text-align: right;\">0.130781 </td></tr>\n",
       "<tr><td>DeepLearning_grid__2_AutoML_20210531_115307_model_3</td><td style=\"text-align: right;\">                 63505.6</td><td style=\"text-align: right;\">252.003</td><td style=\"text-align: right;\"> 63505.6</td><td style=\"text-align: right;\">203.572 </td><td style=\"text-align: right;\">0.143869 </td></tr>\n",
       "<tr><td>DeepLearning_1_AutoML_20210531_115307              </td><td style=\"text-align: right;\">                 64633.3</td><td style=\"text-align: right;\">254.231</td><td style=\"text-align: right;\"> 64633.3</td><td style=\"text-align: right;\">197.82  </td><td style=\"text-align: right;\">0.142022 </td></tr>\n",
       "<tr><td>DeepLearning_grid__1_AutoML_20210531_115307_model_2</td><td style=\"text-align: right;\">                 66885.1</td><td style=\"text-align: right;\">258.621</td><td style=\"text-align: right;\"> 66885.1</td><td style=\"text-align: right;\">197.581 </td><td style=\"text-align: right;\">0.14648  </td></tr>\n",
       "<tr><td>DeepLearning_grid__1_AutoML_20210531_115307_model_3</td><td style=\"text-align: right;\">                 72424.5</td><td style=\"text-align: right;\">269.118</td><td style=\"text-align: right;\"> 72424.5</td><td style=\"text-align: right;\">209.789 </td><td style=\"text-align: right;\">0.143614 </td></tr>\n",
       "<tr><td>GLM_1_AutoML_20210531_115307                       </td><td style=\"text-align: right;\">                155399  </td><td style=\"text-align: right;\">394.206</td><td style=\"text-align: right;\">155399  </td><td style=\"text-align: right;\">320.577 </td><td style=\"text-align: right;\">0.211118 </td></tr>\n",
       "</tbody>\n",
       "</table>"
      ]
     },
     "metadata": {},
     "output_type": "display_data"
    },
    {
     "name": "stdout",
     "output_type": "stream",
     "text": [
      "\n",
      "num :  43\n",
      "pred :  7224\n"
     ]
    },
    {
     "name": "stderr",
     "output_type": "stream",
     "text": [
      "\r",
      " 72%|█████████████████████████████████████████████████████▊                     | 43/60 [13:33:16<5:12:56, 1104.51s/it]"
     ]
    },
    {
     "name": "stdout",
     "output_type": "stream",
     "text": [
      "\n",
      "12:10:32.858: AutoML: XGBoost is not available; skipping it.\n",
      "\n"
     ]
    },
    {
     "data": {
      "text/html": [
       "<table>\n",
       "<thead>\n",
       "<tr><th>model_id                                           </th><th style=\"text-align: right;\">  mean_residual_deviance</th><th style=\"text-align: right;\">    rmse</th><th style=\"text-align: right;\">      mse</th><th style=\"text-align: right;\">     mae</th><th style=\"text-align: right;\">    rmsle</th></tr>\n",
       "</thead>\n",
       "<tbody>\n",
       "<tr><td>StackedEnsemble_AllModels_AutoML_20210531_121032   </td><td style=\"text-align: right;\">                 3931.7 </td><td style=\"text-align: right;\"> 62.7032</td><td style=\"text-align: right;\">  3931.7 </td><td style=\"text-align: right;\"> 46.4762</td><td style=\"text-align: right;\">0.0250361</td></tr>\n",
       "<tr><td>StackedEnsemble_BestOfFamily_AutoML_20210531_121032</td><td style=\"text-align: right;\">                 3955.06</td><td style=\"text-align: right;\"> 62.8893</td><td style=\"text-align: right;\">  3955.06</td><td style=\"text-align: right;\"> 46.6138</td><td style=\"text-align: right;\">0.0251051</td></tr>\n",
       "<tr><td>GBM_grid__1_AutoML_20210531_121032_model_4         </td><td style=\"text-align: right;\">                 4006.99</td><td style=\"text-align: right;\"> 63.3008</td><td style=\"text-align: right;\">  4006.99</td><td style=\"text-align: right;\"> 46.9897</td><td style=\"text-align: right;\">0.0252759</td></tr>\n",
       "<tr><td>GBM_3_AutoML_20210531_121032                       </td><td style=\"text-align: right;\">                 4132.69</td><td style=\"text-align: right;\"> 64.286 </td><td style=\"text-align: right;\">  4132.69</td><td style=\"text-align: right;\"> 47.6049</td><td style=\"text-align: right;\">0.0255769</td></tr>\n",
       "<tr><td>GBM_1_AutoML_20210531_121032                       </td><td style=\"text-align: right;\">                 4202.77</td><td style=\"text-align: right;\"> 64.8288</td><td style=\"text-align: right;\">  4202.77</td><td style=\"text-align: right;\"> 47.9061</td><td style=\"text-align: right;\">0.0256201</td></tr>\n",
       "<tr><td>GBM_2_AutoML_20210531_121032                       </td><td style=\"text-align: right;\">                 4238.65</td><td style=\"text-align: right;\"> 65.1049</td><td style=\"text-align: right;\">  4238.65</td><td style=\"text-align: right;\"> 48.6588</td><td style=\"text-align: right;\">0.0259019</td></tr>\n",
       "<tr><td>GBM_grid__1_AutoML_20210531_121032_model_2         </td><td style=\"text-align: right;\">                 4292.36</td><td style=\"text-align: right;\"> 65.5161</td><td style=\"text-align: right;\">  4292.36</td><td style=\"text-align: right;\"> 48.9658</td><td style=\"text-align: right;\">0.0261894</td></tr>\n",
       "<tr><td>GBM_grid__1_AutoML_20210531_121032_model_7         </td><td style=\"text-align: right;\">                 4646.09</td><td style=\"text-align: right;\"> 68.1622</td><td style=\"text-align: right;\">  4646.09</td><td style=\"text-align: right;\"> 51.4254</td><td style=\"text-align: right;\">0.0271439</td></tr>\n",
       "<tr><td>GBM_grid__1_AutoML_20210531_121032_model_1         </td><td style=\"text-align: right;\">                 4674.07</td><td style=\"text-align: right;\"> 68.3671</td><td style=\"text-align: right;\">  4674.07</td><td style=\"text-align: right;\"> 51.2762</td><td style=\"text-align: right;\">0.0270641</td></tr>\n",
       "<tr><td>GBM_4_AutoML_20210531_121032                       </td><td style=\"text-align: right;\">                 5106.5 </td><td style=\"text-align: right;\"> 71.4598</td><td style=\"text-align: right;\">  5106.5 </td><td style=\"text-align: right;\"> 52.3189</td><td style=\"text-align: right;\">0.0277446</td></tr>\n",
       "<tr><td>GBM_grid__1_AutoML_20210531_121032_model_5         </td><td style=\"text-align: right;\">                 5363.4 </td><td style=\"text-align: right;\"> 73.2353</td><td style=\"text-align: right;\">  5363.4 </td><td style=\"text-align: right;\"> 54.6665</td><td style=\"text-align: right;\">0.0292375</td></tr>\n",
       "<tr><td>GBM_5_AutoML_20210531_121032                       </td><td style=\"text-align: right;\">                 5850.41</td><td style=\"text-align: right;\"> 76.488 </td><td style=\"text-align: right;\">  5850.41</td><td style=\"text-align: right;\"> 57.0293</td><td style=\"text-align: right;\">0.031087 </td></tr>\n",
       "<tr><td>GBM_grid__1_AutoML_20210531_121032_model_3         </td><td style=\"text-align: right;\">                 6470.98</td><td style=\"text-align: right;\"> 80.4424</td><td style=\"text-align: right;\">  6470.98</td><td style=\"text-align: right;\"> 60.551 </td><td style=\"text-align: right;\">0.0320204</td></tr>\n",
       "<tr><td>GBM_grid__1_AutoML_20210531_121032_model_6         </td><td style=\"text-align: right;\">                 6480.37</td><td style=\"text-align: right;\"> 80.5007</td><td style=\"text-align: right;\">  6480.37</td><td style=\"text-align: right;\"> 60.6245</td><td style=\"text-align: right;\">0.0328414</td></tr>\n",
       "<tr><td>DRF_1_AutoML_20210531_121032                       </td><td style=\"text-align: right;\">                 8322.71</td><td style=\"text-align: right;\"> 91.2289</td><td style=\"text-align: right;\">  8322.71</td><td style=\"text-align: right;\"> 68.4543</td><td style=\"text-align: right;\">0.035748 </td></tr>\n",
       "<tr><td>DeepLearning_grid__3_AutoML_20210531_121032_model_2</td><td style=\"text-align: right;\">                11708.3 </td><td style=\"text-align: right;\">108.205 </td><td style=\"text-align: right;\"> 11708.3 </td><td style=\"text-align: right;\"> 80.4689</td><td style=\"text-align: right;\">0.0425926</td></tr>\n",
       "<tr><td>XRT_1_AutoML_20210531_121032                       </td><td style=\"text-align: right;\">                12920.4 </td><td style=\"text-align: right;\">113.668 </td><td style=\"text-align: right;\"> 12920.4 </td><td style=\"text-align: right;\"> 86.909 </td><td style=\"text-align: right;\">0.0440539</td></tr>\n",
       "<tr><td>GBM_grid__1_AutoML_20210531_121032_model_8         </td><td style=\"text-align: right;\">                17555.7 </td><td style=\"text-align: right;\">132.498 </td><td style=\"text-align: right;\"> 17555.7 </td><td style=\"text-align: right;\">105.961 </td><td style=\"text-align: right;\">0.0538472</td></tr>\n",
       "<tr><td>DeepLearning_grid__2_AutoML_20210531_121032_model_1</td><td style=\"text-align: right;\">                18458.5 </td><td style=\"text-align: right;\">135.862 </td><td style=\"text-align: right;\"> 18458.5 </td><td style=\"text-align: right;\">101.605 </td><td style=\"text-align: right;\">0.0549575</td></tr>\n",
       "<tr><td>DeepLearning_grid__3_AutoML_20210531_121032_model_1</td><td style=\"text-align: right;\">                19212.5 </td><td style=\"text-align: right;\">138.609 </td><td style=\"text-align: right;\"> 19212.5 </td><td style=\"text-align: right;\">106.144 </td><td style=\"text-align: right;\">0.0547734</td></tr>\n",
       "<tr><td>DeepLearning_grid__2_AutoML_20210531_121032_model_2</td><td style=\"text-align: right;\">                19401   </td><td style=\"text-align: right;\">139.288 </td><td style=\"text-align: right;\"> 19401   </td><td style=\"text-align: right;\">104.64  </td><td style=\"text-align: right;\">0.0546182</td></tr>\n",
       "<tr><td>DeepLearning_grid__1_AutoML_20210531_121032_model_1</td><td style=\"text-align: right;\">                19984   </td><td style=\"text-align: right;\">141.365 </td><td style=\"text-align: right;\"> 19984   </td><td style=\"text-align: right;\">109.66  </td><td style=\"text-align: right;\">0.0555736</td></tr>\n",
       "<tr><td>DeepLearning_1_AutoML_20210531_121032              </td><td style=\"text-align: right;\">                34059.9 </td><td style=\"text-align: right;\">184.553 </td><td style=\"text-align: right;\"> 34059.9 </td><td style=\"text-align: right;\">143.969 </td><td style=\"text-align: right;\">0.0760836</td></tr>\n",
       "<tr><td>DeepLearning_grid__1_AutoML_20210531_121032_model_2</td><td style=\"text-align: right;\">                42229.8 </td><td style=\"text-align: right;\">205.499 </td><td style=\"text-align: right;\"> 42229.8 </td><td style=\"text-align: right;\">156.218 </td><td style=\"text-align: right;\">0.0822479</td></tr>\n",
       "<tr><td>DeepLearning_grid__1_AutoML_20210531_121032_model_3</td><td style=\"text-align: right;\">                44815   </td><td style=\"text-align: right;\">211.696 </td><td style=\"text-align: right;\"> 44815   </td><td style=\"text-align: right;\">170.921 </td><td style=\"text-align: right;\">0.0843258</td></tr>\n",
       "<tr><td>DeepLearning_grid__2_AutoML_20210531_121032_model_3</td><td style=\"text-align: right;\">                67104.7 </td><td style=\"text-align: right;\">259.046 </td><td style=\"text-align: right;\"> 67104.7 </td><td style=\"text-align: right;\">210.354 </td><td style=\"text-align: right;\">0.102763 </td></tr>\n",
       "<tr><td>GLM_1_AutoML_20210531_121032                       </td><td style=\"text-align: right;\">               106430   </td><td style=\"text-align: right;\">326.236 </td><td style=\"text-align: right;\">106430   </td><td style=\"text-align: right;\">267.686 </td><td style=\"text-align: right;\">0.131617 </td></tr>\n",
       "</tbody>\n",
       "</table>"
      ]
     },
     "metadata": {},
     "output_type": "display_data"
    },
    {
     "name": "stdout",
     "output_type": "stream",
     "text": [
      "\n",
      "num :  44\n",
      "pred :  7392\n"
     ]
    },
    {
     "name": "stderr",
     "output_type": "stream",
     "text": [
      "\r",
      " 73%|██████████████████████████████████████████████████████▉                    | 44/60 [13:52:49<5:00:00, 1125.00s/it]"
     ]
    },
    {
     "name": "stdout",
     "output_type": "stream",
     "text": [
      "\n",
      "12:30:05.694: AutoML: XGBoost is not available; skipping it.\n",
      "\n"
     ]
    },
    {
     "data": {
      "text/html": [
       "<table>\n",
       "<thead>\n",
       "<tr><th>model_id                                           </th><th style=\"text-align: right;\">  mean_residual_deviance</th><th style=\"text-align: right;\">    rmse</th><th style=\"text-align: right;\">     mse</th><th style=\"text-align: right;\">     mae</th><th style=\"text-align: right;\">    rmsle</th></tr>\n",
       "</thead>\n",
       "<tbody>\n",
       "<tr><td>StackedEnsemble_AllModels_AutoML_20210531_123005   </td><td style=\"text-align: right;\">                 8051.72</td><td style=\"text-align: right;\"> 89.7314</td><td style=\"text-align: right;\"> 8051.72</td><td style=\"text-align: right;\"> 63.3735</td><td style=\"text-align: right;\">0.0730781</td></tr>\n",
       "<tr><td>StackedEnsemble_BestOfFamily_AutoML_20210531_123005</td><td style=\"text-align: right;\">                 8149.35</td><td style=\"text-align: right;\"> 90.2737</td><td style=\"text-align: right;\"> 8149.35</td><td style=\"text-align: right;\"> 63.9111</td><td style=\"text-align: right;\">0.073361 </td></tr>\n",
       "<tr><td>GBM_3_AutoML_20210531_123005                       </td><td style=\"text-align: right;\">                 8366.55</td><td style=\"text-align: right;\"> 91.4688</td><td style=\"text-align: right;\"> 8366.55</td><td style=\"text-align: right;\"> 64.8447</td><td style=\"text-align: right;\">0.0741616</td></tr>\n",
       "<tr><td>GBM_4_AutoML_20210531_123005                       </td><td style=\"text-align: right;\">                 8484.74</td><td style=\"text-align: right;\"> 92.1126</td><td style=\"text-align: right;\"> 8484.74</td><td style=\"text-align: right;\"> 64.9338</td><td style=\"text-align: right;\">0.0745613</td></tr>\n",
       "<tr><td>GBM_2_AutoML_20210531_123005                       </td><td style=\"text-align: right;\">                 8763.98</td><td style=\"text-align: right;\"> 93.6161</td><td style=\"text-align: right;\"> 8763.98</td><td style=\"text-align: right;\"> 66.3633</td><td style=\"text-align: right;\">0.0753747</td></tr>\n",
       "<tr><td>GBM_grid__1_AutoML_20210531_123005_model_4         </td><td style=\"text-align: right;\">                 9023.28</td><td style=\"text-align: right;\"> 94.991 </td><td style=\"text-align: right;\"> 9023.28</td><td style=\"text-align: right;\"> 67.2239</td><td style=\"text-align: right;\">0.0764874</td></tr>\n",
       "<tr><td>GBM_grid__1_AutoML_20210531_123005_model_2         </td><td style=\"text-align: right;\">                 9027.38</td><td style=\"text-align: right;\"> 95.0125</td><td style=\"text-align: right;\"> 9027.38</td><td style=\"text-align: right;\"> 68.0861</td><td style=\"text-align: right;\">0.0762732</td></tr>\n",
       "<tr><td>GBM_1_AutoML_20210531_123005                       </td><td style=\"text-align: right;\">                 9033.28</td><td style=\"text-align: right;\"> 95.0436</td><td style=\"text-align: right;\"> 9033.28</td><td style=\"text-align: right;\"> 66.9677</td><td style=\"text-align: right;\">0.0760519</td></tr>\n",
       "<tr><td>GBM_grid__1_AutoML_20210531_123005_model_1         </td><td style=\"text-align: right;\">                 9070.07</td><td style=\"text-align: right;\"> 95.2369</td><td style=\"text-align: right;\"> 9070.07</td><td style=\"text-align: right;\"> 67.9388</td><td style=\"text-align: right;\">0.0764217</td></tr>\n",
       "<tr><td>GBM_grid__1_AutoML_20210531_123005_model_7         </td><td style=\"text-align: right;\">                 9183.32</td><td style=\"text-align: right;\"> 95.8296</td><td style=\"text-align: right;\"> 9183.32</td><td style=\"text-align: right;\"> 68.8846</td><td style=\"text-align: right;\">0.0761893</td></tr>\n",
       "<tr><td>GBM_grid__1_AutoML_20210531_123005_model_5         </td><td style=\"text-align: right;\">                 9509.94</td><td style=\"text-align: right;\"> 97.5189</td><td style=\"text-align: right;\"> 9509.94</td><td style=\"text-align: right;\"> 70.7812</td><td style=\"text-align: right;\">0.0777638</td></tr>\n",
       "<tr><td>GBM_grid__1_AutoML_20210531_123005_model_3         </td><td style=\"text-align: right;\">                 9922.46</td><td style=\"text-align: right;\"> 99.6115</td><td style=\"text-align: right;\"> 9922.46</td><td style=\"text-align: right;\"> 72.1448</td><td style=\"text-align: right;\">0.0789665</td></tr>\n",
       "<tr><td>DRF_1_AutoML_20210531_123005                       </td><td style=\"text-align: right;\">                10845.1 </td><td style=\"text-align: right;\">104.14  </td><td style=\"text-align: right;\">10845.1 </td><td style=\"text-align: right;\"> 75.3831</td><td style=\"text-align: right;\">0.0811548</td></tr>\n",
       "<tr><td>GBM_5_AutoML_20210531_123005                       </td><td style=\"text-align: right;\">                11377.1 </td><td style=\"text-align: right;\">106.664 </td><td style=\"text-align: right;\">11377.1 </td><td style=\"text-align: right;\"> 78.3122</td><td style=\"text-align: right;\">0.0847167</td></tr>\n",
       "<tr><td>GBM_grid__1_AutoML_20210531_123005_model_6         </td><td style=\"text-align: right;\">                11772   </td><td style=\"text-align: right;\">108.499 </td><td style=\"text-align: right;\">11772   </td><td style=\"text-align: right;\"> 79.7432</td><td style=\"text-align: right;\">0.0859941</td></tr>\n",
       "<tr><td>XRT_1_AutoML_20210531_123005                       </td><td style=\"text-align: right;\">                12880.2 </td><td style=\"text-align: right;\">113.491 </td><td style=\"text-align: right;\">12880.2 </td><td style=\"text-align: right;\"> 83.831 </td><td style=\"text-align: right;\">0.0864848</td></tr>\n",
       "<tr><td>DeepLearning_grid__2_AutoML_20210531_123005_model_1</td><td style=\"text-align: right;\">                16789.7 </td><td style=\"text-align: right;\">129.575 </td><td style=\"text-align: right;\">16789.7 </td><td style=\"text-align: right;\"> 92.607 </td><td style=\"text-align: right;\">0.0990855</td></tr>\n",
       "<tr><td>DeepLearning_grid__3_AutoML_20210531_123005_model_2</td><td style=\"text-align: right;\">                16857.6 </td><td style=\"text-align: right;\">129.837 </td><td style=\"text-align: right;\">16857.6 </td><td style=\"text-align: right;\"> 92.0026</td><td style=\"text-align: right;\">0.0975171</td></tr>\n",
       "<tr><td>GBM_grid__1_AutoML_20210531_123005_model_8         </td><td style=\"text-align: right;\">                17165.1 </td><td style=\"text-align: right;\">131.016 </td><td style=\"text-align: right;\">17165.1 </td><td style=\"text-align: right;\">100.827 </td><td style=\"text-align: right;\">0.0998795</td></tr>\n",
       "<tr><td>DeepLearning_grid__1_AutoML_20210531_123005_model_1</td><td style=\"text-align: right;\">                19162.1 </td><td style=\"text-align: right;\">138.427 </td><td style=\"text-align: right;\">19162.1 </td><td style=\"text-align: right;\">106.855 </td><td style=\"text-align: right;\">0.105199 </td></tr>\n",
       "<tr><td>DeepLearning_grid__2_AutoML_20210531_123005_model_2</td><td style=\"text-align: right;\">                20674.9 </td><td style=\"text-align: right;\">143.788 </td><td style=\"text-align: right;\">20674.9 </td><td style=\"text-align: right;\">106.041 </td><td style=\"text-align: right;\">0.107486 </td></tr>\n",
       "<tr><td>DeepLearning_grid__3_AutoML_20210531_123005_model_1</td><td style=\"text-align: right;\">                20717.7 </td><td style=\"text-align: right;\">143.936 </td><td style=\"text-align: right;\">20717.7 </td><td style=\"text-align: right;\">103.387 </td><td style=\"text-align: right;\">0.108939 </td></tr>\n",
       "<tr><td>DeepLearning_grid__1_AutoML_20210531_123005_model_2</td><td style=\"text-align: right;\">                25597.2 </td><td style=\"text-align: right;\">159.991 </td><td style=\"text-align: right;\">25597.2 </td><td style=\"text-align: right;\">125.888 </td><td style=\"text-align: right;\">0.118813 </td></tr>\n",
       "<tr><td>DeepLearning_grid__2_AutoML_20210531_123005_model_3</td><td style=\"text-align: right;\">                26609.5 </td><td style=\"text-align: right;\">163.124 </td><td style=\"text-align: right;\">26609.5 </td><td style=\"text-align: right;\">128.016 </td><td style=\"text-align: right;\">0.124069 </td></tr>\n",
       "<tr><td>DeepLearning_1_AutoML_20210531_123005              </td><td style=\"text-align: right;\">                27106.8 </td><td style=\"text-align: right;\">164.641 </td><td style=\"text-align: right;\">27106.8 </td><td style=\"text-align: right;\">128.351 </td><td style=\"text-align: right;\">0.122898 </td></tr>\n",
       "<tr><td>DeepLearning_grid__1_AutoML_20210531_123005_model_3</td><td style=\"text-align: right;\">                31447.6 </td><td style=\"text-align: right;\">177.335 </td><td style=\"text-align: right;\">31447.6 </td><td style=\"text-align: right;\">137.62  </td><td style=\"text-align: right;\">0.127231 </td></tr>\n",
       "<tr><td>GLM_1_AutoML_20210531_123005                       </td><td style=\"text-align: right;\">                65844.1 </td><td style=\"text-align: right;\">256.601 </td><td style=\"text-align: right;\">65844.1 </td><td style=\"text-align: right;\">206.523 </td><td style=\"text-align: right;\">0.183563 </td></tr>\n",
       "</tbody>\n",
       "</table>"
      ]
     },
     "metadata": {},
     "output_type": "display_data"
    },
    {
     "name": "stdout",
     "output_type": "stream",
     "text": [
      "\n",
      "num :  45\n",
      "pred :  7560\n"
     ]
    },
    {
     "name": "stderr",
     "output_type": "stream",
     "text": [
      "\r",
      " 75%|████████████████████████████████████████████████████████▎                  | 45/60 [14:10:10<4:34:57, 1099.83s/it]"
     ]
    },
    {
     "name": "stdout",
     "output_type": "stream",
     "text": [
      "\n",
      "12:47:26.767: AutoML: XGBoost is not available; skipping it.\n",
      "\n"
     ]
    },
    {
     "data": {
      "text/html": [
       "<table>\n",
       "<thead>\n",
       "<tr><th>model_id                                           </th><th style=\"text-align: right;\">  mean_residual_deviance</th><th style=\"text-align: right;\">   rmse</th><th style=\"text-align: right;\">     mse</th><th style=\"text-align: right;\">     mae</th><th style=\"text-align: right;\">      rmsle</th></tr>\n",
       "</thead>\n",
       "<tbody>\n",
       "<tr><td>StackedEnsemble_AllModels_AutoML_20210531_124726   </td><td style=\"text-align: right;\">                 13893.5</td><td style=\"text-align: right;\">117.871</td><td style=\"text-align: right;\"> 13893.5</td><td style=\"text-align: right;\"> 73.1563</td><td style=\"text-align: right;\">  0.0705131</td></tr>\n",
       "<tr><td>StackedEnsemble_BestOfFamily_AutoML_20210531_124726</td><td style=\"text-align: right;\">                 14135.6</td><td style=\"text-align: right;\">118.893</td><td style=\"text-align: right;\"> 14135.6</td><td style=\"text-align: right;\"> 74.5613</td><td style=\"text-align: right;\">  0.0715176</td></tr>\n",
       "<tr><td>GBM_3_AutoML_20210531_124726                       </td><td style=\"text-align: right;\">                 14594.2</td><td style=\"text-align: right;\">120.806</td><td style=\"text-align: right;\"> 14594.2</td><td style=\"text-align: right;\"> 77.3066</td><td style=\"text-align: right;\">  0.0727394</td></tr>\n",
       "<tr><td>GBM_1_AutoML_20210531_124726                       </td><td style=\"text-align: right;\">                 14852.6</td><td style=\"text-align: right;\">121.871</td><td style=\"text-align: right;\"> 14852.6</td><td style=\"text-align: right;\"> 73.8437</td><td style=\"text-align: right;\">  0.071226 </td></tr>\n",
       "<tr><td>GBM_grid__1_AutoML_20210531_124726_model_4         </td><td style=\"text-align: right;\">                 14873.2</td><td style=\"text-align: right;\">121.956</td><td style=\"text-align: right;\"> 14873.2</td><td style=\"text-align: right;\"> 74.2549</td><td style=\"text-align: right;\">  0.0748264</td></tr>\n",
       "<tr><td>GBM_grid__1_AutoML_20210531_124726_model_7         </td><td style=\"text-align: right;\">                 15330.8</td><td style=\"text-align: right;\">123.818</td><td style=\"text-align: right;\"> 15330.8</td><td style=\"text-align: right;\"> 80.6459</td><td style=\"text-align: right;\">  0.0746049</td></tr>\n",
       "<tr><td>GBM_4_AutoML_20210531_124726                       </td><td style=\"text-align: right;\">                 16521  </td><td style=\"text-align: right;\">128.534</td><td style=\"text-align: right;\"> 16521  </td><td style=\"text-align: right;\"> 85.4218</td><td style=\"text-align: right;\">  0.0797767</td></tr>\n",
       "<tr><td>GBM_grid__1_AutoML_20210531_124726_model_2         </td><td style=\"text-align: right;\">                 17096.9</td><td style=\"text-align: right;\">130.755</td><td style=\"text-align: right;\"> 17096.9</td><td style=\"text-align: right;\"> 85.0439</td><td style=\"text-align: right;\">  0.0818375</td></tr>\n",
       "<tr><td>GBM_grid__1_AutoML_20210531_124726_model_5         </td><td style=\"text-align: right;\">                 18842.6</td><td style=\"text-align: right;\">137.268</td><td style=\"text-align: right;\"> 18842.6</td><td style=\"text-align: right;\"> 94.7582</td><td style=\"text-align: right;\">  0.0852133</td></tr>\n",
       "<tr><td>GBM_2_AutoML_20210531_124726                       </td><td style=\"text-align: right;\">                 18963.2</td><td style=\"text-align: right;\">137.707</td><td style=\"text-align: right;\"> 18963.2</td><td style=\"text-align: right;\"> 92.2082</td><td style=\"text-align: right;\">  0.0823898</td></tr>\n",
       "<tr><td>GBM_grid__1_AutoML_20210531_124726_model_1         </td><td style=\"text-align: right;\">                 19645.5</td><td style=\"text-align: right;\">140.162</td><td style=\"text-align: right;\"> 19645.5</td><td style=\"text-align: right;\"> 98.2312</td><td style=\"text-align: right;\">  0.0889296</td></tr>\n",
       "<tr><td>GBM_5_AutoML_20210531_124726                       </td><td style=\"text-align: right;\">                 19991.1</td><td style=\"text-align: right;\">141.39 </td><td style=\"text-align: right;\"> 19991.1</td><td style=\"text-align: right;\"> 95.7542</td><td style=\"text-align: right;\">  0.0916819</td></tr>\n",
       "<tr><td>GBM_grid__1_AutoML_20210531_124726_model_3         </td><td style=\"text-align: right;\">                 20382.9</td><td style=\"text-align: right;\">142.769</td><td style=\"text-align: right;\"> 20382.9</td><td style=\"text-align: right;\"> 99.8562</td><td style=\"text-align: right;\">  0.0880411</td></tr>\n",
       "<tr><td>DRF_1_AutoML_20210531_124726                       </td><td style=\"text-align: right;\">                 20700.7</td><td style=\"text-align: right;\">143.877</td><td style=\"text-align: right;\"> 20700.7</td><td style=\"text-align: right;\"> 96.4018</td><td style=\"text-align: right;\">  0.0885473</td></tr>\n",
       "<tr><td>GBM_grid__1_AutoML_20210531_124726_model_6         </td><td style=\"text-align: right;\">                 21275.8</td><td style=\"text-align: right;\">145.862</td><td style=\"text-align: right;\"> 21275.8</td><td style=\"text-align: right;\"> 98.9347</td><td style=\"text-align: right;\">  0.097448 </td></tr>\n",
       "<tr><td>DeepLearning_grid__3_AutoML_20210531_124726_model_2</td><td style=\"text-align: right;\">                 30118.2</td><td style=\"text-align: right;\">173.546</td><td style=\"text-align: right;\"> 30118.2</td><td style=\"text-align: right;\">117.003 </td><td style=\"text-align: right;\">  0.101401 </td></tr>\n",
       "<tr><td>XRT_1_AutoML_20210531_124726                       </td><td style=\"text-align: right;\">                 32477.8</td><td style=\"text-align: right;\">180.216</td><td style=\"text-align: right;\"> 32477.8</td><td style=\"text-align: right;\">133.757 </td><td style=\"text-align: right;\">  0.1098   </td></tr>\n",
       "<tr><td>DeepLearning_grid__2_AutoML_20210531_124726_model_1</td><td style=\"text-align: right;\">                 47165.3</td><td style=\"text-align: right;\">217.176</td><td style=\"text-align: right;\"> 47165.3</td><td style=\"text-align: right;\">154.089 </td><td style=\"text-align: right;\">  0.145461 </td></tr>\n",
       "<tr><td>GBM_grid__1_AutoML_20210531_124726_model_8         </td><td style=\"text-align: right;\">                 47616.2</td><td style=\"text-align: right;\">218.211</td><td style=\"text-align: right;\"> 47616.2</td><td style=\"text-align: right;\">168.905 </td><td style=\"text-align: right;\">  0.156819 </td></tr>\n",
       "<tr><td>DeepLearning_grid__2_AutoML_20210531_124726_model_2</td><td style=\"text-align: right;\">                 59042.1</td><td style=\"text-align: right;\">242.986</td><td style=\"text-align: right;\"> 59042.1</td><td style=\"text-align: right;\">172.523 </td><td style=\"text-align: right;\">  0.138168 </td></tr>\n",
       "<tr><td>DeepLearning_grid__1_AutoML_20210531_124726_model_1</td><td style=\"text-align: right;\">                 63322.1</td><td style=\"text-align: right;\">251.639</td><td style=\"text-align: right;\"> 63322.1</td><td style=\"text-align: right;\">192.352 </td><td style=\"text-align: right;\">  0.196198 </td></tr>\n",
       "<tr><td>DeepLearning_grid__3_AutoML_20210531_124726_model_1</td><td style=\"text-align: right;\">                 67852.8</td><td style=\"text-align: right;\">260.486</td><td style=\"text-align: right;\"> 67852.8</td><td style=\"text-align: right;\">187.494 </td><td style=\"text-align: right;\">  0.151553 </td></tr>\n",
       "<tr><td>DeepLearning_grid__1_AutoML_20210531_124726_model_2</td><td style=\"text-align: right;\">                104616  </td><td style=\"text-align: right;\">323.444</td><td style=\"text-align: right;\">104616  </td><td style=\"text-align: right;\">249.917 </td><td style=\"text-align: right;\">nan        </td></tr>\n",
       "<tr><td>DeepLearning_1_AutoML_20210531_124726              </td><td style=\"text-align: right;\">                112294  </td><td style=\"text-align: right;\">335.102</td><td style=\"text-align: right;\">112294  </td><td style=\"text-align: right;\">259.972 </td><td style=\"text-align: right;\">  0.231798 </td></tr>\n",
       "<tr><td>DeepLearning_grid__2_AutoML_20210531_124726_model_3</td><td style=\"text-align: right;\">                148856  </td><td style=\"text-align: right;\">385.818</td><td style=\"text-align: right;\">148856  </td><td style=\"text-align: right;\">322.559 </td><td style=\"text-align: right;\">  0.274411 </td></tr>\n",
       "<tr><td>DeepLearning_grid__1_AutoML_20210531_124726_model_3</td><td style=\"text-align: right;\">                168654  </td><td style=\"text-align: right;\">410.675</td><td style=\"text-align: right;\">168654  </td><td style=\"text-align: right;\">344.044 </td><td style=\"text-align: right;\">  0.253649 </td></tr>\n",
       "<tr><td>GLM_1_AutoML_20210531_124726                       </td><td style=\"text-align: right;\">                751082  </td><td style=\"text-align: right;\">866.65 </td><td style=\"text-align: right;\">751082  </td><td style=\"text-align: right;\">777.288 </td><td style=\"text-align: right;\">  0.517162 </td></tr>\n",
       "</tbody>\n",
       "</table>"
      ]
     },
     "metadata": {},
     "output_type": "display_data"
    },
    {
     "name": "stdout",
     "output_type": "stream",
     "text": [
      "\n",
      "num :  46\n",
      "pred :  7728\n"
     ]
    },
    {
     "name": "stderr",
     "output_type": "stream",
     "text": [
      "\r",
      " 77%|█████████████████████████████████████████████████████████▌                 | 46/60 [14:29:54<4:22:32, 1125.15s/it]"
     ]
    },
    {
     "name": "stdout",
     "output_type": "stream",
     "text": [
      "\n",
      "13:07:10.991: AutoML: XGBoost is not available; skipping it.\n",
      "\n"
     ]
    },
    {
     "data": {
      "text/html": [
       "<table>\n",
       "<thead>\n",
       "<tr><th>model_id                                           </th><th style=\"text-align: right;\">  mean_residual_deviance</th><th style=\"text-align: right;\">    rmse</th><th style=\"text-align: right;\">      mse</th><th style=\"text-align: right;\">     mae</th><th style=\"text-align: right;\">    rmsle</th></tr>\n",
       "</thead>\n",
       "<tbody>\n",
       "<tr><td>StackedEnsemble_AllModels_AutoML_20210531_130710   </td><td style=\"text-align: right;\">                 9120.77</td><td style=\"text-align: right;\"> 95.5027</td><td style=\"text-align: right;\">  9120.77</td><td style=\"text-align: right;\"> 54.3692</td><td style=\"text-align: right;\">0.0415888</td></tr>\n",
       "<tr><td>StackedEnsemble_BestOfFamily_AutoML_20210531_130710</td><td style=\"text-align: right;\">                 9425.23</td><td style=\"text-align: right;\"> 97.0836</td><td style=\"text-align: right;\">  9425.23</td><td style=\"text-align: right;\"> 56.07  </td><td style=\"text-align: right;\">0.0423151</td></tr>\n",
       "<tr><td>GBM_3_AutoML_20210531_130710                       </td><td style=\"text-align: right;\">                 9631.74</td><td style=\"text-align: right;\"> 98.1414</td><td style=\"text-align: right;\">  9631.74</td><td style=\"text-align: right;\"> 57.4994</td><td style=\"text-align: right;\">0.0427163</td></tr>\n",
       "<tr><td>GBM_grid__1_AutoML_20210531_130710_model_4         </td><td style=\"text-align: right;\">                 9723.03</td><td style=\"text-align: right;\"> 98.6054</td><td style=\"text-align: right;\">  9723.03</td><td style=\"text-align: right;\"> 54.4052</td><td style=\"text-align: right;\">0.0437906</td></tr>\n",
       "<tr><td>GBM_2_AutoML_20210531_130710                       </td><td style=\"text-align: right;\">                11057.3 </td><td style=\"text-align: right;\">105.154 </td><td style=\"text-align: right;\"> 11057.3 </td><td style=\"text-align: right;\"> 61.5991</td><td style=\"text-align: right;\">0.0455945</td></tr>\n",
       "<tr><td>GBM_grid__1_AutoML_20210531_130710_model_1         </td><td style=\"text-align: right;\">                11787.7 </td><td style=\"text-align: right;\">108.571 </td><td style=\"text-align: right;\"> 11787.7 </td><td style=\"text-align: right;\"> 67.1348</td><td style=\"text-align: right;\">0.0485154</td></tr>\n",
       "<tr><td>GBM_grid__1_AutoML_20210531_130710_model_2         </td><td style=\"text-align: right;\">                11969   </td><td style=\"text-align: right;\">109.403 </td><td style=\"text-align: right;\"> 11969   </td><td style=\"text-align: right;\"> 66.1229</td><td style=\"text-align: right;\">0.0484893</td></tr>\n",
       "<tr><td>GBM_1_AutoML_20210531_130710                       </td><td style=\"text-align: right;\">                12746.4 </td><td style=\"text-align: right;\">112.9   </td><td style=\"text-align: right;\"> 12746.4 </td><td style=\"text-align: right;\"> 62.7825</td><td style=\"text-align: right;\">0.0484635</td></tr>\n",
       "<tr><td>GBM_grid__1_AutoML_20210531_130710_model_7         </td><td style=\"text-align: right;\">                12749.2 </td><td style=\"text-align: right;\">112.912 </td><td style=\"text-align: right;\"> 12749.2 </td><td style=\"text-align: right;\"> 69.533 </td><td style=\"text-align: right;\">0.0494496</td></tr>\n",
       "<tr><td>GBM_4_AutoML_20210531_130710                       </td><td style=\"text-align: right;\">                13123.6 </td><td style=\"text-align: right;\">114.558 </td><td style=\"text-align: right;\"> 13123.6 </td><td style=\"text-align: right;\"> 68.1788</td><td style=\"text-align: right;\">0.0491481</td></tr>\n",
       "<tr><td>GBM_grid__1_AutoML_20210531_130710_model_5         </td><td style=\"text-align: right;\">                14438.2 </td><td style=\"text-align: right;\">120.159 </td><td style=\"text-align: right;\"> 14438.2 </td><td style=\"text-align: right;\"> 76.5656</td><td style=\"text-align: right;\">0.0538823</td></tr>\n",
       "<tr><td>GBM_grid__1_AutoML_20210531_130710_model_6         </td><td style=\"text-align: right;\">                14478.5 </td><td style=\"text-align: right;\">120.327 </td><td style=\"text-align: right;\"> 14478.5 </td><td style=\"text-align: right;\"> 70.6489</td><td style=\"text-align: right;\">0.0537571</td></tr>\n",
       "<tr><td>GBM_5_AutoML_20210531_130710                       </td><td style=\"text-align: right;\">                14711.5 </td><td style=\"text-align: right;\">121.291 </td><td style=\"text-align: right;\"> 14711.5 </td><td style=\"text-align: right;\"> 73.2375</td><td style=\"text-align: right;\">0.0550265</td></tr>\n",
       "<tr><td>DRF_1_AutoML_20210531_130710                       </td><td style=\"text-align: right;\">                15940.7 </td><td style=\"text-align: right;\">126.256 </td><td style=\"text-align: right;\"> 15940.7 </td><td style=\"text-align: right;\"> 81.8678</td><td style=\"text-align: right;\">0.0571277</td></tr>\n",
       "<tr><td>GBM_grid__1_AutoML_20210531_130710_model_3         </td><td style=\"text-align: right;\">                19158.5 </td><td style=\"text-align: right;\">138.414 </td><td style=\"text-align: right;\"> 19158.5 </td><td style=\"text-align: right;\"> 94.333 </td><td style=\"text-align: right;\">0.0634362</td></tr>\n",
       "<tr><td>DeepLearning_grid__3_AutoML_20210531_130710_model_2</td><td style=\"text-align: right;\">                26382.5 </td><td style=\"text-align: right;\">162.427 </td><td style=\"text-align: right;\"> 26382.5 </td><td style=\"text-align: right;\">100.329 </td><td style=\"text-align: right;\">0.0709153</td></tr>\n",
       "<tr><td>XRT_1_AutoML_20210531_130710                       </td><td style=\"text-align: right;\">                29912.3 </td><td style=\"text-align: right;\">172.952 </td><td style=\"text-align: right;\"> 29912.3 </td><td style=\"text-align: right;\">118.378 </td><td style=\"text-align: right;\">0.0750682</td></tr>\n",
       "<tr><td>DeepLearning_grid__2_AutoML_20210531_130710_model_2</td><td style=\"text-align: right;\">                37658.5 </td><td style=\"text-align: right;\">194.058 </td><td style=\"text-align: right;\"> 37658.5 </td><td style=\"text-align: right;\">137.495 </td><td style=\"text-align: right;\">0.089823 </td></tr>\n",
       "<tr><td>DeepLearning_grid__2_AutoML_20210531_130710_model_1</td><td style=\"text-align: right;\">                43678   </td><td style=\"text-align: right;\">208.993 </td><td style=\"text-align: right;\"> 43678   </td><td style=\"text-align: right;\">138.648 </td><td style=\"text-align: right;\">0.0928177</td></tr>\n",
       "<tr><td>DeepLearning_grid__3_AutoML_20210531_130710_model_1</td><td style=\"text-align: right;\">                55955.8 </td><td style=\"text-align: right;\">236.55  </td><td style=\"text-align: right;\"> 55955.8 </td><td style=\"text-align: right;\">160.411 </td><td style=\"text-align: right;\">0.102594 </td></tr>\n",
       "<tr><td>DeepLearning_grid__1_AutoML_20210531_130710_model_1</td><td style=\"text-align: right;\">                56516.6 </td><td style=\"text-align: right;\">237.732 </td><td style=\"text-align: right;\"> 56516.6 </td><td style=\"text-align: right;\">174.252 </td><td style=\"text-align: right;\">0.115452 </td></tr>\n",
       "<tr><td>GBM_grid__1_AutoML_20210531_130710_model_8         </td><td style=\"text-align: right;\">                62045.4 </td><td style=\"text-align: right;\">249.089 </td><td style=\"text-align: right;\"> 62045.4 </td><td style=\"text-align: right;\">202.729 </td><td style=\"text-align: right;\">0.123283 </td></tr>\n",
       "<tr><td>DeepLearning_grid__2_AutoML_20210531_130710_model_3</td><td style=\"text-align: right;\">                85412   </td><td style=\"text-align: right;\">292.253 </td><td style=\"text-align: right;\"> 85412   </td><td style=\"text-align: right;\">244.872 </td><td style=\"text-align: right;\">0.142093 </td></tr>\n",
       "<tr><td>DeepLearning_grid__1_AutoML_20210531_130710_model_2</td><td style=\"text-align: right;\">               112907   </td><td style=\"text-align: right;\">336.016 </td><td style=\"text-align: right;\">112907   </td><td style=\"text-align: right;\">241.648 </td><td style=\"text-align: right;\">0.151368 </td></tr>\n",
       "<tr><td>DeepLearning_grid__1_AutoML_20210531_130710_model_3</td><td style=\"text-align: right;\">               159126   </td><td style=\"text-align: right;\">398.906 </td><td style=\"text-align: right;\">159126   </td><td style=\"text-align: right;\">324.568 </td><td style=\"text-align: right;\">0.185965 </td></tr>\n",
       "<tr><td>DeepLearning_1_AutoML_20210531_130710              </td><td style=\"text-align: right;\">               180062   </td><td style=\"text-align: right;\">424.337 </td><td style=\"text-align: right;\">180062   </td><td style=\"text-align: right;\">335.563 </td><td style=\"text-align: right;\">0.209365 </td></tr>\n",
       "<tr><td>GLM_1_AutoML_20210531_130710                       </td><td style=\"text-align: right;\">               386652   </td><td style=\"text-align: right;\">621.814 </td><td style=\"text-align: right;\">386652   </td><td style=\"text-align: right;\">507.597 </td><td style=\"text-align: right;\">0.278883 </td></tr>\n",
       "</tbody>\n",
       "</table>"
      ]
     },
     "metadata": {},
     "output_type": "display_data"
    },
    {
     "name": "stdout",
     "output_type": "stream",
     "text": [
      "\n",
      "num :  47\n",
      "pred :  7896\n"
     ]
    },
    {
     "name": "stderr",
     "output_type": "stream",
     "text": [
      "\r",
      " 78%|██████████████████████████████████████████████████████████▊                | 47/60 [14:52:22<4:18:13, 1191.83s/it]"
     ]
    },
    {
     "name": "stdout",
     "output_type": "stream",
     "text": [
      "\n",
      "13:29:38.508: AutoML: XGBoost is not available; skipping it.\n",
      "\n"
     ]
    },
    {
     "data": {
      "text/html": [
       "<table>\n",
       "<thead>\n",
       "<tr><th>model_id                                           </th><th style=\"text-align: right;\">  mean_residual_deviance</th><th style=\"text-align: right;\">   rmse</th><th style=\"text-align: right;\">     mse</th><th style=\"text-align: right;\">     mae</th><th style=\"text-align: right;\">     rmsle</th></tr>\n",
       "</thead>\n",
       "<tbody>\n",
       "<tr><td>StackedEnsemble_AllModels_AutoML_20210531_132938   </td><td style=\"text-align: right;\">                 22163.2</td><td style=\"text-align: right;\">148.873</td><td style=\"text-align: right;\"> 22163.2</td><td style=\"text-align: right;\"> 78.6481</td><td style=\"text-align: right;\">  0.121566</td></tr>\n",
       "<tr><td>StackedEnsemble_BestOfFamily_AutoML_20210531_132938</td><td style=\"text-align: right;\">                 22693.1</td><td style=\"text-align: right;\">150.642</td><td style=\"text-align: right;\"> 22693.1</td><td style=\"text-align: right;\"> 80.4999</td><td style=\"text-align: right;\">  0.123371</td></tr>\n",
       "<tr><td>GBM_4_AutoML_20210531_132938                       </td><td style=\"text-align: right;\">                 23274.8</td><td style=\"text-align: right;\">152.561</td><td style=\"text-align: right;\"> 23274.8</td><td style=\"text-align: right;\"> 82.9534</td><td style=\"text-align: right;\">  0.126209</td></tr>\n",
       "<tr><td>GBM_3_AutoML_20210531_132938                       </td><td style=\"text-align: right;\">                 24021.4</td><td style=\"text-align: right;\">154.988</td><td style=\"text-align: right;\"> 24021.4</td><td style=\"text-align: right;\"> 82.1742</td><td style=\"text-align: right;\">  0.124634</td></tr>\n",
       "<tr><td>GBM_2_AutoML_20210531_132938                       </td><td style=\"text-align: right;\">                 25888.6</td><td style=\"text-align: right;\">160.899</td><td style=\"text-align: right;\"> 25888.6</td><td style=\"text-align: right;\"> 93.2121</td><td style=\"text-align: right;\">  0.135516</td></tr>\n",
       "<tr><td>GBM_grid__1_AutoML_20210531_132938_model_2         </td><td style=\"text-align: right;\">                 25893.6</td><td style=\"text-align: right;\">160.915</td><td style=\"text-align: right;\"> 25893.6</td><td style=\"text-align: right;\"> 86.2331</td><td style=\"text-align: right;\">  0.130273</td></tr>\n",
       "<tr><td>GBM_grid__1_AutoML_20210531_132938_model_3         </td><td style=\"text-align: right;\">                 26225.8</td><td style=\"text-align: right;\">161.944</td><td style=\"text-align: right;\"> 26225.8</td><td style=\"text-align: right;\"> 93.5261</td><td style=\"text-align: right;\">  0.138731</td></tr>\n",
       "<tr><td>GBM_1_AutoML_20210531_132938                       </td><td style=\"text-align: right;\">                 26311.5</td><td style=\"text-align: right;\">162.208</td><td style=\"text-align: right;\"> 26311.5</td><td style=\"text-align: right;\"> 79.9087</td><td style=\"text-align: right;\">  0.129474</td></tr>\n",
       "<tr><td>GBM_grid__1_AutoML_20210531_132938_model_5         </td><td style=\"text-align: right;\">                 26629.2</td><td style=\"text-align: right;\">163.184</td><td style=\"text-align: right;\"> 26629.2</td><td style=\"text-align: right;\"> 96.282 </td><td style=\"text-align: right;\">  0.142225</td></tr>\n",
       "<tr><td>GBM_grid__1_AutoML_20210531_132938_model_7         </td><td style=\"text-align: right;\">                 27162.1</td><td style=\"text-align: right;\">164.809</td><td style=\"text-align: right;\"> 27162.1</td><td style=\"text-align: right;\"> 90.4473</td><td style=\"text-align: right;\">  0.133837</td></tr>\n",
       "<tr><td>GBM_grid__1_AutoML_20210531_132938_model_4         </td><td style=\"text-align: right;\">                 28573.3</td><td style=\"text-align: right;\">169.036</td><td style=\"text-align: right;\"> 28573.3</td><td style=\"text-align: right;\"> 86.2001</td><td style=\"text-align: right;\">  0.136485</td></tr>\n",
       "<tr><td>GBM_grid__1_AutoML_20210531_132938_model_1         </td><td style=\"text-align: right;\">                 29163.4</td><td style=\"text-align: right;\">170.773</td><td style=\"text-align: right;\"> 29163.4</td><td style=\"text-align: right;\"> 98.9756</td><td style=\"text-align: right;\">  0.145568</td></tr>\n",
       "<tr><td>DRF_1_AutoML_20210531_132938                       </td><td style=\"text-align: right;\">                 30546.3</td><td style=\"text-align: right;\">174.775</td><td style=\"text-align: right;\"> 30546.3</td><td style=\"text-align: right;\"> 97.9916</td><td style=\"text-align: right;\">  0.13655 </td></tr>\n",
       "<tr><td>GBM_grid__1_AutoML_20210531_132938_model_6         </td><td style=\"text-align: right;\">                 42220.7</td><td style=\"text-align: right;\">205.477</td><td style=\"text-align: right;\"> 42220.7</td><td style=\"text-align: right;\">115.052 </td><td style=\"text-align: right;\">  0.161367</td></tr>\n",
       "<tr><td>GBM_5_AutoML_20210531_132938                       </td><td style=\"text-align: right;\">                 42318.9</td><td style=\"text-align: right;\">205.716</td><td style=\"text-align: right;\"> 42318.9</td><td style=\"text-align: right;\">117.699 </td><td style=\"text-align: right;\">  0.1774  </td></tr>\n",
       "<tr><td>XRT_1_AutoML_20210531_132938                       </td><td style=\"text-align: right;\">                 45367.4</td><td style=\"text-align: right;\">212.996</td><td style=\"text-align: right;\"> 45367.4</td><td style=\"text-align: right;\">129.688 </td><td style=\"text-align: right;\">  0.177748</td></tr>\n",
       "<tr><td>DeepLearning_grid__3_AutoML_20210531_132938_model_2</td><td style=\"text-align: right;\">                 56632.8</td><td style=\"text-align: right;\">237.976</td><td style=\"text-align: right;\"> 56632.8</td><td style=\"text-align: right;\">144.654 </td><td style=\"text-align: right;\">  0.198714</td></tr>\n",
       "<tr><td>DeepLearning_grid__2_AutoML_20210531_132938_model_1</td><td style=\"text-align: right;\">                 68019.3</td><td style=\"text-align: right;\">260.805</td><td style=\"text-align: right;\"> 68019.3</td><td style=\"text-align: right;\">177.184 </td><td style=\"text-align: right;\">nan       </td></tr>\n",
       "<tr><td>GBM_grid__1_AutoML_20210531_132938_model_8         </td><td style=\"text-align: right;\">                 79739.3</td><td style=\"text-align: right;\">282.382</td><td style=\"text-align: right;\"> 79739.3</td><td style=\"text-align: right;\">201.019 </td><td style=\"text-align: right;\">  0.340942</td></tr>\n",
       "<tr><td>DeepLearning_grid__1_AutoML_20210531_132938_model_1</td><td style=\"text-align: right;\">                 94698.2</td><td style=\"text-align: right;\">307.731</td><td style=\"text-align: right;\"> 94698.2</td><td style=\"text-align: right;\">223.99  </td><td style=\"text-align: right;\">nan       </td></tr>\n",
       "<tr><td>DeepLearning_grid__2_AutoML_20210531_132938_model_2</td><td style=\"text-align: right;\">                106376  </td><td style=\"text-align: right;\">326.153</td><td style=\"text-align: right;\">106376  </td><td style=\"text-align: right;\">217.146 </td><td style=\"text-align: right;\">  0.278526</td></tr>\n",
       "<tr><td>DeepLearning_grid__3_AutoML_20210531_132938_model_1</td><td style=\"text-align: right;\">                106615  </td><td style=\"text-align: right;\">326.519</td><td style=\"text-align: right;\">106615  </td><td style=\"text-align: right;\">226.071 </td><td style=\"text-align: right;\">nan       </td></tr>\n",
       "<tr><td>DeepLearning_grid__2_AutoML_20210531_132938_model_3</td><td style=\"text-align: right;\">                124610  </td><td style=\"text-align: right;\">353.001</td><td style=\"text-align: right;\">124610  </td><td style=\"text-align: right;\">280.625 </td><td style=\"text-align: right;\">  0.363929</td></tr>\n",
       "<tr><td>DeepLearning_1_AutoML_20210531_132938              </td><td style=\"text-align: right;\">                139983  </td><td style=\"text-align: right;\">374.143</td><td style=\"text-align: right;\">139983  </td><td style=\"text-align: right;\">281.146 </td><td style=\"text-align: right;\">nan       </td></tr>\n",
       "<tr><td>DeepLearning_grid__1_AutoML_20210531_132938_model_2</td><td style=\"text-align: right;\">                187170  </td><td style=\"text-align: right;\">432.631</td><td style=\"text-align: right;\">187170  </td><td style=\"text-align: right;\">307.919 </td><td style=\"text-align: right;\">nan       </td></tr>\n",
       "<tr><td>DeepLearning_grid__1_AutoML_20210531_132938_model_3</td><td style=\"text-align: right;\">                256163  </td><td style=\"text-align: right;\">506.126</td><td style=\"text-align: right;\">256163  </td><td style=\"text-align: right;\">370.798 </td><td style=\"text-align: right;\">nan       </td></tr>\n",
       "<tr><td>GLM_1_AutoML_20210531_132938                       </td><td style=\"text-align: right;\">                692239  </td><td style=\"text-align: right;\">832.009</td><td style=\"text-align: right;\">692239  </td><td style=\"text-align: right;\">725.261 </td><td style=\"text-align: right;\">  0.729776</td></tr>\n",
       "</tbody>\n",
       "</table>"
      ]
     },
     "metadata": {},
     "output_type": "display_data"
    },
    {
     "name": "stdout",
     "output_type": "stream",
     "text": [
      "\n",
      "num :  48\n",
      "pred :  8064\n"
     ]
    },
    {
     "name": "stderr",
     "output_type": "stream",
     "text": [
      "\r",
      " 80%|████████████████████████████████████████████████████████████               | 48/60 [15:11:33<3:55:57, 1179.77s/it]"
     ]
    },
    {
     "name": "stdout",
     "output_type": "stream",
     "text": [
      "\n",
      "13:48:50.22: AutoML: XGBoost is not available; skipping it.\n",
      "\n"
     ]
    },
    {
     "data": {
      "text/html": [
       "<table>\n",
       "<thead>\n",
       "<tr><th>model_id                                           </th><th style=\"text-align: right;\">  mean_residual_deviance</th><th style=\"text-align: right;\">    rmse</th><th style=\"text-align: right;\">     mse</th><th style=\"text-align: right;\">     mae</th><th style=\"text-align: right;\">    rmsle</th></tr>\n",
       "</thead>\n",
       "<tbody>\n",
       "<tr><td>StackedEnsemble_AllModels_AutoML_20210531_134850   </td><td style=\"text-align: right;\">                 2795.89</td><td style=\"text-align: right;\"> 52.8762</td><td style=\"text-align: right;\"> 2795.89</td><td style=\"text-align: right;\"> 34.3691</td><td style=\"text-align: right;\">0.0406497</td></tr>\n",
       "<tr><td>StackedEnsemble_BestOfFamily_AutoML_20210531_134850</td><td style=\"text-align: right;\">                 2801.29</td><td style=\"text-align: right;\"> 52.9272</td><td style=\"text-align: right;\"> 2801.29</td><td style=\"text-align: right;\"> 34.4339</td><td style=\"text-align: right;\">0.0407229</td></tr>\n",
       "<tr><td>GBM_3_AutoML_20210531_134850                       </td><td style=\"text-align: right;\">                 2835.58</td><td style=\"text-align: right;\"> 53.2502</td><td style=\"text-align: right;\"> 2835.58</td><td style=\"text-align: right;\"> 34.8226</td><td style=\"text-align: right;\">0.0410274</td></tr>\n",
       "<tr><td>GBM_4_AutoML_20210531_134850                       </td><td style=\"text-align: right;\">                 3102.46</td><td style=\"text-align: right;\"> 55.6997</td><td style=\"text-align: right;\"> 3102.46</td><td style=\"text-align: right;\"> 37.4939</td><td style=\"text-align: right;\">0.0429877</td></tr>\n",
       "<tr><td>GBM_1_AutoML_20210531_134850                       </td><td style=\"text-align: right;\">                 3117.98</td><td style=\"text-align: right;\"> 55.8389</td><td style=\"text-align: right;\"> 3117.98</td><td style=\"text-align: right;\"> 36.2005</td><td style=\"text-align: right;\">0.0423768</td></tr>\n",
       "<tr><td>GBM_grid__1_AutoML_20210531_134850_model_2         </td><td style=\"text-align: right;\">                 3125.86</td><td style=\"text-align: right;\"> 55.9094</td><td style=\"text-align: right;\"> 3125.86</td><td style=\"text-align: right;\"> 37.1823</td><td style=\"text-align: right;\">0.0429793</td></tr>\n",
       "<tr><td>GBM_grid__1_AutoML_20210531_134850_model_3         </td><td style=\"text-align: right;\">                 3209.82</td><td style=\"text-align: right;\"> 56.6553</td><td style=\"text-align: right;\"> 3209.82</td><td style=\"text-align: right;\"> 38.3607</td><td style=\"text-align: right;\">0.0440386</td></tr>\n",
       "<tr><td>GBM_grid__1_AutoML_20210531_134850_model_7         </td><td style=\"text-align: right;\">                 3298.24</td><td style=\"text-align: right;\"> 57.4303</td><td style=\"text-align: right;\"> 3298.24</td><td style=\"text-align: right;\"> 37.9443</td><td style=\"text-align: right;\">0.0440845</td></tr>\n",
       "<tr><td>GBM_grid__1_AutoML_20210531_134850_model_4         </td><td style=\"text-align: right;\">                 3328.58</td><td style=\"text-align: right;\"> 57.6939</td><td style=\"text-align: right;\"> 3328.58</td><td style=\"text-align: right;\"> 38.0962</td><td style=\"text-align: right;\">0.0436414</td></tr>\n",
       "<tr><td>GBM_grid__1_AutoML_20210531_134850_model_1         </td><td style=\"text-align: right;\">                 3437.4 </td><td style=\"text-align: right;\"> 58.6294</td><td style=\"text-align: right;\"> 3437.4 </td><td style=\"text-align: right;\"> 39.5327</td><td style=\"text-align: right;\">0.0450842</td></tr>\n",
       "<tr><td>GBM_2_AutoML_20210531_134850                       </td><td style=\"text-align: right;\">                 3452.09</td><td style=\"text-align: right;\"> 58.7545</td><td style=\"text-align: right;\"> 3452.09</td><td style=\"text-align: right;\"> 39.6134</td><td style=\"text-align: right;\">0.0455524</td></tr>\n",
       "<tr><td>GBM_grid__1_AutoML_20210531_134850_model_5         </td><td style=\"text-align: right;\">                 3565.51</td><td style=\"text-align: right;\"> 59.7119</td><td style=\"text-align: right;\"> 3565.51</td><td style=\"text-align: right;\"> 40.4838</td><td style=\"text-align: right;\">0.0462379</td></tr>\n",
       "<tr><td>DRF_1_AutoML_20210531_134850                       </td><td style=\"text-align: right;\">                 4960.49</td><td style=\"text-align: right;\"> 70.4307</td><td style=\"text-align: right;\"> 4960.49</td><td style=\"text-align: right;\"> 49.0415</td><td style=\"text-align: right;\">0.0550462</td></tr>\n",
       "<tr><td>GBM_5_AutoML_20210531_134850                       </td><td style=\"text-align: right;\">                 5719.6 </td><td style=\"text-align: right;\"> 75.628 </td><td style=\"text-align: right;\"> 5719.6 </td><td style=\"text-align: right;\"> 52.6956</td><td style=\"text-align: right;\">0.0585864</td></tr>\n",
       "<tr><td>GBM_grid__1_AutoML_20210531_134850_model_6         </td><td style=\"text-align: right;\">                 6506.38</td><td style=\"text-align: right;\"> 80.6621</td><td style=\"text-align: right;\"> 6506.38</td><td style=\"text-align: right;\"> 56.845 </td><td style=\"text-align: right;\">0.0621798</td></tr>\n",
       "<tr><td>XRT_1_AutoML_20210531_134850                       </td><td style=\"text-align: right;\">                 6639.82</td><td style=\"text-align: right;\"> 81.4851</td><td style=\"text-align: right;\"> 6639.82</td><td style=\"text-align: right;\"> 57.562 </td><td style=\"text-align: right;\">0.0634017</td></tr>\n",
       "<tr><td>DeepLearning_grid__2_AutoML_20210531_134850_model_1</td><td style=\"text-align: right;\">                 9462.39</td><td style=\"text-align: right;\"> 97.2748</td><td style=\"text-align: right;\"> 9462.39</td><td style=\"text-align: right;\"> 65.3143</td><td style=\"text-align: right;\">0.0737647</td></tr>\n",
       "<tr><td>DeepLearning_grid__3_AutoML_20210531_134850_model_2</td><td style=\"text-align: right;\">                 9655.99</td><td style=\"text-align: right;\"> 98.2649</td><td style=\"text-align: right;\"> 9655.99</td><td style=\"text-align: right;\"> 62.7553</td><td style=\"text-align: right;\">0.073155 </td></tr>\n",
       "<tr><td>GBM_grid__1_AutoML_20210531_134850_model_8         </td><td style=\"text-align: right;\">                10389.1 </td><td style=\"text-align: right;\">101.927 </td><td style=\"text-align: right;\">10389.1 </td><td style=\"text-align: right;\"> 74.493 </td><td style=\"text-align: right;\">0.0825429</td></tr>\n",
       "<tr><td>DeepLearning_grid__1_AutoML_20210531_134850_model_1</td><td style=\"text-align: right;\">                11033.6 </td><td style=\"text-align: right;\">105.041 </td><td style=\"text-align: right;\">11033.6 </td><td style=\"text-align: right;\"> 70.9052</td><td style=\"text-align: right;\">0.0789735</td></tr>\n",
       "<tr><td>DeepLearning_grid__3_AutoML_20210531_134850_model_1</td><td style=\"text-align: right;\">                12045.6 </td><td style=\"text-align: right;\">109.752 </td><td style=\"text-align: right;\">12045.6 </td><td style=\"text-align: right;\"> 74.7993</td><td style=\"text-align: right;\">0.0836128</td></tr>\n",
       "<tr><td>DeepLearning_grid__2_AutoML_20210531_134850_model_2</td><td style=\"text-align: right;\">                16484.8 </td><td style=\"text-align: right;\">128.393 </td><td style=\"text-align: right;\">16484.8 </td><td style=\"text-align: right;\"> 91.4991</td><td style=\"text-align: right;\">0.101427 </td></tr>\n",
       "<tr><td>DeepLearning_grid__1_AutoML_20210531_134850_model_3</td><td style=\"text-align: right;\">                22985.7 </td><td style=\"text-align: right;\">151.61  </td><td style=\"text-align: right;\">22985.7 </td><td style=\"text-align: right;\">116.535 </td><td style=\"text-align: right;\">0.123079 </td></tr>\n",
       "<tr><td>DeepLearning_grid__1_AutoML_20210531_134850_model_2</td><td style=\"text-align: right;\">                23055.2 </td><td style=\"text-align: right;\">151.839 </td><td style=\"text-align: right;\">23055.2 </td><td style=\"text-align: right;\">115.091 </td><td style=\"text-align: right;\">0.122035 </td></tr>\n",
       "<tr><td>DeepLearning_grid__2_AutoML_20210531_134850_model_3</td><td style=\"text-align: right;\">                25716.7 </td><td style=\"text-align: right;\">160.364 </td><td style=\"text-align: right;\">25716.7 </td><td style=\"text-align: right;\">116.734 </td><td style=\"text-align: right;\">0.12646  </td></tr>\n",
       "<tr><td>DeepLearning_1_AutoML_20210531_134850              </td><td style=\"text-align: right;\">                26133.6 </td><td style=\"text-align: right;\">161.659 </td><td style=\"text-align: right;\">26133.6 </td><td style=\"text-align: right;\">124.622 </td><td style=\"text-align: right;\">0.132777 </td></tr>\n",
       "<tr><td>GLM_1_AutoML_20210531_134850                       </td><td style=\"text-align: right;\">                26487.1 </td><td style=\"text-align: right;\">162.749 </td><td style=\"text-align: right;\">26487.1 </td><td style=\"text-align: right;\">126.892 </td><td style=\"text-align: right;\">0.136368 </td></tr>\n",
       "</tbody>\n",
       "</table>"
      ]
     },
     "metadata": {},
     "output_type": "display_data"
    },
    {
     "name": "stdout",
     "output_type": "stream",
     "text": [
      "\n",
      "num :  49\n",
      "pred :  8232\n"
     ]
    },
    {
     "name": "stderr",
     "output_type": "stream",
     "text": [
      "\r",
      " 82%|█████████████████████████████████████████████████████████████▎             | 49/60 [15:31:38<3:37:40, 1187.32s/it]"
     ]
    },
    {
     "name": "stdout",
     "output_type": "stream",
     "text": [
      "\n",
      "14:08:54.980: AutoML: XGBoost is not available; skipping it.\n",
      "\n"
     ]
    },
    {
     "data": {
      "text/html": [
       "<table>\n",
       "<thead>\n",
       "<tr><th>model_id                                           </th><th style=\"text-align: right;\">  mean_residual_deviance</th><th style=\"text-align: right;\">    rmse</th><th style=\"text-align: right;\">     mse</th><th style=\"text-align: right;\">     mae</th><th style=\"text-align: right;\">    rmsle</th></tr>\n",
       "</thead>\n",
       "<tbody>\n",
       "<tr><td>StackedEnsemble_AllModels_AutoML_20210531_140854   </td><td style=\"text-align: right;\">                 1896.11</td><td style=\"text-align: right;\"> 43.5444</td><td style=\"text-align: right;\"> 1896.11</td><td style=\"text-align: right;\"> 30.2739</td><td style=\"text-align: right;\">0.0367604</td></tr>\n",
       "<tr><td>StackedEnsemble_BestOfFamily_AutoML_20210531_140854</td><td style=\"text-align: right;\">                 1943.15</td><td style=\"text-align: right;\"> 44.0811</td><td style=\"text-align: right;\"> 1943.15</td><td style=\"text-align: right;\"> 30.7936</td><td style=\"text-align: right;\">0.037266 </td></tr>\n",
       "<tr><td>GBM_3_AutoML_20210531_140854                       </td><td style=\"text-align: right;\">                 2006.92</td><td style=\"text-align: right;\"> 44.7987</td><td style=\"text-align: right;\"> 2006.92</td><td style=\"text-align: right;\"> 31.0702</td><td style=\"text-align: right;\">0.0377874</td></tr>\n",
       "<tr><td>GBM_1_AutoML_20210531_140854                       </td><td style=\"text-align: right;\">                 2041.39</td><td style=\"text-align: right;\"> 45.1817</td><td style=\"text-align: right;\"> 2041.39</td><td style=\"text-align: right;\"> 31.7009</td><td style=\"text-align: right;\">0.0382905</td></tr>\n",
       "<tr><td>GBM_grid__1_AutoML_20210531_140854_model_7         </td><td style=\"text-align: right;\">                 2121.33</td><td style=\"text-align: right;\"> 46.058 </td><td style=\"text-align: right;\"> 2121.33</td><td style=\"text-align: right;\"> 32.7662</td><td style=\"text-align: right;\">0.0391673</td></tr>\n",
       "<tr><td>GBM_4_AutoML_20210531_140854                       </td><td style=\"text-align: right;\">                 2121.44</td><td style=\"text-align: right;\"> 46.0591</td><td style=\"text-align: right;\"> 2121.44</td><td style=\"text-align: right;\"> 32.2748</td><td style=\"text-align: right;\">0.0391627</td></tr>\n",
       "<tr><td>GBM_grid__1_AutoML_20210531_140854_model_2         </td><td style=\"text-align: right;\">                 2210.72</td><td style=\"text-align: right;\"> 47.0183</td><td style=\"text-align: right;\"> 2210.72</td><td style=\"text-align: right;\"> 33.111 </td><td style=\"text-align: right;\">0.0400179</td></tr>\n",
       "<tr><td>GBM_2_AutoML_20210531_140854                       </td><td style=\"text-align: right;\">                 2289.83</td><td style=\"text-align: right;\"> 47.8522</td><td style=\"text-align: right;\"> 2289.83</td><td style=\"text-align: right;\"> 33.8242</td><td style=\"text-align: right;\">0.041154 </td></tr>\n",
       "<tr><td>GBM_grid__1_AutoML_20210531_140854_model_5         </td><td style=\"text-align: right;\">                 2294.7 </td><td style=\"text-align: right;\"> 47.903 </td><td style=\"text-align: right;\"> 2294.7 </td><td style=\"text-align: right;\"> 33.8788</td><td style=\"text-align: right;\">0.0410977</td></tr>\n",
       "<tr><td>GBM_grid__1_AutoML_20210531_140854_model_3         </td><td style=\"text-align: right;\">                 2366.21</td><td style=\"text-align: right;\"> 48.6437</td><td style=\"text-align: right;\"> 2366.21</td><td style=\"text-align: right;\"> 34.705 </td><td style=\"text-align: right;\">0.0419299</td></tr>\n",
       "<tr><td>GBM_grid__1_AutoML_20210531_140854_model_4         </td><td style=\"text-align: right;\">                 2379.54</td><td style=\"text-align: right;\"> 48.7806</td><td style=\"text-align: right;\"> 2379.54</td><td style=\"text-align: right;\"> 33.9973</td><td style=\"text-align: right;\">0.0411687</td></tr>\n",
       "<tr><td>GBM_grid__1_AutoML_20210531_140854_model_1         </td><td style=\"text-align: right;\">                 2549.58</td><td style=\"text-align: right;\"> 50.4933</td><td style=\"text-align: right;\"> 2549.58</td><td style=\"text-align: right;\"> 35.83  </td><td style=\"text-align: right;\">0.0433783</td></tr>\n",
       "<tr><td>DRF_1_AutoML_20210531_140854                       </td><td style=\"text-align: right;\">                 3411.27</td><td style=\"text-align: right;\"> 58.4061</td><td style=\"text-align: right;\"> 3411.27</td><td style=\"text-align: right;\"> 43.2154</td><td style=\"text-align: right;\">0.0506997</td></tr>\n",
       "<tr><td>XRT_1_AutoML_20210531_140854                       </td><td style=\"text-align: right;\">                 4498.01</td><td style=\"text-align: right;\"> 67.0672</td><td style=\"text-align: right;\"> 4498.01</td><td style=\"text-align: right;\"> 50.8591</td><td style=\"text-align: right;\">0.058984 </td></tr>\n",
       "<tr><td>GBM_5_AutoML_20210531_140854                       </td><td style=\"text-align: right;\">                 4620.87</td><td style=\"text-align: right;\"> 67.977 </td><td style=\"text-align: right;\"> 4620.87</td><td style=\"text-align: right;\"> 49.9539</td><td style=\"text-align: right;\">0.058279 </td></tr>\n",
       "<tr><td>GBM_grid__1_AutoML_20210531_140854_model_6         </td><td style=\"text-align: right;\">                 5766.63</td><td style=\"text-align: right;\"> 75.9383</td><td style=\"text-align: right;\"> 5766.63</td><td style=\"text-align: right;\"> 56.9754</td><td style=\"text-align: right;\">0.0658703</td></tr>\n",
       "<tr><td>DeepLearning_grid__2_AutoML_20210531_140854_model_1</td><td style=\"text-align: right;\">                 6738.45</td><td style=\"text-align: right;\"> 82.0881</td><td style=\"text-align: right;\"> 6738.45</td><td style=\"text-align: right;\"> 56.9042</td><td style=\"text-align: right;\">0.0693066</td></tr>\n",
       "<tr><td>GBM_grid__1_AutoML_20210531_140854_model_8         </td><td style=\"text-align: right;\">                 8208.63</td><td style=\"text-align: right;\"> 90.6015</td><td style=\"text-align: right;\"> 8208.63</td><td style=\"text-align: right;\"> 68.9826</td><td style=\"text-align: right;\">0.0795871</td></tr>\n",
       "<tr><td>DeepLearning_grid__3_AutoML_20210531_140854_model_2</td><td style=\"text-align: right;\">                 8510.02</td><td style=\"text-align: right;\"> 92.2498</td><td style=\"text-align: right;\"> 8510.02</td><td style=\"text-align: right;\"> 58.2067</td><td style=\"text-align: right;\">0.0736516</td></tr>\n",
       "<tr><td>DeepLearning_grid__2_AutoML_20210531_140854_model_2</td><td style=\"text-align: right;\">                11100.8 </td><td style=\"text-align: right;\">105.36  </td><td style=\"text-align: right;\">11100.8 </td><td style=\"text-align: right;\"> 73.3124</td><td style=\"text-align: right;\">0.0875434</td></tr>\n",
       "<tr><td>DeepLearning_grid__3_AutoML_20210531_140854_model_1</td><td style=\"text-align: right;\">                12943.3 </td><td style=\"text-align: right;\">113.769 </td><td style=\"text-align: right;\">12943.3 </td><td style=\"text-align: right;\"> 70.0942</td><td style=\"text-align: right;\">0.0927022</td></tr>\n",
       "<tr><td>DeepLearning_grid__1_AutoML_20210531_140854_model_1</td><td style=\"text-align: right;\">                13638.7 </td><td style=\"text-align: right;\">116.785 </td><td style=\"text-align: right;\">13638.7 </td><td style=\"text-align: right;\"> 75.1143</td><td style=\"text-align: right;\">0.098226 </td></tr>\n",
       "<tr><td>DeepLearning_grid__1_AutoML_20210531_140854_model_3</td><td style=\"text-align: right;\">                18036.2 </td><td style=\"text-align: right;\">134.299 </td><td style=\"text-align: right;\">18036.2 </td><td style=\"text-align: right;\">105.99  </td><td style=\"text-align: right;\">0.117912 </td></tr>\n",
       "<tr><td>DeepLearning_1_AutoML_20210531_140854              </td><td style=\"text-align: right;\">                20844.5 </td><td style=\"text-align: right;\">144.376 </td><td style=\"text-align: right;\">20844.5 </td><td style=\"text-align: right;\">109.212 </td><td style=\"text-align: right;\">0.123599 </td></tr>\n",
       "<tr><td>GLM_1_AutoML_20210531_140854                       </td><td style=\"text-align: right;\">                23572.3 </td><td style=\"text-align: right;\">153.533 </td><td style=\"text-align: right;\">23572.3 </td><td style=\"text-align: right;\">121.596 </td><td style=\"text-align: right;\">0.1411   </td></tr>\n",
       "<tr><td>DeepLearning_grid__1_AutoML_20210531_140854_model_2</td><td style=\"text-align: right;\">                24918.4 </td><td style=\"text-align: right;\">157.856 </td><td style=\"text-align: right;\">24918.4 </td><td style=\"text-align: right;\">117.152 </td><td style=\"text-align: right;\">0.133817 </td></tr>\n",
       "<tr><td>DeepLearning_grid__2_AutoML_20210531_140854_model_3</td><td style=\"text-align: right;\">                28222.5 </td><td style=\"text-align: right;\">167.996 </td><td style=\"text-align: right;\">28222.5 </td><td style=\"text-align: right;\">127.438 </td><td style=\"text-align: right;\">0.148264 </td></tr>\n",
       "</tbody>\n",
       "</table>"
      ]
     },
     "metadata": {},
     "output_type": "display_data"
    },
    {
     "name": "stdout",
     "output_type": "stream",
     "text": [
      "\n",
      "num :  50\n",
      "pred :  8400\n"
     ]
    },
    {
     "name": "stderr",
     "output_type": "stream",
     "text": [
      "\r",
      " 83%|██████████████████████████████████████████████████████████████▌            | 50/60 [15:54:22<3:26:41, 1240.17s/it]"
     ]
    },
    {
     "name": "stdout",
     "output_type": "stream",
     "text": [
      "\n",
      "14:31:38.459: AutoML: XGBoost is not available; skipping it.\n",
      "\n"
     ]
    },
    {
     "data": {
      "text/html": [
       "<table>\n",
       "<thead>\n",
       "<tr><th>model_id                                           </th><th style=\"text-align: right;\">  mean_residual_deviance</th><th style=\"text-align: right;\">    rmse</th><th style=\"text-align: right;\">     mse</th><th style=\"text-align: right;\">     mae</th><th style=\"text-align: right;\">    rmsle</th></tr>\n",
       "</thead>\n",
       "<tbody>\n",
       "<tr><td>StackedEnsemble_AllModels_AutoML_20210531_143138   </td><td style=\"text-align: right;\">                 2658.5 </td><td style=\"text-align: right;\"> 51.5606</td><td style=\"text-align: right;\"> 2658.5 </td><td style=\"text-align: right;\"> 36.6184</td><td style=\"text-align: right;\">0.0271829</td></tr>\n",
       "<tr><td>StackedEnsemble_BestOfFamily_AutoML_20210531_143138</td><td style=\"text-align: right;\">                 2673.58</td><td style=\"text-align: right;\"> 51.7067</td><td style=\"text-align: right;\"> 2673.58</td><td style=\"text-align: right;\"> 36.7528</td><td style=\"text-align: right;\">0.0272553</td></tr>\n",
       "<tr><td>GBM_4_AutoML_20210531_143138                       </td><td style=\"text-align: right;\">                 2739.73</td><td style=\"text-align: right;\"> 52.3424</td><td style=\"text-align: right;\"> 2739.73</td><td style=\"text-align: right;\"> 37.2776</td><td style=\"text-align: right;\">0.0276296</td></tr>\n",
       "<tr><td>GBM_3_AutoML_20210531_143138                       </td><td style=\"text-align: right;\">                 3096.53</td><td style=\"text-align: right;\"> 55.6464</td><td style=\"text-align: right;\"> 3096.53</td><td style=\"text-align: right;\"> 40.5465</td><td style=\"text-align: right;\">0.0302215</td></tr>\n",
       "<tr><td>GBM_2_AutoML_20210531_143138                       </td><td style=\"text-align: right;\">                 3147.2 </td><td style=\"text-align: right;\"> 56.0999</td><td style=\"text-align: right;\"> 3147.2 </td><td style=\"text-align: right;\"> 41.0517</td><td style=\"text-align: right;\">0.0304022</td></tr>\n",
       "<tr><td>GBM_grid__1_AutoML_20210531_143138_model_4         </td><td style=\"text-align: right;\">                 3204.49</td><td style=\"text-align: right;\"> 56.6082</td><td style=\"text-align: right;\"> 3204.49</td><td style=\"text-align: right;\"> 40.0303</td><td style=\"text-align: right;\">0.0300099</td></tr>\n",
       "<tr><td>GBM_1_AutoML_20210531_143138                       </td><td style=\"text-align: right;\">                 3235.7 </td><td style=\"text-align: right;\"> 56.8832</td><td style=\"text-align: right;\"> 3235.7 </td><td style=\"text-align: right;\"> 40.6679</td><td style=\"text-align: right;\">0.0306263</td></tr>\n",
       "<tr><td>GBM_grid__1_AutoML_20210531_143138_model_2         </td><td style=\"text-align: right;\">                 3412.09</td><td style=\"text-align: right;\"> 58.4131</td><td style=\"text-align: right;\"> 3412.09</td><td style=\"text-align: right;\"> 40.9879</td><td style=\"text-align: right;\">0.0308863</td></tr>\n",
       "<tr><td>GBM_grid__1_AutoML_20210531_143138_model_1         </td><td style=\"text-align: right;\">                 3446.01</td><td style=\"text-align: right;\"> 58.7027</td><td style=\"text-align: right;\"> 3446.01</td><td style=\"text-align: right;\"> 42.0593</td><td style=\"text-align: right;\">0.0315261</td></tr>\n",
       "<tr><td>GBM_grid__1_AutoML_20210531_143138_model_7         </td><td style=\"text-align: right;\">                 3528.27</td><td style=\"text-align: right;\"> 59.3993</td><td style=\"text-align: right;\"> 3528.27</td><td style=\"text-align: right;\"> 43.8439</td><td style=\"text-align: right;\">0.0326806</td></tr>\n",
       "<tr><td>GBM_grid__1_AutoML_20210531_143138_model_5         </td><td style=\"text-align: right;\">                 4352.11</td><td style=\"text-align: right;\"> 65.9705</td><td style=\"text-align: right;\"> 4352.11</td><td style=\"text-align: right;\"> 48.8917</td><td style=\"text-align: right;\">0.036855 </td></tr>\n",
       "<tr><td>GBM_grid__1_AutoML_20210531_143138_model_3         </td><td style=\"text-align: right;\">                 4726.3 </td><td style=\"text-align: right;\"> 68.7481</td><td style=\"text-align: right;\"> 4726.3 </td><td style=\"text-align: right;\"> 51.0951</td><td style=\"text-align: right;\">0.0387498</td></tr>\n",
       "<tr><td>DRF_1_AutoML_20210531_143138                       </td><td style=\"text-align: right;\">                 7704.98</td><td style=\"text-align: right;\"> 87.778 </td><td style=\"text-align: right;\"> 7704.98</td><td style=\"text-align: right;\"> 66.3768</td><td style=\"text-align: right;\">0.0497515</td></tr>\n",
       "<tr><td>GBM_5_AutoML_20210531_143138                       </td><td style=\"text-align: right;\">                 8048.55</td><td style=\"text-align: right;\"> 89.7137</td><td style=\"text-align: right;\"> 8048.55</td><td style=\"text-align: right;\"> 65.8693</td><td style=\"text-align: right;\">0.0503074</td></tr>\n",
       "<tr><td>XRT_1_AutoML_20210531_143138                       </td><td style=\"text-align: right;\">                 9285.07</td><td style=\"text-align: right;\"> 96.3591</td><td style=\"text-align: right;\"> 9285.07</td><td style=\"text-align: right;\"> 74.0502</td><td style=\"text-align: right;\">0.0542981</td></tr>\n",
       "<tr><td>GBM_grid__1_AutoML_20210531_143138_model_6         </td><td style=\"text-align: right;\">                 9766.25</td><td style=\"text-align: right;\"> 98.8243</td><td style=\"text-align: right;\"> 9766.25</td><td style=\"text-align: right;\"> 75.5096</td><td style=\"text-align: right;\">0.0562944</td></tr>\n",
       "<tr><td>DeepLearning_grid__3_AutoML_20210531_143138_model_2</td><td style=\"text-align: right;\">                10095.6 </td><td style=\"text-align: right;\">100.477 </td><td style=\"text-align: right;\">10095.6 </td><td style=\"text-align: right;\"> 65.928 </td><td style=\"text-align: right;\">0.0525171</td></tr>\n",
       "<tr><td>DeepLearning_grid__2_AutoML_20210531_143138_model_1</td><td style=\"text-align: right;\">                11592.4 </td><td style=\"text-align: right;\">107.668 </td><td style=\"text-align: right;\">11592.4 </td><td style=\"text-align: right;\"> 73.9166</td><td style=\"text-align: right;\">0.0578168</td></tr>\n",
       "<tr><td>DeepLearning_grid__3_AutoML_20210531_143138_model_1</td><td style=\"text-align: right;\">                13429.3 </td><td style=\"text-align: right;\">115.885 </td><td style=\"text-align: right;\">13429.3 </td><td style=\"text-align: right;\"> 79.2868</td><td style=\"text-align: right;\">0.0603764</td></tr>\n",
       "<tr><td>DeepLearning_grid__1_AutoML_20210531_143138_model_1</td><td style=\"text-align: right;\">                14218.3 </td><td style=\"text-align: right;\">119.24  </td><td style=\"text-align: right;\">14218.3 </td><td style=\"text-align: right;\"> 84.7076</td><td style=\"text-align: right;\">0.064571 </td></tr>\n",
       "<tr><td>DeepLearning_grid__2_AutoML_20210531_143138_model_2</td><td style=\"text-align: right;\">                15089.6 </td><td style=\"text-align: right;\">122.84  </td><td style=\"text-align: right;\">15089.6 </td><td style=\"text-align: right;\"> 87.8776</td><td style=\"text-align: right;\">0.0663221</td></tr>\n",
       "<tr><td>GBM_grid__1_AutoML_20210531_143138_model_8         </td><td style=\"text-align: right;\">                17762.6 </td><td style=\"text-align: right;\">133.276 </td><td style=\"text-align: right;\">17762.6 </td><td style=\"text-align: right;\">103.424 </td><td style=\"text-align: right;\">0.0789172</td></tr>\n",
       "<tr><td>DeepLearning_grid__1_AutoML_20210531_143138_model_3</td><td style=\"text-align: right;\">                37418.5 </td><td style=\"text-align: right;\">193.439 </td><td style=\"text-align: right;\">37418.5 </td><td style=\"text-align: right;\">156.56  </td><td style=\"text-align: right;\">0.118561 </td></tr>\n",
       "<tr><td>DeepLearning_grid__1_AutoML_20210531_143138_model_2</td><td style=\"text-align: right;\">                37457.5 </td><td style=\"text-align: right;\">193.539 </td><td style=\"text-align: right;\">37457.5 </td><td style=\"text-align: right;\">154.099 </td><td style=\"text-align: right;\">0.115125 </td></tr>\n",
       "<tr><td>DeepLearning_1_AutoML_20210531_143138              </td><td style=\"text-align: right;\">                40702.7 </td><td style=\"text-align: right;\">201.749 </td><td style=\"text-align: right;\">40702.7 </td><td style=\"text-align: right;\">161.833 </td><td style=\"text-align: right;\">0.12327  </td></tr>\n",
       "<tr><td>GLM_1_AutoML_20210531_143138                       </td><td style=\"text-align: right;\">                46533.2 </td><td style=\"text-align: right;\">215.716 </td><td style=\"text-align: right;\">46533.2 </td><td style=\"text-align: right;\">174.652 </td><td style=\"text-align: right;\">0.132786 </td></tr>\n",
       "<tr><td>DeepLearning_grid__2_AutoML_20210531_143138_model_3</td><td style=\"text-align: right;\">                51404.6 </td><td style=\"text-align: right;\">226.726 </td><td style=\"text-align: right;\">51404.6 </td><td style=\"text-align: right;\">174.05  </td><td style=\"text-align: right;\">0.12768  </td></tr>\n",
       "</tbody>\n",
       "</table>"
      ]
     },
     "metadata": {},
     "output_type": "display_data"
    },
    {
     "name": "stdout",
     "output_type": "stream",
     "text": [
      "\n",
      "num :  51\n",
      "pred :  8568\n"
     ]
    },
    {
     "name": "stderr",
     "output_type": "stream",
     "text": [
      "\r",
      " 85%|███████████████████████████████████████████████████████████████▊           | 51/60 [16:18:45<3:16:03, 1307.07s/it]"
     ]
    },
    {
     "name": "stdout",
     "output_type": "stream",
     "text": [
      "\n",
      "14:56:01.634: AutoML: XGBoost is not available; skipping it.\n",
      "\n"
     ]
    },
    {
     "data": {
      "text/html": [
       "<table>\n",
       "<thead>\n",
       "<tr><th>model_id                                           </th><th style=\"text-align: right;\">  mean_residual_deviance</th><th style=\"text-align: right;\">   rmse</th><th style=\"text-align: right;\">     mse</th><th style=\"text-align: right;\">     mae</th><th style=\"text-align: right;\">    rmsle</th></tr>\n",
       "</thead>\n",
       "<tbody>\n",
       "<tr><td>StackedEnsemble_BestOfFamily_AutoML_20210531_145601</td><td style=\"text-align: right;\">                 38463.4</td><td style=\"text-align: right;\">196.121</td><td style=\"text-align: right;\"> 38463.4</td><td style=\"text-align: right;\"> 99.6501</td><td style=\"text-align: right;\">0.0493935</td></tr>\n",
       "<tr><td>StackedEnsemble_AllModels_AutoML_20210531_145601   </td><td style=\"text-align: right;\">                 38586.2</td><td style=\"text-align: right;\">196.434</td><td style=\"text-align: right;\"> 38586.2</td><td style=\"text-align: right;\"> 99.8431</td><td style=\"text-align: right;\">0.0494624</td></tr>\n",
       "<tr><td>GBM_grid__1_AutoML_20210531_145601_model_4         </td><td style=\"text-align: right;\">                 39835.3</td><td style=\"text-align: right;\">199.588</td><td style=\"text-align: right;\"> 39835.3</td><td style=\"text-align: right;\">102.932 </td><td style=\"text-align: right;\">0.050237 </td></tr>\n",
       "<tr><td>GBM_grid__1_AutoML_20210531_145601_model_2         </td><td style=\"text-align: right;\">                 40655.3</td><td style=\"text-align: right;\">201.632</td><td style=\"text-align: right;\"> 40655.3</td><td style=\"text-align: right;\">110.02  </td><td style=\"text-align: right;\">0.0507007</td></tr>\n",
       "<tr><td>GBM_3_AutoML_20210531_145601                       </td><td style=\"text-align: right;\">                 40794.7</td><td style=\"text-align: right;\">201.977</td><td style=\"text-align: right;\"> 40794.7</td><td style=\"text-align: right;\">108.117 </td><td style=\"text-align: right;\">0.0503766</td></tr>\n",
       "<tr><td>GBM_2_AutoML_20210531_145601                       </td><td style=\"text-align: right;\">                 41273  </td><td style=\"text-align: right;\">203.158</td><td style=\"text-align: right;\"> 41273  </td><td style=\"text-align: right;\">109.255 </td><td style=\"text-align: right;\">0.0507318</td></tr>\n",
       "<tr><td>GBM_grid__1_AutoML_20210531_145601_model_1         </td><td style=\"text-align: right;\">                 43020.9</td><td style=\"text-align: right;\">207.415</td><td style=\"text-align: right;\"> 43020.9</td><td style=\"text-align: right;\">120.325 </td><td style=\"text-align: right;\">0.0521737</td></tr>\n",
       "<tr><td>GBM_grid__1_AutoML_20210531_145601_model_7         </td><td style=\"text-align: right;\">                 46060.1</td><td style=\"text-align: right;\">214.616</td><td style=\"text-align: right;\"> 46060.1</td><td style=\"text-align: right;\">124.831 </td><td style=\"text-align: right;\">0.0538266</td></tr>\n",
       "<tr><td>DRF_1_AutoML_20210531_145601                       </td><td style=\"text-align: right;\">                 46142.1</td><td style=\"text-align: right;\">214.807</td><td style=\"text-align: right;\"> 46142.1</td><td style=\"text-align: right;\">124.376 </td><td style=\"text-align: right;\">0.0532472</td></tr>\n",
       "<tr><td>GBM_1_AutoML_20210531_145601                       </td><td style=\"text-align: right;\">                 46983.1</td><td style=\"text-align: right;\">216.756</td><td style=\"text-align: right;\"> 46983.1</td><td style=\"text-align: right;\">114.801 </td><td style=\"text-align: right;\">0.0534885</td></tr>\n",
       "<tr><td>GBM_grid__1_AutoML_20210531_145601_model_5         </td><td style=\"text-align: right;\">                 47061.3</td><td style=\"text-align: right;\">216.936</td><td style=\"text-align: right;\"> 47061.3</td><td style=\"text-align: right;\">129.74  </td><td style=\"text-align: right;\">0.0547198</td></tr>\n",
       "<tr><td>GBM_4_AutoML_20210531_145601                       </td><td style=\"text-align: right;\">                 48888.6</td><td style=\"text-align: right;\">221.108</td><td style=\"text-align: right;\"> 48888.6</td><td style=\"text-align: right;\">128.724 </td><td style=\"text-align: right;\">0.055476 </td></tr>\n",
       "<tr><td>GBM_5_AutoML_20210531_145601                       </td><td style=\"text-align: right;\">                 52628.2</td><td style=\"text-align: right;\">229.408</td><td style=\"text-align: right;\"> 52628.2</td><td style=\"text-align: right;\">131.722 </td><td style=\"text-align: right;\">0.0576344</td></tr>\n",
       "<tr><td>GBM_grid__1_AutoML_20210531_145601_model_6         </td><td style=\"text-align: right;\">                 53605.1</td><td style=\"text-align: right;\">231.528</td><td style=\"text-align: right;\"> 53605.1</td><td style=\"text-align: right;\">125.977 </td><td style=\"text-align: right;\">0.0577334</td></tr>\n",
       "<tr><td>GBM_grid__1_AutoML_20210531_145601_model_3         </td><td style=\"text-align: right;\">                 54333.7</td><td style=\"text-align: right;\">233.096</td><td style=\"text-align: right;\"> 54333.7</td><td style=\"text-align: right;\">151.434 </td><td style=\"text-align: right;\">0.0588702</td></tr>\n",
       "<tr><td>XRT_1_AutoML_20210531_145601                       </td><td style=\"text-align: right;\">                 72828.1</td><td style=\"text-align: right;\">269.867</td><td style=\"text-align: right;\"> 72828.1</td><td style=\"text-align: right;\">175.499 </td><td style=\"text-align: right;\">0.0666094</td></tr>\n",
       "<tr><td>DeepLearning_grid__3_AutoML_20210531_145601_model_2</td><td style=\"text-align: right;\">                 79251.3</td><td style=\"text-align: right;\">281.516</td><td style=\"text-align: right;\"> 79251.3</td><td style=\"text-align: right;\">162.418 </td><td style=\"text-align: right;\">0.0685621</td></tr>\n",
       "<tr><td>DeepLearning_grid__2_AutoML_20210531_145601_model_2</td><td style=\"text-align: right;\">                132554  </td><td style=\"text-align: right;\">364.079</td><td style=\"text-align: right;\">132554  </td><td style=\"text-align: right;\">253.943 </td><td style=\"text-align: right;\">0.0918317</td></tr>\n",
       "<tr><td>GBM_grid__1_AutoML_20210531_145601_model_8         </td><td style=\"text-align: right;\">                144632  </td><td style=\"text-align: right;\">380.305</td><td style=\"text-align: right;\">144632  </td><td style=\"text-align: right;\">313.17  </td><td style=\"text-align: right;\">0.101796 </td></tr>\n",
       "<tr><td>DeepLearning_grid__1_AutoML_20210531_145601_model_1</td><td style=\"text-align: right;\">                147008  </td><td style=\"text-align: right;\">383.417</td><td style=\"text-align: right;\">147008  </td><td style=\"text-align: right;\">282.513 </td><td style=\"text-align: right;\">0.100652 </td></tr>\n",
       "<tr><td>DeepLearning_grid__2_AutoML_20210531_145601_model_1</td><td style=\"text-align: right;\">                152352  </td><td style=\"text-align: right;\">390.323</td><td style=\"text-align: right;\">152352  </td><td style=\"text-align: right;\">257.228 </td><td style=\"text-align: right;\">0.102017 </td></tr>\n",
       "<tr><td>DeepLearning_grid__3_AutoML_20210531_145601_model_1</td><td style=\"text-align: right;\">                183392  </td><td style=\"text-align: right;\">428.243</td><td style=\"text-align: right;\">183392  </td><td style=\"text-align: right;\">298.756 </td><td style=\"text-align: right;\">0.112665 </td></tr>\n",
       "<tr><td>DeepLearning_grid__2_AutoML_20210531_145601_model_3</td><td style=\"text-align: right;\">                193662  </td><td style=\"text-align: right;\">440.07 </td><td style=\"text-align: right;\">193662  </td><td style=\"text-align: right;\">377.122 </td><td style=\"text-align: right;\">0.116011 </td></tr>\n",
       "<tr><td>DeepLearning_grid__1_AutoML_20210531_145601_model_2</td><td style=\"text-align: right;\">                256578  </td><td style=\"text-align: right;\">506.536</td><td style=\"text-align: right;\">256578  </td><td style=\"text-align: right;\">392.595 </td><td style=\"text-align: right;\">0.127761 </td></tr>\n",
       "<tr><td>DeepLearning_1_AutoML_20210531_145601              </td><td style=\"text-align: right;\">                298529  </td><td style=\"text-align: right;\">546.378</td><td style=\"text-align: right;\">298529  </td><td style=\"text-align: right;\">414.021 </td><td style=\"text-align: right;\">0.141064 </td></tr>\n",
       "<tr><td>DeepLearning_grid__1_AutoML_20210531_145601_model_3</td><td style=\"text-align: right;\">                311245  </td><td style=\"text-align: right;\">557.894</td><td style=\"text-align: right;\">311245  </td><td style=\"text-align: right;\">451.452 </td><td style=\"text-align: right;\">0.138943 </td></tr>\n",
       "<tr><td>GLM_1_AutoML_20210531_145601                       </td><td style=\"text-align: right;\">                944636  </td><td style=\"text-align: right;\">971.924</td><td style=\"text-align: right;\">944636  </td><td style=\"text-align: right;\">865.655 </td><td style=\"text-align: right;\">0.242432 </td></tr>\n",
       "</tbody>\n",
       "</table>"
      ]
     },
     "metadata": {},
     "output_type": "display_data"
    },
    {
     "name": "stdout",
     "output_type": "stream",
     "text": [
      "\n",
      "num :  52\n",
      "pred :  8736\n"
     ]
    },
    {
     "name": "stderr",
     "output_type": "stream",
     "text": [
      "\r",
      " 87%|█████████████████████████████████████████████████████████████████          | 52/60 [16:37:44<2:47:31, 1256.48s/it]"
     ]
    },
    {
     "name": "stdout",
     "output_type": "stream",
     "text": [
      "\n",
      "15:15:00.91: AutoML: XGBoost is not available; skipping it.\n",
      "\n"
     ]
    },
    {
     "data": {
      "text/html": [
       "<table>\n",
       "<thead>\n",
       "<tr><th>model_id                                           </th><th style=\"text-align: right;\">  mean_residual_deviance</th><th style=\"text-align: right;\">   rmse</th><th style=\"text-align: right;\">     mse</th><th style=\"text-align: right;\">     mae</th><th style=\"text-align: right;\">    rmsle</th></tr>\n",
       "</thead>\n",
       "<tbody>\n",
       "<tr><td>StackedEnsemble_BestOfFamily_AutoML_20210531_151500</td><td style=\"text-align: right;\">                 12957.1</td><td style=\"text-align: right;\">113.829</td><td style=\"text-align: right;\"> 12957.1</td><td style=\"text-align: right;\"> 60.2945</td><td style=\"text-align: right;\">0.0707048</td></tr>\n",
       "<tr><td>StackedEnsemble_AllModels_AutoML_20210531_151500   </td><td style=\"text-align: right;\">                 12987.3</td><td style=\"text-align: right;\">113.962</td><td style=\"text-align: right;\"> 12987.3</td><td style=\"text-align: right;\"> 59.7933</td><td style=\"text-align: right;\">0.0706053</td></tr>\n",
       "<tr><td>GBM_4_AutoML_20210531_151500                       </td><td style=\"text-align: right;\">                 13547.2</td><td style=\"text-align: right;\">116.393</td><td style=\"text-align: right;\"> 13547.2</td><td style=\"text-align: right;\"> 63.7107</td><td style=\"text-align: right;\">0.072111 </td></tr>\n",
       "<tr><td>GBM_1_AutoML_20210531_151500                       </td><td style=\"text-align: right;\">                 13835.3</td><td style=\"text-align: right;\">117.624</td><td style=\"text-align: right;\"> 13835.3</td><td style=\"text-align: right;\"> 61.1365</td><td style=\"text-align: right;\">0.0721487</td></tr>\n",
       "<tr><td>GBM_grid__1_AutoML_20210531_151500_model_2         </td><td style=\"text-align: right;\">                 13896.9</td><td style=\"text-align: right;\">117.885</td><td style=\"text-align: right;\"> 13896.9</td><td style=\"text-align: right;\"> 64.5218</td><td style=\"text-align: right;\">0.0732686</td></tr>\n",
       "<tr><td>GBM_3_AutoML_20210531_151500                       </td><td style=\"text-align: right;\">                 13928.3</td><td style=\"text-align: right;\">118.018</td><td style=\"text-align: right;\"> 13928.3</td><td style=\"text-align: right;\"> 62.6725</td><td style=\"text-align: right;\">0.0723703</td></tr>\n",
       "<tr><td>GBM_grid__1_AutoML_20210531_151500_model_4         </td><td style=\"text-align: right;\">                 14076.9</td><td style=\"text-align: right;\">118.646</td><td style=\"text-align: right;\"> 14076.9</td><td style=\"text-align: right;\"> 62.4354</td><td style=\"text-align: right;\">0.0737197</td></tr>\n",
       "<tr><td>GBM_grid__1_AutoML_20210531_151500_model_7         </td><td style=\"text-align: right;\">                 15017.4</td><td style=\"text-align: right;\">122.545</td><td style=\"text-align: right;\"> 15017.4</td><td style=\"text-align: right;\"> 68.5147</td><td style=\"text-align: right;\">0.0757817</td></tr>\n",
       "<tr><td>GBM_2_AutoML_20210531_151500                       </td><td style=\"text-align: right;\">                 15078.4</td><td style=\"text-align: right;\">122.794</td><td style=\"text-align: right;\"> 15078.4</td><td style=\"text-align: right;\"> 69.3714</td><td style=\"text-align: right;\">0.0759649</td></tr>\n",
       "<tr><td>GBM_grid__1_AutoML_20210531_151500_model_1         </td><td style=\"text-align: right;\">                 15167.7</td><td style=\"text-align: right;\">123.157</td><td style=\"text-align: right;\"> 15167.7</td><td style=\"text-align: right;\"> 72.899 </td><td style=\"text-align: right;\">0.0773696</td></tr>\n",
       "<tr><td>DRF_1_AutoML_20210531_151500                       </td><td style=\"text-align: right;\">                 15181.9</td><td style=\"text-align: right;\">123.215</td><td style=\"text-align: right;\"> 15181.9</td><td style=\"text-align: right;\"> 68.6369</td><td style=\"text-align: right;\">0.074701 </td></tr>\n",
       "<tr><td>GBM_grid__1_AutoML_20210531_151500_model_3         </td><td style=\"text-align: right;\">                 15261  </td><td style=\"text-align: right;\">123.535</td><td style=\"text-align: right;\"> 15261  </td><td style=\"text-align: right;\"> 72.765 </td><td style=\"text-align: right;\">0.0775667</td></tr>\n",
       "<tr><td>GBM_grid__1_AutoML_20210531_151500_model_5         </td><td style=\"text-align: right;\">                 15793.2</td><td style=\"text-align: right;\">125.671</td><td style=\"text-align: right;\"> 15793.2</td><td style=\"text-align: right;\"> 73.2403</td><td style=\"text-align: right;\">0.0784302</td></tr>\n",
       "<tr><td>GBM_5_AutoML_20210531_151500                       </td><td style=\"text-align: right;\">                 18098.2</td><td style=\"text-align: right;\">134.53 </td><td style=\"text-align: right;\"> 18098.2</td><td style=\"text-align: right;\"> 78.8983</td><td style=\"text-align: right;\">0.0849742</td></tr>\n",
       "<tr><td>GBM_grid__1_AutoML_20210531_151500_model_6         </td><td style=\"text-align: right;\">                 19012.2</td><td style=\"text-align: right;\">137.885</td><td style=\"text-align: right;\"> 19012.2</td><td style=\"text-align: right;\"> 81.4595</td><td style=\"text-align: right;\">0.0864754</td></tr>\n",
       "<tr><td>XRT_1_AutoML_20210531_151500                       </td><td style=\"text-align: right;\">                 20386.8</td><td style=\"text-align: right;\">142.782</td><td style=\"text-align: right;\"> 20386.8</td><td style=\"text-align: right;\"> 89.8498</td><td style=\"text-align: right;\">0.0885138</td></tr>\n",
       "<tr><td>DeepLearning_grid__2_AutoML_20210531_151500_model_3</td><td style=\"text-align: right;\">                 32811.2</td><td style=\"text-align: right;\">181.139</td><td style=\"text-align: right;\"> 32811.2</td><td style=\"text-align: right;\">127.479 </td><td style=\"text-align: right;\">0.11508  </td></tr>\n",
       "<tr><td>DeepLearning_grid__3_AutoML_20210531_151500_model_2</td><td style=\"text-align: right;\">                 33429  </td><td style=\"text-align: right;\">182.836</td><td style=\"text-align: right;\"> 33429  </td><td style=\"text-align: right;\">117.691 </td><td style=\"text-align: right;\">0.115793 </td></tr>\n",
       "<tr><td>GBM_grid__1_AutoML_20210531_151500_model_8         </td><td style=\"text-align: right;\">                 37467.5</td><td style=\"text-align: right;\">193.565</td><td style=\"text-align: right;\"> 37467.5</td><td style=\"text-align: right;\">147.9   </td><td style=\"text-align: right;\">0.133149 </td></tr>\n",
       "<tr><td>DeepLearning_grid__2_AutoML_20210531_151500_model_1</td><td style=\"text-align: right;\">                 41143  </td><td style=\"text-align: right;\">202.837</td><td style=\"text-align: right;\"> 41143  </td><td style=\"text-align: right;\">133.227 </td><td style=\"text-align: right;\">0.13883  </td></tr>\n",
       "<tr><td>DeepLearning_grid__2_AutoML_20210531_151500_model_2</td><td style=\"text-align: right;\">                 43811.1</td><td style=\"text-align: right;\">209.311</td><td style=\"text-align: right;\"> 43811.1</td><td style=\"text-align: right;\">138.089 </td><td style=\"text-align: right;\">0.129234 </td></tr>\n",
       "<tr><td>DeepLearning_grid__3_AutoML_20210531_151500_model_1</td><td style=\"text-align: right;\">                 50098.9</td><td style=\"text-align: right;\">223.828</td><td style=\"text-align: right;\"> 50098.9</td><td style=\"text-align: right;\">155.066 </td><td style=\"text-align: right;\">0.144833 </td></tr>\n",
       "<tr><td>DeepLearning_grid__1_AutoML_20210531_151500_model_1</td><td style=\"text-align: right;\">                 51401.4</td><td style=\"text-align: right;\">226.719</td><td style=\"text-align: right;\"> 51401.4</td><td style=\"text-align: right;\">160.491 </td><td style=\"text-align: right;\">0.154124 </td></tr>\n",
       "<tr><td>DeepLearning_1_AutoML_20210531_151500              </td><td style=\"text-align: right;\">                 63490.1</td><td style=\"text-align: right;\">251.972</td><td style=\"text-align: right;\"> 63490.1</td><td style=\"text-align: right;\">185.613 </td><td style=\"text-align: right;\">0.166626 </td></tr>\n",
       "<tr><td>DeepLearning_grid__1_AutoML_20210531_151500_model_2</td><td style=\"text-align: right;\">                 68679.6</td><td style=\"text-align: right;\">262.068</td><td style=\"text-align: right;\"> 68679.6</td><td style=\"text-align: right;\">195.587 </td><td style=\"text-align: right;\">0.165813 </td></tr>\n",
       "<tr><td>DeepLearning_grid__1_AutoML_20210531_151500_model_3</td><td style=\"text-align: right;\">                 82780.6</td><td style=\"text-align: right;\">287.716</td><td style=\"text-align: right;\"> 82780.6</td><td style=\"text-align: right;\">224.342 </td><td style=\"text-align: right;\">0.181208 </td></tr>\n",
       "<tr><td>GLM_1_AutoML_20210531_151500                       </td><td style=\"text-align: right;\">                146553  </td><td style=\"text-align: right;\">382.822</td><td style=\"text-align: right;\">146553  </td><td style=\"text-align: right;\">303.173 </td><td style=\"text-align: right;\">0.241989 </td></tr>\n",
       "</tbody>\n",
       "</table>"
      ]
     },
     "metadata": {},
     "output_type": "display_data"
    },
    {
     "name": "stdout",
     "output_type": "stream",
     "text": [
      "\n",
      "num :  53\n",
      "pred :  8904\n"
     ]
    },
    {
     "name": "stderr",
     "output_type": "stream",
     "text": [
      "\r",
      " 88%|██████████████████████████████████████████████████████████████████▎        | 53/60 [16:56:06<2:21:12, 1210.36s/it]"
     ]
    },
    {
     "name": "stdout",
     "output_type": "stream",
     "text": [
      "\n",
      "15:33:23.35: AutoML: XGBoost is not available; skipping it.\n",
      "\n"
     ]
    },
    {
     "data": {
      "text/html": [
       "<table>\n",
       "<thead>\n",
       "<tr><th>model_id                                           </th><th style=\"text-align: right;\">  mean_residual_deviance</th><th style=\"text-align: right;\">    rmse</th><th style=\"text-align: right;\">             mse</th><th style=\"text-align: right;\">     mae</th><th style=\"text-align: right;\">    rmsle</th></tr>\n",
       "</thead>\n",
       "<tbody>\n",
       "<tr><td>StackedEnsemble_AllModels_AutoML_20210531_153323   </td><td style=\"text-align: right;\">         82385.5        </td><td style=\"text-align: right;\"> 287.029</td><td style=\"text-align: right;\"> 82385.5        </td><td style=\"text-align: right;\"> 184.981</td><td style=\"text-align: right;\">0.0424074</td></tr>\n",
       "<tr><td>StackedEnsemble_BestOfFamily_AutoML_20210531_153323</td><td style=\"text-align: right;\">         82811.5        </td><td style=\"text-align: right;\"> 287.77 </td><td style=\"text-align: right;\"> 82811.5        </td><td style=\"text-align: right;\"> 185.205</td><td style=\"text-align: right;\">0.0425163</td></tr>\n",
       "<tr><td>GBM_3_AutoML_20210531_153323                       </td><td style=\"text-align: right;\">         83847.5        </td><td style=\"text-align: right;\"> 289.564</td><td style=\"text-align: right;\"> 83847.5        </td><td style=\"text-align: right;\"> 187.667</td><td style=\"text-align: right;\">0.0426985</td></tr>\n",
       "<tr><td>GBM_4_AutoML_20210531_153323                       </td><td style=\"text-align: right;\">         84470.6        </td><td style=\"text-align: right;\"> 290.638</td><td style=\"text-align: right;\"> 84470.6        </td><td style=\"text-align: right;\"> 193.455</td><td style=\"text-align: right;\">0.0429183</td></tr>\n",
       "<tr><td>GBM_1_AutoML_20210531_153323                       </td><td style=\"text-align: right;\">         90251.6        </td><td style=\"text-align: right;\"> 300.419</td><td style=\"text-align: right;\"> 90251.6        </td><td style=\"text-align: right;\"> 190.02 </td><td style=\"text-align: right;\">0.044137 </td></tr>\n",
       "<tr><td>GBM_grid__1_AutoML_20210531_153323_model_2         </td><td style=\"text-align: right;\">         90541.4        </td><td style=\"text-align: right;\"> 300.901</td><td style=\"text-align: right;\"> 90541.4        </td><td style=\"text-align: right;\"> 195.542</td><td style=\"text-align: right;\">0.0442818</td></tr>\n",
       "<tr><td>GBM_grid__1_AutoML_20210531_153323_model_3         </td><td style=\"text-align: right;\">         91399.2        </td><td style=\"text-align: right;\"> 302.323</td><td style=\"text-align: right;\"> 91399.2        </td><td style=\"text-align: right;\"> 206.129</td><td style=\"text-align: right;\">0.044225 </td></tr>\n",
       "<tr><td>GBM_2_AutoML_20210531_153323                       </td><td style=\"text-align: right;\">         91758.5        </td><td style=\"text-align: right;\"> 302.917</td><td style=\"text-align: right;\"> 91758.5        </td><td style=\"text-align: right;\"> 203.516</td><td style=\"text-align: right;\">0.0444932</td></tr>\n",
       "<tr><td>GBM_grid__1_AutoML_20210531_153323_model_1         </td><td style=\"text-align: right;\">         93288.3        </td><td style=\"text-align: right;\"> 305.431</td><td style=\"text-align: right;\"> 93288.3        </td><td style=\"text-align: right;\"> 207.273</td><td style=\"text-align: right;\">0.0447833</td></tr>\n",
       "<tr><td>GBM_grid__1_AutoML_20210531_153323_model_4         </td><td style=\"text-align: right;\">         93374.5        </td><td style=\"text-align: right;\"> 305.572</td><td style=\"text-align: right;\"> 93374.5        </td><td style=\"text-align: right;\"> 193.702</td><td style=\"text-align: right;\">0.045104 </td></tr>\n",
       "<tr><td>GBM_grid__1_AutoML_20210531_153323_model_7         </td><td style=\"text-align: right;\">         96627.1        </td><td style=\"text-align: right;\"> 310.849</td><td style=\"text-align: right;\"> 96627.1        </td><td style=\"text-align: right;\"> 205.759</td><td style=\"text-align: right;\">0.0455576</td></tr>\n",
       "<tr><td>GBM_grid__1_AutoML_20210531_153323_model_5         </td><td style=\"text-align: right;\">         98016.1        </td><td style=\"text-align: right;\"> 313.075</td><td style=\"text-align: right;\"> 98016.1        </td><td style=\"text-align: right;\"> 209.467</td><td style=\"text-align: right;\">0.0458199</td></tr>\n",
       "<tr><td>DRF_1_AutoML_20210531_153323                       </td><td style=\"text-align: right;\">        103320          </td><td style=\"text-align: right;\"> 321.434</td><td style=\"text-align: right;\">103320          </td><td style=\"text-align: right;\"> 216.056</td><td style=\"text-align: right;\">0.0467892</td></tr>\n",
       "<tr><td>GBM_5_AutoML_20210531_153323                       </td><td style=\"text-align: right;\">        109317          </td><td style=\"text-align: right;\"> 330.632</td><td style=\"text-align: right;\">109317          </td><td style=\"text-align: right;\"> 216.523</td><td style=\"text-align: right;\">0.0489656</td></tr>\n",
       "<tr><td>GBM_grid__1_AutoML_20210531_153323_model_6         </td><td style=\"text-align: right;\">        120053          </td><td style=\"text-align: right;\"> 346.487</td><td style=\"text-align: right;\">120053          </td><td style=\"text-align: right;\"> 224.738</td><td style=\"text-align: right;\">0.0512961</td></tr>\n",
       "<tr><td>XRT_1_AutoML_20210531_153323                       </td><td style=\"text-align: right;\">        124634          </td><td style=\"text-align: right;\"> 353.036</td><td style=\"text-align: right;\">124634          </td><td style=\"text-align: right;\"> 251.394</td><td style=\"text-align: right;\">0.0511854</td></tr>\n",
       "<tr><td>DeepLearning_grid__3_AutoML_20210531_153323_model_2</td><td style=\"text-align: right;\">        141401          </td><td style=\"text-align: right;\"> 376.033</td><td style=\"text-align: right;\">141401          </td><td style=\"text-align: right;\"> 254.151</td><td style=\"text-align: right;\">0.0553863</td></tr>\n",
       "<tr><td>DeepLearning_grid__2_AutoML_20210531_153323_model_1</td><td style=\"text-align: right;\">        170301          </td><td style=\"text-align: right;\"> 412.675</td><td style=\"text-align: right;\">170301          </td><td style=\"text-align: right;\"> 296.499</td><td style=\"text-align: right;\">0.0604811</td></tr>\n",
       "<tr><td>DeepLearning_grid__2_AutoML_20210531_153323_model_2</td><td style=\"text-align: right;\">        203166          </td><td style=\"text-align: right;\"> 450.739</td><td style=\"text-align: right;\">203166          </td><td style=\"text-align: right;\"> 321.305</td><td style=\"text-align: right;\">0.0654724</td></tr>\n",
       "<tr><td>DeepLearning_grid__3_AutoML_20210531_153323_model_1</td><td style=\"text-align: right;\">        232242          </td><td style=\"text-align: right;\"> 481.915</td><td style=\"text-align: right;\">232242          </td><td style=\"text-align: right;\"> 355.672</td><td style=\"text-align: right;\">0.0705342</td></tr>\n",
       "<tr><td>GBM_grid__1_AutoML_20210531_153323_model_8         </td><td style=\"text-align: right;\">        235366          </td><td style=\"text-align: right;\"> 485.145</td><td style=\"text-align: right;\">235366          </td><td style=\"text-align: right;\"> 378.73 </td><td style=\"text-align: right;\">0.0730133</td></tr>\n",
       "<tr><td>DeepLearning_grid__2_AutoML_20210531_153323_model_3</td><td style=\"text-align: right;\">        254348          </td><td style=\"text-align: right;\"> 504.329</td><td style=\"text-align: right;\">254348          </td><td style=\"text-align: right;\"> 404.555</td><td style=\"text-align: right;\">0.0751644</td></tr>\n",
       "<tr><td>DeepLearning_grid__1_AutoML_20210531_153323_model_1</td><td style=\"text-align: right;\">        256449          </td><td style=\"text-align: right;\"> 506.408</td><td style=\"text-align: right;\">256449          </td><td style=\"text-align: right;\"> 384.972</td><td style=\"text-align: right;\">0.0747151</td></tr>\n",
       "<tr><td>DeepLearning_grid__1_AutoML_20210531_153323_model_2</td><td style=\"text-align: right;\">        343936          </td><td style=\"text-align: right;\"> 586.46 </td><td style=\"text-align: right;\">343936          </td><td style=\"text-align: right;\"> 447.91 </td><td style=\"text-align: right;\">0.0848084</td></tr>\n",
       "<tr><td>DeepLearning_1_AutoML_20210531_153323              </td><td style=\"text-align: right;\">        371398          </td><td style=\"text-align: right;\"> 609.424</td><td style=\"text-align: right;\">371398          </td><td style=\"text-align: right;\"> 459.526</td><td style=\"text-align: right;\">0.0892848</td></tr>\n",
       "<tr><td>DeepLearning_grid__1_AutoML_20210531_153323_model_3</td><td style=\"text-align: right;\">        479034          </td><td style=\"text-align: right;\"> 692.123</td><td style=\"text-align: right;\">479034          </td><td style=\"text-align: right;\"> 548.024</td><td style=\"text-align: right;\">0.0982651</td></tr>\n",
       "<tr><td>GLM_1_AutoML_20210531_153323                       </td><td style=\"text-align: right;\">             1.54437e+06</td><td style=\"text-align: right;\">1242.73 </td><td style=\"text-align: right;\">     1.54437e+06</td><td style=\"text-align: right;\">1118.39 </td><td style=\"text-align: right;\">0.177673 </td></tr>\n",
       "</tbody>\n",
       "</table>"
      ]
     },
     "metadata": {},
     "output_type": "display_data"
    },
    {
     "name": "stdout",
     "output_type": "stream",
     "text": [
      "\n",
      "num :  54\n",
      "pred :  9072\n"
     ]
    },
    {
     "name": "stderr",
     "output_type": "stream",
     "text": [
      "\r",
      " 90%|███████████████████████████████████████████████████████████████████▌       | 54/60 [17:15:15<1:59:10, 1191.78s/it]"
     ]
    },
    {
     "name": "stdout",
     "output_type": "stream",
     "text": [
      "\n",
      "15:52:31.264: AutoML: XGBoost is not available; skipping it.\n",
      "\n"
     ]
    },
    {
     "data": {
      "text/html": [
       "<table>\n",
       "<thead>\n",
       "<tr><th>model_id                                           </th><th style=\"text-align: right;\">  mean_residual_deviance</th><th style=\"text-align: right;\">   rmse</th><th style=\"text-align: right;\">     mse</th><th style=\"text-align: right;\">     mae</th><th style=\"text-align: right;\">    rmsle</th></tr>\n",
       "</thead>\n",
       "<tbody>\n",
       "<tr><td>StackedEnsemble_AllModels_AutoML_20210531_155231   </td><td style=\"text-align: right;\">                 18756.3</td><td style=\"text-align: right;\">136.953</td><td style=\"text-align: right;\"> 18756.3</td><td style=\"text-align: right;\"> 82.8488</td><td style=\"text-align: right;\">0.0607962</td></tr>\n",
       "<tr><td>StackedEnsemble_BestOfFamily_AutoML_20210531_155231</td><td style=\"text-align: right;\">                 19074.1</td><td style=\"text-align: right;\">138.109</td><td style=\"text-align: right;\"> 19074.1</td><td style=\"text-align: right;\"> 83.3437</td><td style=\"text-align: right;\">0.0611554</td></tr>\n",
       "<tr><td>GBM_3_AutoML_20210531_155231                       </td><td style=\"text-align: right;\">                 19892.3</td><td style=\"text-align: right;\">141.04 </td><td style=\"text-align: right;\"> 19892.3</td><td style=\"text-align: right;\"> 85.6456</td><td style=\"text-align: right;\">0.0621773</td></tr>\n",
       "<tr><td>GBM_2_AutoML_20210531_155231                       </td><td style=\"text-align: right;\">                 19903.5</td><td style=\"text-align: right;\">141.08 </td><td style=\"text-align: right;\"> 19903.5</td><td style=\"text-align: right;\"> 87.9866</td><td style=\"text-align: right;\">0.0627474</td></tr>\n",
       "<tr><td>GBM_grid__1_AutoML_20210531_155231_model_2         </td><td style=\"text-align: right;\">                 20245  </td><td style=\"text-align: right;\">142.285</td><td style=\"text-align: right;\"> 20245  </td><td style=\"text-align: right;\"> 89.172 </td><td style=\"text-align: right;\">0.063482 </td></tr>\n",
       "<tr><td>GBM_4_AutoML_20210531_155231                       </td><td style=\"text-align: right;\">                 20661.2</td><td style=\"text-align: right;\">143.74 </td><td style=\"text-align: right;\"> 20661.2</td><td style=\"text-align: right;\"> 88.8553</td><td style=\"text-align: right;\">0.063629 </td></tr>\n",
       "<tr><td>GBM_grid__1_AutoML_20210531_155231_model_4         </td><td style=\"text-align: right;\">                 20691.4</td><td style=\"text-align: right;\">143.845</td><td style=\"text-align: right;\"> 20691.4</td><td style=\"text-align: right;\"> 87.5886</td><td style=\"text-align: right;\">0.0644266</td></tr>\n",
       "<tr><td>GBM_grid__1_AutoML_20210531_155231_model_1         </td><td style=\"text-align: right;\">                 20807  </td><td style=\"text-align: right;\">144.246</td><td style=\"text-align: right;\"> 20807  </td><td style=\"text-align: right;\"> 92.2408</td><td style=\"text-align: right;\">0.0646676</td></tr>\n",
       "<tr><td>GBM_1_AutoML_20210531_155231                       </td><td style=\"text-align: right;\">                 21496  </td><td style=\"text-align: right;\">146.615</td><td style=\"text-align: right;\"> 21496  </td><td style=\"text-align: right;\"> 90.213 </td><td style=\"text-align: right;\">0.0641201</td></tr>\n",
       "<tr><td>GBM_grid__1_AutoML_20210531_155231_model_7         </td><td style=\"text-align: right;\">                 21739.4</td><td style=\"text-align: right;\">147.443</td><td style=\"text-align: right;\"> 21739.4</td><td style=\"text-align: right;\"> 95.497 </td><td style=\"text-align: right;\">0.06561  </td></tr>\n",
       "<tr><td>GBM_grid__1_AutoML_20210531_155231_model_5         </td><td style=\"text-align: right;\">                 23374.3</td><td style=\"text-align: right;\">152.887</td><td style=\"text-align: right;\"> 23374.3</td><td style=\"text-align: right;\">100.365 </td><td style=\"text-align: right;\">0.0682472</td></tr>\n",
       "<tr><td>GBM_grid__1_AutoML_20210531_155231_model_3         </td><td style=\"text-align: right;\">                 24585.9</td><td style=\"text-align: right;\">156.799</td><td style=\"text-align: right;\"> 24585.9</td><td style=\"text-align: right;\">103.153 </td><td style=\"text-align: right;\">0.0703641</td></tr>\n",
       "<tr><td>GBM_5_AutoML_20210531_155231                       </td><td style=\"text-align: right;\">                 26268  </td><td style=\"text-align: right;\">162.074</td><td style=\"text-align: right;\"> 26268  </td><td style=\"text-align: right;\">108.046 </td><td style=\"text-align: right;\">0.0726801</td></tr>\n",
       "<tr><td>DRF_1_AutoML_20210531_155231                       </td><td style=\"text-align: right;\">                 26566  </td><td style=\"text-align: right;\">162.991</td><td style=\"text-align: right;\"> 26566  </td><td style=\"text-align: right;\">103.728 </td><td style=\"text-align: right;\">0.0708148</td></tr>\n",
       "<tr><td>GBM_grid__1_AutoML_20210531_155231_model_6         </td><td style=\"text-align: right;\">                 30045.8</td><td style=\"text-align: right;\">173.337</td><td style=\"text-align: right;\"> 30045.8</td><td style=\"text-align: right;\">116.346 </td><td style=\"text-align: right;\">0.0774124</td></tr>\n",
       "<tr><td>XRT_1_AutoML_20210531_155231                       </td><td style=\"text-align: right;\">                 33402.2</td><td style=\"text-align: right;\">182.763</td><td style=\"text-align: right;\"> 33402.2</td><td style=\"text-align: right;\">119.388 </td><td style=\"text-align: right;\">0.0784631</td></tr>\n",
       "<tr><td>DeepLearning_grid__3_AutoML_20210531_155231_model_2</td><td style=\"text-align: right;\">                 35340  </td><td style=\"text-align: right;\">187.989</td><td style=\"text-align: right;\"> 35340  </td><td style=\"text-align: right;\">120.288 </td><td style=\"text-align: right;\">0.0816255</td></tr>\n",
       "<tr><td>DeepLearning_grid__2_AutoML_20210531_155231_model_1</td><td style=\"text-align: right;\">                 44388.3</td><td style=\"text-align: right;\">210.685</td><td style=\"text-align: right;\"> 44388.3</td><td style=\"text-align: right;\">141.33  </td><td style=\"text-align: right;\">0.0944911</td></tr>\n",
       "<tr><td>GBM_grid__1_AutoML_20210531_155231_model_8         </td><td style=\"text-align: right;\">                 54064.4</td><td style=\"text-align: right;\">232.517</td><td style=\"text-align: right;\"> 54064.4</td><td style=\"text-align: right;\">175.461 </td><td style=\"text-align: right;\">0.107686 </td></tr>\n",
       "<tr><td>DeepLearning_grid__3_AutoML_20210531_155231_model_1</td><td style=\"text-align: right;\">                 56929.1</td><td style=\"text-align: right;\">238.598</td><td style=\"text-align: right;\"> 56929.1</td><td style=\"text-align: right;\">165.998 </td><td style=\"text-align: right;\">0.1083   </td></tr>\n",
       "<tr><td>DeepLearning_grid__1_AutoML_20210531_155231_model_1</td><td style=\"text-align: right;\">                 60458.3</td><td style=\"text-align: right;\">245.883</td><td style=\"text-align: right;\"> 60458.3</td><td style=\"text-align: right;\">171.112 </td><td style=\"text-align: right;\">0.109367 </td></tr>\n",
       "<tr><td>DeepLearning_grid__2_AutoML_20210531_155231_model_2</td><td style=\"text-align: right;\">                 65200.6</td><td style=\"text-align: right;\">255.344</td><td style=\"text-align: right;\"> 65200.6</td><td style=\"text-align: right;\">169.207 </td><td style=\"text-align: right;\">0.112302 </td></tr>\n",
       "<tr><td>DeepLearning_grid__2_AutoML_20210531_155231_model_3</td><td style=\"text-align: right;\">                 95059.8</td><td style=\"text-align: right;\">308.318</td><td style=\"text-align: right;\"> 95059.8</td><td style=\"text-align: right;\">239.446 </td><td style=\"text-align: right;\">0.135271 </td></tr>\n",
       "<tr><td>DeepLearning_grid__1_AutoML_20210531_155231_model_2</td><td style=\"text-align: right;\">                 96001.2</td><td style=\"text-align: right;\">309.841</td><td style=\"text-align: right;\"> 96001.2</td><td style=\"text-align: right;\">224.355 </td><td style=\"text-align: right;\">0.141522 </td></tr>\n",
       "<tr><td>DeepLearning_grid__1_AutoML_20210531_155231_model_3</td><td style=\"text-align: right;\">                121745  </td><td style=\"text-align: right;\">348.92 </td><td style=\"text-align: right;\">121745  </td><td style=\"text-align: right;\">264.863 </td><td style=\"text-align: right;\">0.155187 </td></tr>\n",
       "<tr><td>DeepLearning_1_AutoML_20210531_155231              </td><td style=\"text-align: right;\">                121846  </td><td style=\"text-align: right;\">349.065</td><td style=\"text-align: right;\">121846  </td><td style=\"text-align: right;\">265.668 </td><td style=\"text-align: right;\">0.163251 </td></tr>\n",
       "<tr><td>GLM_1_AutoML_20210531_155231                       </td><td style=\"text-align: right;\">                228168  </td><td style=\"text-align: right;\">477.669</td><td style=\"text-align: right;\">228168  </td><td style=\"text-align: right;\">373.771 </td><td style=\"text-align: right;\">0.21126  </td></tr>\n",
       "</tbody>\n",
       "</table>"
      ]
     },
     "metadata": {},
     "output_type": "display_data"
    },
    {
     "name": "stdout",
     "output_type": "stream",
     "text": [
      "\n",
      "num :  55\n",
      "pred :  9240\n"
     ]
    },
    {
     "name": "stderr",
     "output_type": "stream",
     "text": [
      "\r",
      " 92%|████████████████████████████████████████████████████████████████████▊      | 55/60 [17:32:52<1:35:56, 1151.30s/it]"
     ]
    },
    {
     "name": "stdout",
     "output_type": "stream",
     "text": [
      "\n",
      "16:10:08.107: AutoML: XGBoost is not available; skipping it.\n",
      "\n"
     ]
    },
    {
     "data": {
      "text/html": [
       "<table>\n",
       "<thead>\n",
       "<tr><th>model_id                                           </th><th style=\"text-align: right;\">  mean_residual_deviance</th><th style=\"text-align: right;\">    rmse</th><th style=\"text-align: right;\">     mse</th><th style=\"text-align: right;\">     mae</th><th style=\"text-align: right;\">      rmsle</th></tr>\n",
       "</thead>\n",
       "<tbody>\n",
       "<tr><td>StackedEnsemble_AllModels_AutoML_20210531_161008   </td><td style=\"text-align: right;\">                 4957.95</td><td style=\"text-align: right;\"> 70.4127</td><td style=\"text-align: right;\"> 4957.95</td><td style=\"text-align: right;\"> 42.5185</td><td style=\"text-align: right;\">  0.0823375</td></tr>\n",
       "<tr><td>StackedEnsemble_BestOfFamily_AutoML_20210531_161008</td><td style=\"text-align: right;\">                 5050.57</td><td style=\"text-align: right;\"> 71.0673</td><td style=\"text-align: right;\"> 5050.57</td><td style=\"text-align: right;\"> 42.768 </td><td style=\"text-align: right;\">  0.0827144</td></tr>\n",
       "<tr><td>GBM_3_AutoML_20210531_161008                       </td><td style=\"text-align: right;\">                 5125.94</td><td style=\"text-align: right;\"> 71.5956</td><td style=\"text-align: right;\"> 5125.94</td><td style=\"text-align: right;\"> 43.2177</td><td style=\"text-align: right;\">  0.083256 </td></tr>\n",
       "<tr><td>GBM_2_AutoML_20210531_161008                       </td><td style=\"text-align: right;\">                 5308.58</td><td style=\"text-align: right;\"> 72.86  </td><td style=\"text-align: right;\"> 5308.58</td><td style=\"text-align: right;\"> 44.0657</td><td style=\"text-align: right;\">  0.0850418</td></tr>\n",
       "<tr><td>GBM_grid__1_AutoML_20210531_161008_model_2         </td><td style=\"text-align: right;\">                 5465.33</td><td style=\"text-align: right;\"> 73.9279</td><td style=\"text-align: right;\"> 5465.33</td><td style=\"text-align: right;\"> 46.1336</td><td style=\"text-align: right;\">  0.0881194</td></tr>\n",
       "<tr><td>GBM_grid__1_AutoML_20210531_161008_model_4         </td><td style=\"text-align: right;\">                 5561.94</td><td style=\"text-align: right;\"> 74.5784</td><td style=\"text-align: right;\"> 5561.94</td><td style=\"text-align: right;\"> 45.9308</td><td style=\"text-align: right;\">  0.0878596</td></tr>\n",
       "<tr><td>GBM_grid__1_AutoML_20210531_161008_model_1         </td><td style=\"text-align: right;\">                 5631.43</td><td style=\"text-align: right;\"> 75.0428</td><td style=\"text-align: right;\"> 5631.43</td><td style=\"text-align: right;\"> 46.1757</td><td style=\"text-align: right;\">  0.0886697</td></tr>\n",
       "<tr><td>GBM_4_AutoML_20210531_161008                       </td><td style=\"text-align: right;\">                 5664.67</td><td style=\"text-align: right;\"> 75.264 </td><td style=\"text-align: right;\"> 5664.67</td><td style=\"text-align: right;\"> 46.1737</td><td style=\"text-align: right;\">  0.0900082</td></tr>\n",
       "<tr><td>GBM_1_AutoML_20210531_161008                       </td><td style=\"text-align: right;\">                 5809.06</td><td style=\"text-align: right;\"> 76.2172</td><td style=\"text-align: right;\"> 5809.06</td><td style=\"text-align: right;\"> 45.807 </td><td style=\"text-align: right;\">  0.0893298</td></tr>\n",
       "<tr><td>GBM_grid__1_AutoML_20210531_161008_model_7         </td><td style=\"text-align: right;\">                 5838.37</td><td style=\"text-align: right;\"> 76.4093</td><td style=\"text-align: right;\"> 5838.37</td><td style=\"text-align: right;\"> 47.688 </td><td style=\"text-align: right;\">  0.0903868</td></tr>\n",
       "<tr><td>GBM_grid__1_AutoML_20210531_161008_model_3         </td><td style=\"text-align: right;\">                 5995.88</td><td style=\"text-align: right;\"> 77.4331</td><td style=\"text-align: right;\"> 5995.88</td><td style=\"text-align: right;\"> 49.662 </td><td style=\"text-align: right;\">  0.0933235</td></tr>\n",
       "<tr><td>GBM_grid__1_AutoML_20210531_161008_model_5         </td><td style=\"text-align: right;\">                 6075.57</td><td style=\"text-align: right;\"> 77.9459</td><td style=\"text-align: right;\"> 6075.57</td><td style=\"text-align: right;\"> 49.7938</td><td style=\"text-align: right;\">  0.0939043</td></tr>\n",
       "<tr><td>DRF_1_AutoML_20210531_161008                       </td><td style=\"text-align: right;\">                 6967.67</td><td style=\"text-align: right;\"> 83.4726</td><td style=\"text-align: right;\"> 6967.67</td><td style=\"text-align: right;\"> 51.9669</td><td style=\"text-align: right;\">  0.096425 </td></tr>\n",
       "<tr><td>GBM_5_AutoML_20210531_161008                       </td><td style=\"text-align: right;\">                 7083.99</td><td style=\"text-align: right;\"> 84.1665</td><td style=\"text-align: right;\"> 7083.99</td><td style=\"text-align: right;\"> 53.7681</td><td style=\"text-align: right;\">  0.0998552</td></tr>\n",
       "<tr><td>GBM_grid__1_AutoML_20210531_161008_model_6         </td><td style=\"text-align: right;\">                 8133.78</td><td style=\"text-align: right;\"> 90.1875</td><td style=\"text-align: right;\"> 8133.78</td><td style=\"text-align: right;\"> 58.3179</td><td style=\"text-align: right;\">  0.106802 </td></tr>\n",
       "<tr><td>XRT_1_AutoML_20210531_161008                       </td><td style=\"text-align: right;\">                 8707.05</td><td style=\"text-align: right;\"> 93.3116</td><td style=\"text-align: right;\"> 8707.05</td><td style=\"text-align: right;\"> 59.9683</td><td style=\"text-align: right;\">  0.110519 </td></tr>\n",
       "<tr><td>DeepLearning_grid__3_AutoML_20210531_161008_model_2</td><td style=\"text-align: right;\">                11756.5 </td><td style=\"text-align: right;\">108.427 </td><td style=\"text-align: right;\">11756.5 </td><td style=\"text-align: right;\"> 65.2015</td><td style=\"text-align: right;\">  0.121582 </td></tr>\n",
       "<tr><td>GBM_grid__1_AutoML_20210531_161008_model_8         </td><td style=\"text-align: right;\">                12627.7 </td><td style=\"text-align: right;\">112.373 </td><td style=\"text-align: right;\">12627.7 </td><td style=\"text-align: right;\"> 82.8334</td><td style=\"text-align: right;\">  0.1452   </td></tr>\n",
       "<tr><td>DeepLearning_grid__2_AutoML_20210531_161008_model_1</td><td style=\"text-align: right;\">                14502.9 </td><td style=\"text-align: right;\">120.428 </td><td style=\"text-align: right;\">14502.9 </td><td style=\"text-align: right;\"> 81.6749</td><td style=\"text-align: right;\">  0.15011  </td></tr>\n",
       "<tr><td>DeepLearning_grid__2_AutoML_20210531_161008_model_2</td><td style=\"text-align: right;\">                14596.1 </td><td style=\"text-align: right;\">120.814 </td><td style=\"text-align: right;\">14596.1 </td><td style=\"text-align: right;\"> 81.6077</td><td style=\"text-align: right;\">  0.14633  </td></tr>\n",
       "<tr><td>DeepLearning_grid__1_AutoML_20210531_161008_model_1</td><td style=\"text-align: right;\">                15524.5 </td><td style=\"text-align: right;\">124.597 </td><td style=\"text-align: right;\">15524.5 </td><td style=\"text-align: right;\"> 85.1126</td><td style=\"text-align: right;\">  0.15869  </td></tr>\n",
       "<tr><td>DeepLearning_grid__3_AutoML_20210531_161008_model_1</td><td style=\"text-align: right;\">                16021.2 </td><td style=\"text-align: right;\">126.575 </td><td style=\"text-align: right;\">16021.2 </td><td style=\"text-align: right;\"> 80.9691</td><td style=\"text-align: right;\">  0.147315 </td></tr>\n",
       "<tr><td>DeepLearning_grid__2_AutoML_20210531_161008_model_3</td><td style=\"text-align: right;\">                18261   </td><td style=\"text-align: right;\">135.133 </td><td style=\"text-align: right;\">18261   </td><td style=\"text-align: right;\"> 89.1076</td><td style=\"text-align: right;\">  0.153543 </td></tr>\n",
       "<tr><td>DeepLearning_grid__1_AutoML_20210531_161008_model_2</td><td style=\"text-align: right;\">                22052.7 </td><td style=\"text-align: right;\">148.502 </td><td style=\"text-align: right;\">22052.7 </td><td style=\"text-align: right;\">104.994 </td><td style=\"text-align: right;\">nan        </td></tr>\n",
       "<tr><td>DeepLearning_grid__1_AutoML_20210531_161008_model_3</td><td style=\"text-align: right;\">                23893.7 </td><td style=\"text-align: right;\">154.576 </td><td style=\"text-align: right;\">23893.7 </td><td style=\"text-align: right;\">113.99  </td><td style=\"text-align: right;\">  0.193347 </td></tr>\n",
       "<tr><td>DeepLearning_1_AutoML_20210531_161008              </td><td style=\"text-align: right;\">                26787   </td><td style=\"text-align: right;\">163.667 </td><td style=\"text-align: right;\">26787   </td><td style=\"text-align: right;\">117.805 </td><td style=\"text-align: right;\">  0.216547 </td></tr>\n",
       "<tr><td>GLM_1_AutoML_20210531_161008                       </td><td style=\"text-align: right;\">                36982.9 </td><td style=\"text-align: right;\">192.309 </td><td style=\"text-align: right;\">36982.9 </td><td style=\"text-align: right;\">148.386 </td><td style=\"text-align: right;\">  0.248575 </td></tr>\n",
       "</tbody>\n",
       "</table>"
      ]
     },
     "metadata": {},
     "output_type": "display_data"
    },
    {
     "name": "stdout",
     "output_type": "stream",
     "text": [
      "\n",
      "num :  56\n",
      "pred :  9408\n"
     ]
    },
    {
     "name": "stderr",
     "output_type": "stream",
     "text": [
      "\r",
      " 93%|██████████████████████████████████████████████████████████████████████     | 56/60 [17:49:30<1:13:41, 1105.32s/it]"
     ]
    },
    {
     "name": "stdout",
     "output_type": "stream",
     "text": [
      "\n",
      "16:26:46.155: AutoML: XGBoost is not available; skipping it.\n",
      "\n"
     ]
    },
    {
     "data": {
      "text/html": [
       "<table>\n",
       "<thead>\n",
       "<tr><th>model_id                                           </th><th style=\"text-align: right;\">  mean_residual_deviance</th><th style=\"text-align: right;\">   rmse</th><th style=\"text-align: right;\">     mse</th><th style=\"text-align: right;\">    mae</th><th style=\"text-align: right;\">    rmsle</th></tr>\n",
       "</thead>\n",
       "<tbody>\n",
       "<tr><td>StackedEnsemble_AllModels_AutoML_20210531_162646   </td><td style=\"text-align: right;\">                 45284.5</td><td style=\"text-align: right;\">212.802</td><td style=\"text-align: right;\"> 45284.5</td><td style=\"text-align: right;\">137.534</td><td style=\"text-align: right;\">0.0808525</td></tr>\n",
       "<tr><td>StackedEnsemble_BestOfFamily_AutoML_20210531_162646</td><td style=\"text-align: right;\">                 45924.7</td><td style=\"text-align: right;\">214.3  </td><td style=\"text-align: right;\"> 45924.7</td><td style=\"text-align: right;\">138.628</td><td style=\"text-align: right;\">0.0815371</td></tr>\n",
       "<tr><td>GBM_3_AutoML_20210531_162646                       </td><td style=\"text-align: right;\">                 46305.9</td><td style=\"text-align: right;\">215.188</td><td style=\"text-align: right;\"> 46305.9</td><td style=\"text-align: right;\">139.813</td><td style=\"text-align: right;\">0.0817038</td></tr>\n",
       "<tr><td>GBM_2_AutoML_20210531_162646                       </td><td style=\"text-align: right;\">                 46985.2</td><td style=\"text-align: right;\">216.761</td><td style=\"text-align: right;\"> 46985.2</td><td style=\"text-align: right;\">143.293</td><td style=\"text-align: right;\">0.0822915</td></tr>\n",
       "<tr><td>GBM_grid__1_AutoML_20210531_162646_model_3         </td><td style=\"text-align: right;\">                 48339.6</td><td style=\"text-align: right;\">219.863</td><td style=\"text-align: right;\"> 48339.6</td><td style=\"text-align: right;\">142.962</td><td style=\"text-align: right;\">0.0826027</td></tr>\n",
       "<tr><td>GBM_4_AutoML_20210531_162646                       </td><td style=\"text-align: right;\">                 49027.6</td><td style=\"text-align: right;\">221.422</td><td style=\"text-align: right;\"> 49027.6</td><td style=\"text-align: right;\">142.571</td><td style=\"text-align: right;\">0.0830975</td></tr>\n",
       "<tr><td>GBM_grid__1_AutoML_20210531_162646_model_7         </td><td style=\"text-align: right;\">                 51193.7</td><td style=\"text-align: right;\">226.26 </td><td style=\"text-align: right;\"> 51193.7</td><td style=\"text-align: right;\">148.605</td><td style=\"text-align: right;\">0.0850678</td></tr>\n",
       "<tr><td>GBM_1_AutoML_20210531_162646                       </td><td style=\"text-align: right;\">                 51918.5</td><td style=\"text-align: right;\">227.856</td><td style=\"text-align: right;\"> 51918.5</td><td style=\"text-align: right;\">143.669</td><td style=\"text-align: right;\">0.0848676</td></tr>\n",
       "<tr><td>GBM_grid__1_AutoML_20210531_162646_model_1         </td><td style=\"text-align: right;\">                 54949.5</td><td style=\"text-align: right;\">234.413</td><td style=\"text-align: right;\"> 54949.5</td><td style=\"text-align: right;\">154.35 </td><td style=\"text-align: right;\">0.088315 </td></tr>\n",
       "<tr><td>GBM_grid__1_AutoML_20210531_162646_model_4         </td><td style=\"text-align: right;\">                 55041.1</td><td style=\"text-align: right;\">234.608</td><td style=\"text-align: right;\"> 55041.1</td><td style=\"text-align: right;\">151.65 </td><td style=\"text-align: right;\">0.0889094</td></tr>\n",
       "<tr><td>GBM_grid__1_AutoML_20210531_162646_model_2         </td><td style=\"text-align: right;\">                 55161  </td><td style=\"text-align: right;\">234.864</td><td style=\"text-align: right;\"> 55161  </td><td style=\"text-align: right;\">151.538</td><td style=\"text-align: right;\">0.0882499</td></tr>\n",
       "<tr><td>GBM_grid__1_AutoML_20210531_162646_model_5         </td><td style=\"text-align: right;\">                 55343.4</td><td style=\"text-align: right;\">235.252</td><td style=\"text-align: right;\"> 55343.4</td><td style=\"text-align: right;\">156.525</td><td style=\"text-align: right;\">0.0880785</td></tr>\n",
       "<tr><td>DRF_1_AutoML_20210531_162646                       </td><td style=\"text-align: right;\">                 66116.3</td><td style=\"text-align: right;\">257.131</td><td style=\"text-align: right;\"> 66116.3</td><td style=\"text-align: right;\">173.221</td><td style=\"text-align: right;\">0.0963906</td></tr>\n",
       "<tr><td>GBM_5_AutoML_20210531_162646                       </td><td style=\"text-align: right;\">                 67599.9</td><td style=\"text-align: right;\">260    </td><td style=\"text-align: right;\"> 67599.9</td><td style=\"text-align: right;\">177.805</td><td style=\"text-align: right;\">0.101166 </td></tr>\n",
       "<tr><td>GBM_grid__1_AutoML_20210531_162646_model_6         </td><td style=\"text-align: right;\">                 83730.4</td><td style=\"text-align: right;\">289.362</td><td style=\"text-align: right;\"> 83730.4</td><td style=\"text-align: right;\">205.81 </td><td style=\"text-align: right;\">0.112804 </td></tr>\n",
       "<tr><td>XRT_1_AutoML_20210531_162646                       </td><td style=\"text-align: right;\">                 90904.4</td><td style=\"text-align: right;\">301.504</td><td style=\"text-align: right;\"> 90904.4</td><td style=\"text-align: right;\">210.672</td><td style=\"text-align: right;\">0.115718 </td></tr>\n",
       "<tr><td>GBM_grid__1_AutoML_20210531_162646_model_8         </td><td style=\"text-align: right;\">                117140  </td><td style=\"text-align: right;\">342.258</td><td style=\"text-align: right;\">117140  </td><td style=\"text-align: right;\">251.485</td><td style=\"text-align: right;\">0.135926 </td></tr>\n",
       "<tr><td>DeepLearning_grid__3_AutoML_20210531_162646_model_2</td><td style=\"text-align: right;\">                121286  </td><td style=\"text-align: right;\">348.262</td><td style=\"text-align: right;\">121286  </td><td style=\"text-align: right;\">243.168</td><td style=\"text-align: right;\">0.131755 </td></tr>\n",
       "<tr><td>DeepLearning_grid__2_AutoML_20210531_162646_model_1</td><td style=\"text-align: right;\">                128377  </td><td style=\"text-align: right;\">358.298</td><td style=\"text-align: right;\">128377  </td><td style=\"text-align: right;\">253.516</td><td style=\"text-align: right;\">0.137942 </td></tr>\n",
       "<tr><td>DeepLearning_grid__1_AutoML_20210531_162646_model_1</td><td style=\"text-align: right;\">                159500  </td><td style=\"text-align: right;\">399.374</td><td style=\"text-align: right;\">159500  </td><td style=\"text-align: right;\">292.276</td><td style=\"text-align: right;\">0.154229 </td></tr>\n",
       "<tr><td>DeepLearning_grid__2_AutoML_20210531_162646_model_2</td><td style=\"text-align: right;\">                163047  </td><td style=\"text-align: right;\">403.79 </td><td style=\"text-align: right;\">163047  </td><td style=\"text-align: right;\">291.412</td><td style=\"text-align: right;\">0.150325 </td></tr>\n",
       "<tr><td>DeepLearning_grid__3_AutoML_20210531_162646_model_1</td><td style=\"text-align: right;\">                168456  </td><td style=\"text-align: right;\">410.434</td><td style=\"text-align: right;\">168456  </td><td style=\"text-align: right;\">299.577</td><td style=\"text-align: right;\">0.158302 </td></tr>\n",
       "<tr><td>DeepLearning_grid__2_AutoML_20210531_162646_model_3</td><td style=\"text-align: right;\">                180305  </td><td style=\"text-align: right;\">424.624</td><td style=\"text-align: right;\">180305  </td><td style=\"text-align: right;\">317.853</td><td style=\"text-align: right;\">0.158561 </td></tr>\n",
       "<tr><td>DeepLearning_grid__1_AutoML_20210531_162646_model_3</td><td style=\"text-align: right;\">                183836  </td><td style=\"text-align: right;\">428.761</td><td style=\"text-align: right;\">183836  </td><td style=\"text-align: right;\">316.099</td><td style=\"text-align: right;\">0.16754  </td></tr>\n",
       "<tr><td>DeepLearning_1_AutoML_20210531_162646              </td><td style=\"text-align: right;\">                186370  </td><td style=\"text-align: right;\">431.706</td><td style=\"text-align: right;\">186370  </td><td style=\"text-align: right;\">328.118</td><td style=\"text-align: right;\">0.169667 </td></tr>\n",
       "<tr><td>DeepLearning_grid__1_AutoML_20210531_162646_model_2</td><td style=\"text-align: right;\">                190843  </td><td style=\"text-align: right;\">436.856</td><td style=\"text-align: right;\">190843  </td><td style=\"text-align: right;\">325.157</td><td style=\"text-align: right;\">0.171616 </td></tr>\n",
       "<tr><td>GLM_1_AutoML_20210531_162646                       </td><td style=\"text-align: right;\">                243789  </td><td style=\"text-align: right;\">493.75 </td><td style=\"text-align: right;\">243789  </td><td style=\"text-align: right;\">383.849</td><td style=\"text-align: right;\">0.191325 </td></tr>\n",
       "</tbody>\n",
       "</table>"
      ]
     },
     "metadata": {},
     "output_type": "display_data"
    },
    {
     "name": "stdout",
     "output_type": "stream",
     "text": [
      "\n",
      "num :  57\n",
      "pred :  9576\n"
     ]
    },
    {
     "name": "stderr",
     "output_type": "stream",
     "text": [
      "\r",
      " 95%|█████████████████████████████████████████████████████████████████████████▏   | 57/60 [18:05:39<53:13, 1064.61s/it]"
     ]
    },
    {
     "name": "stdout",
     "output_type": "stream",
     "text": [
      "\n",
      "16:42:55.759: AutoML: XGBoost is not available; skipping it.\n",
      "\n"
     ]
    },
    {
     "data": {
      "text/html": [
       "<table>\n",
       "<thead>\n",
       "<tr><th>model_id                                           </th><th style=\"text-align: right;\">  mean_residual_deviance</th><th style=\"text-align: right;\">    rmse</th><th style=\"text-align: right;\">     mse</th><th style=\"text-align: right;\">     mae</th><th style=\"text-align: right;\">    rmsle</th></tr>\n",
       "</thead>\n",
       "<tbody>\n",
       "<tr><td>StackedEnsemble_AllModels_AutoML_20210531_164255   </td><td style=\"text-align: right;\">                 1662.18</td><td style=\"text-align: right;\"> 40.7699</td><td style=\"text-align: right;\"> 1662.18</td><td style=\"text-align: right;\"> 29.738 </td><td style=\"text-align: right;\">0.0442736</td></tr>\n",
       "<tr><td>StackedEnsemble_BestOfFamily_AutoML_20210531_164255</td><td style=\"text-align: right;\">                 1674.9 </td><td style=\"text-align: right;\"> 40.9256</td><td style=\"text-align: right;\"> 1674.9 </td><td style=\"text-align: right;\"> 29.9083</td><td style=\"text-align: right;\">0.0444792</td></tr>\n",
       "<tr><td>GBM_3_AutoML_20210531_164255                       </td><td style=\"text-align: right;\">                 1698.11</td><td style=\"text-align: right;\"> 41.2081</td><td style=\"text-align: right;\"> 1698.11</td><td style=\"text-align: right;\"> 30.1884</td><td style=\"text-align: right;\">0.0448247</td></tr>\n",
       "<tr><td>GBM_1_AutoML_20210531_164255                       </td><td style=\"text-align: right;\">                 1699.73</td><td style=\"text-align: right;\"> 41.2278</td><td style=\"text-align: right;\"> 1699.73</td><td style=\"text-align: right;\"> 29.4014</td><td style=\"text-align: right;\">0.0441848</td></tr>\n",
       "<tr><td>GBM_grid__1_AutoML_20210531_164255_model_4         </td><td style=\"text-align: right;\">                 1720.18</td><td style=\"text-align: right;\"> 41.4751</td><td style=\"text-align: right;\"> 1720.18</td><td style=\"text-align: right;\"> 30.458 </td><td style=\"text-align: right;\">0.0454664</td></tr>\n",
       "<tr><td>GBM_grid__1_AutoML_20210531_164255_model_7         </td><td style=\"text-align: right;\">                 1786.31</td><td style=\"text-align: right;\"> 42.2648</td><td style=\"text-align: right;\"> 1786.31</td><td style=\"text-align: right;\"> 30.9967</td><td style=\"text-align: right;\">0.0458844</td></tr>\n",
       "<tr><td>GBM_4_AutoML_20210531_164255                       </td><td style=\"text-align: right;\">                 1835.27</td><td style=\"text-align: right;\"> 42.8401</td><td style=\"text-align: right;\"> 1835.27</td><td style=\"text-align: right;\"> 31.766 </td><td style=\"text-align: right;\">0.0469291</td></tr>\n",
       "<tr><td>GBM_grid__1_AutoML_20210531_164255_model_2         </td><td style=\"text-align: right;\">                 1863.07</td><td style=\"text-align: right;\"> 43.1633</td><td style=\"text-align: right;\"> 1863.07</td><td style=\"text-align: right;\"> 32.0567</td><td style=\"text-align: right;\">0.0475316</td></tr>\n",
       "<tr><td>GBM_2_AutoML_20210531_164255                       </td><td style=\"text-align: right;\">                 2002.89</td><td style=\"text-align: right;\"> 44.7536</td><td style=\"text-align: right;\"> 2002.89</td><td style=\"text-align: right;\"> 33.3636</td><td style=\"text-align: right;\">0.0489787</td></tr>\n",
       "<tr><td>GBM_grid__1_AutoML_20210531_164255_model_5         </td><td style=\"text-align: right;\">                 2016.48</td><td style=\"text-align: right;\"> 44.9053</td><td style=\"text-align: right;\"> 2016.48</td><td style=\"text-align: right;\"> 33.7834</td><td style=\"text-align: right;\">0.0495124</td></tr>\n",
       "<tr><td>GBM_grid__1_AutoML_20210531_164255_model_1         </td><td style=\"text-align: right;\">                 2054.14</td><td style=\"text-align: right;\"> 45.3226</td><td style=\"text-align: right;\"> 2054.14</td><td style=\"text-align: right;\"> 34.103 </td><td style=\"text-align: right;\">0.0501393</td></tr>\n",
       "<tr><td>GBM_grid__1_AutoML_20210531_164255_model_3         </td><td style=\"text-align: right;\">                 2062.15</td><td style=\"text-align: right;\"> 45.4109</td><td style=\"text-align: right;\"> 2062.15</td><td style=\"text-align: right;\"> 34.3262</td><td style=\"text-align: right;\">0.0502306</td></tr>\n",
       "<tr><td>GBM_5_AutoML_20210531_164255                       </td><td style=\"text-align: right;\">                 2139.26</td><td style=\"text-align: right;\"> 46.2521</td><td style=\"text-align: right;\"> 2139.26</td><td style=\"text-align: right;\"> 34.4812</td><td style=\"text-align: right;\">0.0512837</td></tr>\n",
       "<tr><td>GBM_grid__1_AutoML_20210531_164255_model_6         </td><td style=\"text-align: right;\">                 2328.15</td><td style=\"text-align: right;\"> 48.2509</td><td style=\"text-align: right;\"> 2328.15</td><td style=\"text-align: right;\"> 35.786 </td><td style=\"text-align: right;\">0.053258 </td></tr>\n",
       "<tr><td>DRF_1_AutoML_20210531_164255                       </td><td style=\"text-align: right;\">                 2361.76</td><td style=\"text-align: right;\"> 48.598 </td><td style=\"text-align: right;\"> 2361.76</td><td style=\"text-align: right;\"> 35.9538</td><td style=\"text-align: right;\">0.0530577</td></tr>\n",
       "<tr><td>XRT_1_AutoML_20210531_164255                       </td><td style=\"text-align: right;\">                 3217.75</td><td style=\"text-align: right;\"> 56.7252</td><td style=\"text-align: right;\"> 3217.75</td><td style=\"text-align: right;\"> 43.341 </td><td style=\"text-align: right;\">0.0620602</td></tr>\n",
       "<tr><td>DeepLearning_grid__3_AutoML_20210531_164255_model_2</td><td style=\"text-align: right;\">                 4546.32</td><td style=\"text-align: right;\"> 67.4264</td><td style=\"text-align: right;\"> 4546.32</td><td style=\"text-align: right;\"> 49.1213</td><td style=\"text-align: right;\">0.0720553</td></tr>\n",
       "<tr><td>GBM_grid__1_AutoML_20210531_164255_model_8         </td><td style=\"text-align: right;\">                 4566.37</td><td style=\"text-align: right;\"> 67.5749</td><td style=\"text-align: right;\"> 4566.37</td><td style=\"text-align: right;\"> 51.698 </td><td style=\"text-align: right;\">0.0761548</td></tr>\n",
       "<tr><td>DeepLearning_grid__2_AutoML_20210531_164255_model_1</td><td style=\"text-align: right;\">                 4776.59</td><td style=\"text-align: right;\"> 69.1129</td><td style=\"text-align: right;\"> 4776.59</td><td style=\"text-align: right;\"> 53.0361</td><td style=\"text-align: right;\">0.0767806</td></tr>\n",
       "<tr><td>DeepLearning_grid__3_AutoML_20210531_164255_model_1</td><td style=\"text-align: right;\">                 5312.83</td><td style=\"text-align: right;\"> 72.8892</td><td style=\"text-align: right;\"> 5312.83</td><td style=\"text-align: right;\"> 55.0095</td><td style=\"text-align: right;\">0.0785363</td></tr>\n",
       "<tr><td>DeepLearning_grid__1_AutoML_20210531_164255_model_1</td><td style=\"text-align: right;\">                 6049.08</td><td style=\"text-align: right;\"> 77.7758</td><td style=\"text-align: right;\"> 6049.08</td><td style=\"text-align: right;\"> 60.8824</td><td style=\"text-align: right;\">0.086254 </td></tr>\n",
       "<tr><td>DeepLearning_grid__2_AutoML_20210531_164255_model_2</td><td style=\"text-align: right;\">                 6258.55</td><td style=\"text-align: right;\"> 79.111 </td><td style=\"text-align: right;\"> 6258.55</td><td style=\"text-align: right;\"> 58.7187</td><td style=\"text-align: right;\">0.0847411</td></tr>\n",
       "<tr><td>DeepLearning_grid__1_AutoML_20210531_164255_model_2</td><td style=\"text-align: right;\">                 8504.35</td><td style=\"text-align: right;\"> 92.219 </td><td style=\"text-align: right;\"> 8504.35</td><td style=\"text-align: right;\"> 71.7256</td><td style=\"text-align: right;\">0.107042 </td></tr>\n",
       "<tr><td>DeepLearning_1_AutoML_20210531_164255              </td><td style=\"text-align: right;\">                 9452.11</td><td style=\"text-align: right;\"> 97.222 </td><td style=\"text-align: right;\"> 9452.11</td><td style=\"text-align: right;\"> 77.2317</td><td style=\"text-align: right;\">0.113644 </td></tr>\n",
       "<tr><td>DeepLearning_grid__1_AutoML_20210531_164255_model_3</td><td style=\"text-align: right;\">                12237.1 </td><td style=\"text-align: right;\">110.621 </td><td style=\"text-align: right;\">12237.1 </td><td style=\"text-align: right;\"> 89.9403</td><td style=\"text-align: right;\">0.125381 </td></tr>\n",
       "<tr><td>DeepLearning_grid__2_AutoML_20210531_164255_model_3</td><td style=\"text-align: right;\">                14301.3 </td><td style=\"text-align: right;\">119.588 </td><td style=\"text-align: right;\">14301.3 </td><td style=\"text-align: right;\"> 99.7686</td><td style=\"text-align: right;\">0.147058 </td></tr>\n",
       "<tr><td>GLM_1_AutoML_20210531_164255                       </td><td style=\"text-align: right;\">                35621.6 </td><td style=\"text-align: right;\">188.737 </td><td style=\"text-align: right;\">35621.6 </td><td style=\"text-align: right;\">158.804 </td><td style=\"text-align: right;\">0.214573 </td></tr>\n",
       "</tbody>\n",
       "</table>"
      ]
     },
     "metadata": {},
     "output_type": "display_data"
    },
    {
     "name": "stdout",
     "output_type": "stream",
     "text": [
      "\n",
      "num :  58\n",
      "pred :  9744\n"
     ]
    },
    {
     "name": "stderr",
     "output_type": "stream",
     "text": [
      "\r",
      " 97%|██████████████████████████████████████████████████████████████████████████▍  | 58/60 [18:26:01<37:03, 1111.89s/it]"
     ]
    },
    {
     "name": "stdout",
     "output_type": "stream",
     "text": [
      "\n",
      "17:03:17.980: AutoML: XGBoost is not available; skipping it.\n",
      "\n"
     ]
    },
    {
     "data": {
      "text/html": [
       "<table>\n",
       "<thead>\n",
       "<tr><th>model_id                                           </th><th style=\"text-align: right;\">  mean_residual_deviance</th><th style=\"text-align: right;\">   rmse</th><th style=\"text-align: right;\">    mse</th><th style=\"text-align: right;\">    mae</th><th style=\"text-align: right;\">   rmsle</th></tr>\n",
       "</thead>\n",
       "<tbody>\n",
       "<tr><td>StackedEnsemble_AllModels_AutoML_20210531_170317   </td><td style=\"text-align: right;\">                 24682.3</td><td style=\"text-align: right;\">157.106</td><td style=\"text-align: right;\">24682.3</td><td style=\"text-align: right;\">126.933</td><td style=\"text-align: right;\">0.14989 </td></tr>\n",
       "<tr><td>StackedEnsemble_BestOfFamily_AutoML_20210531_170317</td><td style=\"text-align: right;\">                 24907.9</td><td style=\"text-align: right;\">157.822</td><td style=\"text-align: right;\">24907.9</td><td style=\"text-align: right;\">127.734</td><td style=\"text-align: right;\">0.150741</td></tr>\n",
       "<tr><td>GBM_grid__1_AutoML_20210531_170317_model_4         </td><td style=\"text-align: right;\">                 24923.8</td><td style=\"text-align: right;\">157.873</td><td style=\"text-align: right;\">24923.8</td><td style=\"text-align: right;\">127.753</td><td style=\"text-align: right;\">0.151058</td></tr>\n",
       "<tr><td>GBM_5_AutoML_20210531_170317                       </td><td style=\"text-align: right;\">                 25216.6</td><td style=\"text-align: right;\">158.797</td><td style=\"text-align: right;\">25216.6</td><td style=\"text-align: right;\">127.257</td><td style=\"text-align: right;\">0.150155</td></tr>\n",
       "<tr><td>GBM_grid__1_AutoML_20210531_170317_model_7         </td><td style=\"text-align: right;\">                 25438.9</td><td style=\"text-align: right;\">159.496</td><td style=\"text-align: right;\">25438.9</td><td style=\"text-align: right;\">128.796</td><td style=\"text-align: right;\">0.152045</td></tr>\n",
       "<tr><td>GBM_1_AutoML_20210531_170317                       </td><td style=\"text-align: right;\">                 25445.3</td><td style=\"text-align: right;\">159.516</td><td style=\"text-align: right;\">25445.3</td><td style=\"text-align: right;\">129.02 </td><td style=\"text-align: right;\">0.152151</td></tr>\n",
       "<tr><td>GBM_2_AutoML_20210531_170317                       </td><td style=\"text-align: right;\">                 25763.5</td><td style=\"text-align: right;\">160.51 </td><td style=\"text-align: right;\">25763.5</td><td style=\"text-align: right;\">129.815</td><td style=\"text-align: right;\">0.15309 </td></tr>\n",
       "<tr><td>GBM_grid__1_AutoML_20210531_170317_model_2         </td><td style=\"text-align: right;\">                 25926.1</td><td style=\"text-align: right;\">161.016</td><td style=\"text-align: right;\">25926.1</td><td style=\"text-align: right;\">129.935</td><td style=\"text-align: right;\">0.153194</td></tr>\n",
       "<tr><td>GBM_grid__1_AutoML_20210531_170317_model_6         </td><td style=\"text-align: right;\">                 26077.3</td><td style=\"text-align: right;\">161.485</td><td style=\"text-align: right;\">26077.3</td><td style=\"text-align: right;\">129.153</td><td style=\"text-align: right;\">0.152028</td></tr>\n",
       "<tr><td>GBM_grid__1_AutoML_20210531_170317_model_5         </td><td style=\"text-align: right;\">                 26161.9</td><td style=\"text-align: right;\">161.747</td><td style=\"text-align: right;\">26161.9</td><td style=\"text-align: right;\">130.683</td><td style=\"text-align: right;\">0.15377 </td></tr>\n",
       "<tr><td>GBM_3_AutoML_20210531_170317                       </td><td style=\"text-align: right;\">                 26185.1</td><td style=\"text-align: right;\">161.818</td><td style=\"text-align: right;\">26185.1</td><td style=\"text-align: right;\">131.136</td><td style=\"text-align: right;\">0.154444</td></tr>\n",
       "<tr><td>DRF_1_AutoML_20210531_170317                       </td><td style=\"text-align: right;\">                 26775.7</td><td style=\"text-align: right;\">163.633</td><td style=\"text-align: right;\">26775.7</td><td style=\"text-align: right;\">132.933</td><td style=\"text-align: right;\">0.156489</td></tr>\n",
       "<tr><td>GBM_grid__1_AutoML_20210531_170317_model_3         </td><td style=\"text-align: right;\">                 26883.1</td><td style=\"text-align: right;\">163.961</td><td style=\"text-align: right;\">26883.1</td><td style=\"text-align: right;\">132.954</td><td style=\"text-align: right;\">0.15651 </td></tr>\n",
       "<tr><td>GBM_4_AutoML_20210531_170317                       </td><td style=\"text-align: right;\">                 27004.6</td><td style=\"text-align: right;\">164.331</td><td style=\"text-align: right;\">27004.6</td><td style=\"text-align: right;\">133.237</td><td style=\"text-align: right;\">0.156668</td></tr>\n",
       "<tr><td>GBM_grid__1_AutoML_20210531_170317_model_8         </td><td style=\"text-align: right;\">                 27295.5</td><td style=\"text-align: right;\">165.214</td><td style=\"text-align: right;\">27295.5</td><td style=\"text-align: right;\">132.189</td><td style=\"text-align: right;\">0.155573</td></tr>\n",
       "<tr><td>GBM_grid__1_AutoML_20210531_170317_model_1         </td><td style=\"text-align: right;\">                 27363.5</td><td style=\"text-align: right;\">165.419</td><td style=\"text-align: right;\">27363.5</td><td style=\"text-align: right;\">133.443</td><td style=\"text-align: right;\">0.157471</td></tr>\n",
       "<tr><td>XRT_1_AutoML_20210531_170317                       </td><td style=\"text-align: right;\">                 28211.9</td><td style=\"text-align: right;\">167.964</td><td style=\"text-align: right;\">28211.9</td><td style=\"text-align: right;\">135.686</td><td style=\"text-align: right;\">0.159659</td></tr>\n",
       "<tr><td>DeepLearning_grid__2_AutoML_20210531_170317_model_2</td><td style=\"text-align: right;\">                 28635  </td><td style=\"text-align: right;\">169.219</td><td style=\"text-align: right;\">28635  </td><td style=\"text-align: right;\">135.749</td><td style=\"text-align: right;\">0.158771</td></tr>\n",
       "<tr><td>DeepLearning_grid__1_AutoML_20210531_170317_model_3</td><td style=\"text-align: right;\">                 29109.9</td><td style=\"text-align: right;\">170.616</td><td style=\"text-align: right;\">29109.9</td><td style=\"text-align: right;\">135.962</td><td style=\"text-align: right;\">0.160975</td></tr>\n",
       "<tr><td>DeepLearning_grid__1_AutoML_20210531_170317_model_2</td><td style=\"text-align: right;\">                 30052.6</td><td style=\"text-align: right;\">173.357</td><td style=\"text-align: right;\">30052.6</td><td style=\"text-align: right;\">137.14 </td><td style=\"text-align: right;\">0.160458</td></tr>\n",
       "<tr><td>DeepLearning_1_AutoML_20210531_170317              </td><td style=\"text-align: right;\">                 31820.8</td><td style=\"text-align: right;\">178.384</td><td style=\"text-align: right;\">31820.8</td><td style=\"text-align: right;\">142.905</td><td style=\"text-align: right;\">0.170156</td></tr>\n",
       "<tr><td>DeepLearning_grid__3_AutoML_20210531_170317_model_1</td><td style=\"text-align: right;\">                 31861.7</td><td style=\"text-align: right;\">178.498</td><td style=\"text-align: right;\">31861.7</td><td style=\"text-align: right;\">140.449</td><td style=\"text-align: right;\">0.165626</td></tr>\n",
       "<tr><td>DeepLearning_grid__1_AutoML_20210531_170317_model_1</td><td style=\"text-align: right;\">                 34799.6</td><td style=\"text-align: right;\">186.547</td><td style=\"text-align: right;\">34799.6</td><td style=\"text-align: right;\">146.368</td><td style=\"text-align: right;\">0.173545</td></tr>\n",
       "<tr><td>DeepLearning_grid__2_AutoML_20210531_170317_model_1</td><td style=\"text-align: right;\">                 35144.5</td><td style=\"text-align: right;\">187.469</td><td style=\"text-align: right;\">35144.5</td><td style=\"text-align: right;\">148.096</td><td style=\"text-align: right;\">0.172952</td></tr>\n",
       "<tr><td>DeepLearning_grid__3_AutoML_20210531_170317_model_2</td><td style=\"text-align: right;\">                 35347.8</td><td style=\"text-align: right;\">188.01 </td><td style=\"text-align: right;\">35347.8</td><td style=\"text-align: right;\">148.756</td><td style=\"text-align: right;\">0.176304</td></tr>\n",
       "<tr><td>GLM_1_AutoML_20210531_170317                       </td><td style=\"text-align: right;\">                 38337.7</td><td style=\"text-align: right;\">195.8  </td><td style=\"text-align: right;\">38337.7</td><td style=\"text-align: right;\">154.503</td><td style=\"text-align: right;\">0.184301</td></tr>\n",
       "<tr><td>DeepLearning_grid__2_AutoML_20210531_170317_model_3</td><td style=\"text-align: right;\">                 38606.1</td><td style=\"text-align: right;\">196.484</td><td style=\"text-align: right;\">38606.1</td><td style=\"text-align: right;\">156.938</td><td style=\"text-align: right;\">0.185133</td></tr>\n",
       "</tbody>\n",
       "</table>"
      ]
     },
     "metadata": {},
     "output_type": "display_data"
    },
    {
     "name": "stdout",
     "output_type": "stream",
     "text": [
      "\n",
      "num :  59\n",
      "pred :  9912\n"
     ]
    },
    {
     "name": "stderr",
     "output_type": "stream",
     "text": [
      "\r",
      " 98%|███████████████████████████████████████████████████████████████████████████▋ | 59/60 [18:40:11<17:13, 1033.26s/it]"
     ]
    },
    {
     "name": "stdout",
     "output_type": "stream",
     "text": [
      "\n",
      "17:17:27.755: AutoML: XGBoost is not available; skipping it.\n",
      "\n"
     ]
    },
    {
     "data": {
      "text/html": [
       "<table>\n",
       "<thead>\n",
       "<tr><th>model_id                                           </th><th style=\"text-align: right;\">  mean_residual_deviance</th><th style=\"text-align: right;\">   rmse</th><th style=\"text-align: right;\">    mse</th><th style=\"text-align: right;\">     mae</th><th style=\"text-align: right;\">    rmsle</th></tr>\n",
       "</thead>\n",
       "<tbody>\n",
       "<tr><td>StackedEnsemble_BestOfFamily_AutoML_20210531_171727</td><td style=\"text-align: right;\">                 18739.5</td><td style=\"text-align: right;\">136.892</td><td style=\"text-align: right;\">18739.5</td><td style=\"text-align: right;\"> 99.641 </td><td style=\"text-align: right;\">0.0412418</td></tr>\n",
       "<tr><td>StackedEnsemble_AllModels_AutoML_20210531_171727   </td><td style=\"text-align: right;\">                 18754.8</td><td style=\"text-align: right;\">136.948</td><td style=\"text-align: right;\">18754.8</td><td style=\"text-align: right;\"> 99.5984</td><td style=\"text-align: right;\">0.041254 </td></tr>\n",
       "<tr><td>GBM_grid__1_AutoML_20210531_171727_model_1         </td><td style=\"text-align: right;\">                 18996.7</td><td style=\"text-align: right;\">137.829</td><td style=\"text-align: right;\">18996.7</td><td style=\"text-align: right;\"> 99.8687</td><td style=\"text-align: right;\">0.04151  </td></tr>\n",
       "<tr><td>GBM_4_AutoML_20210531_171727                       </td><td style=\"text-align: right;\">                 19107.9</td><td style=\"text-align: right;\">138.231</td><td style=\"text-align: right;\">19107.9</td><td style=\"text-align: right;\"> 99.591 </td><td style=\"text-align: right;\">0.0416077</td></tr>\n",
       "<tr><td>GBM_grid__1_AutoML_20210531_171727_model_2         </td><td style=\"text-align: right;\">                 19136.3</td><td style=\"text-align: right;\">138.334</td><td style=\"text-align: right;\">19136.3</td><td style=\"text-align: right;\">101.02  </td><td style=\"text-align: right;\">0.0416601</td></tr>\n",
       "<tr><td>GBM_3_AutoML_20210531_171727                       </td><td style=\"text-align: right;\">                 19154  </td><td style=\"text-align: right;\">138.398</td><td style=\"text-align: right;\">19154  </td><td style=\"text-align: right;\">101.09  </td><td style=\"text-align: right;\">0.0416802</td></tr>\n",
       "<tr><td>GBM_2_AutoML_20210531_171727                       </td><td style=\"text-align: right;\">                 19814.3</td><td style=\"text-align: right;\">140.763</td><td style=\"text-align: right;\">19814.3</td><td style=\"text-align: right;\">102.896 </td><td style=\"text-align: right;\">0.0423656</td></tr>\n",
       "<tr><td>GBM_grid__1_AutoML_20210531_171727_model_4         </td><td style=\"text-align: right;\">                 20170.6</td><td style=\"text-align: right;\">142.023</td><td style=\"text-align: right;\">20170.6</td><td style=\"text-align: right;\">105.157 </td><td style=\"text-align: right;\">0.042902 </td></tr>\n",
       "<tr><td>GBM_grid__1_AutoML_20210531_171727_model_3         </td><td style=\"text-align: right;\">                 20194.3</td><td style=\"text-align: right;\">142.107</td><td style=\"text-align: right;\">20194.3</td><td style=\"text-align: right;\">102.979 </td><td style=\"text-align: right;\">0.042724 </td></tr>\n",
       "<tr><td>GBM_grid__1_AutoML_20210531_171727_model_7         </td><td style=\"text-align: right;\">                 20196.3</td><td style=\"text-align: right;\">142.114</td><td style=\"text-align: right;\">20196.3</td><td style=\"text-align: right;\">104.45  </td><td style=\"text-align: right;\">0.0427802</td></tr>\n",
       "<tr><td>GBM_1_AutoML_20210531_171727                       </td><td style=\"text-align: right;\">                 20244.7</td><td style=\"text-align: right;\">142.284</td><td style=\"text-align: right;\">20244.7</td><td style=\"text-align: right;\">103.005 </td><td style=\"text-align: right;\">0.0427241</td></tr>\n",
       "<tr><td>DRF_1_AutoML_20210531_171727                       </td><td style=\"text-align: right;\">                 20610  </td><td style=\"text-align: right;\">143.562</td><td style=\"text-align: right;\">20610  </td><td style=\"text-align: right;\">105.515 </td><td style=\"text-align: right;\">0.0431362</td></tr>\n",
       "<tr><td>GBM_grid__1_AutoML_20210531_171727_model_5         </td><td style=\"text-align: right;\">                 20617  </td><td style=\"text-align: right;\">143.586</td><td style=\"text-align: right;\">20617  </td><td style=\"text-align: right;\">104.379 </td><td style=\"text-align: right;\">0.0432692</td></tr>\n",
       "<tr><td>XRT_1_AutoML_20210531_171727                       </td><td style=\"text-align: right;\">                 22007.2</td><td style=\"text-align: right;\">148.348</td><td style=\"text-align: right;\">22007.2</td><td style=\"text-align: right;\">109.212 </td><td style=\"text-align: right;\">0.0446573</td></tr>\n",
       "<tr><td>GBM_5_AutoML_20210531_171727                       </td><td style=\"text-align: right;\">                 24030.2</td><td style=\"text-align: right;\">155.017</td><td style=\"text-align: right;\">24030.2</td><td style=\"text-align: right;\">116.352 </td><td style=\"text-align: right;\">0.0471991</td></tr>\n",
       "<tr><td>GBM_grid__1_AutoML_20210531_171727_model_6         </td><td style=\"text-align: right;\">                 25587.1</td><td style=\"text-align: right;\">159.96 </td><td style=\"text-align: right;\">25587.1</td><td style=\"text-align: right;\">120.774 </td><td style=\"text-align: right;\">0.0488267</td></tr>\n",
       "<tr><td>GBM_grid__1_AutoML_20210531_171727_model_8         </td><td style=\"text-align: right;\">                 28866.4</td><td style=\"text-align: right;\">169.901</td><td style=\"text-align: right;\">28866.4</td><td style=\"text-align: right;\">130.847 </td><td style=\"text-align: right;\">0.0512946</td></tr>\n",
       "<tr><td>DeepLearning_grid__3_AutoML_20210531_171727_model_2</td><td style=\"text-align: right;\">                 30350.5</td><td style=\"text-align: right;\">174.214</td><td style=\"text-align: right;\">30350.5</td><td style=\"text-align: right;\">129.456 </td><td style=\"text-align: right;\">0.0521164</td></tr>\n",
       "<tr><td>DeepLearning_grid__1_AutoML_20210531_171727_model_1</td><td style=\"text-align: right;\">                 32429  </td><td style=\"text-align: right;\">180.081</td><td style=\"text-align: right;\">32429  </td><td style=\"text-align: right;\">139.007 </td><td style=\"text-align: right;\">0.0538467</td></tr>\n",
       "<tr><td>DeepLearning_grid__2_AutoML_20210531_171727_model_1</td><td style=\"text-align: right;\">                 35054.6</td><td style=\"text-align: right;\">187.229</td><td style=\"text-align: right;\">35054.6</td><td style=\"text-align: right;\">143.129 </td><td style=\"text-align: right;\">0.0556067</td></tr>\n",
       "<tr><td>DeepLearning_grid__3_AutoML_20210531_171727_model_1</td><td style=\"text-align: right;\">                 37715.5</td><td style=\"text-align: right;\">194.205</td><td style=\"text-align: right;\">37715.5</td><td style=\"text-align: right;\">149.078 </td><td style=\"text-align: right;\">0.0577297</td></tr>\n",
       "<tr><td>DeepLearning_grid__1_AutoML_20210531_171727_model_3</td><td style=\"text-align: right;\">                 43971.1</td><td style=\"text-align: right;\">209.693</td><td style=\"text-align: right;\">43971.1</td><td style=\"text-align: right;\">163.88  </td><td style=\"text-align: right;\">0.0624119</td></tr>\n",
       "<tr><td>DeepLearning_grid__2_AutoML_20210531_171727_model_2</td><td style=\"text-align: right;\">                 45540.5</td><td style=\"text-align: right;\">213.402</td><td style=\"text-align: right;\">45540.5</td><td style=\"text-align: right;\">162.052 </td><td style=\"text-align: right;\">0.0632959</td></tr>\n",
       "<tr><td>DeepLearning_grid__1_AutoML_20210531_171727_model_2</td><td style=\"text-align: right;\">                 51180.9</td><td style=\"text-align: right;\">226.232</td><td style=\"text-align: right;\">51180.9</td><td style=\"text-align: right;\">174.354 </td><td style=\"text-align: right;\">0.0671922</td></tr>\n",
       "<tr><td>DeepLearning_1_AutoML_20210531_171727              </td><td style=\"text-align: right;\">                 58806.8</td><td style=\"text-align: right;\">242.501</td><td style=\"text-align: right;\">58806.8</td><td style=\"text-align: right;\">189.78  </td><td style=\"text-align: right;\">0.0722565</td></tr>\n",
       "<tr><td>DeepLearning_grid__2_AutoML_20210531_171727_model_3</td><td style=\"text-align: right;\">                 60575  </td><td style=\"text-align: right;\">246.12 </td><td style=\"text-align: right;\">60575  </td><td style=\"text-align: right;\">183.081 </td><td style=\"text-align: right;\">0.0731949</td></tr>\n",
       "<tr><td>GLM_1_AutoML_20210531_171727                       </td><td style=\"text-align: right;\">                 65925.9</td><td style=\"text-align: right;\">256.76 </td><td style=\"text-align: right;\">65925.9</td><td style=\"text-align: right;\">206.193 </td><td style=\"text-align: right;\">0.0766239</td></tr>\n",
       "</tbody>\n",
       "</table>"
      ]
     },
     "metadata": {},
     "output_type": "display_data"
    },
    {
     "name": "stdout",
     "output_type": "stream",
     "text": [
      "\n",
      "num :  60\n",
      "pred :  10080\n"
     ]
    },
    {
     "name": "stderr",
     "output_type": "stream",
     "text": [
      "100%|█████████████████████████████████████████████████████████████████████████████| 60/60 [18:59:28<00:00, 1139.47s/it]\n"
     ]
    }
   ],
   "source": [
    "pred = pd.DataFrame()\n",
    "col_x = ['feature_2', 'feature_3', 'feature_4', 'feature_5', 'feature_6', 'feature_7', 'feature_8',\n",
    "         'feature_9', 'feature_10', 'feature_11', 'feature_12', 'feature_13', 'feature_14']\n",
    "col_y = 'feature_1'\n",
    "\n",
    "\n",
    "for num in tqdm(range(1, 61)):\n",
    "    sub_train_x = train_x[train_x['num'] == num]\n",
    "    sub_test_x = test_x[test_x['num'] == num]\n",
    "    \n",
    "    h2o_train_x = h2o.H2OFrame(sub_train_x)\n",
    "    h2o_test_x = h2o.H2OFrame(sub_test_x)\n",
    "\n",
    "    aml = H2OAutoML(max_models = 25, seed = 42)\n",
    "    \n",
    "    aml.train(x = col_x, y = col_y, training_frame = h2o_train_x)\n",
    "    \n",
    "    lb = aml.leaderboard\n",
    "    print(lb.head(rows=lb.nrows))\n",
    "    \n",
    "    aml.leader.download_mojo(path=\"./mojo/\")\n",
    "\n",
    "    h2o.save_model(aml.leader, path=\"./save_models/aml_model_{}\".format(num))\n",
    "    \n",
    "    tmp_pred = aml.predict(h2o_test_x)\n",
    "    tmp_pred_df = h2o.as_list(tmp_pred)\n",
    "    pred = pd.concat([pred, tmp_pred_df], axis=0)\n",
    "    print(\"num : \", num)\n",
    "    print(\"pred : \", len(pred))"
   ]
  },
  {
   "cell_type": "code",
   "execution_count": 27,
   "metadata": {},
   "outputs": [
    {
     "data": {
      "text/plain": [
       "\"saved_model = h2o.load_model('./save_models/aml_model_1/GBM_grid__1_AutoML_20210530_021937_model_2')\\n\\nsub_test_x = test_x[test_x['num'] == 1]\\nh2o_test_x = h2o.H2OFrame(sub_test_x)\\ntmp_pred = saved_model.predict(h2o_test_x)\\ntmp_pred_df = h2o.as_list(tmp_pred)\\n\\ntmp_pred_df\""
      ]
     },
     "execution_count": 27,
     "metadata": {},
     "output_type": "execute_result"
    }
   ],
   "source": [
    "\"\"\"saved_model = h2o.load_model('./save_models/aml_model_1/GBM_grid__1_AutoML_20210530_021937_model_2')\n",
    "\n",
    "sub_test_x = test_x[test_x['num'] == 1]\n",
    "h2o_test_x = h2o.H2OFrame(sub_test_x)\n",
    "tmp_pred = saved_model.predict(h2o_test_x)\n",
    "tmp_pred_df = h2o.as_list(tmp_pred)\n",
    "\n",
    "tmp_pred_df\"\"\""
   ]
  },
  {
   "cell_type": "markdown",
   "metadata": {},
   "source": [
    "# Submission"
   ]
  },
  {
   "cell_type": "code",
   "execution_count": 28,
   "metadata": {},
   "outputs": [
    {
     "data": {
      "text/html": [
       "<div>\n",
       "<style scoped>\n",
       "    .dataframe tbody tr th:only-of-type {\n",
       "        vertical-align: middle;\n",
       "    }\n",
       "\n",
       "    .dataframe tbody tr th {\n",
       "        vertical-align: top;\n",
       "    }\n",
       "\n",
       "    .dataframe thead th {\n",
       "        text-align: right;\n",
       "    }\n",
       "</style>\n",
       "<table border=\"1\" class=\"dataframe\">\n",
       "  <thead>\n",
       "    <tr style=\"text-align: right;\">\n",
       "      <th></th>\n",
       "      <th>predict</th>\n",
       "    </tr>\n",
       "  </thead>\n",
       "  <tbody>\n",
       "    <tr>\n",
       "      <th>0</th>\n",
       "      <td>8725.081872</td>\n",
       "    </tr>\n",
       "    <tr>\n",
       "      <th>1</th>\n",
       "      <td>8719.827350</td>\n",
       "    </tr>\n",
       "    <tr>\n",
       "      <th>2</th>\n",
       "      <td>8715.432920</td>\n",
       "    </tr>\n",
       "    <tr>\n",
       "      <th>3</th>\n",
       "      <td>8708.157275</td>\n",
       "    </tr>\n",
       "    <tr>\n",
       "      <th>4</th>\n",
       "      <td>8674.958497</td>\n",
       "    </tr>\n",
       "    <tr>\n",
       "      <th>...</th>\n",
       "      <td>...</td>\n",
       "    </tr>\n",
       "    <tr>\n",
       "      <th>163</th>\n",
       "      <td>4233.530923</td>\n",
       "    </tr>\n",
       "    <tr>\n",
       "      <th>164</th>\n",
       "      <td>4185.810948</td>\n",
       "    </tr>\n",
       "    <tr>\n",
       "      <th>165</th>\n",
       "      <td>3936.108330</td>\n",
       "    </tr>\n",
       "    <tr>\n",
       "      <th>166</th>\n",
       "      <td>3782.079877</td>\n",
       "    </tr>\n",
       "    <tr>\n",
       "      <th>167</th>\n",
       "      <td>3585.652205</td>\n",
       "    </tr>\n",
       "  </tbody>\n",
       "</table>\n",
       "<p>10080 rows × 1 columns</p>\n",
       "</div>"
      ],
      "text/plain": [
       "         predict\n",
       "0    8725.081872\n",
       "1    8719.827350\n",
       "2    8715.432920\n",
       "3    8708.157275\n",
       "4    8674.958497\n",
       "..           ...\n",
       "163  4233.530923\n",
       "164  4185.810948\n",
       "165  3936.108330\n",
       "166  3782.079877\n",
       "167  3585.652205\n",
       "\n",
       "[10080 rows x 1 columns]"
      ]
     },
     "execution_count": 28,
     "metadata": {},
     "output_type": "execute_result"
    }
   ],
   "source": [
    "pred"
   ]
  },
  {
   "cell_type": "code",
   "execution_count": 29,
   "metadata": {},
   "outputs": [],
   "source": [
    "submission = pd.read_csv('./submission/sample_submission.csv')"
   ]
  },
  {
   "cell_type": "code",
   "execution_count": 30,
   "metadata": {},
   "outputs": [],
   "source": [
    "submission['answer'] = pred['predict'].values"
   ]
  },
  {
   "cell_type": "code",
   "execution_count": 31,
   "metadata": {},
   "outputs": [
    {
     "data": {
      "text/html": [
       "<div>\n",
       "<style scoped>\n",
       "    .dataframe tbody tr th:only-of-type {\n",
       "        vertical-align: middle;\n",
       "    }\n",
       "\n",
       "    .dataframe tbody tr th {\n",
       "        vertical-align: top;\n",
       "    }\n",
       "\n",
       "    .dataframe thead th {\n",
       "        text-align: right;\n",
       "    }\n",
       "</style>\n",
       "<table border=\"1\" class=\"dataframe\">\n",
       "  <thead>\n",
       "    <tr style=\"text-align: right;\">\n",
       "      <th></th>\n",
       "      <th>num_date_time</th>\n",
       "      <th>answer</th>\n",
       "    </tr>\n",
       "  </thead>\n",
       "  <tbody>\n",
       "    <tr>\n",
       "      <th>0</th>\n",
       "      <td>1 2020-08-25 00</td>\n",
       "      <td>8725.081872</td>\n",
       "    </tr>\n",
       "    <tr>\n",
       "      <th>1</th>\n",
       "      <td>1 2020-08-25 01</td>\n",
       "      <td>8719.827350</td>\n",
       "    </tr>\n",
       "    <tr>\n",
       "      <th>2</th>\n",
       "      <td>1 2020-08-25 02</td>\n",
       "      <td>8715.432920</td>\n",
       "    </tr>\n",
       "    <tr>\n",
       "      <th>3</th>\n",
       "      <td>1 2020-08-25 03</td>\n",
       "      <td>8708.157275</td>\n",
       "    </tr>\n",
       "    <tr>\n",
       "      <th>4</th>\n",
       "      <td>1 2020-08-25 04</td>\n",
       "      <td>8674.958497</td>\n",
       "    </tr>\n",
       "    <tr>\n",
       "      <th>...</th>\n",
       "      <td>...</td>\n",
       "      <td>...</td>\n",
       "    </tr>\n",
       "    <tr>\n",
       "      <th>10075</th>\n",
       "      <td>60 2020-08-31 19</td>\n",
       "      <td>4233.530923</td>\n",
       "    </tr>\n",
       "    <tr>\n",
       "      <th>10076</th>\n",
       "      <td>60 2020-08-31 20</td>\n",
       "      <td>4185.810948</td>\n",
       "    </tr>\n",
       "    <tr>\n",
       "      <th>10077</th>\n",
       "      <td>60 2020-08-31 21</td>\n",
       "      <td>3936.108330</td>\n",
       "    </tr>\n",
       "    <tr>\n",
       "      <th>10078</th>\n",
       "      <td>60 2020-08-31 22</td>\n",
       "      <td>3782.079877</td>\n",
       "    </tr>\n",
       "    <tr>\n",
       "      <th>10079</th>\n",
       "      <td>60 2020-08-31 23</td>\n",
       "      <td>3585.652205</td>\n",
       "    </tr>\n",
       "  </tbody>\n",
       "</table>\n",
       "<p>10080 rows × 2 columns</p>\n",
       "</div>"
      ],
      "text/plain": [
       "          num_date_time       answer\n",
       "0       1 2020-08-25 00  8725.081872\n",
       "1       1 2020-08-25 01  8719.827350\n",
       "2       1 2020-08-25 02  8715.432920\n",
       "3       1 2020-08-25 03  8708.157275\n",
       "4       1 2020-08-25 04  8674.958497\n",
       "...                 ...          ...\n",
       "10075  60 2020-08-31 19  4233.530923\n",
       "10076  60 2020-08-31 20  4185.810948\n",
       "10077  60 2020-08-31 21  3936.108330\n",
       "10078  60 2020-08-31 22  3782.079877\n",
       "10079  60 2020-08-31 23  3585.652205\n",
       "\n",
       "[10080 rows x 2 columns]"
      ]
     },
     "execution_count": 31,
     "metadata": {},
     "output_type": "execute_result"
    }
   ],
   "source": [
    "submission"
   ]
  },
  {
   "cell_type": "code",
   "execution_count": 32,
   "metadata": {},
   "outputs": [
    {
     "data": {
      "text/plain": [
       "count    10080.000000\n",
       "mean      2546.598236\n",
       "std       2184.555073\n",
       "min        274.359171\n",
       "25%       1207.583095\n",
       "50%       1899.404760\n",
       "75%       3033.245329\n",
       "max      17434.703534\n",
       "Name: answer, dtype: float64"
      ]
     },
     "execution_count": 32,
     "metadata": {},
     "output_type": "execute_result"
    }
   ],
   "source": [
    "submission['answer'].describe()"
   ]
  },
  {
   "cell_type": "code",
   "execution_count": 33,
   "metadata": {},
   "outputs": [],
   "source": [
    "submission.to_csv('./submission/AutoML_{}.csv'.format(version), index=False)"
   ]
  }
 ],
 "metadata": {
  "kernelspec": {
   "display_name": "Python 3",
   "language": "python",
   "name": "python3"
  },
  "language_info": {
   "codemirror_mode": {
    "name": "ipython",
    "version": 3
   },
   "file_extension": ".py",
   "mimetype": "text/x-python",
   "name": "python",
   "nbconvert_exporter": "python",
   "pygments_lexer": "ipython3",
   "version": "3.6.10"
  }
 },
 "nbformat": 4,
 "nbformat_minor": 4
}
